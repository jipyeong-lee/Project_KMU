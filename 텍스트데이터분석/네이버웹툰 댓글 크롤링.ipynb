{
 "cells": [
  {
   "cell_type": "code",
   "execution_count": 1,
   "metadata": {
    "scrolled": true
   },
   "outputs": [],
   "source": [
    "import requests\n",
    "import time\n",
    "import lxml.html\n",
    "from lxml.html import fromstring, tostring, HTMLParser\n",
    "import pandas as pd"
   ]
  },
  {
   "cell_type": "markdown",
   "metadata": {},
   "source": [
    "#### 출처 : https://skyjwoo.tistory.com/entry/%EB%84%A4%EC%9D%B4%EB%B2%84-%EC%9B%B9%ED%88%B0-%EB%8C%93%EA%B8%80-%ED%81%AC%EB%A1%A4%EB%A7%81-3?category=903933 \n",
    "주요 코드는 이 사이트에서 참조했으며, 이를 lxml 형식으로 수정, 응용해서 사용함"
   ]
  },
  {
   "cell_type": "markdown",
   "metadata": {},
   "source": [
    "## 현재 연재 중인 웹툰"
   ]
  },
  {
   "cell_type": "code",
   "execution_count": 2,
   "metadata": {},
   "outputs": [],
   "source": [
    "from selenium import webdriver\n",
    "from selenium.webdriver.common.keys import Keys # 스크롤 내리기"
   ]
  },
  {
   "cell_type": "code",
   "execution_count": 3,
   "metadata": {},
   "outputs": [],
   "source": [
    "base_url = 'https://comic.naver.com/webtoon/weekday.nhn' # 연재"
   ]
  },
  {
   "cell_type": "code",
   "execution_count": 4,
   "metadata": {},
   "outputs": [],
   "source": [
    "#driver 실행 \n",
    "def drive(url): \n",
    "    driver = webdriver.Chrome('C:/Users/leeji/ML_/chromedriver_win32/chromedriver.exe') #driver 객체 불러옴 \n",
    "    driver.implicitly_wait(3) # 3초 후에 작동하도록 \n",
    "    driver.get(url) # url에 접속 \n",
    "    html = driver.page_source # 현재 driver에 나타난 창의 page_source(html) 가져오기 \n",
    "    soup = lxml.html.fromstring(html, parser=HTMLParser(encoding='utf-8'))\n",
    "    return driver, soup"
   ]
  },
  {
   "cell_type": "code",
   "execution_count": 5,
   "metadata": {},
   "outputs": [],
   "source": [
    "# 웹툰 기본 페이지에서 데이터 가져오기 \n",
    "driver, soup = drive(base_url) \n",
    "driver.close()"
   ]
  },
  {
   "cell_type": "code",
   "execution_count": 6,
   "metadata": {},
   "outputs": [
    {
     "name": "stdout",
     "output_type": "stream",
     "text": [
      "t_IDs:  473\n",
      "t_weekdays:  473\n",
      "t_names:  473\n",
      "758037 mon 참교육\n"
     ]
    }
   ],
   "source": [
    "# 가져온 데이터 파싱, id, 요일, 이름 \n",
    "title = soup.cssselect('.title')\n",
    "t_IDs = list(map(lambda x: x.get('href').split('titleId=')[1].split('&')[0], title)) \n",
    "t_weekdays = list(map(lambda x: x.get('href').split('weekday=')[1], title)) \n",
    "t_names = list(map(lambda x: x.text, title)) \n",
    "\n",
    "# 크롤링이 잘 되었나 확인하기 위함, 총 웹툰 수 \n",
    "print('t_IDs: ', len(t_IDs)) \n",
    "print('t_weekdays: ', len(t_weekdays)) \n",
    "print('t_names: ', len(t_names)) \n",
    "print(t_IDs[0], t_weekdays[0], t_names[0])"
   ]
  },
  {
   "cell_type": "code",
   "execution_count": 7,
   "metadata": {},
   "outputs": [],
   "source": [
    "#웹툰 이름으로 id와 weekday 반환\n",
    "def find_id_weekday(name,t_names,t_IDs,t_weekdays,start_idx = 0):\n",
    "    try:\n",
    "        idx = t_names.index(name)\n",
    "    except:\n",
    "        print('찾는 웹툰이 없습니다.')\n",
    "        return\n",
    "    return t_IDs[idx], t_weekdays[idx]"
   ]
  },
  {
   "cell_type": "code",
   "execution_count": 10,
   "metadata": {},
   "outputs": [
    {
     "ename": "IndexError",
     "evalue": "list index out of range",
     "output_type": "error",
     "traceback": [
      "\u001b[1;31m---------------------------------------------------------------------------\u001b[0m",
      "\u001b[1;31mIndexError\u001b[0m                                Traceback (most recent call last)",
      "\u001b[1;32m<ipython-input-10-a6090edf95e0>\u001b[0m in \u001b[0;36m<module>\u001b[1;34m\u001b[0m\n\u001b[0;32m      7\u001b[0m     \u001b[1;32mreturn\u001b[0m \u001b[0mres\u001b[0m\u001b[1;33m\u001b[0m\u001b[1;33m\u001b[0m\u001b[0m\n\u001b[0;32m      8\u001b[0m \u001b[1;33m\u001b[0m\u001b[0m\n\u001b[1;32m----> 9\u001b[1;33m \u001b[0mres\u001b[0m \u001b[1;33m=\u001b[0m \u001b[0mepisode_count\u001b[0m\u001b[1;33m(\u001b[0m\u001b[1;36m183559\u001b[0m\u001b[1;33m)\u001b[0m \u001b[1;31m# 신의 탑\u001b[0m\u001b[1;33m\u001b[0m\u001b[1;33m\u001b[0m\u001b[0m\n\u001b[0m\u001b[0;32m     10\u001b[0m \u001b[0mprint\u001b[0m\u001b[1;33m(\u001b[0m\u001b[0mres\u001b[0m\u001b[1;33m)\u001b[0m\u001b[1;33m\u001b[0m\u001b[1;33m\u001b[0m\u001b[0m\n",
      "\u001b[1;32m<ipython-input-10-a6090edf95e0>\u001b[0m in \u001b[0;36mepisode_count\u001b[1;34m(ID)\u001b[0m\n\u001b[0;32m      4\u001b[0m     \u001b[0mdriver\u001b[0m\u001b[1;33m,\u001b[0m \u001b[0msoup\u001b[0m \u001b[1;33m=\u001b[0m \u001b[0mdrive\u001b[0m\u001b[1;33m(\u001b[0m\u001b[0murl\u001b[0m\u001b[1;33m)\u001b[0m\u001b[1;33m\u001b[0m\u001b[1;33m\u001b[0m\u001b[0m\n\u001b[0;32m      5\u001b[0m     \u001b[0mdriver\u001b[0m\u001b[1;33m.\u001b[0m\u001b[0mclose\u001b[0m\u001b[1;33m(\u001b[0m\u001b[1;33m)\u001b[0m\u001b[1;33m\u001b[0m\u001b[1;33m\u001b[0m\u001b[0m\n\u001b[1;32m----> 6\u001b[1;33m     \u001b[0mres\u001b[0m \u001b[1;33m=\u001b[0m \u001b[0msoup\u001b[0m\u001b[1;33m.\u001b[0m\u001b[0mcssselect\u001b[0m\u001b[1;33m(\u001b[0m\u001b[1;34m'.title a'\u001b[0m\u001b[1;33m)\u001b[0m\u001b[1;33m[\u001b[0m\u001b[1;36m0\u001b[0m\u001b[1;33m]\u001b[0m\u001b[1;33m.\u001b[0m\u001b[0mget\u001b[0m\u001b[1;33m(\u001b[0m\u001b[1;34m'href'\u001b[0m\u001b[1;33m)\u001b[0m\u001b[1;33m.\u001b[0m\u001b[0msplit\u001b[0m\u001b[1;33m(\u001b[0m\u001b[1;34m'no='\u001b[0m\u001b[1;33m)\u001b[0m\u001b[1;33m[\u001b[0m\u001b[1;36m1\u001b[0m\u001b[1;33m]\u001b[0m\u001b[1;33m.\u001b[0m\u001b[0msplit\u001b[0m\u001b[1;33m(\u001b[0m\u001b[1;34m'&'\u001b[0m\u001b[1;33m)\u001b[0m\u001b[1;33m[\u001b[0m\u001b[1;36m0\u001b[0m\u001b[1;33m]\u001b[0m\u001b[1;33m\u001b[0m\u001b[1;33m\u001b[0m\u001b[0m\n\u001b[0m\u001b[0;32m      7\u001b[0m     \u001b[1;32mreturn\u001b[0m \u001b[0mres\u001b[0m\u001b[1;33m\u001b[0m\u001b[1;33m\u001b[0m\u001b[0m\n\u001b[0;32m      8\u001b[0m \u001b[1;33m\u001b[0m\u001b[0m\n",
      "\u001b[1;31mIndexError\u001b[0m: list index out of range"
     ]
    }
   ],
   "source": [
    "#episode 개수 세기 \n",
    "def episode_count(ID): \n",
    "    url = base_url.split('finish')[0]+'list.nhn?titleId={0}'.format(ID) \n",
    "    driver, soup = drive(url) \n",
    "    driver.close()\n",
    "    res = soup.cssselect('.title a')[0].get('href').split('no=')[1].split('&')[0] \n",
    "    return res \n",
    "\n",
    "res = episode_count(183559) # 신의 탑 \n",
    "print(res)"
   ]
  },
  {
   "cell_type": "code",
   "execution_count": 8,
   "metadata": {},
   "outputs": [],
   "source": [
    "import pandas as pd\n",
    "\n",
    "def comment_crawler(name, start_idx=0):\n",
    "    id_num, weekday = find_id_weekday(name,t_names,t_IDs,t_weekdays, start_idx=start_idx)\n",
    "    cnt = int(episode_count(id_num, weekday))\n",
    "    \n",
    "    comments = pd.DataFrame(index=range(0, cnt+1), columns=['comment'])\n",
    "    comment_ele = []\n",
    "    score = []\n",
    "    proceed = -1 #진행 상태 표시 위함, 처음에 0보다 작아야 0%가 표시 됨\n",
    "    \n",
    "    driver, _ = drive(base_url) #driver만 먼저 열어 놓음. for문 돌면서 url만 바꿔줄 것임\n",
    "    print('진행중...')\n",
    "    for i in range(1, cnt+1):\n",
    "        comment_ele = []\n",
    "        percentage = int((i/cnt)*100)\n",
    "        if percentage%10==0 and percentage>proceed: # 진행상황 표시\n",
    "            proceed = percentage\n",
    "            print(proceed, '% 완료')\n",
    "        url = 'https://comic.naver.com/comment/comment.nhn?titleId={0}&no={1}#'.format(id_num, str(i))\n",
    "        time.sleep(1.5)\n",
    "        driver.get(url)\n",
    "        html = driver.page_source\n",
    "        soup = lxml.html.fromstring(html, parser=HTMLParser(encoding='utf-8'))\n",
    "        \n",
    "        comment_ele += list(map(lambda x: x.text, soup.cssselect('.u_cbox_contents')))\n",
    "        comments['comment'][i] = comment_ele\n",
    "             \n",
    "    driver.close()\n",
    "    print('crawling finished')\n",
    "    return comments"
   ]
  },
  {
   "cell_type": "code",
   "execution_count": 9,
   "metadata": {},
   "outputs": [
    {
     "ename": "NameError",
     "evalue": "name 'episode_count' is not defined",
     "output_type": "error",
     "traceback": [
      "\u001b[1;31m---------------------------------------------------------------------------\u001b[0m",
      "\u001b[1;31mNameError\u001b[0m                                 Traceback (most recent call last)",
      "\u001b[1;32m<ipython-input-9-4432c67c67a5>\u001b[0m in \u001b[0;36m<module>\u001b[1;34m\u001b[0m\n\u001b[1;32m----> 1\u001b[1;33m \u001b[0mcomments\u001b[0m \u001b[1;33m=\u001b[0m \u001b[0mcomment_crawler\u001b[0m\u001b[1;33m(\u001b[0m\u001b[1;34m'신의 탑'\u001b[0m\u001b[1;33m)\u001b[0m\u001b[1;33m\u001b[0m\u001b[1;33m\u001b[0m\u001b[0m\n\u001b[0m",
      "\u001b[1;32m<ipython-input-8-e993362104bf>\u001b[0m in \u001b[0;36mcomment_crawler\u001b[1;34m(name, start_idx)\u001b[0m\n\u001b[0;32m      3\u001b[0m \u001b[1;32mdef\u001b[0m \u001b[0mcomment_crawler\u001b[0m\u001b[1;33m(\u001b[0m\u001b[0mname\u001b[0m\u001b[1;33m,\u001b[0m \u001b[0mstart_idx\u001b[0m\u001b[1;33m=\u001b[0m\u001b[1;36m0\u001b[0m\u001b[1;33m)\u001b[0m\u001b[1;33m:\u001b[0m\u001b[1;33m\u001b[0m\u001b[1;33m\u001b[0m\u001b[0m\n\u001b[0;32m      4\u001b[0m     \u001b[0mid_num\u001b[0m\u001b[1;33m,\u001b[0m \u001b[0mweekday\u001b[0m \u001b[1;33m=\u001b[0m \u001b[0mfind_id_weekday\u001b[0m\u001b[1;33m(\u001b[0m\u001b[0mname\u001b[0m\u001b[1;33m,\u001b[0m\u001b[0mt_names\u001b[0m\u001b[1;33m,\u001b[0m\u001b[0mt_IDs\u001b[0m\u001b[1;33m,\u001b[0m\u001b[0mt_weekdays\u001b[0m\u001b[1;33m,\u001b[0m \u001b[0mstart_idx\u001b[0m\u001b[1;33m=\u001b[0m\u001b[0mstart_idx\u001b[0m\u001b[1;33m)\u001b[0m\u001b[1;33m\u001b[0m\u001b[1;33m\u001b[0m\u001b[0m\n\u001b[1;32m----> 5\u001b[1;33m     \u001b[0mcnt\u001b[0m \u001b[1;33m=\u001b[0m \u001b[0mint\u001b[0m\u001b[1;33m(\u001b[0m\u001b[0mepisode_count\u001b[0m\u001b[1;33m(\u001b[0m\u001b[0mid_num\u001b[0m\u001b[1;33m,\u001b[0m \u001b[0mweekday\u001b[0m\u001b[1;33m)\u001b[0m\u001b[1;33m)\u001b[0m\u001b[1;33m\u001b[0m\u001b[1;33m\u001b[0m\u001b[0m\n\u001b[0m\u001b[0;32m      6\u001b[0m \u001b[1;33m\u001b[0m\u001b[0m\n\u001b[0;32m      7\u001b[0m     \u001b[0mcomments\u001b[0m \u001b[1;33m=\u001b[0m \u001b[0mpd\u001b[0m\u001b[1;33m.\u001b[0m\u001b[0mDataFrame\u001b[0m\u001b[1;33m(\u001b[0m\u001b[0mindex\u001b[0m\u001b[1;33m=\u001b[0m\u001b[0mrange\u001b[0m\u001b[1;33m(\u001b[0m\u001b[1;36m0\u001b[0m\u001b[1;33m,\u001b[0m \u001b[0mcnt\u001b[0m\u001b[1;33m+\u001b[0m\u001b[1;36m1\u001b[0m\u001b[1;33m)\u001b[0m\u001b[1;33m,\u001b[0m \u001b[0mcolumns\u001b[0m\u001b[1;33m=\u001b[0m\u001b[1;33m[\u001b[0m\u001b[1;34m'comment'\u001b[0m\u001b[1;33m]\u001b[0m\u001b[1;33m)\u001b[0m\u001b[1;33m\u001b[0m\u001b[1;33m\u001b[0m\u001b[0m\n",
      "\u001b[1;31mNameError\u001b[0m: name 'episode_count' is not defined"
     ]
    }
   ],
   "source": [
    "comments = comment_crawler('신의 탑')"
   ]
  },
  {
   "cell_type": "code",
   "execution_count": 28,
   "metadata": {},
   "outputs": [
    {
     "name": "stdout",
     "output_type": "stream",
     "text": [
      "123\n"
     ]
    }
   ],
   "source": [
    "# 수집된 댓글 수 \n",
    "print(len(comments))"
   ]
  },
  {
   "cell_type": "code",
   "execution_count": 29,
   "metadata": {},
   "outputs": [
    {
     "data": {
      "text/html": [
       "<div>\n",
       "<style scoped>\n",
       "    .dataframe tbody tr th:only-of-type {\n",
       "        vertical-align: middle;\n",
       "    }\n",
       "\n",
       "    .dataframe tbody tr th {\n",
       "        vertical-align: top;\n",
       "    }\n",
       "\n",
       "    .dataframe thead th {\n",
       "        text-align: right;\n",
       "    }\n",
       "</style>\n",
       "<table border=\"1\" class=\"dataframe\">\n",
       "  <thead>\n",
       "    <tr style=\"text-align: right;\">\n",
       "      <th></th>\n",
       "      <th>comment</th>\n",
       "    </tr>\n",
       "  </thead>\n",
       "  <tbody>\n",
       "    <tr>\n",
       "      <th>0</th>\n",
       "      <td>NaN</td>\n",
       "    </tr>\n",
       "    <tr>\n",
       "      <th>1</th>\n",
       "      <td>[아무생각없이 내렸다가 이거 보고 놀란사람 손!!!, 헐?, 제가 이 웹툰을 보면서...</td>\n",
       "    </tr>\n",
       "    <tr>\n",
       "      <th>2</th>\n",
       "      <td>[맨 처음에 온 교수 프로스트 줄 알았다 손, 헐 닥터 프로스트가 저렇게 된거임.....</td>\n",
       "    </tr>\n",
       "    <tr>\n",
       "      <th>3</th>\n",
       "      <td>[어쩌라고 심리학자본능이 있는데, 프로스트가! 그냥! 환자래! 이런 미친!, 천교수...</td>\n",
       "    </tr>\n",
       "    <tr>\n",
       "      <th>4</th>\n",
       "      <td>[설명충이라서 죄송하지만 송설은 우울증환자로 프로스트 첫번째 환자라고 보면 됩니다 ...</td>\n",
       "    </tr>\n",
       "    <tr>\n",
       "      <th>...</th>\n",
       "      <td>...</td>\n",
       "    </tr>\n",
       "    <tr>\n",
       "      <th>118</th>\n",
       "      <td>[겁나 불안하네.......초반부 저 장면이 프롤로그의 환장 파티로 이어지는건 아니...</td>\n",
       "    </tr>\n",
       "    <tr>\n",
       "      <th>119</th>\n",
       "      <td>[\"썸\"\"결정적인 한방이 부족해\"이건 누가봐도 한국 토박이인데?, 매니가 남봉성아 ...</td>\n",
       "    </tr>\n",
       "    <tr>\n",
       "      <th>120</th>\n",
       "      <td>[문성현.. ' 그녀에 대해 들었을 때 어땠어? ' 라는 말하면서 짓는 저 표정. ...</td>\n",
       "    </tr>\n",
       "    <tr>\n",
       "      <th>121</th>\n",
       "      <td>[정말 현 시대, 대한민국을 찌르는 명화네요.. 예전부터 느꼈지만 동시대를 살아가는...</td>\n",
       "    </tr>\n",
       "    <tr>\n",
       "      <th>122</th>\n",
       "      <td>[그 기억을 뒤져서 단서를 꺼내는거보면 너도 앵간히 머리좋구나?, 볼때마다 느끼는건...</td>\n",
       "    </tr>\n",
       "  </tbody>\n",
       "</table>\n",
       "<p>123 rows × 1 columns</p>\n",
       "</div>"
      ],
      "text/plain": [
       "                                               comment\n",
       "0                                                  NaN\n",
       "1    [아무생각없이 내렸다가 이거 보고 놀란사람 손!!!, 헐?, 제가 이 웹툰을 보면서...\n",
       "2    [맨 처음에 온 교수 프로스트 줄 알았다 손, 헐 닥터 프로스트가 저렇게 된거임.....\n",
       "3    [어쩌라고 심리학자본능이 있는데, 프로스트가! 그냥! 환자래! 이런 미친!, 천교수...\n",
       "4    [설명충이라서 죄송하지만 송설은 우울증환자로 프로스트 첫번째 환자라고 보면 됩니다 ...\n",
       "..                                                 ...\n",
       "118  [겁나 불안하네.......초반부 저 장면이 프롤로그의 환장 파티로 이어지는건 아니...\n",
       "119  [\"썸\"\"결정적인 한방이 부족해\"이건 누가봐도 한국 토박이인데?, 매니가 남봉성아 ...\n",
       "120  [문성현.. ' 그녀에 대해 들었을 때 어땠어? ' 라는 말하면서 짓는 저 표정. ...\n",
       "121  [정말 현 시대, 대한민국을 찌르는 명화네요.. 예전부터 느꼈지만 동시대를 살아가는...\n",
       "122  [그 기억을 뒤져서 단서를 꺼내는거보면 너도 앵간히 머리좋구나?, 볼때마다 느끼는건...\n",
       "\n",
       "[123 rows x 1 columns]"
      ]
     },
     "execution_count": 29,
     "metadata": {},
     "output_type": "execute_result"
    }
   ],
   "source": [
    "comments"
   ]
  },
  {
   "cell_type": "code",
   "execution_count": 30,
   "metadata": {},
   "outputs": [],
   "source": [
    "comments.to_csv('닥터프로스트_comments.csv')"
   ]
  },
  {
   "cell_type": "code",
   "execution_count": 14,
   "metadata": {},
   "outputs": [],
   "source": [
    "def crawler(name, start_idx=0):\n",
    "    id_num, weekday = find_id_weekday(name,t_names,t_IDs,t_weekdays, start_idx=start_idx)\n",
    "    cnt = int(episode_count(id_num, weekday))\n",
    "    \n",
    "    scores = []\n",
    "    episodes = []\n",
    "    dates = []\n",
    "    proceed = -1 #진행 상태 표시 위함, 처음에 0보다 작아야 0%가 표시 됨\n",
    "    \n",
    "    driver, _ = drive(base_url) #driver만 먼저 열어 놓음. for문 돌면서 url만 바꿔줄 것임\n",
    "    print('진행중...')\n",
    "    for i in range(1, cnt+1):\n",
    "        percentage = int((i/cnt)*100)\n",
    "        if percentage%10==0 and percentage>proceed: # 진행상황 표시\n",
    "            proceed = percentage\n",
    "            print(proceed, '% 완료')\n",
    "\n",
    "        url = 'https://comic.naver.com/webtoon/detail.nhn?titleId={0}&no={1}&weekday={2}'.format(id_num, str(i), weekday)\n",
    "        time.sleep(1.5)\n",
    "        driver.get(url)\n",
    "        html = driver.page_source \n",
    "        soup = lxml.html.fromstring(html, parser=HTMLParser(encoding='utf-8'))\n",
    "        \n",
    "        scores += list(map(lambda x : x.text, soup.cssselect('div.rating_type4 span#topPointTotalNumber')[0]))\n",
    "        episodes += list(map(lambda x : x.text, soup.cssselect('div.view h3')))\n",
    "        dates += list(map(lambda x : x.text, soup.cssselect('dl.rt dd.date')))\n",
    "                \n",
    "    driver.close()\n",
    "    print('crawling finished')\n",
    "    return scores, episodes, dates"
   ]
  },
  {
   "cell_type": "code",
   "execution_count": 31,
   "metadata": {},
   "outputs": [
    {
     "name": "stdout",
     "output_type": "stream",
     "text": [
      "진행중...\n",
      "0 % 완료\n",
      "10 % 완료\n",
      "20 % 완료\n",
      "30 % 완료\n",
      "40 % 완료\n",
      "50 % 완료\n",
      "60 % 완료\n",
      "70 % 완료\n",
      "80 % 완료\n",
      "90 % 완료\n",
      "100 % 완료\n",
      "crawling finished\n"
     ]
    }
   ],
   "source": [
    "scores, episodes, dates = crawler('닥터 프로스트 시즌 3~4')"
   ]
  },
  {
   "cell_type": "code",
   "execution_count": 32,
   "metadata": {},
   "outputs": [
    {
     "name": "stdout",
     "output_type": "stream",
     "text": [
      "122 122 122\n"
     ]
    }
   ],
   "source": [
    "print(len(scores), len(episodes), len(dates))"
   ]
  },
  {
   "cell_type": "code",
   "execution_count": 33,
   "metadata": {},
   "outputs": [
    {
     "data": {
      "text/html": [
       "<div>\n",
       "<style scoped>\n",
       "    .dataframe tbody tr th:only-of-type {\n",
       "        vertical-align: middle;\n",
       "    }\n",
       "\n",
       "    .dataframe tbody tr th {\n",
       "        vertical-align: top;\n",
       "    }\n",
       "\n",
       "    .dataframe thead th {\n",
       "        text-align: right;\n",
       "    }\n",
       "</style>\n",
       "<table border=\"1\" class=\"dataframe\">\n",
       "  <thead>\n",
       "    <tr style=\"text-align: right;\">\n",
       "      <th></th>\n",
       "      <th>score</th>\n",
       "      <th>episode</th>\n",
       "      <th>date</th>\n",
       "    </tr>\n",
       "  </thead>\n",
       "  <tbody>\n",
       "    <tr>\n",
       "      <th>0</th>\n",
       "      <td>9.95</td>\n",
       "      <td>예고편</td>\n",
       "      <td>2015.06.02</td>\n",
       "    </tr>\n",
       "    <tr>\n",
       "      <th>1</th>\n",
       "      <td>9.97</td>\n",
       "      <td>301-File no.#15 닫힌 방의 열린 문(1)</td>\n",
       "      <td>2015.06.09</td>\n",
       "    </tr>\n",
       "    <tr>\n",
       "      <th>2</th>\n",
       "      <td>9.98</td>\n",
       "      <td>302-File no.#15 닫힌 방의 열린 문(2)</td>\n",
       "      <td>2015.06.16</td>\n",
       "    </tr>\n",
       "    <tr>\n",
       "      <th>3</th>\n",
       "      <td>9.98</td>\n",
       "      <td>303-File no.#15 닫힌 방의 열린 문(3)</td>\n",
       "      <td>2015.06.23</td>\n",
       "    </tr>\n",
       "    <tr>\n",
       "      <th>4</th>\n",
       "      <td>9.98</td>\n",
       "      <td>304-File no.#15 닫힌 방의 열린 문(4)</td>\n",
       "      <td>2015.06.30</td>\n",
       "    </tr>\n",
       "    <tr>\n",
       "      <th>...</th>\n",
       "      <td>...</td>\n",
       "      <td>...</td>\n",
       "      <td>...</td>\n",
       "    </tr>\n",
       "    <tr>\n",
       "      <th>117</th>\n",
       "      <td>9.97</td>\n",
       "      <td>475-Ep9. 끝의 시작(1)</td>\n",
       "      <td>2021.03.18</td>\n",
       "    </tr>\n",
       "    <tr>\n",
       "      <th>118</th>\n",
       "      <td>9.97</td>\n",
       "      <td>476-Ep9. 끝의 시작(2)</td>\n",
       "      <td>2021.03.25</td>\n",
       "    </tr>\n",
       "    <tr>\n",
       "      <th>119</th>\n",
       "      <td>9.97</td>\n",
       "      <td>477-Ep9. 끝의 시작(3)</td>\n",
       "      <td>2021.04.01</td>\n",
       "    </tr>\n",
       "    <tr>\n",
       "      <th>120</th>\n",
       "      <td>9.95</td>\n",
       "      <td>478-Ep9. 끝의 시작(4)</td>\n",
       "      <td>2021.04.08</td>\n",
       "    </tr>\n",
       "    <tr>\n",
       "      <th>121</th>\n",
       "      <td>9.97</td>\n",
       "      <td>479-Ep9. 끝의 시작(5)</td>\n",
       "      <td>2021.04.15</td>\n",
       "    </tr>\n",
       "  </tbody>\n",
       "</table>\n",
       "<p>122 rows × 3 columns</p>\n",
       "</div>"
      ],
      "text/plain": [
       "    score                        episode        date\n",
       "0    9.95                            예고편  2015.06.02\n",
       "1    9.97  301-File no.#15 닫힌 방의 열린 문(1)  2015.06.09\n",
       "2    9.98  302-File no.#15 닫힌 방의 열린 문(2)  2015.06.16\n",
       "3    9.98  303-File no.#15 닫힌 방의 열린 문(3)  2015.06.23\n",
       "4    9.98  304-File no.#15 닫힌 방의 열린 문(4)  2015.06.30\n",
       "..    ...                            ...         ...\n",
       "117  9.97              475-Ep9. 끝의 시작(1)  2021.03.18\n",
       "118  9.97              476-Ep9. 끝의 시작(2)  2021.03.25\n",
       "119  9.97              477-Ep9. 끝의 시작(3)  2021.04.01\n",
       "120  9.95              478-Ep9. 끝의 시작(4)  2021.04.08\n",
       "121  9.97              479-Ep9. 끝의 시작(5)  2021.04.15\n",
       "\n",
       "[122 rows x 3 columns]"
      ]
     },
     "execution_count": 33,
     "metadata": {},
     "output_type": "execute_result"
    }
   ],
   "source": [
    "sed = pd.DataFrame({'score':scores, 'episode':episodes, 'date':dates})\n",
    "sed.to_csv('닥터프로스트_sed.csv'); sed"
   ]
  },
  {
   "cell_type": "markdown",
   "metadata": {},
   "source": [
    "## 완결 or 휴재인 웹툰"
   ]
  },
  {
   "cell_type": "code",
   "execution_count": 3,
   "metadata": {},
   "outputs": [],
   "source": [
    "base_url = 'https://comic.naver.com/webtoon/finish.nhn?order=User&view=image' # 완결 or 휴재"
   ]
  },
  {
   "cell_type": "code",
   "execution_count": 4,
   "metadata": {},
   "outputs": [],
   "source": [
    "#driver 실행 \n",
    "def drive(url): \n",
    "    driver = webdriver.Chrome('C:/Users/leeji/ML_//chromedriver_win32/chromedriver.exe') #driver 객체 불러옴 \n",
    "    driver.implicitly_wait(3) # 3초 후에 작동하도록 \n",
    "    driver.get(url) # url에 접속 \n",
    "    html = driver.page_source # 현재 driver에 나타난 창의 page_source(html) 가져오기 \n",
    "    soup = lxml.html.fromstring(html, parser=HTMLParser(encoding='utf-8'))\n",
    "    return driver, soup"
   ]
  },
  {
   "cell_type": "code",
   "execution_count": 5,
   "metadata": {},
   "outputs": [],
   "source": [
    "# 웹툰 기본 페이지에서 데이터 가져오기 \n",
    "driver, soup = drive(base_url) \n",
    "driver.close()"
   ]
  },
  {
   "cell_type": "code",
   "execution_count": 6,
   "metadata": {},
   "outputs": [],
   "source": [
    "#웹툰 이름으로 id 반환\n",
    "def find_id(name,t_names,t_IDs,start_idx = 0):\n",
    "    try:\n",
    "        idx = t_names.index(name)\n",
    "    except:\n",
    "        print('찾는 웹툰이 없습니다.')\n",
    "        return\n",
    "    return t_IDs[idx]"
   ]
  },
  {
   "cell_type": "code",
   "execution_count": 7,
   "metadata": {},
   "outputs": [
    {
     "name": "stdout",
     "output_type": "stream",
     "text": [
      "t_IDs:  921\n",
      "t_names:  921\n",
      "690503 도망자\n"
     ]
    }
   ],
   "source": [
    "# 가져온 데이터 파싱, id, 요일, 이름 \n",
    "title = soup.cssselect('li dt a')\n",
    "t_IDs = list(map(lambda x: x.get('href').split('titleId=')[1].split('&')[0], title)) \n",
    "#t_weekdays = list(map(lambda x: x.get('href').split('weekday=')[1], title)) \n",
    "t_names = list(map(lambda x: x.text.strip(), title)) \n",
    "\n",
    "# 크롤링이 잘 되었나 확인하기 위함, 총 웹툰 수 \n",
    "print('t_IDs: ', len(t_IDs)) \n",
    "#print('t_weekdays: ', len(t_weekdays)) \n",
    "print('t_names: ', len(t_names)) \n",
    "print(t_IDs[0], t_names[0])"
   ]
  },
  {
   "cell_type": "code",
   "execution_count": 8,
   "metadata": {},
   "outputs": [
    {
     "name": "stdout",
     "output_type": "stream",
     "text": [
      "487\n"
     ]
    }
   ],
   "source": [
    "#episode 개수 세기 \n",
    "def episode_count(ID): \n",
    "    url = base_url.split('finish')[0]+'list.nhn?titleId={0}'.format(ID) \n",
    "    driver, soup = drive(url) \n",
    "    driver.close()\n",
    "    res = soup.cssselect('.title a')[0].get('href').split('no=')[1].split('&')[0] \n",
    "    return res \n",
    "\n",
    "res = episode_count(183559) # 신의 탑 \n",
    "print(res)"
   ]
  },
  {
   "cell_type": "code",
   "execution_count": 9,
   "metadata": {},
   "outputs": [],
   "source": [
    "def comment_crawler(name, start_idx=0):\n",
    "    id_num = find_id(name, t_names, t_IDs, start_idx=start_idx)\n",
    "    cnt = int(episode_count(id_num))\n",
    "    \n",
    "    comments = pd.DataFrame(index=range(0, cnt+1), columns=['comment'])\n",
    "    comment_ele = []\n",
    "    score = []\n",
    "    proceed = -1 #진행 상태 표시 위함, 처음에 0보다 작아야 0%가 표시 됨\n",
    "    \n",
    "    driver, _ = drive(base_url) #driver만 먼저 열어 놓음. for문 돌면서 url만 바꿔줄 것임\n",
    "    print('진행중...')\n",
    "    for i in range(1, cnt+1):\n",
    "        comment_ele = []\n",
    "        percentage = int((i/cnt)*100)\n",
    "        if percentage%10==0 and percentage>proceed: # 진행상황 표시\n",
    "            proceed = percentage\n",
    "            print(proceed, '% 완료')\n",
    "        url = 'https://comic.naver.com/comment/comment.nhn?titleId={0}&no={1}#'.format(id_num, str(i))\n",
    "        time.sleep(1.5)\n",
    "        driver.get(url)\n",
    "        html = driver.page_source\n",
    "        soup = lxml.html.fromstring(html, parser=HTMLParser(encoding='utf-8'))\n",
    "        \n",
    "        comment_ele += list(map(lambda x: x.text, soup.cssselect('.u_cbox_contents')))\n",
    "        comments['comment'][i] = comment_ele\n",
    "             \n",
    "    driver.close()\n",
    "    print('crawling finished')\n",
    "    return comments"
   ]
  },
  {
   "cell_type": "code",
   "execution_count": 10,
   "metadata": {},
   "outputs": [
    {
     "name": "stdout",
     "output_type": "stream",
     "text": [
      "진행중...\n",
      "0 % 완료\n",
      "10 % 완료\n",
      "20 % 완료\n",
      "30 % 완료\n",
      "40 % 완료\n",
      "50 % 완료\n",
      "60 % 완료\n",
      "70 % 완료\n",
      "80 % 완료\n",
      "90 % 완료\n",
      "100 % 완료\n",
      "crawling finished\n"
     ]
    }
   ],
   "source": [
    "comments = comment_crawler('덴마') \n",
    "# 신의탑, 대학일기, 놓지마 정신줄, 스피릿 핑거스, 덴마"
   ]
  },
  {
   "cell_type": "code",
   "execution_count": 11,
   "metadata": {},
   "outputs": [
    {
     "name": "stdout",
     "output_type": "stream",
     "text": [
      "1418\n"
     ]
    }
   ],
   "source": [
    "# 수집된 댓글 수 \n",
    "print(len(comments))"
   ]
  },
  {
   "cell_type": "code",
   "execution_count": 12,
   "metadata": {},
   "outputs": [
    {
     "data": {
      "text/html": [
       "<div>\n",
       "<style scoped>\n",
       "    .dataframe tbody tr th:only-of-type {\n",
       "        vertical-align: middle;\n",
       "    }\n",
       "\n",
       "    .dataframe tbody tr th {\n",
       "        vertical-align: top;\n",
       "    }\n",
       "\n",
       "    .dataframe thead th {\n",
       "        text-align: right;\n",
       "    }\n",
       "</style>\n",
       "<table border=\"1\" class=\"dataframe\">\n",
       "  <thead>\n",
       "    <tr style=\"text-align: right;\">\n",
       "      <th></th>\n",
       "      <th>comment</th>\n",
       "    </tr>\n",
       "  </thead>\n",
       "  <tbody>\n",
       "    <tr>\n",
       "      <th>0</th>\n",
       "      <td>NaN</td>\n",
       "    </tr>\n",
       "    <tr>\n",
       "      <th>1</th>\n",
       "      <td>[2차 정주행. 그리고 3년정도 우렸으면 이제 저 사람 안꼬이는 메인 섬네일 좀 바...</td>\n",
       "    </tr>\n",
       "    <tr>\n",
       "      <th>2</th>\n",
       "      <td>[이때 난 몰랐지 이게 얼마나 재미있는건지, 초반엔 개념 잡는데도 한참걸려서  대체...</td>\n",
       "    </tr>\n",
       "    <tr>\n",
       "      <th>3</th>\n",
       "      <td>[댓글이 적어지는이유가 몰입이너무 세서.., 아내가 폰을 숨기는거 봐선 이미 바람난...</td>\n",
       "    </tr>\n",
       "    <tr>\n",
       "      <th>4</th>\n",
       "      <td>[마지막 저 아버지의 표정변화씬은... 정말 할말이 없을정도로 쩌는듯... 저런 미...</td>\n",
       "    </tr>\n",
       "    <tr>\n",
       "      <th>...</th>\n",
       "      <td>...</td>\n",
       "    </tr>\n",
       "    <tr>\n",
       "      <th>1413</th>\n",
       "      <td>[불평불만 하면서 매번 바로 들어오는 덴경대가 레전드, 뭔 우주 최강의 퀑이 저런 ...</td>\n",
       "    </tr>\n",
       "    <tr>\n",
       "      <th>1414</th>\n",
       "      <td>[자꾸 보러오는 우리가 제일 문제 아닐까, 낭심ㅋㅋㅋㅋㅋㅋㅋㅋㅋㅋ 저번에 누가 헤글...</td>\n",
       "    </tr>\n",
       "    <tr>\n",
       "      <th>1415</th>\n",
       "      <td>[그러든가 말든가 ㅋㅋㅋㅋㅋㅋㅋ작가의 말 저기다 써놨네, 다음편 에드레이의 박수 그...</td>\n",
       "    </tr>\n",
       "    <tr>\n",
       "      <th>1416</th>\n",
       "      <td>[덴마가 컸으니 덴마크 앜ㅋㅋㅋㅋㅋㅋㅋㅋㅋㅋ, 아니 씨x 귀여운 셀 어디가고 저런 ...</td>\n",
       "    </tr>\n",
       "    <tr>\n",
       "      <th>1417</th>\n",
       "      <td>[이걸 인생웹툰이라도 소개하고 다녔던 내 10년이 아깝다, 용두사미급도 아니고 이건...</td>\n",
       "    </tr>\n",
       "  </tbody>\n",
       "</table>\n",
       "<p>1418 rows × 1 columns</p>\n",
       "</div>"
      ],
      "text/plain": [
       "                                                comment\n",
       "0                                                   NaN\n",
       "1     [2차 정주행. 그리고 3년정도 우렸으면 이제 저 사람 안꼬이는 메인 섬네일 좀 바...\n",
       "2     [이때 난 몰랐지 이게 얼마나 재미있는건지, 초반엔 개념 잡는데도 한참걸려서  대체...\n",
       "3     [댓글이 적어지는이유가 몰입이너무 세서.., 아내가 폰을 숨기는거 봐선 이미 바람난...\n",
       "4     [마지막 저 아버지의 표정변화씬은... 정말 할말이 없을정도로 쩌는듯... 저런 미...\n",
       "...                                                 ...\n",
       "1413  [불평불만 하면서 매번 바로 들어오는 덴경대가 레전드, 뭔 우주 최강의 퀑이 저런 ...\n",
       "1414  [자꾸 보러오는 우리가 제일 문제 아닐까, 낭심ㅋㅋㅋㅋㅋㅋㅋㅋㅋㅋ 저번에 누가 헤글...\n",
       "1415  [그러든가 말든가 ㅋㅋㅋㅋㅋㅋㅋ작가의 말 저기다 써놨네, 다음편 에드레이의 박수 그...\n",
       "1416  [덴마가 컸으니 덴마크 앜ㅋㅋㅋㅋㅋㅋㅋㅋㅋㅋ, 아니 씨x 귀여운 셀 어디가고 저런 ...\n",
       "1417  [이걸 인생웹툰이라도 소개하고 다녔던 내 10년이 아깝다, 용두사미급도 아니고 이건...\n",
       "\n",
       "[1418 rows x 1 columns]"
      ]
     },
     "execution_count": 12,
     "metadata": {},
     "output_type": "execute_result"
    }
   ],
   "source": [
    "comments"
   ]
  },
  {
   "cell_type": "code",
   "execution_count": 13,
   "metadata": {},
   "outputs": [],
   "source": [
    "comments.to_csv('덴마_comments.csv')"
   ]
  },
  {
   "cell_type": "code",
   "execution_count": 14,
   "metadata": {},
   "outputs": [],
   "source": [
    "def crawler(name, start_idx=0):\n",
    "    id_num = find_id(name, t_names, t_IDs, start_idx=start_idx)\n",
    "    cnt = int(episode_count(id_num))\n",
    "    \n",
    "    scores = []\n",
    "    episodes = []\n",
    "    dates = []\n",
    "    proceed = -1 #진행 상태 표시 위함, 처음에 0보다 작아야 0%가 표시 됨\n",
    "    \n",
    "    driver, _ = drive(base_url) #driver만 먼저 열어 놓음. for문 돌면서 url만 바꿔줄 것임\n",
    "    print('진행중...')\n",
    "    for i in range(1, cnt+1):\n",
    "        percentage = int((i/cnt)*100)\n",
    "        if percentage%10==0 and percentage>proceed: # 진행상황 표시\n",
    "            proceed = percentage\n",
    "            print(proceed, '% 완료')\n",
    "\n",
    "        url = 'https://comic.naver.com/webtoon/detail.nhn?titleId={0}&no={1}'.format(id_num, str(i))\n",
    "        time.sleep(1.5)\n",
    "        driver.get(url)\n",
    "        html = driver.page_source \n",
    "        soup = lxml.html.fromstring(html, parser=HTMLParser(encoding='utf-8'))\n",
    "        \n",
    "        scores += list(map(lambda x : x.text, soup.cssselect('div.rating_type4 span#topPointTotalNumber')[0]))\n",
    "        episodes += list(map(lambda x : x.text, soup.cssselect('div.view h3')))\n",
    "        dates += list(map(lambda x : x.text, soup.cssselect('dl.rt dd.date')))\n",
    "                \n",
    "    driver.close()\n",
    "    print('crawling finished')\n",
    "    return scores, episodes, dates"
   ]
  },
  {
   "cell_type": "code",
   "execution_count": 15,
   "metadata": {},
   "outputs": [
    {
     "name": "stdout",
     "output_type": "stream",
     "text": [
      "진행중...\n",
      "0 % 완료\n",
      "10 % 완료\n",
      "20 % 완료\n",
      "30 % 완료\n",
      "40 % 완료\n",
      "50 % 완료\n",
      "60 % 완료\n",
      "70 % 완료\n",
      "80 % 완료\n",
      "90 % 완료\n",
      "100 % 완료\n",
      "crawling finished\n"
     ]
    }
   ],
   "source": [
    "scores, episodes, dates = crawler('덴마')"
   ]
  },
  {
   "cell_type": "code",
   "execution_count": 16,
   "metadata": {},
   "outputs": [
    {
     "name": "stdout",
     "output_type": "stream",
     "text": [
      "1417 1417 1417\n"
     ]
    }
   ],
   "source": [
    "print(len(scores), len(episodes), len(dates))"
   ]
  },
  {
   "cell_type": "code",
   "execution_count": 17,
   "metadata": {},
   "outputs": [
    {
     "data": {
      "text/html": [
       "<div>\n",
       "<style scoped>\n",
       "    .dataframe tbody tr th:only-of-type {\n",
       "        vertical-align: middle;\n",
       "    }\n",
       "\n",
       "    .dataframe tbody tr th {\n",
       "        vertical-align: top;\n",
       "    }\n",
       "\n",
       "    .dataframe thead th {\n",
       "        text-align: right;\n",
       "    }\n",
       "</style>\n",
       "<table border=\"1\" class=\"dataframe\">\n",
       "  <thead>\n",
       "    <tr style=\"text-align: right;\">\n",
       "      <th></th>\n",
       "      <th>score</th>\n",
       "      <th>episode</th>\n",
       "      <th>date</th>\n",
       "    </tr>\n",
       "  </thead>\n",
       "  <tbody>\n",
       "    <tr>\n",
       "      <th>0</th>\n",
       "      <td>8.93</td>\n",
       "      <td>1화 파마나의 개(1)</td>\n",
       "      <td>2010.01.08</td>\n",
       "    </tr>\n",
       "    <tr>\n",
       "      <th>1</th>\n",
       "      <td>9.27</td>\n",
       "      <td>2화 파마나의 개(2)</td>\n",
       "      <td>2010.01.10</td>\n",
       "    </tr>\n",
       "    <tr>\n",
       "      <th>2</th>\n",
       "      <td>9.38</td>\n",
       "      <td>3화 파마나의 개(3)</td>\n",
       "      <td>2010.01.11</td>\n",
       "    </tr>\n",
       "    <tr>\n",
       "      <th>3</th>\n",
       "      <td>9.53</td>\n",
       "      <td>4화 파마나의 개(4)</td>\n",
       "      <td>2010.01.15</td>\n",
       "    </tr>\n",
       "    <tr>\n",
       "      <th>4</th>\n",
       "      <td>9.46</td>\n",
       "      <td>5화 해적선장 하독(1)</td>\n",
       "      <td>2010.01.17</td>\n",
       "    </tr>\n",
       "    <tr>\n",
       "      <th>...</th>\n",
       "      <td>...</td>\n",
       "      <td>...</td>\n",
       "      <td>...</td>\n",
       "    </tr>\n",
       "    <tr>\n",
       "      <th>1412</th>\n",
       "      <td>5.06</td>\n",
       "      <td>3-410화 2.에필로그(4-7)</td>\n",
       "      <td>2019.12.22</td>\n",
       "    </tr>\n",
       "    <tr>\n",
       "      <th>1413</th>\n",
       "      <td>6.24</td>\n",
       "      <td>3-411화 2.에필로그(4-8)</td>\n",
       "      <td>2019.12.24</td>\n",
       "    </tr>\n",
       "    <tr>\n",
       "      <th>1414</th>\n",
       "      <td>6.32</td>\n",
       "      <td>3-412화 2.에필로그(4-9)</td>\n",
       "      <td>2019.12.25</td>\n",
       "    </tr>\n",
       "    <tr>\n",
       "      <th>1415</th>\n",
       "      <td>5.12</td>\n",
       "      <td>3-413화 2.에필로그(5-1)</td>\n",
       "      <td>2019.12.27</td>\n",
       "    </tr>\n",
       "    <tr>\n",
       "      <th>1416</th>\n",
       "      <td>2.13</td>\n",
       "      <td>3-414화 2.에필로그(5-2)</td>\n",
       "      <td>2019.12.29</td>\n",
       "    </tr>\n",
       "  </tbody>\n",
       "</table>\n",
       "<p>1417 rows × 3 columns</p>\n",
       "</div>"
      ],
      "text/plain": [
       "     score             episode        date\n",
       "0     8.93        1화 파마나의 개(1)  2010.01.08\n",
       "1     9.27        2화 파마나의 개(2)  2010.01.10\n",
       "2     9.38        3화 파마나의 개(3)  2010.01.11\n",
       "3     9.53        4화 파마나의 개(4)  2010.01.15\n",
       "4     9.46       5화 해적선장 하독(1)  2010.01.17\n",
       "...    ...                 ...         ...\n",
       "1412  5.06  3-410화 2.에필로그(4-7)  2019.12.22\n",
       "1413  6.24  3-411화 2.에필로그(4-8)  2019.12.24\n",
       "1414  6.32  3-412화 2.에필로그(4-9)  2019.12.25\n",
       "1415  5.12  3-413화 2.에필로그(5-1)  2019.12.27\n",
       "1416  2.13  3-414화 2.에필로그(5-2)  2019.12.29\n",
       "\n",
       "[1417 rows x 3 columns]"
      ]
     },
     "execution_count": 17,
     "metadata": {},
     "output_type": "execute_result"
    }
   ],
   "source": [
    "sed = pd.DataFrame({'score':scores, 'episode':episodes, 'date':dates})\n",
    "sed.to_csv('덴마_sed.csv'); sed"
   ]
  }
 ],
 "metadata": {
  "kernelspec": {
   "display_name": "Python 3",
   "language": "python",
   "name": "python3"
  },
  "language_info": {
   "codemirror_mode": {
    "name": "ipython",
    "version": 3
   },
   "file_extension": ".py",
   "mimetype": "text/x-python",
   "name": "python",
   "nbconvert_exporter": "python",
   "pygments_lexer": "ipython3",
   "version": "3.8.5"
  },
  "varInspector": {
   "cols": {
    "lenName": 16,
    "lenType": 16,
    "lenVar": 40
   },
   "kernels_config": {
    "python": {
     "delete_cmd_postfix": "",
     "delete_cmd_prefix": "del ",
     "library": "var_list.py",
     "varRefreshCmd": "print(var_dic_list())"
    },
    "r": {
     "delete_cmd_postfix": ") ",
     "delete_cmd_prefix": "rm(",
     "library": "var_list.r",
     "varRefreshCmd": "cat(var_dic_list()) "
    }
   },
   "types_to_exclude": [
    "module",
    "function",
    "builtin_function_or_method",
    "instance",
    "_Feature"
   ],
   "window_display": false
  }
 },
 "nbformat": 4,
 "nbformat_minor": 4
}
