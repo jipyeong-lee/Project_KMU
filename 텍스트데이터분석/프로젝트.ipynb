{
 "cells": [
  {
   "cell_type": "markdown",
   "metadata": {},
   "source": [
    "## 전처리"
   ]
  },
  {
   "cell_type": "code",
   "execution_count": null,
   "metadata": {},
   "outputs": [],
   "source": [
    "# 장르별로 분석 - 판타지, 드라마, 순정"
   ]
  },
  {
   "cell_type": "code",
   "execution_count": 1,
   "metadata": {},
   "outputs": [],
   "source": [
    "import pandas as pd\n",
    "\n",
    "comments_1 = pd.read_csv('./webtoon_comments/갓오하_comments.csv', sep=',', index_col=0)\n",
    "comments_2 = pd.read_csv('./webtoon_comments/고수_comments.csv', sep=',', index_col=0)\n",
    "comments_3 = pd.read_csv('./webtoon_comments/기기괴괴_comments.csv', sep=',', index_col=0)\n",
    "comments_4 = pd.read_csv('./webtoon_comments/더게이머_comments.csv', sep=',', index_col=0)\n",
    "comments_5 = pd.read_csv('./webtoon_comments/독립일기_comments.csv', sep=',', index_col=0)\n",
    "comments_6 = pd.read_csv('./webtoon_comments/랜덤채팅의그녀_comments.csv', sep=',', index_col=0)\n",
    "comments_7 = pd.read_csv('./webtoon_comments/바른연애길잡이_comments.csv', sep=',', index_col=0)\n",
    "comments_8 = pd.read_csv('./webtoon_comments/복학왕_comments.csv', sep=',', index_col=0)\n",
    "comments_9 = pd.read_csv('./webtoon_comments/뷰티풀군바리_comments.csv', sep=',', index_col=0)\n",
    "comments_10 = pd.read_csv('./webtoon_comments/소녀의세계_comments.csv', sep=',', index_col=0)\n",
    "comments_11 = pd.read_csv('./webtoon_comments/약한영웅_comments.csv', sep=',', index_col=0)\n",
    "comments_12 = pd.read_csv('./webtoon_comments/여신강림_comments.csv', sep=',', index_col=0)\n",
    "comments_13 = pd.read_csv('./webtoon_comments/연놈_comments.csv', sep=',', index_col=0)\n",
    "comments_14 = pd.read_csv('./webtoon_comments/연애혁명_comments.csv', sep=',', index_col=0)\n",
    "comments_15 = pd.read_csv('./webtoon_comments/열렙전사_comments.csv', sep=',', index_col=0)\n",
    "comments_16 = pd.read_csv('./webtoon_comments/외모지상주의_comments.csv', sep=',', index_col=0)\n",
    "comments_17 = pd.read_csv('./webtoon_comments/윈드브레이커_comments.csv', sep=',', index_col=0)\n",
    "comments_18 = pd.read_csv('./webtoon_comments/이두나_comments.csv', sep=',', index_col=0)\n",
    "comments_19 = pd.read_csv('./webtoon_comments/취사병_comments.csv', sep=',', index_col=0)\n",
    "comments_20 = pd.read_csv('./webtoon_comments/프리드로우_comments.csv', sep=',', index_col=0)\n",
    "comments_21 = pd.read_csv('./webtoon_comments/호랑이형님_comments.csv', sep=',', index_col=0)\n",
    "comments_22 = pd.read_csv('./webtoon_comments/강해효_comments.csv', sep=',', index_col=0)\n",
    "comments_23 = pd.read_csv('./webtoon_comments/닥터프로스트_comments.csv', sep=',', index_col=0)\n",
    "comments_24 = pd.read_csv('./webtoon_comments/신도림_comments.csv', sep=',', index_col=0)\n",
    "comments_25 = pd.read_csv('./webtoon_comments/전자오락수호대_comments.csv', sep=',', index_col=0)\n",
    "comments_26 = pd.read_csv('./webtoon_comments/쿠베라_comments.csv', sep=',', index_col=0)\n",
    "comments_27 = pd.read_csv('./webtoon_comments/평범한8반_comments.csv', sep=',', index_col=0)\n",
    "comments_28 = pd.read_csv('./webtoon_comments/신의탑_comments.csv', sep=',', index_col=0)\n",
    "comments_29 = pd.read_csv('./webtoon_comments/대학일기_comments.csv', sep=',', index_col=0)\n",
    "comments_30 = pd.read_csv('./webtoon_comments/놓정_comments.csv', sep=',', index_col=0)\n",
    "comments_31 = pd.read_csv('./webtoon_comments/스핑_comments.csv', sep=',', index_col=0)\n",
    "comments_32 = pd.read_csv('./webtoon_comments/덴마_comments.csv', sep=',', index_col=0)"
   ]
  },
  {
   "cell_type": "code",
   "execution_count": 2,
   "metadata": {},
   "outputs": [],
   "source": [
    "sed_1 = pd.read_csv('./webtoon_comments/갓오하_sed.csv', sep=',', index_col=0)\n",
    "sed_2 = pd.read_csv('./webtoon_comments/고수_sed.csv', sep=',', index_col=0)\n",
    "sed_3 = pd.read_csv('./webtoon_comments/기기괴괴_sed.csv', sep=',', index_col=0)\n",
    "sed_4 = pd.read_csv('./webtoon_comments/더게이머_sed.csv', sep=',', index_col=0)\n",
    "sed_5 = pd.read_csv('./webtoon_comments/독립일기_sed.csv', sep=',', index_col=0)\n",
    "sed_6 = pd.read_csv('./webtoon_comments/랜덤채팅의그녀_sed.csv', sep=',', index_col=0)\n",
    "sed_7 = pd.read_csv('./webtoon_comments/바른연애길잡이_sed.csv', sep=',', index_col=0)\n",
    "sed_8 = pd.read_csv('./webtoon_comments/복학왕_sed.csv', sep=',', index_col=0)\n",
    "sed_9 = pd.read_csv('./webtoon_comments/뷰티풀군바리_sed.csv', sep=',', index_col=0)\n",
    "sed_10 = pd.read_csv('./webtoon_comments/소녀의세계_sed.csv', sep=',', index_col=0)\n",
    "sed_11 = pd.read_csv('./webtoon_comments/약한영웅_sed.csv', sep=',', index_col=0)\n",
    "sed_12 = pd.read_csv('./webtoon_comments/여신강림_sed.csv', sep=',', index_col=0)\n",
    "sed_13 = pd.read_csv('./webtoon_comments/연놈_sed.csv', sep=',', index_col=0)\n",
    "sed_14 = pd.read_csv('./webtoon_comments/연애혁명_sed.csv', sep=',', index_col=0)\n",
    "sed_15 = pd.read_csv('./webtoon_comments/열렙전사_sed.csv', sep=',', index_col=0)\n",
    "sed_16 = pd.read_csv('./webtoon_comments/외모지상주의_sed.csv', sep=',', index_col=0)\n",
    "sed_17 = pd.read_csv('./webtoon_comments/윈드브레이커_sed.csv', sep=',', index_col=0)\n",
    "sed_18 = pd.read_csv('./webtoon_comments/이두나_sed.csv', sep=',', index_col=0)\n",
    "sed_19 = pd.read_csv('./webtoon_comments/취사병_sed.csv', sep=',', index_col=0)\n",
    "sed_20 = pd.read_csv('./webtoon_comments/프리드로우_sed.csv', sep=',', index_col=0)\n",
    "sed_21 = pd.read_csv('./webtoon_comments/호랑이형님_sed.csv', sep=',', index_col=0)\n",
    "sed_22 = pd.read_csv('./webtoon_comments/강해효_sed.csv', sep=',', index_col=0)\n",
    "sed_23 = pd.read_csv('./webtoon_comments/닥터프로스트_sed.csv', sep=',', index_col=0)\n",
    "sed_24 = pd.read_csv('./webtoon_comments/신도림_sed.csv', sep=',', index_col=0)\n",
    "sed_25 = pd.read_csv('./webtoon_comments/전자오락수호대_sed.csv', sep=',', index_col=0)\n",
    "sed_26 = pd.read_csv('./webtoon_comments/쿠베라_sed.csv', sep=',', index_col=0)\n",
    "sed_27 = pd.read_csv('./webtoon_comments/평범한8반_sed.csv', sep=',', index_col=0)\n",
    "sed_28 = pd.read_csv('./webtoon_comments/신의탑_sed.csv', sep=',', index_col=0)\n",
    "sed_29 = pd.read_csv('./webtoon_comments/대학일기_sed.csv', sep=',', index_col=0)\n",
    "sed_30 = pd.read_csv('./webtoon_comments/놓정_sed.csv', sep=',', index_col=0)\n",
    "sed_31 = pd.read_csv('./webtoon_comments/스핑_sed.csv', sep=',', index_col=0)\n",
    "sed_32 = pd.read_csv('./webtoon_comments/덴마_sed.csv', sep=',', index_col=0)"
   ]
  },
  {
   "cell_type": "code",
   "execution_count": 3,
   "metadata": {},
   "outputs": [
    {
     "data": {
      "text/plain": [
       "((1418, 1), (1417, 3))"
      ]
     },
     "execution_count": 3,
     "metadata": {},
     "output_type": "execute_result"
    }
   ],
   "source": [
    "comments_32.shape, sed_32.shape"
   ]
  },
  {
   "cell_type": "code",
   "execution_count": 4,
   "metadata": {},
   "outputs": [],
   "source": [
    "import re"
   ]
  },
  {
   "cell_type": "code",
   "execution_count": 5,
   "metadata": {},
   "outputs": [],
   "source": [
    "comments1 = comments_1[1:].reset_index()\n",
    "comments1 = pd.concat([comments1, sed_1], axis=1)\n",
    "med_1 = comments1['score'].median()\n",
    "comments1['sentiment'] = comments1['score'].apply(lambda x: 1 if x >= med_1 else 0)\n",
    "comments1['comment'] = comments1['comment'].apply(lambda x : re.sub('[^ㄱ-ㅎㅏ-ㅣ가-힣0-9]', ' ', x))"
   ]
  },
  {
   "cell_type": "code",
   "execution_count": 6,
   "metadata": {},
   "outputs": [],
   "source": [
    "comments2 = comments_2[1:].reset_index()\n",
    "comments2 = pd.concat([comments2, sed_2], axis=1)\n",
    "med_2 = comments2['score'].median()\n",
    "comments2['sentiment'] = comments2['score'].apply(lambda x: 1 if x >= med_2 else 0)\n",
    "comments2['comment'] = comments2['comment'].apply(lambda x : re.sub('[^ㄱ-ㅎㅏ-ㅣ가-힣0-9]', ' ', x))"
   ]
  },
  {
   "cell_type": "code",
   "execution_count": 7,
   "metadata": {},
   "outputs": [],
   "source": [
    "comments3 = comments_3[1:].reset_index()\n",
    "comments3 = pd.concat([comments3, sed_3], axis=1)\n",
    "med_3 = comments3['score'].median()\n",
    "comments3['sentiment'] = comments3['score'].apply(lambda x: 1 if x >= med_3 else 0)\n",
    "comments3['comment'] = comments3['comment'].apply(lambda x : re.sub('[^ㄱ-ㅎㅏ-ㅣ가-힣0-9]', ' ', x))"
   ]
  },
  {
   "cell_type": "code",
   "execution_count": 8,
   "metadata": {},
   "outputs": [],
   "source": [
    "comments4 = comments_4[1:].reset_index()\n",
    "comments4 = pd.concat([comments4, sed_4], axis=1)\n",
    "med_4 = comments4['score'].median()\n",
    "comments4['sentiment'] = comments4['score'].apply(lambda x: 1 if x >= med_4 else 0)\n",
    "comments4['comment'] = comments4['comment'].apply(lambda x : re.sub('[^ㄱ-ㅎㅏ-ㅣ가-힣0-9]', ' ', x))"
   ]
  },
  {
   "cell_type": "code",
   "execution_count": 9,
   "metadata": {},
   "outputs": [],
   "source": [
    "comments5 = comments_5[1:].reset_index()\n",
    "comments5 = pd.concat([comments5, sed_5], axis=1)\n",
    "med_5 = comments5['score'].median()\n",
    "comments5['sentiment'] = comments5['score'].apply(lambda x: 1 if x >= med_5 else 0)\n",
    "comments5['comment'] = comments5['comment'].apply(lambda x : re.sub('[^ㄱ-ㅎㅏ-ㅣ가-힣0-9]', ' ', x))"
   ]
  },
  {
   "cell_type": "code",
   "execution_count": 10,
   "metadata": {},
   "outputs": [],
   "source": [
    "comments6 = comments_6[1:].reset_index()\n",
    "comments6 = pd.concat([comments6, sed_6], axis=1)\n",
    "med_6 = comments6['score'].median()\n",
    "comments6['sentiment'] = comments6['score'].apply(lambda x: 1 if x >= med_6 else 0)\n",
    "comments6['comment'] = comments6['comment'].apply(lambda x : re.sub('[^ㄱ-ㅎㅏ-ㅣ가-힣0-9]', ' ', x))"
   ]
  },
  {
   "cell_type": "code",
   "execution_count": 11,
   "metadata": {},
   "outputs": [],
   "source": [
    "comments7 = comments_7[1:].reset_index()\n",
    "comments7 = pd.concat([comments7, sed_7], axis=1)\n",
    "med_7 = comments7['score'].median()\n",
    "comments7['sentiment'] = comments7['score'].apply(lambda x: 1 if x >= med_7 else 0)\n",
    "comments7['comment'] = comments7['comment'].apply(lambda x : re.sub('[^ㄱ-ㅎㅏ-ㅣ가-힣0-9]', ' ', x))"
   ]
  },
  {
   "cell_type": "code",
   "execution_count": 12,
   "metadata": {},
   "outputs": [],
   "source": [
    "comments8 = comments_8[1:].reset_index()\n",
    "comments8 = pd.concat([comments8, sed_8], axis=1)\n",
    "med_8 = comments8['score'].median()\n",
    "comments8['sentiment'] = comments8['score'].apply(lambda x: 1 if x >= med_8 else 0)\n",
    "comments8['comment'] = comments8['comment'].apply(lambda x : re.sub('[^ㄱ-ㅎㅏ-ㅣ가-힣0-9]', ' ', x))"
   ]
  },
  {
   "cell_type": "code",
   "execution_count": 13,
   "metadata": {},
   "outputs": [],
   "source": [
    "comments9 = comments_9[1:].reset_index()\n",
    "comments9 = pd.concat([comments9, sed_9], axis=1)\n",
    "med_9 = comments9['score'].median()\n",
    "comments9['sentiment'] = comments9['score'].apply(lambda x: 1 if x >= med_9 else 0)\n",
    "comments9['comment'] = comments9['comment'].apply(lambda x : re.sub('[^ㄱ-ㅎㅏ-ㅣ가-힣0-9]', ' ', x))"
   ]
  },
  {
   "cell_type": "code",
   "execution_count": 14,
   "metadata": {},
   "outputs": [],
   "source": [
    "comments10 = comments_10[1:].reset_index()\n",
    "comments10 = pd.concat([comments10, sed_10], axis=1)\n",
    "med_10 = comments10['score'].median()\n",
    "comments10['sentiment'] = comments10['score'].apply(lambda x: 1 if x >= med_10 else 0)\n",
    "comments10['comment'] = comments10['comment'].apply(lambda x : re.sub('[^ㄱ-ㅎㅏ-ㅣ가-힣]', ' ', x))"
   ]
  },
  {
   "cell_type": "code",
   "execution_count": 15,
   "metadata": {},
   "outputs": [],
   "source": [
    "comments11 = comments_11[1:].reset_index()\n",
    "comments11 = pd.concat([comments11, sed_11], axis=1)\n",
    "med_11 = comments11['score'].median()\n",
    "comments11['sentiment'] = comments11['score'].apply(lambda x: 1 if x >= med_11 else 0)\n",
    "comments11['comment'] = comments11['comment'].apply(lambda x : re.sub('[^ㄱ-ㅎㅏ-ㅣ가-힣0-9]', ' ', x))"
   ]
  },
  {
   "cell_type": "code",
   "execution_count": 16,
   "metadata": {},
   "outputs": [],
   "source": [
    "comments12 = comments_12[1:].reset_index()\n",
    "comments12 = pd.concat([comments12, sed_12], axis=1)\n",
    "med_12 = comments12['score'].median()\n",
    "comments12['sentiment'] = comments12['score'].apply(lambda x: 1 if x >= med_12 else 0)\n",
    "comments12['comment'] = comments12['comment'].apply(lambda x : re.sub('[^ㄱ-ㅎㅏ-ㅣ가-힣0-9]', ' ', x))"
   ]
  },
  {
   "cell_type": "code",
   "execution_count": 17,
   "metadata": {},
   "outputs": [],
   "source": [
    "comments13 = comments_13[1:].reset_index()\n",
    "comments13 = pd.concat([comments13, sed_13], axis=1)\n",
    "med_13 = comments13['score'].median()\n",
    "comments13['sentiment'] = comments13['score'].apply(lambda x: 1 if x >= med_13 else 0)\n",
    "comments13['comment'] = comments13['comment'].apply(lambda x : re.sub('[^ㄱ-ㅎㅏ-ㅣ가-힣0-9]', ' ', x))"
   ]
  },
  {
   "cell_type": "code",
   "execution_count": 18,
   "metadata": {},
   "outputs": [],
   "source": [
    "comments14 = comments_14[1:].reset_index()\n",
    "comments14 = pd.concat([comments14, sed_14], axis=1)\n",
    "med_14 = comments14['score'].median()\n",
    "comments14['sentiment'] = comments14['score'].apply(lambda x: 1 if x >= med_14 else 0)\n",
    "comments14['comment'] = comments14['comment'].apply(lambda x : re.sub('[^ㄱ-ㅎㅏ-ㅣ가-힣0-9]', ' ', x))"
   ]
  },
  {
   "cell_type": "code",
   "execution_count": 19,
   "metadata": {},
   "outputs": [],
   "source": [
    "comments15 = comments_15[1:].reset_index()\n",
    "comments15 = pd.concat([comments15, sed_15], axis=1)\n",
    "med_15 = comments15['score'].median()\n",
    "comments15['sentiment'] = comments15['score'].apply(lambda x: 1 if x >= med_15 else 0)\n",
    "comments15['comment'] = comments15['comment'].apply(lambda x : re.sub('[^ㄱ-ㅎㅏ-ㅣ가-힣0-9]', ' ', x))"
   ]
  },
  {
   "cell_type": "code",
   "execution_count": 20,
   "metadata": {},
   "outputs": [],
   "source": [
    "comments16 = comments_16[1:].reset_index()\n",
    "comments16 = pd.concat([comments16, sed_16], axis=1)\n",
    "med_16 = comments16['score'].median()\n",
    "comments16['sentiment'] = comments16['score'].apply(lambda x: 1 if x >= med_16 else 0)\n",
    "comments16['comment'] = comments16['comment'].apply(lambda x : re.sub('[^ㄱ-ㅎㅏ-ㅣ가-힣0-9]', ' ', x))"
   ]
  },
  {
   "cell_type": "code",
   "execution_count": 21,
   "metadata": {},
   "outputs": [],
   "source": [
    "comments17 = comments_17[1:].reset_index()\n",
    "comments17 = pd.concat([comments17, sed_17], axis=1)\n",
    "med_17 = comments17['score'].median()\n",
    "comments17['sentiment'] = comments17['score'].apply(lambda x: 1 if x >= med_17 else 0)\n",
    "comments17['comment'] = comments17['comment'].apply(lambda x : re.sub('[^ㄱ-ㅎㅏ-ㅣ가-힣0-9]', ' ', x))"
   ]
  },
  {
   "cell_type": "code",
   "execution_count": 22,
   "metadata": {},
   "outputs": [],
   "source": [
    "comments18 = comments_18[1:].reset_index()\n",
    "comments18 = pd.concat([comments18, sed_18], axis=1)\n",
    "med_18 = comments18['score'].median()\n",
    "comments18['sentiment'] = comments18['score'].apply(lambda x: 1 if x >= med_18 else 0)\n",
    "comments18['comment'] = comments18['comment'].apply(lambda x : re.sub('[^ㄱ-ㅎㅏ-ㅣ가-힣0-9]', ' ', x))"
   ]
  },
  {
   "cell_type": "code",
   "execution_count": 23,
   "metadata": {},
   "outputs": [],
   "source": [
    "comments19 = comments_19[1:].reset_index()\n",
    "comments19 = pd.concat([comments19, sed_19], axis=1)\n",
    "med_19 = comments19['score'].median()\n",
    "comments19['sentiment'] = comments19['score'].apply(lambda x: 1 if x >= med_19 else 0)\n",
    "comments19['comment'] = comments19['comment'].apply(lambda x : re.sub('[^ㄱ-ㅎㅏ-ㅣ가-힣0-9]', ' ', x))"
   ]
  },
  {
   "cell_type": "code",
   "execution_count": 24,
   "metadata": {},
   "outputs": [],
   "source": [
    "comments20 = comments_20[1:].reset_index()\n",
    "comments20 = pd.concat([comments20, sed_20], axis=1)\n",
    "med_20 = comments20['score'].median()\n",
    "comments20['sentiment'] = comments20['score'].apply(lambda x: 1 if x >= med_20 else 0)\n",
    "comments20['comment'] = comments20['comment'].apply(lambda x : re.sub('[^ㄱ-ㅎㅏ-ㅣ가-힣0-9]', ' ', x))"
   ]
  },
  {
   "cell_type": "code",
   "execution_count": 25,
   "metadata": {},
   "outputs": [],
   "source": [
    "comments21 = comments_21[1:].reset_index()\n",
    "comments21 = pd.concat([comments21, sed_21], axis=1)\n",
    "med_21 = comments21['score'].median()\n",
    "comments21['sentiment'] = comments21['score'].apply(lambda x: 1 if x >= med_21 else 0)\n",
    "comments21['comment'] = comments21['comment'].apply(lambda x : re.sub('[^ㄱ-ㅎㅏ-ㅣ가-힣0-9]', ' ', x))"
   ]
  },
  {
   "cell_type": "code",
   "execution_count": 26,
   "metadata": {},
   "outputs": [],
   "source": [
    "comments22 = comments_22[1:].reset_index()\n",
    "comments22 = pd.concat([comments22, sed_22], axis=1)\n",
    "med_22 = comments22['score'].median()\n",
    "comments22['sentiment'] = comments22['score'].apply(lambda x: 1 if x >= med_22 else 0)\n",
    "comments22['comment'] = comments22['comment'].apply(lambda x : re.sub('[^ㄱ-ㅎㅏ-ㅣ가-힣0-9]', ' ', x))"
   ]
  },
  {
   "cell_type": "code",
   "execution_count": 27,
   "metadata": {},
   "outputs": [],
   "source": [
    "comments23 = comments_23[1:].reset_index()\n",
    "comments23 = pd.concat([comments23, sed_23], axis=1)\n",
    "med_23 = comments23['score'].median()\n",
    "comments23['sentiment'] = comments23['score'].apply(lambda x: 1 if x >= med_23 else 0)\n",
    "comments23['comment'] = comments23['comment'].apply(lambda x : re.sub('[^ㄱ-ㅎㅏ-ㅣ가-힣0-9]', ' ', x))"
   ]
  },
  {
   "cell_type": "code",
   "execution_count": 28,
   "metadata": {},
   "outputs": [],
   "source": [
    "comments24 = comments_24[1:].reset_index()\n",
    "comments24 = pd.concat([comments24, sed_24], axis=1)\n",
    "med_24 = comments24['score'].median()\n",
    "comments24['sentiment'] = comments24['score'].apply(lambda x: 1 if x >= med_24 else 0)\n",
    "comments24['comment'] = comments24['comment'].apply(lambda x : re.sub('[^ㄱ-ㅎㅏ-ㅣ가-힣0-9]', ' ', x))"
   ]
  },
  {
   "cell_type": "code",
   "execution_count": 29,
   "metadata": {},
   "outputs": [],
   "source": [
    "comments25 = comments_25[1:].reset_index()\n",
    "comments25 = pd.concat([comments25, sed_25], axis=1)\n",
    "med_25 = comments25['score'].median()\n",
    "comments25['sentiment'] = comments25['score'].apply(lambda x: 1 if x >= med_25 else 0)\n",
    "comments25['comment'] = comments25['comment'].apply(lambda x : re.sub('[^ㄱ-ㅎㅏ-ㅣ가-힣0-9]', ' ', x))"
   ]
  },
  {
   "cell_type": "code",
   "execution_count": 30,
   "metadata": {},
   "outputs": [],
   "source": [
    "comments26 = comments_26[1:].reset_index()\n",
    "comments26 = pd.concat([comments26, sed_26], axis=1)\n",
    "med_26 = comments26['score'].median()\n",
    "comments26['sentiment'] = comments26['score'].apply(lambda x: 1 if x >= med_26 else 0)\n",
    "comments26['comment'] = comments26['comment'].apply(lambda x : re.sub('[^ㄱ-ㅎㅏ-ㅣ가-힣0-9]', ' ', x))"
   ]
  },
  {
   "cell_type": "code",
   "execution_count": 31,
   "metadata": {},
   "outputs": [],
   "source": [
    "comments27 = comments_27[1:].reset_index()\n",
    "comments27 = pd.concat([comments27, sed_27], axis=1)\n",
    "med_27 = comments27['score'].median()\n",
    "comments27['sentiment'] = comments27['score'].apply(lambda x: 1 if x >= med_27 else 0)\n",
    "comments27['comment'] = comments27['comment'].apply(lambda x : re.sub('[^ㄱ-ㅎㅏ-ㅣ가-힣0-9]', ' ', x))"
   ]
  },
  {
   "cell_type": "code",
   "execution_count": 32,
   "metadata": {},
   "outputs": [],
   "source": [
    "comments28 = comments_28[1:].reset_index()\n",
    "comments28 = pd.concat([comments28, sed_28], axis=1)\n",
    "med_28 = comments28['score'].median()\n",
    "comments28['sentiment'] = comments28['score'].apply(lambda x: 1 if x >= med_28 else 0)\n",
    "comments28['comment'] = comments28['comment'].apply(lambda x : re.sub('[^ㄱ-ㅎㅏ-ㅣ가-힣0-9]', ' ', x))"
   ]
  },
  {
   "cell_type": "code",
   "execution_count": 33,
   "metadata": {},
   "outputs": [],
   "source": [
    "comments29 = comments_29[1:].reset_index()\n",
    "comments29 = pd.concat([comments29, sed_29], axis=1)\n",
    "med_29 = comments27['score'].median()\n",
    "comments29['sentiment'] = comments29['score'].apply(lambda x: 1 if x >= med_29 else 0)\n",
    "comments29['comment'] = comments29['comment'].apply(lambda x : re.sub('[^ㄱ-ㅎㅏ-ㅣ가-힣0-9]', ' ', x))"
   ]
  },
  {
   "cell_type": "code",
   "execution_count": 34,
   "metadata": {},
   "outputs": [],
   "source": [
    "comments30 = comments_30[1:].reset_index()\n",
    "comments30 = pd.concat([comments30, sed_30], axis=1)\n",
    "med_30 = comments30['score'].median()\n",
    "comments30['sentiment'] = comments30['score'].apply(lambda x: 1 if x >= med_30 else 0)\n",
    "comments30['comment'] = comments30['comment'].apply(lambda x : re.sub('[^ㄱ-ㅎㅏ-ㅣ가-힣0-9]', ' ', x))"
   ]
  },
  {
   "cell_type": "code",
   "execution_count": 35,
   "metadata": {},
   "outputs": [],
   "source": [
    "comments31 = comments_31[1:].reset_index()\n",
    "comments31 = pd.concat([comments31, sed_31], axis=1)\n",
    "med_31 = comments31['score'].median()\n",
    "comments31['sentiment'] = comments31['score'].apply(lambda x: 1 if x >= med_31 else 0)\n",
    "comments31['comment'] = comments31['comment'].apply(lambda x : re.sub('[^ㄱ-ㅎㅏ-ㅣ가-힣0-9]', ' ', x))"
   ]
  },
  {
   "cell_type": "code",
   "execution_count": 36,
   "metadata": {},
   "outputs": [],
   "source": [
    "comments32 = comments_32[1:].reset_index()\n",
    "comments32 = pd.concat([comments32, sed_32], axis=1)\n",
    "med_32 = comments32['score'].median()\n",
    "comments32['sentiment'] = comments32['score'].apply(lambda x: 1 if x >= med_32 else 0)\n",
    "comments32['comment'] = comments32['comment'].apply(lambda x : re.sub('[^ㄱ-ㅎㅏ-ㅣ가-힣0-9]', ' ', x))"
   ]
  },
  {
   "cell_type": "code",
   "execution_count": 37,
   "metadata": {},
   "outputs": [
    {
     "data": {
      "text/plain": [
       "(10456, 6)"
      ]
     },
     "execution_count": 37,
     "metadata": {},
     "output_type": "execute_result"
    }
   ],
   "source": [
    "comments = comments1.append(comments2)\n",
    "comments = comments.append(comments3)\n",
    "comments = comments.append(comments4)\n",
    "comments = comments.append(comments5)\n",
    "comments = comments.append(comments6)\n",
    "comments = comments.append(comments7)\n",
    "comments = comments.append(comments8)\n",
    "comments = comments.append(comments9)\n",
    "comments = comments.append(comments10)\n",
    "comments = comments.append(comments11)\n",
    "comments = comments.append(comments12)\n",
    "comments = comments.append(comments13)\n",
    "comments = comments.append(comments14)\n",
    "comments = comments.append(comments15)\n",
    "comments = comments.append(comments16)\n",
    "comments = comments.append(comments17)\n",
    "comments = comments.append(comments18)\n",
    "comments = comments.append(comments19)\n",
    "comments = comments.append(comments20)\n",
    "comments = comments.append(comments21)\n",
    "comments = comments.append(comments22)\n",
    "comments = comments.append(comments23)\n",
    "comments = comments.append(comments24)\n",
    "comments = comments.append(comments25)\n",
    "comments = comments.append(comments26)\n",
    "comments = comments.append(comments27)\n",
    "comments = comments.append(comments28)\n",
    "comments = comments.append(comments29)\n",
    "comments = comments.append(comments30)\n",
    "comments = comments.append(comments31)\n",
    "comments = comments.append(comments32)\n",
    "comments.shape"
   ]
  },
  {
   "cell_type": "code",
   "execution_count": 38,
   "metadata": {},
   "outputs": [],
   "source": [
    "#comments.to_csv('comments.csv')\n",
    "import pandas as pd\n",
    "comments = pd.read_csv('comments.csv', index_col=0)"
   ]
  },
  {
   "cell_type": "code",
   "execution_count": 38,
   "metadata": {},
   "outputs": [
    {
     "data": {
      "text/plain": [
       "1    6014\n",
       "0    4442\n",
       "Name: sentiment, dtype: int64"
      ]
     },
     "execution_count": 38,
     "metadata": {},
     "output_type": "execute_result"
    }
   ],
   "source": [
    "comments['sentiment'].value_counts()"
   ]
  },
  {
   "cell_type": "markdown",
   "metadata": {},
   "source": [
    "## 장르별로 분할"
   ]
  },
  {
   "cell_type": "code",
   "execution_count": null,
   "metadata": {},
   "outputs": [],
   "source": [
    "# 판타지 - 갓오하, 고수, 더게이머, 열렙전사, 취사병, 호랑이형님, 전자오락수호대, 쿠베라, 신의 탑, 덴마\n",
    "# 스릴러 - 기기괴괴\n",
    "# 일상 - 독립일기\n",
    "# 순정 - 바른연애길잡이, 여신강림, 이두나\n",
    "# 드라마 - 랜덤채팅의그녀, 복학왕, 뷰티풀군바리, 소녀의세계, 연놈, 연애혁명, 외모지상주의, 프리드로우, 닥터프로스트, 평범한8반\n",
    "# 액션 - 약한영웅, 강해효, 신도림\n",
    "# 스포츠 - 윈드브레이커\n",
    "# 개그 - 대학일기, 놓지마정신줄"
   ]
  },
  {
   "cell_type": "code",
   "execution_count": null,
   "metadata": {},
   "outputs": [],
   "source": [
    "### 웹툰을 크롤링하고 장르별로 나눠봤더니 판타지와 드라마 분야가 제일 많았다.\n",
    "### 그래서 이 두개의 장르를 비교해보고자 함."
   ]
  },
  {
   "cell_type": "code",
   "execution_count": 43,
   "metadata": {},
   "outputs": [],
   "source": [
    "# 판타지 - 갓오하, 고수, 더게이머, 열렙전사, 취사병, 호랑이형님, 전자오락수호대, 쿠베라, 신의 탑, 덴마\n",
    "# 1, 2, 4, 15, 19, 21, 25, 26, 28, 32\n",
    "comments_fan = comments1.append([comments2, comments4, comments15, comments19, comments21, comments25, comments26, comments28, comments32])\n",
    "comments_fan.shape\n",
    "comments_fan.to_csv('comments_fan.csv')"
   ]
  },
  {
   "cell_type": "code",
   "execution_count": 44,
   "metadata": {},
   "outputs": [],
   "source": [
    "# 드라마 - 랜덤채팅의그녀, 복학왕, 뷰티풀군바리, 소녀의세계, 연놈, 연애혁명, 외모지상주의, 프리드로우, 닥터프로스트, 평범한8반\n",
    "# 6, 8, 9, 10, 13, 14, 16, 20, 23, 27\n",
    "comments_dra = comments6.append([comments8, comments9, comments10, comments13, comments14, comments16, comments20, comments23, comments27])\n",
    "comments_dra.shape\n",
    "comments_dra.to_csv('comments_dra.csv')"
   ]
  },
  {
   "cell_type": "markdown",
   "metadata": {},
   "source": [
    "## 단어 문서 행렬"
   ]
  },
  {
   "cell_type": "code",
   "execution_count": 45,
   "metadata": {},
   "outputs": [
    {
     "data": {
      "text/html": [
       "<div>\n",
       "<style scoped>\n",
       "    .dataframe tbody tr th:only-of-type {\n",
       "        vertical-align: middle;\n",
       "    }\n",
       "\n",
       "    .dataframe tbody tr th {\n",
       "        vertical-align: top;\n",
       "    }\n",
       "\n",
       "    .dataframe thead th {\n",
       "        text-align: right;\n",
       "    }\n",
       "</style>\n",
       "<table border=\"1\" class=\"dataframe\">\n",
       "  <thead>\n",
       "    <tr style=\"text-align: right;\">\n",
       "      <th></th>\n",
       "      <th>stopwords</th>\n",
       "    </tr>\n",
       "  </thead>\n",
       "  <tbody>\n",
       "    <tr>\n",
       "      <th>0</th>\n",
       "      <td>드</td>\n",
       "    </tr>\n",
       "    <tr>\n",
       "      <th>1</th>\n",
       "      <td>때문</td>\n",
       "    </tr>\n",
       "    <tr>\n",
       "      <th>2</th>\n",
       "      <td>걍</td>\n",
       "    </tr>\n",
       "    <tr>\n",
       "      <th>3</th>\n",
       "      <td>조</td>\n",
       "    </tr>\n",
       "    <tr>\n",
       "      <th>4</th>\n",
       "      <td>아</td>\n",
       "    </tr>\n",
       "    <tr>\n",
       "      <th>...</th>\n",
       "      <td>...</td>\n",
       "    </tr>\n",
       "    <tr>\n",
       "      <th>942</th>\n",
       "      <td>ㅊ</td>\n",
       "    </tr>\n",
       "    <tr>\n",
       "      <th>943</th>\n",
       "      <td>ㅋ</td>\n",
       "    </tr>\n",
       "    <tr>\n",
       "      <th>944</th>\n",
       "      <td>ㅌ</td>\n",
       "    </tr>\n",
       "    <tr>\n",
       "      <th>945</th>\n",
       "      <td>ㅍ</td>\n",
       "    </tr>\n",
       "    <tr>\n",
       "      <th>946</th>\n",
       "      <td>ㅎ</td>\n",
       "    </tr>\n",
       "  </tbody>\n",
       "</table>\n",
       "<p>947 rows × 1 columns</p>\n",
       "</div>"
      ],
      "text/plain": [
       "    stopwords\n",
       "0           드\n",
       "1          때문\n",
       "2           걍\n",
       "3           조\n",
       "4           아\n",
       "..        ...\n",
       "942         ㅊ\n",
       "943         ㅋ\n",
       "944         ㅌ\n",
       "945         ㅍ\n",
       "946         ㅎ\n",
       "\n",
       "[947 rows x 1 columns]"
      ]
     },
     "execution_count": 45,
     "metadata": {},
     "output_type": "execute_result"
    }
   ],
   "source": [
    "korean_stopwords = pd.read_csv('./korean_stopwords.txt', sep='\\n', header=None)\n",
    "korean_stopwords.columns = ['stopwords']; korean_stopwords"
   ]
  },
  {
   "cell_type": "code",
   "execution_count": 46,
   "metadata": {},
   "outputs": [],
   "source": [
    "from sklearn.feature_extraction.text import CountVectorizer, TfidfTransformer"
   ]
  },
  {
   "cell_type": "code",
   "execution_count": 47,
   "metadata": {},
   "outputs": [],
   "source": [
    "def extract_keywords(text):\n",
    "    result = kiwi.analyze(text)\n",
    "    for token, pos, start, end in result[0][0]:\n",
    "        if (pos[0] in 'N') and (token not in list(korean_stopwords['stopwords'])) and (pos[0] != 'NNB'):\n",
    "            yield f'{token}'\n",
    "        elif (pos[0] in 'V') and (len(token)>=2):\n",
    "            yield f'{token}'"
   ]
  },
  {
   "cell_type": "code",
   "execution_count": 48,
   "metadata": {},
   "outputs": [],
   "source": [
    "cv = CountVectorizer(max_features=2000, tokenizer=extract_keywords, stop_words=list(korean_stopwords['stopwords']))"
   ]
  },
  {
   "cell_type": "code",
   "execution_count": 49,
   "metadata": {},
   "outputs": [],
   "source": [
    "tfidf = TfidfTransformer()"
   ]
  },
  {
   "cell_type": "code",
   "execution_count": 53,
   "metadata": {},
   "outputs": [],
   "source": [
    "tdm_fan = cv.fit_transform(comments_fan['comment'])\n",
    "tdm_dra = cv.fit_transform(comments_dra['comment'])"
   ]
  },
  {
   "cell_type": "code",
   "execution_count": 54,
   "metadata": {},
   "outputs": [],
   "source": [
    "tdm2_fan = tfidf.fit_transform(tdm_fan)\n",
    "tdm2_dra = tfidf.fit_transform(tdm_dra)"
   ]
  },
  {
   "cell_type": "code",
   "execution_count": 66,
   "metadata": {},
   "outputs": [],
   "source": [
    "word_count2_fan = pd.DataFrame({\n",
    "    '단어': cv.get_feature_names(),\n",
    "    '빈도': tdm_fan.sum(axis=0).flat\n",
    "})"
   ]
  },
  {
   "cell_type": "code",
   "execution_count": 67,
   "metadata": {},
   "outputs": [],
   "source": [
    "word_count2_dra = pd.DataFrame({\n",
    "    '단어': cv.get_feature_names(),\n",
    "    '빈도': tdm_dra.sum(axis=0).flat\n",
    "})"
   ]
  },
  {
   "cell_type": "code",
   "execution_count": 68,
   "metadata": {},
   "outputs": [
    {
     "data": {
      "text/html": [
       "<div>\n",
       "<style scoped>\n",
       "    .dataframe tbody tr th:only-of-type {\n",
       "        vertical-align: middle;\n",
       "    }\n",
       "\n",
       "    .dataframe tbody tr th {\n",
       "        vertical-align: top;\n",
       "    }\n",
       "\n",
       "    .dataframe thead th {\n",
       "        text-align: right;\n",
       "    }\n",
       "</style>\n",
       "<table border=\"1\" class=\"dataframe\">\n",
       "  <thead>\n",
       "    <tr style=\"text-align: right;\">\n",
       "      <th></th>\n",
       "      <th>단어</th>\n",
       "      <th>빈도</th>\n",
       "    </tr>\n",
       "  </thead>\n",
       "  <tbody>\n",
       "    <tr>\n",
       "      <th>1433</th>\n",
       "      <td>장례식</td>\n",
       "      <td>5217</td>\n",
       "    </tr>\n",
       "    <tr>\n",
       "      <th>275</th>\n",
       "      <td>나라</td>\n",
       "      <td>5090</td>\n",
       "    </tr>\n",
       "    <tr>\n",
       "      <th>861</th>\n",
       "      <td>삭제</td>\n",
       "      <td>3963</td>\n",
       "    </tr>\n",
       "    <tr>\n",
       "      <th>918</th>\n",
       "      <td>설치</td>\n",
       "      <td>3915</td>\n",
       "    </tr>\n",
       "    <tr>\n",
       "      <th>426</th>\n",
       "      <td>도움</td>\n",
       "      <td>3210</td>\n",
       "    </tr>\n",
       "    <tr>\n",
       "      <th>715</th>\n",
       "      <td>벌어지</td>\n",
       "      <td>2916</td>\n",
       "    </tr>\n",
       "    <tr>\n",
       "      <th>1049</th>\n",
       "      <td>싸움</td>\n",
       "      <td>2771</td>\n",
       "    </tr>\n",
       "    <tr>\n",
       "      <th>776</th>\n",
       "      <td>부수</td>\n",
       "      <td>2677</td>\n",
       "    </tr>\n",
       "    <tr>\n",
       "      <th>608</th>\n",
       "      <td>문성현</td>\n",
       "      <td>2353</td>\n",
       "    </tr>\n",
       "    <tr>\n",
       "      <th>202</th>\n",
       "      <td>그림</td>\n",
       "      <td>2264</td>\n",
       "    </tr>\n",
       "    <tr>\n",
       "      <th>1494</th>\n",
       "      <td>정신과</td>\n",
       "      <td>2252</td>\n",
       "    </tr>\n",
       "    <tr>\n",
       "      <th>567</th>\n",
       "      <td>멋</td>\n",
       "      <td>2168</td>\n",
       "    </tr>\n",
       "    <tr>\n",
       "      <th>1997</th>\n",
       "      <td>힘</td>\n",
       "      <td>2156</td>\n",
       "    </tr>\n",
       "    <tr>\n",
       "      <th>1560</th>\n",
       "      <td>중대</td>\n",
       "      <td>1943</td>\n",
       "    </tr>\n",
       "    <tr>\n",
       "      <th>1322</th>\n",
       "      <td>의식</td>\n",
       "      <td>1906</td>\n",
       "    </tr>\n",
       "    <tr>\n",
       "      <th>26</th>\n",
       "      <td>간</td>\n",
       "      <td>1832</td>\n",
       "    </tr>\n",
       "    <tr>\n",
       "      <th>1021</th>\n",
       "      <td>시현</td>\n",
       "      <td>1797</td>\n",
       "    </tr>\n",
       "    <tr>\n",
       "      <th>739</th>\n",
       "      <td>보내</td>\n",
       "      <td>1775</td>\n",
       "    </tr>\n",
       "    <tr>\n",
       "      <th>535</th>\n",
       "      <td>만나</td>\n",
       "      <td>1759</td>\n",
       "    </tr>\n",
       "    <tr>\n",
       "      <th>349</th>\n",
       "      <td>님</td>\n",
       "      <td>1757</td>\n",
       "    </tr>\n",
       "  </tbody>\n",
       "</table>\n",
       "</div>"
      ],
      "text/plain": [
       "       단어    빈도\n",
       "1433  장례식  5217\n",
       "275    나라  5090\n",
       "861    삭제  3963\n",
       "918    설치  3915\n",
       "426    도움  3210\n",
       "715   벌어지  2916\n",
       "1049   싸움  2771\n",
       "776    부수  2677\n",
       "608   문성현  2353\n",
       "202    그림  2264\n",
       "1494  정신과  2252\n",
       "567     멋  2168\n",
       "1997    힘  2156\n",
       "1560   중대  1943\n",
       "1322   의식  1906\n",
       "26      간  1832\n",
       "1021   시현  1797\n",
       "739    보내  1775\n",
       "535    만나  1759\n",
       "349     님  1757"
      ]
     },
     "execution_count": 68,
     "metadata": {},
     "output_type": "execute_result"
    }
   ],
   "source": [
    "word_count2_fan.sort_values('빈도', ascending=False).head(20)"
   ]
  },
  {
   "cell_type": "code",
   "execution_count": 69,
   "metadata": {},
   "outputs": [
    {
     "data": {
      "text/html": [
       "<div>\n",
       "<style scoped>\n",
       "    .dataframe tbody tr th:only-of-type {\n",
       "        vertical-align: middle;\n",
       "    }\n",
       "\n",
       "    .dataframe tbody tr th {\n",
       "        vertical-align: top;\n",
       "    }\n",
       "\n",
       "    .dataframe thead th {\n",
       "        text-align: right;\n",
       "    }\n",
       "</style>\n",
       "<table border=\"1\" class=\"dataframe\">\n",
       "  <thead>\n",
       "    <tr style=\"text-align: right;\">\n",
       "      <th></th>\n",
       "      <th>단어</th>\n",
       "      <th>빈도</th>\n",
       "    </tr>\n",
       "  </thead>\n",
       "  <tbody>\n",
       "    <tr>\n",
       "      <th>842</th>\n",
       "      <td>사람</td>\n",
       "      <td>4437</td>\n",
       "    </tr>\n",
       "    <tr>\n",
       "      <th>1417</th>\n",
       "      <td>작가</td>\n",
       "      <td>3898</td>\n",
       "    </tr>\n",
       "    <tr>\n",
       "      <th>890</th>\n",
       "      <td>생각</td>\n",
       "      <td>3282</td>\n",
       "    </tr>\n",
       "    <tr>\n",
       "      <th>281</th>\n",
       "      <td>나오</td>\n",
       "      <td>2601</td>\n",
       "    </tr>\n",
       "    <tr>\n",
       "      <th>1752</th>\n",
       "      <td>친구</td>\n",
       "      <td>2509</td>\n",
       "    </tr>\n",
       "    <tr>\n",
       "      <th>94</th>\n",
       "      <td>경우</td>\n",
       "      <td>1977</td>\n",
       "    </tr>\n",
       "    <tr>\n",
       "      <th>1153</th>\n",
       "      <td>여자</td>\n",
       "      <td>1883</td>\n",
       "    </tr>\n",
       "    <tr>\n",
       "      <th>199</th>\n",
       "      <td>그렇</td>\n",
       "      <td>1818</td>\n",
       "    </tr>\n",
       "    <tr>\n",
       "      <th>744</th>\n",
       "      <td>보이</td>\n",
       "      <td>1636</td>\n",
       "    </tr>\n",
       "    <tr>\n",
       "      <th>577</th>\n",
       "      <td>모르</td>\n",
       "      <td>1556</td>\n",
       "    </tr>\n",
       "    <tr>\n",
       "      <th>295</th>\n",
       "      <td>남자</td>\n",
       "      <td>1458</td>\n",
       "    </tr>\n",
       "    <tr>\n",
       "      <th>1531</th>\n",
       "      <td>좋아하</td>\n",
       "      <td>1451</td>\n",
       "    </tr>\n",
       "    <tr>\n",
       "      <th>1283</th>\n",
       "      <td>웹툰</td>\n",
       "      <td>1350</td>\n",
       "    </tr>\n",
       "    <tr>\n",
       "      <th>277</th>\n",
       "      <td>나리</td>\n",
       "      <td>1345</td>\n",
       "    </tr>\n",
       "    <tr>\n",
       "      <th>1291</th>\n",
       "      <td>유나</td>\n",
       "      <td>1268</td>\n",
       "    </tr>\n",
       "    <tr>\n",
       "      <th>634</th>\n",
       "      <td>민지</td>\n",
       "      <td>1120</td>\n",
       "    </tr>\n",
       "    <tr>\n",
       "      <th>542</th>\n",
       "      <td>만화</td>\n",
       "      <td>1084</td>\n",
       "    </tr>\n",
       "    <tr>\n",
       "      <th>1482</th>\n",
       "      <td>정도</td>\n",
       "      <td>1018</td>\n",
       "    </tr>\n",
       "    <tr>\n",
       "      <th>562</th>\n",
       "      <td>머리</td>\n",
       "      <td>975</td>\n",
       "    </tr>\n",
       "    <tr>\n",
       "      <th>528</th>\n",
       "      <td>마음</td>\n",
       "      <td>951</td>\n",
       "    </tr>\n",
       "  </tbody>\n",
       "</table>\n",
       "</div>"
      ],
      "text/plain": [
       "       단어    빈도\n",
       "842    사람  4437\n",
       "1417   작가  3898\n",
       "890    생각  3282\n",
       "281    나오  2601\n",
       "1752   친구  2509\n",
       "94     경우  1977\n",
       "1153   여자  1883\n",
       "199    그렇  1818\n",
       "744    보이  1636\n",
       "577    모르  1556\n",
       "295    남자  1458\n",
       "1531  좋아하  1451\n",
       "1283   웹툰  1350\n",
       "277    나리  1345\n",
       "1291   유나  1268\n",
       "634    민지  1120\n",
       "542    만화  1084\n",
       "1482   정도  1018\n",
       "562    머리   975\n",
       "528    마음   951"
      ]
     },
     "execution_count": 69,
     "metadata": {},
     "output_type": "execute_result"
    }
   ],
   "source": [
    "word_count2_dra.sort_values('빈도', ascending=False).head(20)"
   ]
  },
  {
   "cell_type": "markdown",
   "metadata": {},
   "source": [
    "## 단어 구름"
   ]
  },
  {
   "cell_type": "code",
   "execution_count": 62,
   "metadata": {},
   "outputs": [],
   "source": [
    "#count_dic = word_count.set_index('단어')['빈도'].to_dict()\n",
    "#count_dic2 = word_count2.set_index('단어')['빈도'].to_dict()"
   ]
  },
  {
   "cell_type": "code",
   "execution_count": 64,
   "metadata": {},
   "outputs": [],
   "source": [
    "#count_dic_fan = word_count_fan.set_index('단어')['빈도'].to_dict()\n",
    "#count_dic_dra = word_count_dra.set_index('단어')['빈도'].to_dict()"
   ]
  },
  {
   "cell_type": "code",
   "execution_count": 59,
   "metadata": {},
   "outputs": [],
   "source": [
    "count_dic2_fan = word_count2_fan.set_index('단어')['빈도'].to_dict()\n",
    "count_dic2_dra = word_count2_dra.set_index('단어')['빈도'].to_dict()"
   ]
  },
  {
   "cell_type": "code",
   "execution_count": 60,
   "metadata": {},
   "outputs": [],
   "source": [
    "from wordcloud import WordCloud"
   ]
  },
  {
   "cell_type": "code",
   "execution_count": 61,
   "metadata": {},
   "outputs": [],
   "source": [
    "wc = WordCloud(font_path='C:/Windows/Fonts/malgun.ttf', \n",
    "               background_color='white', max_words=50,\n",
    "               width=400, height=300)"
   ]
  },
  {
   "cell_type": "code",
   "execution_count": 62,
   "metadata": {},
   "outputs": [],
   "source": [
    "cloud = wc.generate_from_frequencies(count_dic2_fan)"
   ]
  },
  {
   "cell_type": "code",
   "execution_count": 63,
   "metadata": {},
   "outputs": [
    {
     "data": {
      "image/png": "[encoded data removed]",
      "text/plain": [
       "<PIL.Image.Image image mode=RGB size=400x300 at 0x227509063D0>"
      ]
     },
     "execution_count": 63,
     "metadata": {},
     "output_type": "execute_result"
    }
   ],
   "source": [
    "cloud.to_image()"
   ]
  },
  {
   "cell_type": "code",
   "execution_count": 64,
   "metadata": {},
   "outputs": [],
   "source": [
    "cloud2 = wc.generate_from_frequencies(count_dic2_dra)"
   ]
  },
  {
   "cell_type": "code",
   "execution_count": 65,
   "metadata": {},
   "outputs": [
    {
     "data": {
      "image/png": "[encoded data removed]",
      "text/plain": [
       "<PIL.Image.Image image mode=RGB size=400x300 at 0x2276492FD30>"
      ]
     },
     "execution_count": 65,
     "metadata": {},
     "output_type": "execute_result"
    }
   ],
   "source": [
    "cloud2.to_image()"
   ]
  },
  {
   "cell_type": "markdown",
   "metadata": {},
   "source": [
    "## 감성분석(kiwi)"
   ]
  },
  {
   "cell_type": "code",
   "execution_count": 51,
   "metadata": {},
   "outputs": [
    {
     "data": {
      "text/plain": [
       "0"
      ]
     },
     "execution_count": 51,
     "metadata": {},
     "output_type": "execute_result"
    }
   ],
   "source": [
    "from kiwipiepy import Kiwi, Option\n",
    "kiwi = Kiwi(num_workers=4, options=Option.LOAD_DEFAULT_DICTIONARY | Option.INTEGRATE_ALLOMORPH)\n",
    "kiwi.load_user_dictionary('user_dictionary.txt')"
   ]
  },
  {
   "cell_type": "code",
   "execution_count": 52,
   "metadata": {},
   "outputs": [
    {
     "data": {
      "text/plain": [
       "0"
      ]
     },
     "execution_count": 52,
     "metadata": {},
     "output_type": "execute_result"
    }
   ],
   "source": [
    "kiwi.prepare()"
   ]
  },
  {
   "cell_type": "code",
   "execution_count": 70,
   "metadata": {},
   "outputs": [],
   "source": [
    "dtm_fan = tdm_fan\n",
    "dtm_dra = tdm_dra"
   ]
  },
  {
   "cell_type": "code",
   "execution_count": 71,
   "metadata": {},
   "outputs": [],
   "source": [
    "dtm2_fan = tdm2_fan\n",
    "dtm2_dra = tdm2_dra"
   ]
  },
  {
   "cell_type": "code",
   "execution_count": 72,
   "metadata": {},
   "outputs": [
    {
     "data": {
      "text/plain": [
       "1    2526\n",
       "0    1944\n",
       "Name: sentiment, dtype: int64"
      ]
     },
     "execution_count": 72,
     "metadata": {},
     "output_type": "execute_result"
    }
   ],
   "source": [
    "comments_fan['sentiment'].value_counts()"
   ]
  },
  {
   "cell_type": "code",
   "execution_count": 73,
   "metadata": {},
   "outputs": [
    {
     "data": {
      "text/plain": [
       "1    1589\n",
       "0    1296\n",
       "Name: sentiment, dtype: int64"
      ]
     },
     "execution_count": 73,
     "metadata": {},
     "output_type": "execute_result"
    }
   ],
   "source": [
    "comments_dra['sentiment'].value_counts()"
   ]
  },
  {
   "cell_type": "code",
   "execution_count": 74,
   "metadata": {},
   "outputs": [],
   "source": [
    "words = cv.get_feature_names()"
   ]
  },
  {
   "cell_type": "code",
   "execution_count": 75,
   "metadata": {},
   "outputs": [
    {
     "data": {
      "text/plain": [
       "['comments_fan.pki']"
      ]
     },
     "execution_count": 75,
     "metadata": {},
     "output_type": "execute_result"
    }
   ],
   "source": [
    "import joblib\n",
    "joblib.dump({'words':words, 'dtm':dtm_fan, 'dtm2': dtm2_fan}, 'comments_fan.pki')"
   ]
  },
  {
   "cell_type": "code",
   "execution_count": 76,
   "metadata": {},
   "outputs": [
    {
     "data": {
      "text/plain": [
       "['comments_dra.pki']"
      ]
     },
     "execution_count": 76,
     "metadata": {},
     "output_type": "execute_result"
    }
   ],
   "source": [
    "joblib.dump({'words':words, 'dtm':dtm_dra, 'dtm2': dtm2_dra}, 'comments_dra.pki')"
   ]
  },
  {
   "cell_type": "code",
   "execution_count": 161,
   "metadata": {},
   "outputs": [],
   "source": [
    "data_fan = joblib.load('comments_fan.pki')\n",
    "data_dra = joblib.load('comments_dra.pki')"
   ]
  },
  {
   "cell_type": "code",
   "execution_count": 162,
   "metadata": {},
   "outputs": [],
   "source": [
    "locals().update(data_fan)"
   ]
  },
  {
   "cell_type": "code",
   "execution_count": 163,
   "metadata": {},
   "outputs": [],
   "source": [
    "x = dtm\n",
    "y = comments_fan['sentiment']"
   ]
  },
  {
   "cell_type": "code",
   "execution_count": 164,
   "metadata": {},
   "outputs": [],
   "source": [
    "from sklearn.model_selection import train_test_split"
   ]
  },
  {
   "cell_type": "code",
   "execution_count": 165,
   "metadata": {},
   "outputs": [],
   "source": [
    "x_train, x_test, y_train, y_test = train_test_split(x, y, \n",
    "                                                    test_size=0.3, \n",
    "                                                    random_state=1984)"
   ]
  },
  {
   "cell_type": "code",
   "execution_count": 166,
   "metadata": {},
   "outputs": [],
   "source": [
    "import tensorflow as tf"
   ]
  },
  {
   "cell_type": "code",
   "execution_count": 167,
   "metadata": {},
   "outputs": [],
   "source": [
    "model = tf.keras.models.Sequential()\n",
    "model.add(tf.keras.layers.Dense(1, activation='sigmoid'))"
   ]
  },
  {
   "cell_type": "code",
   "execution_count": 168,
   "metadata": {},
   "outputs": [],
   "source": [
    "model.compile(optimizer='adam', loss='binary_crossentropy', metrics=['accuracy'])"
   ]
  },
  {
   "cell_type": "code",
   "execution_count": 169,
   "metadata": {},
   "outputs": [
    {
     "name": "stdout",
     "output_type": "stream",
     "text": [
      "Epoch 1/20\n",
      "98/98 [==============================] - 0s 720us/step - loss: 0.6958 - accuracy: 0.5487\n",
      "Epoch 2/20\n",
      "98/98 [==============================] - 0s 751us/step - loss: 0.5805 - accuracy: 0.7258\n",
      "Epoch 3/20\n",
      "98/98 [==============================] - 0s 781us/step - loss: 0.5227 - accuracy: 0.7791\n",
      "Epoch 4/20\n",
      "98/98 [==============================] - 0s 724us/step - loss: 0.4821 - accuracy: 0.7980\n",
      "Epoch 5/20\n",
      "98/98 [==============================] - 0s 720us/step - loss: 0.4561 - accuracy: 0.8113\n",
      "Epoch 6/20\n",
      "98/98 [==============================] - 0s 761us/step - loss: 0.4350 - accuracy: 0.8181\n",
      "Epoch 7/20\n",
      "98/98 [==============================] - 0s 748us/step - loss: 0.4042 - accuracy: 0.8524\n",
      "Epoch 8/20\n",
      "98/98 [==============================] - 0s 689us/step - loss: 0.3952 - accuracy: 0.8489\n",
      "Epoch 9/20\n",
      "98/98 [==============================] - 0s 740us/step - loss: 0.3783 - accuracy: 0.8603\n",
      "Epoch 10/20\n",
      "98/98 [==============================] - 0s 761us/step - loss: 0.3577 - accuracy: 0.8641\n",
      "Epoch 11/20\n",
      "98/98 [==============================] - 0s 740us/step - loss: 0.3490 - accuracy: 0.8763\n",
      "Epoch 12/20\n",
      "98/98 [==============================] - 0s 668us/step - loss: 0.3507 - accuracy: 0.8601\n",
      "Epoch 13/20\n",
      "98/98 [==============================] - 0s 884us/step - loss: 0.3322 - accuracy: 0.8763\n",
      "Epoch 14/20\n",
      "98/98 [==============================] - 0s 701us/step - loss: 0.3189 - accuracy: 0.8889\n",
      "Epoch 15/20\n",
      "98/98 [==============================] - 0s 760us/step - loss: 0.3249 - accuracy: 0.8806\n",
      "Epoch 16/20\n",
      "98/98 [==============================] - 0s 689us/step - loss: 0.3079 - accuracy: 0.8929\n",
      "Epoch 17/20\n",
      "98/98 [==============================] - 0s 802us/step - loss: 0.2930 - accuracy: 0.8987\n",
      "Epoch 18/20\n",
      "98/98 [==============================] - 0s 730us/step - loss: 0.2988 - accuracy: 0.8932\n",
      "Epoch 19/20\n",
      "98/98 [==============================] - 0s 699us/step - loss: 0.2919 - accuracy: 0.8977\n",
      "Epoch 20/20\n",
      "98/98 [==============================] - 0s 781us/step - loss: 0.2857 - accuracy: 0.9059\n"
     ]
    },
    {
     "data": {
      "text/plain": [
       "<tensorflow.python.keras.callbacks.History at 0x22775ce86a0>"
      ]
     },
     "execution_count": 169,
     "metadata": {},
     "output_type": "execute_result"
    }
   ],
   "source": [
    "model.fit(x_train.A, y_train, epochs=20)"
   ]
  },
  {
   "cell_type": "code",
   "execution_count": 170,
   "metadata": {},
   "outputs": [
    {
     "name": "stdout",
     "output_type": "stream",
     "text": [
      "42/42 [==============================] - 0s 689us/step - loss: 0.6031 - accuracy: 0.7136\n"
     ]
    },
    {
     "data": {
      "text/plain": [
       "[0.6031135320663452, 0.7136465311050415]"
      ]
     },
     "execution_count": 170,
     "metadata": {},
     "output_type": "execute_result"
    }
   ],
   "source": [
    "model.evaluate(x_test.A, y_test)"
   ]
  },
  {
   "cell_type": "code",
   "execution_count": 171,
   "metadata": {},
   "outputs": [
    {
     "name": "stdout",
     "output_type": "stream",
     "text": [
      "INFO:tensorflow:Assets written to: comments_fan.krs\\assets\n"
     ]
    }
   ],
   "source": [
    "model.save('comments_fan.krs')"
   ]
  },
  {
   "cell_type": "markdown",
   "metadata": {},
   "source": [
    "### 가중치 분석"
   ]
  },
  {
   "cell_type": "code",
   "execution_count": 364,
   "metadata": {},
   "outputs": [],
   "source": [
    "model = tf.keras.models.load_model('comments_fan.krs')"
   ]
  },
  {
   "cell_type": "code",
   "execution_count": 369,
   "metadata": {},
   "outputs": [],
   "source": [
    "model = tf.keras.models.load_model('comments_dra.krs')"
   ]
  },
  {
   "cell_type": "code",
   "execution_count": 370,
   "metadata": {},
   "outputs": [],
   "source": [
    "w, b = model.weights"
   ]
  },
  {
   "cell_type": "code",
   "execution_count": 371,
   "metadata": {},
   "outputs": [],
   "source": [
    "word_sent = pd.DataFrame({'토큰': words, '가중치': w.numpy().flat})"
   ]
  },
  {
   "cell_type": "code",
   "execution_count": 372,
   "metadata": {},
   "outputs": [
    {
     "data": {
      "text/html": [
       "<div>\n",
       "<style scoped>\n",
       "    .dataframe tbody tr th:only-of-type {\n",
       "        vertical-align: middle;\n",
       "    }\n",
       "\n",
       "    .dataframe tbody tr th {\n",
       "        vertical-align: top;\n",
       "    }\n",
       "\n",
       "    .dataframe thead th {\n",
       "        text-align: right;\n",
       "    }\n",
       "</style>\n",
       "<table border=\"1\" class=\"dataframe\">\n",
       "  <thead>\n",
       "    <tr style=\"text-align: right;\">\n",
       "      <th></th>\n",
       "      <th>토큰</th>\n",
       "      <th>가중치</th>\n",
       "    </tr>\n",
       "  </thead>\n",
       "  <tbody>\n",
       "    <tr>\n",
       "      <th>997</th>\n",
       "      <td>스토리</td>\n",
       "      <td>-2.574345</td>\n",
       "    </tr>\n",
       "    <tr>\n",
       "      <th>751</th>\n",
       "      <td>복수</td>\n",
       "      <td>-2.240108</td>\n",
       "    </tr>\n",
       "    <tr>\n",
       "      <th>1462</th>\n",
       "      <td>전개</td>\n",
       "      <td>-2.173629</td>\n",
       "    </tr>\n",
       "    <tr>\n",
       "      <th>961</th>\n",
       "      <td>소재</td>\n",
       "      <td>-2.039986</td>\n",
       "    </tr>\n",
       "    <tr>\n",
       "      <th>862</th>\n",
       "      <td>산</td>\n",
       "      <td>-2.022372</td>\n",
       "    </tr>\n",
       "    <tr>\n",
       "      <th>1620</th>\n",
       "      <td>진행</td>\n",
       "      <td>-1.986383</td>\n",
       "    </tr>\n",
       "    <tr>\n",
       "      <th>1390</th>\n",
       "      <td>임대</td>\n",
       "      <td>-1.960252</td>\n",
       "    </tr>\n",
       "    <tr>\n",
       "      <th>1538</th>\n",
       "      <td>주식</td>\n",
       "      <td>-1.936832</td>\n",
       "    </tr>\n",
       "    <tr>\n",
       "      <th>712</th>\n",
       "      <td>번화</td>\n",
       "      <td>-1.935711</td>\n",
       "    </tr>\n",
       "    <tr>\n",
       "      <th>1162</th>\n",
       "      <td>역겹</td>\n",
       "      <td>-1.924543</td>\n",
       "    </tr>\n",
       "    <tr>\n",
       "      <th>732</th>\n",
       "      <td>별점</td>\n",
       "      <td>-1.911017</td>\n",
       "    </tr>\n",
       "    <tr>\n",
       "      <th>1423</th>\n",
       "      <td>작품</td>\n",
       "      <td>-1.821203</td>\n",
       "    </tr>\n",
       "    <tr>\n",
       "      <th>1849</th>\n",
       "      <td>평점</td>\n",
       "      <td>-1.794600</td>\n",
       "    </tr>\n",
       "    <tr>\n",
       "      <th>121</th>\n",
       "      <td>고생</td>\n",
       "      <td>-1.791385</td>\n",
       "    </tr>\n",
       "    <tr>\n",
       "      <th>1838</th>\n",
       "      <td>페미</td>\n",
       "      <td>-1.759145</td>\n",
       "    </tr>\n",
       "    <tr>\n",
       "      <th>1234</th>\n",
       "      <td>왕오춘</td>\n",
       "      <td>-1.735338</td>\n",
       "    </tr>\n",
       "    <tr>\n",
       "      <th>137</th>\n",
       "      <td>공주</td>\n",
       "      <td>-1.731037</td>\n",
       "    </tr>\n",
       "    <tr>\n",
       "      <th>153</th>\n",
       "      <td>광어</td>\n",
       "      <td>-1.708277</td>\n",
       "    </tr>\n",
       "    <tr>\n",
       "      <th>1624</th>\n",
       "      <td>질</td>\n",
       "      <td>-1.694447</td>\n",
       "    </tr>\n",
       "    <tr>\n",
       "      <th>1821</th>\n",
       "      <td>팀</td>\n",
       "      <td>-1.666801</td>\n",
       "    </tr>\n",
       "  </tbody>\n",
       "</table>\n",
       "</div>"
      ],
      "text/plain": [
       "       토큰       가중치\n",
       "997   스토리 -2.574345\n",
       "751    복수 -2.240108\n",
       "1462   전개 -2.173629\n",
       "961    소재 -2.039986\n",
       "862     산 -2.022372\n",
       "1620   진행 -1.986383\n",
       "1390   임대 -1.960252\n",
       "1538   주식 -1.936832\n",
       "712    번화 -1.935711\n",
       "1162   역겹 -1.924543\n",
       "732    별점 -1.911017\n",
       "1423   작품 -1.821203\n",
       "1849   평점 -1.794600\n",
       "121    고생 -1.791385\n",
       "1838   페미 -1.759145\n",
       "1234  왕오춘 -1.735338\n",
       "137    공주 -1.731037\n",
       "153    광어 -1.708277\n",
       "1624    질 -1.694447\n",
       "1821    팀 -1.666801"
      ]
     },
     "execution_count": 372,
     "metadata": {},
     "output_type": "execute_result"
    }
   ],
   "source": [
    "word_sent.sort_values('가중치').head(20)"
   ]
  },
  {
   "cell_type": "code",
   "execution_count": 373,
   "metadata": {},
   "outputs": [
    {
     "data": {
      "text/html": [
       "<div>\n",
       "<style scoped>\n",
       "    .dataframe tbody tr th:only-of-type {\n",
       "        vertical-align: middle;\n",
       "    }\n",
       "\n",
       "    .dataframe tbody tr th {\n",
       "        vertical-align: top;\n",
       "    }\n",
       "\n",
       "    .dataframe thead th {\n",
       "        text-align: right;\n",
       "    }\n",
       "</style>\n",
       "<table border=\"1\" class=\"dataframe\">\n",
       "  <thead>\n",
       "    <tr style=\"text-align: right;\">\n",
       "      <th></th>\n",
       "      <th>토큰</th>\n",
       "      <th>가중치</th>\n",
       "    </tr>\n",
       "  </thead>\n",
       "  <tbody>\n",
       "    <tr>\n",
       "      <th>238</th>\n",
       "      <td>길채현</td>\n",
       "      <td>1.650417</td>\n",
       "    </tr>\n",
       "    <tr>\n",
       "      <th>1560</th>\n",
       "      <td>중대</td>\n",
       "      <td>1.680470</td>\n",
       "    </tr>\n",
       "    <tr>\n",
       "      <th>1291</th>\n",
       "      <td>유나</td>\n",
       "      <td>1.685073</td>\n",
       "    </tr>\n",
       "    <tr>\n",
       "      <th>1282</th>\n",
       "      <td>월요일</td>\n",
       "      <td>1.693061</td>\n",
       "    </tr>\n",
       "    <tr>\n",
       "      <th>1137</th>\n",
       "      <td>엄청나</td>\n",
       "      <td>1.725447</td>\n",
       "    </tr>\n",
       "    <tr>\n",
       "      <th>1099</th>\n",
       "      <td>앞뒤</td>\n",
       "      <td>1.732145</td>\n",
       "    </tr>\n",
       "    <tr>\n",
       "      <th>993</th>\n",
       "      <td>숨기</td>\n",
       "      <td>1.735984</td>\n",
       "    </tr>\n",
       "    <tr>\n",
       "      <th>235</th>\n",
       "      <td>기회</td>\n",
       "      <td>1.764320</td>\n",
       "    </tr>\n",
       "    <tr>\n",
       "      <th>1639</th>\n",
       "      <td>짠하</td>\n",
       "      <td>1.782037</td>\n",
       "    </tr>\n",
       "    <tr>\n",
       "      <th>417</th>\n",
       "      <td>데려오</td>\n",
       "      <td>1.782514</td>\n",
       "    </tr>\n",
       "    <tr>\n",
       "      <th>1078</th>\n",
       "      <td>아침</td>\n",
       "      <td>1.846411</td>\n",
       "    </tr>\n",
       "    <tr>\n",
       "      <th>1362</th>\n",
       "      <td>인기</td>\n",
       "      <td>1.872829</td>\n",
       "    </tr>\n",
       "    <tr>\n",
       "      <th>413</th>\n",
       "      <td>덕화</td>\n",
       "      <td>1.890535</td>\n",
       "    </tr>\n",
       "    <tr>\n",
       "      <th>1762</th>\n",
       "      <td>칼업뎃</td>\n",
       "      <td>1.905096</td>\n",
       "    </tr>\n",
       "    <tr>\n",
       "      <th>1196</th>\n",
       "      <td>예쁘</td>\n",
       "      <td>1.913493</td>\n",
       "    </tr>\n",
       "    <tr>\n",
       "      <th>656</th>\n",
       "      <td>박태준</td>\n",
       "      <td>1.923244</td>\n",
       "    </tr>\n",
       "    <tr>\n",
       "      <th>725</th>\n",
       "      <td>베뎃</td>\n",
       "      <td>1.997508</td>\n",
       "    </tr>\n",
       "    <tr>\n",
       "      <th>1907</th>\n",
       "      <td>할머니</td>\n",
       "      <td>2.053169</td>\n",
       "    </tr>\n",
       "    <tr>\n",
       "      <th>578</th>\n",
       "      <td>모바일</td>\n",
       "      <td>2.301643</td>\n",
       "    </tr>\n",
       "    <tr>\n",
       "      <th>1761</th>\n",
       "      <td>칼업</td>\n",
       "      <td>2.548125</td>\n",
       "    </tr>\n",
       "  </tbody>\n",
       "</table>\n",
       "</div>"
      ],
      "text/plain": [
       "       토큰       가중치\n",
       "238   길채현  1.650417\n",
       "1560   중대  1.680470\n",
       "1291   유나  1.685073\n",
       "1282  월요일  1.693061\n",
       "1137  엄청나  1.725447\n",
       "1099   앞뒤  1.732145\n",
       "993    숨기  1.735984\n",
       "235    기회  1.764320\n",
       "1639   짠하  1.782037\n",
       "417   데려오  1.782514\n",
       "1078   아침  1.846411\n",
       "1362   인기  1.872829\n",
       "413    덕화  1.890535\n",
       "1762  칼업뎃  1.905096\n",
       "1196   예쁘  1.913493\n",
       "656   박태준  1.923244\n",
       "725    베뎃  1.997508\n",
       "1907  할머니  2.053169\n",
       "578   모바일  2.301643\n",
       "1761   칼업  2.548125"
      ]
     },
     "execution_count": 373,
     "metadata": {},
     "output_type": "execute_result"
    }
   ],
   "source": [
    "word_sent.sort_values('가중치').tail(20)"
   ]
  },
  {
   "cell_type": "markdown",
   "metadata": {},
   "source": [
    "## 주제분석"
   ]
  },
  {
   "cell_type": "markdown",
   "metadata": {},
   "source": [
    "## LDA"
   ]
  },
  {
   "cell_type": "code",
   "execution_count": 177,
   "metadata": {},
   "outputs": [],
   "source": [
    "#cv = TfidfVectorizer(max_features=2000, tokenizer=extract_keywords, stop_words=list(korean_stopwords['stopwords']))\n",
    "x_fan = tdm2_fan\n",
    "x_dra = tdm2_dra"
   ]
  },
  {
   "cell_type": "code",
   "execution_count": 178,
   "metadata": {},
   "outputs": [],
   "source": [
    "words = cv.get_feature_names()"
   ]
  },
  {
   "cell_type": "code",
   "execution_count": 179,
   "metadata": {},
   "outputs": [],
   "source": [
    "from gensim.matutils import Sparse2Corpus"
   ]
  },
  {
   "cell_type": "code",
   "execution_count": 180,
   "metadata": {},
   "outputs": [],
   "source": [
    "corpus_fan = Sparse2Corpus(x_fan.T)\n",
    "corpus_dra = Sparse2Corpus(x_dra.T)"
   ]
  },
  {
   "cell_type": "code",
   "execution_count": 181,
   "metadata": {},
   "outputs": [
    {
     "data": {
      "text/plain": [
       "[(1917, 0.12343243535618979),\n",
       " (1832, 0.15822384221205193),\n",
       " (1771, 0.14763839899153802),\n",
       " (1694, 0.22741030693546507),\n",
       " (1686, 0.13847286783590781),\n",
       " (1675, 0.10588660674452603),\n",
       " (1661, 0.0731576873624915),\n",
       " (1578, 0.11991219563100108),\n",
       " (1558, 0.09553200452039534),\n",
       " (1533, 0.14991870281534622),\n",
       " (1517, 0.10682215656277831),\n",
       " (1480, 0.11339912282537964),\n",
       " (1475, 0.1377077475056276),\n",
       " (1405, 0.09902967205361643),\n",
       " (1327, 0.12664800199007936),\n",
       " (1254, 0.14358882837363782),\n",
       " (1224, 0.13048000474501958),\n",
       " (1105, 0.14358882837363782),\n",
       " (1050, 0.10400087697121292),\n",
       " (1049, 0.12730859795426125),\n",
       " (1037, 0.15858834740290406),\n",
       " (1029, 0.13226582567263928),\n",
       " (1025, 0.12991025155402453),\n",
       " (1017, 0.1274865226966689),\n",
       " (952, 0.39330909607153985),\n",
       " (918, 0.0464696262472059),\n",
       " (916, 0.10203942080816782),\n",
       " (861, 0.1859284977827218),\n",
       " (792, 0.10779157970683154),\n",
       " (766, 0.20250935846930893),\n",
       " (685, 0.13733323245319393),\n",
       " (639, 0.13847286783590781),\n",
       " (632, 0.10635029607549286),\n",
       " (619, 0.10432414918415818),\n",
       " (609, 0.18256370653229453),\n",
       " (608, 0.05350255463121269),\n",
       " (602, 0.12343243535618979),\n",
       " (571, 0.06593249276668016),\n",
       " (454, 0.13076949285904899),\n",
       " (403, 0.12723027777715815),\n",
       " (278, 0.20407884161633563),\n",
       " (267, 0.11011030159999247),\n",
       " (233, 0.0759376235130133),\n",
       " (214, 0.13451195286162854),\n",
       " (202, 0.05437787256420922),\n",
       " (197, 0.09236940943034647),\n",
       " (107, 0.10223925300234542),\n",
       " (98, 0.1313580306104395),\n",
       " (51, 0.1328885837350712),\n",
       " (50, 0.12502815616873109),\n",
       " (49, 0.14312312290068718)]"
      ]
     },
     "execution_count": 181,
     "metadata": {},
     "output_type": "execute_result"
    }
   ],
   "source": [
    "corpus_fan[0]"
   ]
  },
  {
   "cell_type": "code",
   "execution_count": 182,
   "metadata": {},
   "outputs": [],
   "source": [
    "id2token = dict(enumerate(words))"
   ]
  },
  {
   "cell_type": "code",
   "execution_count": 183,
   "metadata": {},
   "outputs": [
    {
     "data": {
      "text/plain": [
       "'가볍'"
      ]
     },
     "execution_count": 183,
     "metadata": {},
     "output_type": "execute_result"
    }
   ],
   "source": [
    "id2token[10]"
   ]
  },
  {
   "cell_type": "markdown",
   "metadata": {},
   "source": [
    "### corpus 형식으로 바로 변환"
   ]
  },
  {
   "cell_type": "code",
   "execution_count": 184,
   "metadata": {},
   "outputs": [],
   "source": [
    "import re"
   ]
  },
  {
   "cell_type": "code",
   "execution_count": 185,
   "metadata": {},
   "outputs": [],
   "source": [
    "def extract_keywords(text):\n",
    "    result = kiwi.analyze(text)\n",
    "    for token, pos, start, end in result[0][0]:\n",
    "        if (pos[0] in 'N') and (token not in list(korean_stopwords['stopwords'])) and (pos[0] != 'NNB'):\n",
    "            yield f'{token}'\n",
    "        elif (pos[0] in 'V') and (len(token)>=2):\n",
    "            yield f'{token}'"
   ]
  },
  {
   "cell_type": "code",
   "execution_count": 186,
   "metadata": {},
   "outputs": [],
   "source": [
    "docs_fan = []\n",
    "for text in comments_fan['comment']:\n",
    "    doc = list(extract_keywords(text))\n",
    "    docs_fan.append(doc)"
   ]
  },
  {
   "cell_type": "code",
   "execution_count": 187,
   "metadata": {},
   "outputs": [],
   "source": [
    "docs_dra = []\n",
    "for text in comments_dra['comment']:\n",
    "    doc = list(extract_keywords(text))\n",
    "    docs_dra.append(doc)"
   ]
  },
  {
   "cell_type": "code",
   "execution_count": 349,
   "metadata": {},
   "outputs": [
    {
     "data": {
      "text/plain": [
       "['반장',\n",
       " '처음',\n",
       " '모범',\n",
       " '척',\n",
       " '쓰레기',\n",
       " '반장',\n",
       " '의외',\n",
       " '랜챗',\n",
       " '개변태',\n",
       " '할애같',\n",
       " '축구',\n",
       " '윽박지르',\n",
       " '골키퍼',\n",
       " '축구',\n",
       " '포지션',\n",
       " '아니',\n",
       " '축구',\n",
       " '포지션',\n",
       " '자리잡',\n",
       " '실제',\n",
       " '랜챗',\n",
       " '상대방',\n",
       " '입장',\n",
       " '상대방',\n",
       " '상대방',\n",
       " '대화방',\n",
       " '나가',\n",
       " '랜덤',\n",
       " '채팅',\n",
       " '이러',\n",
       " '환상',\n",
       " '중고딩',\n",
       " '시절',\n",
       " '축구',\n",
       " '팩',\n",
       " '공격수',\n",
       " '일진',\n",
       " '공',\n",
       " '미',\n",
       " '축구',\n",
       " '에이스',\n",
       " '나머지',\n",
       " '인원',\n",
       " '채우',\n",
       " '골키퍼',\n",
       " '웹툰',\n",
       " '주인공',\n",
       " '골키퍼',\n",
       " '시키',\n",
       " '실수',\n",
       " '새끼',\n",
       " '반장',\n",
       " '문제',\n",
       " '욕먹',\n",
       " '축구',\n",
       " '특징',\n",
       " '드리블',\n",
       " '뺏기',\n",
       " '그러',\n",
       " '못하',\n",
       " '드리블',\n",
       " '뺏기',\n",
       " '욕쳐먹',\n",
       " '그림',\n",
       " '체',\n",
       " '아무',\n",
       " '올리',\n",
       " '넘어가',\n",
       " '남아',\n",
       " '죽이',\n",
       " '화',\n",
       " '여주',\n",
       " '이쁘',\n",
       " '시키',\n",
       " '실수',\n",
       " '개염',\n",
       " '떰',\n",
       " '와중',\n",
       " '수험',\n",
       " '작가',\n",
       " '힐링']"
      ]
     },
     "execution_count": 349,
     "metadata": {},
     "output_type": "execute_result"
    }
   ],
   "source": [
    "docs_dra[1]"
   ]
  },
  {
   "cell_type": "code",
   "execution_count": 190,
   "metadata": {},
   "outputs": [],
   "source": [
    "from gensim.corpora.dictionary import Dictionary"
   ]
  },
  {
   "cell_type": "code",
   "execution_count": 191,
   "metadata": {},
   "outputs": [],
   "source": [
    "dic_fan = Dictionary(docs_fan)\n",
    "dic_dra = Dictionary(docs_dra)"
   ]
  },
  {
   "cell_type": "code",
   "execution_count": 350,
   "metadata": {},
   "outputs": [],
   "source": [
    "dic_fan.filter_extremes(no_below=10, no_above=0.9)\n",
    "dic_dra.filter_extremes(no_below=10, no_above=0.9)"
   ]
  },
  {
   "cell_type": "code",
   "execution_count": 351,
   "metadata": {},
   "outputs": [],
   "source": [
    "corpus_fan = []\n",
    "for doc in docs_fan:\n",
    "    bow = dic_fan.doc2bow(doc) # bag of words\n",
    "    corpus_fan.append(bow)"
   ]
  },
  {
   "cell_type": "code",
   "execution_count": 352,
   "metadata": {},
   "outputs": [],
   "source": [
    "corpus_dra = []\n",
    "for doc in docs_dra:\n",
    "    bow = dic_dra.doc2bow(doc) # bag of words\n",
    "    corpus_dra.append(bow)"
   ]
  },
  {
   "cell_type": "code",
   "execution_count": 353,
   "metadata": {},
   "outputs": [
    {
     "data": {
      "text/plain": [
       "2885"
      ]
     },
     "execution_count": 353,
     "metadata": {},
     "output_type": "execute_result"
    }
   ],
   "source": [
    "len(corpus_dra)"
   ]
  },
  {
   "cell_type": "markdown",
   "metadata": {},
   "source": [
    "### LDA"
   ]
  },
  {
   "cell_type": "code",
   "execution_count": 354,
   "metadata": {},
   "outputs": [],
   "source": [
    "from gensim.models.ldamodel import LdaModel"
   ]
  },
  {
   "cell_type": "code",
   "execution_count": 355,
   "metadata": {},
   "outputs": [],
   "source": [
    "from sklearn.model_selection import train_test_split\n",
    "train_corpus, valid_corpus = train_test_split(corpus_fan, test_size=0.3, random_state=0)"
   ]
  },
  {
   "cell_type": "code",
   "execution_count": 356,
   "metadata": {},
   "outputs": [],
   "source": [
    "train_corpus, valid_corpus = train_test_split(corpus_dra, test_size=0.3, random_state=0)"
   ]
  },
  {
   "cell_type": "code",
   "execution_count": 271,
   "metadata": {},
   "outputs": [
    {
     "name": "stderr",
     "output_type": "stream",
     "text": [
      "C:\\Users\\leeji\\anaconda3\\lib\\site-packages\\ipykernel\\ipkernel.py:287: DeprecationWarning: `should_run_async` will not call `transform_cell` automatically in the future. Please pass the result to `transformed_cell` argument and any exception that happen during thetransform in `preprocessing_exc_tuple` in IPython 7.17 and above.\n",
      "  and should_run_async(code)\n"
     ]
    }
   ],
   "source": [
    "import warnings\n",
    "warnings.filterwarnings('ignore', category=DeprecationWarning)"
   ]
  },
  {
   "cell_type": "code",
   "execution_count": 262,
   "metadata": {},
   "outputs": [
    {
     "name": "stderr",
     "output_type": "stream",
     "text": [
      "C:\\Users\\leeji\\anaconda3\\lib\\site-packages\\ipykernel\\ipkernel.py:287: DeprecationWarning: `should_run_async` will not call `transform_cell` automatically in the future. Please pass the result to `transformed_cell` argument and any exception that happen during thetransform in `preprocessing_exc_tuple` in IPython 7.17 and above.\n",
      "  and should_run_async(code)\n"
     ]
    }
   ],
   "source": [
    "model = LdaModel(corpus=train_corpus, id2word=dic_fan, num_topics=15, random_state=0) #12고정"
   ]
  },
  {
   "cell_type": "code",
   "execution_count": 357,
   "metadata": {},
   "outputs": [],
   "source": [
    "model = LdaModel(corpus=train_corpus, id2word=dic_dra, num_topics=14, random_state=0)"
   ]
  },
  {
   "cell_type": "code",
   "execution_count": 358,
   "metadata": {},
   "outputs": [
    {
     "data": {
      "text/plain": [
       "-8.343442257554472"
      ]
     },
     "execution_count": 358,
     "metadata": {},
     "output_type": "execute_result"
    }
   ],
   "source": [
    "loss = model.log_perplexity(valid_corpus)\n",
    "loss"
   ]
  },
  {
   "cell_type": "code",
   "execution_count": 359,
   "metadata": {},
   "outputs": [
    {
     "name": "stdout",
     "output_type": "stream",
     "text": [
      "-7.95341943657274\n",
      "-7.8275421550684445\n",
      "-7.765047008020954\n"
     ]
    }
   ],
   "source": [
    "import numpy\n",
    "old_loss = -numpy.inf\n",
    "while loss > old_loss + 0.1:\n",
    "    model.update(train_corpus)\n",
    "    old_loss = loss\n",
    "    loss = model.log_perplexity(valid_corpus)\n",
    "    print(loss)\n",
    "# fan - 15 -8.131461266103935\n",
    "############## fan - 14 -8.100776181362257\n",
    "# fan - 13 -8.101501891206373\n",
    "# fan - 12 -8.059392519030515\n",
    "# fan - 11 -8.006258411035512\n",
    "# fan - 10 -7.972925772021331\n",
    "\n",
    "# dra - 9  -7.8487475413945615\n",
    "# dra - 10 -7.769218049124793\n",
    "# dra - 11 -7.7525206494080825\n",
    "# dra - 12 -7.753530150559358\n",
    "# dra - 13 -7.706329978457159\n",
    "########## dra - 14 -7.765047008020954\n",
    "# dra - 15 -7.829842999497072\n",
    "# dra - 16 -7.824163392868311\n",
    "# dra - 17 -7.824881030300816"
   ]
  },
  {
   "cell_type": "code",
   "execution_count": 342,
   "metadata": {},
   "outputs": [],
   "source": [
    "model.save('lda-model_dra')"
   ]
  },
  {
   "cell_type": "code",
   "execution_count": 343,
   "metadata": {},
   "outputs": [],
   "source": [
    "model = LdaModel.load('lda-model_dra')"
   ]
  },
  {
   "cell_type": "markdown",
   "metadata": {
    "heading_collapsed": true
   },
   "source": [
    "### LDA 결과 보기"
   ]
  },
  {
   "cell_type": "markdown",
   "metadata": {},
   "source": [
    "### LDAvis를 통한 결과 시각화"
   ]
  },
  {
   "cell_type": "code",
   "execution_count": 344,
   "metadata": {},
   "outputs": [],
   "source": [
    "import pyLDAvis.gensim"
   ]
  },
  {
   "cell_type": "code",
   "execution_count": 345,
   "metadata": {},
   "outputs": [],
   "source": [
    "pyLDAvis.enable_notebook()"
   ]
  },
  {
   "cell_type": "code",
   "execution_count": 346,
   "metadata": {},
   "outputs": [],
   "source": [
    "#p = pyLDAvis.gensim.prepare(model, corpus_fan, dic_fan, sort_topics=False)"
   ]
  },
  {
   "cell_type": "code",
   "execution_count": 360,
   "metadata": {},
   "outputs": [],
   "source": [
    "p = pyLDAvis.gensim.prepare(model, corpus_dra, dic_dra, sort_topics=False)"
   ]
  },
  {
   "cell_type": "code",
   "execution_count": 361,
   "metadata": {},
   "outputs": [
    {
     "data": {
      "text/html": [
       "\n",
       "<link rel=\"stylesheet\" type=\"text/css\" href=\"https://cdn.rawgit.com/bmabey/pyLDAvis/files/ldavis.v1.0.0.css\">\n",
       "\n",
       "\n",
       "<div id=\"ldavis_el1810423688802242883286276937\"></div>\n",
       "<script type=\"text/javascript\">\n",
       "\n",
       "var ldavis_el1810423688802242883286276937_data = {\"mdsDat\": {\"x\": [0.09267729369757474, 0.13674260534271154, 0.08198363972241741, -0.35178047555810926, 0.005979098748980346, -0.09408482266891498, 0.0782563696267405, -0.2759571924328477, 0.07107103230505003, 0.03363220689028404, 0.07649205422785925, -0.0413455768178402, 0.08987335927664933, 0.09646040763944529], \"y\": [-0.11343831060037315, 0.0078926759547797, -0.1498417742369016, -0.0318438525416382, -0.051119348803943976, -0.1684786463046001, 0.23109585935185933, 0.020875805291438537, 0.17324213428205684, 0.11424469221576618, -0.11616014987985333, 0.2409184113005528, -0.07894149475652873, -0.07844600127261422], \"topics\": [1, 2, 3, 4, 5, 6, 7, 8, 9, 10, 11, 12, 13, 14], \"cluster\": [1, 1, 1, 1, 1, 1, 1, 1, 1, 1, 1, 1, 1, 1], \"Freq\": [3.406455916554993, 2.63022974163909, 6.064280458065623, 1.9551152118499948, 6.598230564600533, 5.710185809989136, 2.0603653868114873, 0.8551884083633048, 2.8642487256152545, 2.6660782273233643, 57.60346374312641, 0.7629345718607883, 4.261676274954541, 2.5615469592454874]}, \"tinfo\": {\"Term\": [\"\\uc544\\ub2c8\", \"\\uacbd\\uc6b0\", \"\\uc0ac\\ub78c\", \"\\uc0dd\\uac01\", \"\\uc791\\uac00\", \"\\uce5c\\uad6c\", \"\\ubcf4\\uc774\", \"\\ub098\\uc624\", \"\\uc544\\uc601\", \"\\uc88b\\uc544\\ud558\", \"\\uc790\\ub9bc\", \"\\ub098\\ub9ac\", \"\\uc8fc\\uc601\", \"\\uc218\\uc544\", \"\\uc720\\ub098\", \"\\uacf5\\uc8fc\", \"\\uadf8\\ub7ec\", \"\\ub3d9\\uc6d0\", \"\\ubbfc\\uc9c0\", \"\\uae30\\uc548\", \"\\uadf8\\ub9ac\", \"\\ud0dc\\uc131\\uc774\", \"\\uadf8\\ub807\", \"\\uc5ec\\uc790\", \"\\uc0c1\\ud669\", \"\\uc790\\ub9ac\", \"\\ub300\\ud558\", \"\\uc7ac\\uc775\", \"\\uc5c4\\ub9c8\", \"\\ub9c8\\uc74c\", \"\\ub77c\\ud76c\", \"\\ubc31\\uc18c\\uc5f0\", \"\\uc7ac\\uc775\", \"\\uc6b0\\ub3d9\", \"\\uc138\\ube10\", \"\\uc190\\ud1b1\", \"\\ub4dc\\ub9bc\", \"\\uc4f0\\ub808\\uae30\\ud1b5\", \"\\uc591\\ubcf4\", \"\\uc2e4\\uc7a5\", \"\\ud55c\\uc2dc\", \"\\ubc31\\uc18c\", \"\\ucd08\\ub85d\", \"\\uce58\\ud0a8\", \"\\uc544\\ub8e8\", \"\\ub9ac\\ub098\", \"\\uac15\\uc8fc\\ud76c\", \"\\uc8fc\\ud76c\", \"\\uc9c0\\uc5f0\", \"\\uc9c0\\ub2e4\\uc608\", \"\\uc601\\uc6c5\", \"\\uc5fc\\uc0c9\", \"\\uc218\\ub2a5\", \"\\uc18c\\uc5f0\", \"\\uc5b4\\uc7a5\", \"\\uc5ca\\uadf8\\uc81c\", \"\\uc5f0\\ub188\", \"\\ubc14\\ub098\\ub098\", \"\\uc2a4\\ud3ec\", \"\\uc815\\uc218\", \"\\uc560\\uad50\", \"\\ub300\\ubc15\", \"\\uc2dc\\uc544\", \"\\ud0d0\\ub098\", \"\\ub2ed\", \"\\ud5e4\\uc5b4\\uc9c0\", \"\\uc548\\uacbd\", \"\\uc0ac\\uadc0\", \"\\ube0c\\ub85c\\ucf5c\\ub9ac\", \"\\uc62c\\ud574\", \"\\uc5f0\\uc560\", \"\\ud559\\ub144\", \"\\uc791\\uac00\", \"\\uc2ac\\uae30\", \"\\uc88b\\uc544\\ud558\", \"\\ubbfc\\uc9c0\", \"\\uc5ec\\uc790\", \"\\uc544\\ub2c8\", \"\\uce5c\\uad6c\", \"\\uba38\\ub9ac\", \"\\ubca0\\ub313\", \"\\ucee4\\ud50c\", \"\\uc0ac\\ub791\", \"\\uc6f9\\ud230\", \"\\ub9c8\\uc74c\", \"\\ub0a8\\uc790\", \"\\ub098\\uc624\", \"\\uc0ac\\ub78c\", \"\\ub77c\\uc774\\ud2b8\", \"\\ud380\\uce58\", \"\\ud1a0\\ud558\", \"\\ub2f9\\uad6c\\uc7a5\", \"\\uc624\\ub978\\ucabd\", \"\\ud638\\uc758\", \"\\uac00\\uc9dc\", \"\\ucd9c\\uc5f0\", \"\\uc5b4\\ub528\", \"\\uad6c\\ub77c\", \"\\uae38\\uac70\\ub9ac\", \"\\uad00\\uc7a5\", \"\\ub9cc\\uc9c0\", \"\\ub9e4\\ub108\", \"\\uacb0\\ud54d\", \"\\ud0dc\\uad6d\", \"\\ub9de\\ucda4\\ubc95\", \"\\uc870\\uac01\", \"\\ub4e4\\ub9ac\", \"\\ub2e4\\ud22c\", \"\\ud504\\ub85c\\ud544\", \"\\uc0dd\\uc77c\", \"\\ud295\\uae30\", \"\\ud53c\\uc2dc\", \"\\ubd09\\uad6c\", \"\\ud559\\uad50\\uc0dd\\ud65c\", \"\\ucd08\", \"\\ubbf8\\uc218\", \"\\ud480\\ub9ac\", \"\\ub85d\", \"\\uc18c\\uac1c\", \"\\uc0b4\\ub9ac\", \"\\uc2ac\\uae30\", \"\\uc0ac\\ub77c\\uc9c0\", \"\\uc5f0\\uc608\\uc778\", \"\\uc8c4\", \"\\uc7a5\\ub09c\\uce58\", \"\\uac70\\uc808\", \"\\uc131\\ud6c8\", \"\\ubfd4\", \"\\ud0dc\\uc131\", \"\\ucee4\\ud50c\", \"\\uc7a5\\uba74\", \"\\ud504\\ub9ac\\ub4dc\\ub85c\\uc6b0\", \"\\uc608\\uc058\", \"\\ub9c8\\uc9c0\\ub9c9\", \"\\uc791\\uac00\", \"\\ud0dc\\uc131\\uc774\", \"\\uce5c\\uad6c\", \"\\ub208\", \"\\ubd04\", \"\\ub180\\ub77c\", \"\\uc0ac\\ub78c\", \"\\uc591\\uc544\\uce58\", \"\\uadc0\", \"\\uc874\", \"\\uae30\\ubd84\", \"\\ucc98\\uc74c\", \"\\uc5ec\\uc790\", \"\\ub9cc\\ud654\", \"\\uc774\\ub807\", \"\\ubc84\\ub9ac\", \"\\uc9c4\\uc9dc\", \"\\uafc0\", \"\\uc9c4\\ud601\", \"\\uce74\\ud53c\", \"\\ud64d\\uc7ac\\uc5f4\", \"\\uc7a5\\uc9c4\\ud601\", \"\\uc8fc\\uc9d3\", \"\\uae40\\uae30\\uba85\", \"\\uc058\\ub799\", \"\\uc058\\ub799\\ub531\", \"\\uc9c0\\ud0dc\", \"\\ud558\\ub4dc\\uc6e8\\uc5b4\", \"\\uacbd\\uae30\", \"\\ubc34\\ub4dc\", \"\\ubc1c\\ucc28\\uae30\", \"\\ub538\\uae30\\uc6b0\\uc720\", \"\\uc774\\ud0dc\\uc131\", \"\\uc885\\uac74\", \"\\uad8c\\uc9c0\\ud0dc\", \"\\uc7ac\\uc6d0\", \"\\uc9113\", \"\\uc885\\ud569\", \"\\uc758\\uc790\", \"\\uc774\\ub3c4\\uaddc\", \"\\ubb34\\uc5d0\\ud0c0\\uc774\", \"\\ubc14\\uc2a4\", \"\\uc2a4\\ud53c\\ub4dc\", \"\\uc694\\ud55c\", \"\\uadfc\\uc6d0\", \"\\ud5e4\\ub4dc\", \"\\uac13\\ub3c5\", \"\\ud638\\uc2a4\\ud154\", \"\\uaf43\\ub2d8\", \"\\ub355\\uad6c\", \"\\ubc15\\ud615\", \"\\ud06c\\ub8e8\", \"\\uc774\\uc9c4\\uc131\", \"\\uc900\\uad6c\", \"\\ubc14\\uc2a4\\ucf54\", \"\\uc7a5\\ud604\", \"\\ubc15\\uc9c0\\ud638\", \"\\ucca0\\ubbfc\\uc774\", \"\\uc5c5\", \"\\uae30\\uc220\", \"\\ube45\\ub51c\", \"\\uc9c4\\ud638\", \"\\ube0c\\ub85c\\ucf5c\\ub9ac\", \"\\ubc15\\ud615\\uc11d\", \"\\uc9c4\\uc131\", \"\\uc2f8\\uc6b0\", \"\\uc2dc\\uc544\", \"\\uc774\\uae30\", \"\\uc2f8\\uc6c0\", \"\\uae30\\uba85\", \"\\ud68c\\uc7a5\", \"\\uc544\\ub2c8\", \"\\uc18c\\uc5f0\", \"\\uc0ac\\uc774\\ub2e4\", \"\\uba38\\ub9ac\", \"\\uc0ac\\ub78c\", \"\\uc5ec\\uc790\", \"\\ub098\\uc624\", \"\\uce5c\\uad6c\", \"\\ub9cc\\ub098\", \"\\uc0dd\\uac01\", \"\\uc57d\\uc790\", \"\\uc804\\ucd9c\", \"\\uac19\\uc796\", \"\\uacc4\\uae09\", \"\\uc9ec\\ubc25\", \"\\uadf8\\ub7ec\\uc9c0\\ub9c8\", \"\\uacac\\uc81c\", \"\\uc5d0\\uc774\\uc2a4\", \"\\ucabc\\uac1c\", \"\\ubd80\\ub300\", \"\\ubc84\\ub9bc\\ubc1b\", \"\\uc5ec\\uc131\\ubd80\", \"\\uc6b0\\uc9c0\\uc601\", \"\\uac04\\ub9cc\", \"\\uc717\\uc120\", \"\\ub77c\\uc2dc\", \"\\uc124\\uce58\", \"\\uc655\\uace0\", \"\\uc720\\uc608\", \"\\ucc14\\ub9ac\", \"\\ubc15\\ud604\\uc815\", \"\\uc120\\uc784\", \"\\uc720\\uacbd\\ubbf8\", \"\\uc774\\uacbd\", \"\\uc9c0\\uc601\", \"\\ub77c\\uc2dc\\ud604\", \"\\uc624\\uc815\\ud654\", \"\\uc218\\uc544\", \"\\ub17c\\uc0b0\", \"\\uc624\\uc815\", \"\\uad70\\ubc88\", \"\\ud654\\uc7a5\\uc2e4\", \"\\uac74\\ub108\", \"\\ubbf8\\ub0a8\", \"\\uae30\\uc218\", \"\\ub300\\uac00\\ub9ac\", \"\\ud3d0\", \"\\uc7a1\\ud788\", \"\\uc0dd\\ud65c\", \"\\uce90\\ub9ad\\ud130\", \"\\uc911\\uc218\", \"\\uadf8\\ub7ec\", \"\\uad34\\ub86d\\ud788\", \"\\uad70\\ub300\", \"\\ub4f1\\uc7a5\", \"\\uc800\\ub7ec\", \"\\ub3d9\\uae30\", \"\\ub300\\ud558\", \"\\uc55e\", \"\\ub9cc\\ub4e4\", \"\\uc0dd\\uac01\", \"\\uc0ac\\ub78c\", \"\\uaf2c\\uc774\", \"\\uc804\\uc5ed\", \"\\uc8fc\\ud76c\", \"\\uc544\\ub2c8\", \"\\uc790\\ub9bc\", \"\\uacf5\\uc8fc\", \"\\uc591\\ubbfc\", \"\\uc8fc\\uc601\", \"\\uc0c1\\ud6c8\", \"\\uc655\\uc790\\ub9bc\", \"\\uc8fc\\uc601\\uc774\", \"\\uc815\\uc0c1\\ud6c8\", \"\\ucd5c\\ud55c\", \"\\uc9c4\\ud76c\", \"\\uc544\\ub78c\", \"\\ucd5c\\ud55c\\ubcc4\", \"\\uc790\\ub9bc\\uc774\", \"\\uc11d\\ud638\", \"\\uc591\\ubbfc\\uc9c0\", \"\\uc608\\uc2ac\\uc774\", \"\\uc624\\uc544\\ub78c\", \"\\ubcd1\\ud6c8\", \"\\uc591\\uac31\", \"\\uacbd\\uc6b0\", \"\\uc5f0\\ud601\", \"\\uae40\\ubcd1\\ud6c8\", \"\\uba40\\ubbf8\", \"\\uc655\\uc790\", \"\\ub0a8\\uc720\\ub9ac\", \"\\uacf5\\uc8fc\\uc601\", \"\\uc804\\uc2dc\", \"\\uacbd\\ubbfc\", \"\\uacfd\\ubcf4\\uacbd\", \"\\uc608\\uc2ac\", \"\\ud6c8\\uc774\", \"\\uc790\\ub9ac\", \"\\uc655\", \"\\ud55c\\ubcc4\", \"\\uacf5\", \"\\uc870\\uc2b9\\ubbfc\", \"\\uc9dd\\uc0ac\\ub791\", \"\\ucd5c\\uc815\\uc6b0\", \"\\uc591\\ubbf8\", \"\\uc5f0\\uc560\", \"\\ud0dc\\ub3c4\", \"\\ubbfc\\uc9c0\", \"\\uce5c\\uad6c\", \"\\uc5f0\\uc560\\ud601\\uba85\", \"\\uc601\\uc774\", \"\\uc0ac\\uadc0\", \"\\uc2e0\\uacbd\", \"\\ubbf8\", \"\\uc554\", \"\\ub0a8\\uc790\", \"\\uc5ec\\uc790\", \"\\uc2f8\\uc6b0\", \"\\uc0dd\\uac01\", \"\\ub9c8\\uc74c\", \"\\uc88b\\uc544\\ud558\", \"\\ubcf8\\uc778\", \"\\uadf8\\ub807\", \"\\uc544\\ub2c8\", \"\\uc0ac\\ub78c\", \"\\uc598\\uae30\", \"\\uc774\\ud574\", \"\\uc0dd\\uae30\", \"\\uc218\\uc778\", \"\\uc8fc\\ub9ac\", \"\\ud5c8\\uc815\\uc778\", \"\\uc18c\\uc774\", \"\\ud5c8\\uc815\", \"\\ub098\\uc8fc\\ub9ac\", \"\\uc18c\\uc911\\uc774\", \"\\ubaa8\\uae30\", \"\\uc815\\uc778\", \"\\uae30\\ub3d9\\ub300\", \"\\uc218\\uae08\", \"\\uc2b9\\ud654\", \"1\\uc18c\\ub300\", \"\\uc815\\ubbfc\\uc774\", \"\\uc9c0\\ud76c\", \"\\uc18c\\ub9bc\", \"\\ud1b5\\uc81c\", \"\\ub9ac\\uc2a4\", \"\\uc18c\\ub9bc\\uc774\", \"\\ud558\\uadf9\\uc0c1\", \"\\uba38\\ub9bf\\uc18d\", \"\\uc815\\uc2e0\\ubcd1\\uc790\", \"\\uae40\\uc138\", \"\\uacf5\\ud1b5\\uc810\", \"\\ubd84\\ub300\\uc7a5\", \"\\ud558\\uc560\", \"\\uc721\\uadfc\\uc625\", \"\\ub179\\uc74c\\uae30\", \"\\uc815\\ubbfc\", \"\\uc5c9\\ub9dd\", \"\\uacc4\\ub780\", \"\\uc18c\\ub300\\uc7a5\", \"\\uc18c\\ub300\", \"\\ubd04\\uc774\", \"\\ud61c\\uc740\\uc774\", \"\\ubcf8\\ubd80\", \"\\uc624\\ub85c\\ub77c\", \"\\uae40\\uac00\\uc744\", \"\\uc678\\uc804\", \"\\uc0c1\\uacbd\", \"\\uc758\\uacbd\", \"\\uc124\\uc720\\ub77c\", \"\\ud604\\ubd04\\uc774\", \"\\uc2dc\\uc704\", \"\\uc870\\ub9ac\", \"\\uc9c0\\uc120\", \"\\uc911\\uc218\", \"\\uc804\\uc5ed\", \"\\uac08\\uad6c\", \"\\ud574\\ubcd1\\ub300\", \"\\uc2e0\\ubcd1\", \"\\uc815\\ud654\", \"\\ub2e4\\ud76c\", \"\\uc81c\\ub300\", \"\\uc218\\uc544\", \"\\uc2dc\\ud604\", \"\\ud6c4\\uc784\", \"\\uae30\", \"\\uc544\\ub2c8\", \"\\ub098\\uc624\", \"\\uc120\", \"\\ub54c\\ub9ac\", \"\\uad70\\ub300\", \"\\ubcf4\\uc774\", \"\\uc0dd\\uac01\", \"\\uc7a5\\ud604\", \"\\uc0ac\\ub78c\", \"\\ubaa8\\ub974\", \"\\uc800\\ub807\", \"\\uadf8\\ub9bc\", \"\\uac00\\uc9c0\", \"\\uc6b0\\uc131\", \"\\ud754\\ub4e4\\ub9ac\", \"\\ube68\\uac1c\\uc9c0\", \"\\ud68c\\uc218\", \"\\ub9e4\\uc810\", \"\\ubc84\\ub9bc\", \"\\ud55c\\uacb0\\uac19\", \"\\ud328\\ub529\", \"\\ub9c8\\uc9c0\\ub9c9\\ubca0\\ub313\", \"\\uc544\\uc601\", \"\\ucc3d\\ubb38\", \"\\ub300\\ub450\", \"\\uc0dd\", \"\\uce58\\ub9c8\", \"\\ubc24\\uc0c8\", \"\\ubb34\\uc2ec\", \"\\uae38\\uc774\", \"\\ub3d9\\uc6d0\", \"\\uc81c\\ub85c\", \"\\ud0c8\", \"\\uac1c\\uca4c\", \"\\uc561\", \"\\uc6b0\\uc720\", \"\\uccab\\uc0ac\\ub791\", \"\\uc720\\ub098\", \"\\uc55e\\ub4a4\", \"\\ub2a5\\ub825\\uc790\", \"\\uc544\\uc601\\uc774\", \"\\ub538\\uae30\", \"\\ud074\\ub77c\", \"\\uc804\\ud559\", \"\\ud0dc\\uc5b4\\ub098\", \"\\uc8fc\\ud589\", \"\\uc88b\\uc544\\ud558\", \"\\uc601\\uc774\", \"\\ub2e4\\ub2c8\", \"\\uadf8\\uac83\", \"\\uc5bc\\uad74\", \"\\ubc18\\uc7a5\", \"\\uace0\\ubc31\", \"\\uc598\\uae30\", \"\\uc791\\uac00\", \"\\uc544\\ub2c8\", \"\\uac74\\uac15\", \"\\uacfc\\uac70\", \"\\ubca0\\ub313\", \"\\ub313\", \"\\ucc98\\uc74c\", \"\\uce5c\\uad6c\", \"\\uadf8\\ub807\", \"\\ub0a8\\uc790\", \"\\uc774\\ub8e8\", \"\\uba38\\ub9ac\", \"\\uace0\\ud6a8\\uc6d0\", \"\\ubd95\", \"\\ud6a8\\uc6d0\\uc774\", \"\\ub0b4\\uce58\", \"\\uc704\\ubc18\", \"\\uac08\\uc544\\ud0c0\", \"\\ud6a8\\uc6d0\", \"\\ub9c9\\ud310\", \"\\uc815\\uc218\\uc544\", \"\\ud798\\ub4dc\", \"\\ubb38\\uc18c\\uc911\", \"\\ub4dc\\ub7ec\\ub0b4\", \"\\uc874\\ub098\", \"\\ud76c\\ub9b0\", \"\\uc5b4\\ud544\", \"\\ubd80\\uc5ec\", \"\\ud3b8\\ub4e4\", \"\\uc2a4\\ud06c\", \"\\uc18d\\uc0c1\\ud558\", \"\\uad70\\uae30\", \"\\uc18d\\ub9c8\\uc74c\", \"\\uc804\\uc124\", \"\\uadfc\\uac70\", \"\\uc8fc\\ud76c\\ub9b0\", \"\\ubab0\\ub9ac\", \"\\uc778\\uc815\\ubc1b\", \"\\ub2e4\\uac00\\uc624\", \"\\uce90\\ub9ad\", \"\\ub4a4\\ud1b5\\uc218\", \"\\ub354\", \"\\ud76c\\ub9dd\", \"\\uc9c0\\uc601\", \"\\ud6c4\\uc784\", \"\\ud3b8\\ud558\", \"\\ud3c9\\uc18c\", \"\\ud638\\uac10\", \"\\ub77c\\uc778\", \"\\uc0dd\\uac01\", \"\\uc218\\uc544\", \"\\uc0c1\\ud669\", \"\\uc0dd\\ud65c\", \"\\uc655\", \"\\uc8fc\\ud76c\", \"\\uc815\\uc0c1\", \"\\uc774\\uc720\", \"\\uce5c\\uad6c\", \"\\uae38\", \"\\ub9c8\\uc74c\", \"\\uc18d\", \"\\uc0ac\\uc774\", \"\\uc544\\ub2c8\", \"\\uc0ac\\ub78c\", \"\\uc801\", \"\\uc911\\uc218\", \"\\ub4e4\\uc5b4\\uac00\", \"\\uc2f8\\uc6b0\", \"\\uc791\\uac00\", \"\\ud3b8\\uc9c0\", \"\\ub3d9\\uac11\", \"\\ud729\\uc4f8\\ub9ac\", \"\\ucc2c\\uc591\", \"\\uc624\\ub9ac\", \"\\ub208\\uae54\", \"\\ubca0\\ud504\", \"\\uad6c\\uae30\", \"\\uadf8\\ub9bc\\uc790\", \"\\uad6c\\ubcc4\", \"\\uae40\\uc218\", \"\\ud53c\\uace4\", \"\\ubbf8\\uc815\", \"\\uadf9\\ud610\\uc774\", \"\\uac1c\\uadf9\", \"\\uc218\\ube48\", \"\\ucc0c\\ub4e4\", \"\\ub9c8\\ub77c\", \"\\ud53c\\uc790\", \"\\ub0b4\\ubc49\", \"\\uc9c4\\ud558\", \"\\uc778\\ud615\", \"\\ud131\", \"\\uc2b9\\ud558\", \"\\ub0a0\\uac1c\", \"\\uc131\\uc7ac\", \"\\uc5f0\\uc8fc\", \"\\uc0c1\\ub0a8\\uc790\", \"\\ubd80\\uc2dc\", \"\\uc21c\\ud558\", \"\\ud601\\uc9c4\", \"\\ubfd4\", \"\\uc18c\\ubb38\", \"\\ub3d9\\uae4c\", \"\\ud601\\uc9c4\\uc774\", \"\\ucc9c\\uc0ac\", \"\\uc678\\ubaa8\", \"\\ub3c4\\uc911\", \"\\uc545\\ub9c8\", \"\\ub098\\ub9ac\", \"\\ud638\\uac10\", \"\\ud558\\ub9b0\", \"\\ubc15\\ud788\", \"\\ub9c8\\ub835\", \"\\uc720\\ub098\", \"\\uc5b4\\uae68\", \"\\ucee4\\ud50c\", \"\\uc624\\ube60\", \"\\uba38\\ub9ac\", \"\\uc544\\ub2c8\", \"\\uc774\\ub984\", \"\\uc0dd\\uac01\", \"\\uc5ec\\uc790\", \"\\uc0ac\\ub78c\", \"\\uc4f0\\ub808\\uae30\", \"\\uba4b\\uc9c0\", \"\\ubaa8\\ub974\", \"\\uce5c\\uad6c\", \"\\uc131\\uaca9\", \"\\uc791\\uac00\", \"\\uadf8\\ub7ec\", \"\\ub098\\uc624\", \"\\uc138\\uc6d4\\ud638\", \"\\uc218\\uc815\\uc774\", \"\\uc815\\ubd80\", \"\\uc0ac\\uc774\\ube44\", \"\\ud3d0\\uc9c0\", \"\\ud2f0\\ube44\", \"\\ubb34\\uc11c\\uc6c0\", \"\\ub098\\uc653\", \"\\uc7ac\\uc5f4\\uc774\", \"\\uc885\\uad50\", \"\\uc544\\uc8fc\\uba38\\ub2c8\", \"\\ubc15\\uc2a4\", \"\\ub3d9\\uacbd\", \"\\uc548\\ub418\", \"\\uc624\\ub798\\uac00\", \"\\uc704\\ud574\", \"\\uac74\\ubb3c\\uc8fc\", \"\\uc624\\ub984\", \"\\ub9e1\\uae30\", \"\\uacf0\", \"\\uac15\\ub0a8\", \"\\ubc15\\ud0dc\\uc900\", \"\\uac15\\uc544\\uc9c0\", \"\\uc9e0\\ud558\", \"\\uc544\\ub4e4\", \"\\uc815\\uccb4\", \"\\uc2dc\\ubbfc\", \"\\ubaa8\\ub974\\uac9f\", \"\\ub274\\uc2a4\", \"\\ubaa8\\uc2dc\", \"\\ubc1d\\ud788\", \"\\uc5c4\\ub9c8\", \"\\uc11d\\uc774\", \"\\ud615\\uc11d\", \"\\ubbf8\\ud654\", \"\\uc218\\uc815\", \"\\ud558\\ub298\", \"\\uc9c4\\uc131\", \"\\uc77c\\uc9c4\", \"\\uc791\\uac00\", \"\\uad00\\uc2ec\", \"\\uc5b4\\uba38\\ub2c8\", \"\\uc0ac\\ub78c\", \"\\ub9cc\\ud654\", \"\\ub098\\uc624\", \"\\uc5bc\\uad74\", \"\\ub2f9\\ud558\", \"\\ubca0\\ub313\", \"\\uae30\\uc548\", \"\\ubab8\", \"\\uc88b\\uc544\\ud558\", \"\\uc544\\ub2c8\", \"\\uac00\\uc9c0\", \"\\uc131\\uc544\", \"\\ud0dc\\uc591\", \"\\uad50\\uc218\", \"\\uc900\\uc6b0\", \"\\ud558\\ubbfc\", \"\\uae30\\uc790\", \"\\ud55c\\uc194\", \"\\uc720\\ub9bc\", \"\\uc774\\ud0dc\\uc591\", \"\\ub0a8\\ubd09\\uc774\", \"\\uc2dc\\uc98c\", \"\\ucd5c\\uc900\\uc6b0\", \"\\ud558\\ubbfc\\uc774\", \"\\uc131\\uc6b1\", \"\\ub79c\\ucc57\", \"\\uc120\\uc9c0\", \"\\ud559\", \"\\ub79c\", \"\\uc9c0\\uc7a1\\ub300\", \"\\ud55c\\uc2e0\", \"\\ucc57\", \"\\uc9c1\\uc5c5\", \"\\uce58\\ub8cc\", \"\\ub9ac\\ub77c\", \"\\uc774\\uc720\\ub9ac\", \"\\ub0b4\\uba74\", \"\\uc804\\uad50\", \"\\uc131\\ud604\\uc774\", \"\\uc704\\uce58\", \"\\ubc29\\uad00\", \"\\uacf5\\ubd80\", \"\\ubb38\\uc131\\ud604\", \"\\ubbfc\\uc774\", \"\\ucd5c\\uc900\", \"\\ub300\\ud559\", \"\\uc878\\uc5c5\", \"\\ud610\\uc624\", \"\\uc758\\uc9c0\", \"\\ubbf8\\ub798\", \"\\uc815\\ubcf4\", \"\\ucc28\\ubcc4\", \"\\ubd09\\uc9c0\", \"\\ubabb\\uc0dd\\uae30\", \"\\ub9e4\\ub2c8\", \"\\uac10\\uc815\", \"\\ub124\\uc774\\ubc84\", \"\\uc131\\uc7a5\", \"\\ud559\\uc0dd\", \"\\ud559\\uad50\", \"\\uac00\\ub2a5\", \"\\ub3c4\\uc640\\uc8fc\", \"\\uc791\\ud488\", \"\\ud45c\\ud604\", \"\\uc2dc\\uc808\", \"\\uc0ac\\ub78c\", \"\\ub0b4\\uc6a9\", \"\\uc544\\ub2c8\", \"\\ubc18\\uc7a5\", \"\\ubd80\\ubd84\", \"\\ubaa8\\ub974\", \"\\uc6f9\\ud230\", \"\\ub313\\uae00\", \"\\ud798\\ub4e4\", \"\\uc5b4\\ub5bb\", \"\\uc774\\uc57c\\uae30\", \"\\uc0dd\\uac01\", \"\\uadf8\\ub807\", \"\\uc791\\uac00\", \"\\uc9d1\", \"\\ub098\\uc624\", \"\\ubcf4\\uc774\", \"\\ub098\\ub9ac\", \"\\ud604\\uc2e4\", \"\\ub290\\ub07c\", \"\\ub9cc\\ud654\", \"\\uc5ec\\uc790\", \"\\ub0a8\\uc790\", \"\\uc815\\ub3c4\", \"\\ub9cc\\ub4e4\", \"\\uc800\\ub807\", \"\\uce5c\\uad6c\", \"\\uc2a4\\ud1a0\\ub9ac\", \"\\uadf8\\ub7ec\", \"\\ub9c8\\uc74c\", \"\\ub208\\ub3d9\\uc790\", \"\\ubca0\\uc774\", \"\\ubc15\\ub825\", \"\\uc5ec\\ub9ac\", \"\\ubf40\\ubf40\", \"\\ud0a4\\uc2a4\", \"\\ube44\\uce58\", \"\\uc77c\\ud3b8\\ub2e8\\uc2ec\", \"\\uc9c0\\uce58\", \"\\ub180\\ub798\", \"\\uc5ec\\ud589\", \"\\ubbff\\uc74c\", \"\\uc720\\ub3c4\", \"\\uce7c\\uc5c5\\ub383\", \"\\ubc15\\uc138\\uc900\", \"\\ud558\\ub9b0\", \"\\ubc14\\ub77c\\ubcf4\", \"\\uac1c\\uc120\", \"\\ub3d9\\uae4c\", \"\\ub17c\\ub780\", \"\\uc591\\ubc18\", \"\\ubc18\\uc751\", \"\\ub5a0\\ub098\", \"\\uc9c0\\uc801\", \"\\uc695\\uba39\", \"\\ud3c9\\uc18c\", \"\\uc138\\uacc4\", \"\\uc6b0\\uc815\", \"\\uc81c\\uc678\", \"\\uac00\\ubccd\", \"\\uc774\\uc058\", \"\\ubcf4\\uc774\", \"\\uc7a5\\uba74\", \"\\uc544\\ub2c8\", \"\\ubaa8\\uc2b5\", \"\\uc0c1\\ud669\", \"\\ub9c8\\uc9c0\\ub9c9\", \"\\ub300\\ud558\", \"\\uc0ac\\ub78c\", \"\\uadf8\\ub7ec\", \"\\ub098\\uc624\", \"\\uc0dd\\uac01\", \"\\uc124\\ub808\", \"\\uc0ac\\ub791\", \"\\uc548\", \"\\uc5b4\\ub9b0\\uc774\", \"\\ubb34\", \"\\uc219\\uc774\", \"\\ub450\\uce58\", \"\\uc0bc\\ucd0c\", \"\\ucd08\\uc2ec\", \"\\ucc22\\uc5b4\\uc9c0\", \"\\uc0dd\\uc2e0\", \"\\ub514\\ud14c\\uc77c\", \"\\ub04c\\ub9ac\", \"\\ud2b9\\uc9d1\", \"\\ub9cc\\uc6b0\\uc808\", \"\\ub2ec\\ub77c\\uc9c0\", \"\\uc5f0\\ub839\", \"\\uc120\\ubb3c\", \"\\ub2e4\\uc9d0\", \"\\ud305\", \"\\ubca0\\ub383\\ub2d8\", \"\\ud45c\\uc2dc\", \"\\ubc43\\uc9c0\", \"\\uad6c\\uc6d0\", \"\\uc870\\uc2b9\", \"\\ud5e4\\uc5b4\", \"\\uc6d4\\uc138\", \"\\ubd88\\ub7ec\\ub0b4\", \"\\ucf00\\ub9ad\\ud130\", \"\\ubbf8\\uc8fc\", \"\\uc5ec\\uc720\", \"\\ucd95\\ud558\", \"\\ubc29\\ud669\", \"\\uc544\\ube60\", \"\\uac00\\uc815\", \"\\uae30\\uc548\", \"\\uc808\", \"\\ub9d0\\ub9ac\", \"\\ube60\\ub974\", \"\\ucc28\\ub9ac\", \"\\ucc3d\\uc8fc\", \"\\ud3ed\\ub825\", \"\\uc6d0\\ud638\", \"\\uadf8\\ub9ac\", \"\\uc815\\uc2e0\", \"\\ubd80\\ubaa8\", \"\\uc62c\\ub9ac\", \"\\uc0c1\\ud0dc\", \"\\uc544\\ubb34\", \"\\ub208\\uce58\", \"\\uc695\", \"\\ud654\", \"\\ub098\\uc624\", \"\\uc544\\ub2c8\", \"\\uc791\\uac00\", \"\\uc774\\ub807\", \"\\ub9c8\\uc9c0\\ub9c9\", \"\\ubb38\\uc81c\", \"\\uc9c4\\uc2ec\", \"\\uc120\\uc0dd\", \"\\uce5c\\uad6c\", \"\\uc598\\uae30\", \"\\uc0dd\\uac01\", \"\\ubcf4\\uc774\", \"\\ub208\", \"\\ub3c4\\ud654\", \"\\uc815\\ub3d9\", \"\\ud53c\\uce74\\uce04\", \"\\uc5f0\\ud76c\", \"\\ub0a8\\uc544\", \"\\ube44\\ud0a4\\ub2c8\", \"\\uc784\\uc7ac\", \"\\ucc59\\uc9f1\", \"\\uc720\\uc774\\uac74\", \"\\uc774\\ubbfc\\uc9c0\", \"\\ubc31\\ub3c4\\ud654\", \"\\ub3d9\\ud601\", \"\\uc81c\\uc791\", \"\\uc6d0\\uc22d\\uc774\", \"\\uadfc\\ud669\", \"\\ub290\\uadf8\", \"\\uc774\\uc7ac\\ud638\", \"\\uc7a5\\uc548\", \"\\ub3c4\\ubd09\\uc0b0\", \"\\ud658\\uc7a5\", \"\\uc634\", \"\\ud070\\uc624\\ube60\", \"\\ubbf8\\uad70\", \"\\ucd08\\ub300\", \"\\uc8fc\\uc791\", \"\\uc778\\ucc9c\", \"\\uac00\\ud558\", \"\\uad50\\uc7a5\", \"\\uc2e0\\ubc1c\", \"\\ub194\", \"\\ud0dc\\uc131\\uc774\", \"\\uc815\\ub3d9\\ud601\", \"\\ud0dc\\uc131\", \"\\ud558\\ub9ac\", \"\\uad6c\\ud558\\ub9b0\", \"\\ud504\\ub85c\\uac8c\\uc774\\uba38\", \"\\ubc14\\ub2e4\", \"\\ubbfc\\uc9c0\", \"\\ud558\\ub298\", \"\\ud504\\ub9ac\\ub4dc\\ub85c\\uc6b0\", \"\\uc7ac\\ud638\", \"\\uc608\\uc0c1\", \"\\ud558\\ub9b0\", \"\\uc77c\\uc9c4\", \"\\ub3d9\\uae4c\", \"\\uc637\", \"\\uc6f9\\ud230\", \"\\uc544\\ub2c8\", \"\\uc791\\uac00\", \"\\uadf8\\ub9ac\", \"\\uc774\\uae30\", \"\\ubcf4\\uc774\", \"\\ud654\", \"\\ub098\\uc624\", \"\\uadf8\\ub807\"], \"Freq\": [5819.0, 1841.0, 4443.0, 3319.0, 3526.0, 2659.0, 1697.0, 2748.0, 625.0, 1266.0, 894.0, 855.0, 874.0, 669.0, 633.0, 748.0, 949.0, 521.0, 986.0, 681.0, 948.0, 619.0, 1891.0, 1614.0, 620.0, 697.0, 715.0, 462.0, 467.0, 946.0, 102.57135652246559, 33.49630900465533, 431.9571076554352, 37.45218757232253, 20.69284739452432, 12.065633391610838, 8.857701603769762, 12.557328436743939, 21.177009229646654, 31.478135832947938, 45.538741268945834, 99.2721753011631, 41.50260267158234, 53.1408263426734, 24.55440683925723, 41.88823248710249, 39.10464797726359, 353.1106207424981, 10.63172545609725, 14.579314714753076, 13.653908721486573, 14.356619402558737, 154.88342589092844, 280.83232961299825, 19.6253116987073, 6.733149771633683, 103.03583804270649, 14.268979556738373, 17.667567263579826, 3.3777940784555396, 10.863939644048347, 121.49240306819374, 183.71740863357306, 38.527193671204586, 22.897902633271425, 108.09794259259043, 75.54131970657556, 168.11912007031626, 54.98268833943892, 27.712970556010397, 78.20905438935127, 58.92000262333739, 182.07045591464276, 39.89559758579237, 94.3364093382804, 82.36414934194018, 98.11781262634265, 149.66253571961494, 113.75400759700334, 64.78651920900361, 58.72910332742229, 47.82100073791396, 53.02421800095784, 55.545240489796, 51.40859145403962, 51.68090787684364, 53.01977320172108, 52.10654088549459, 52.1863358774016, 56.15636776718551, 52.23465572979212, 50.98272651633116, 51.98712140374991, 50.84402656792295, 52.219338713354574, 54.07119808208045, 96.58492760874186, 104.62272036946668, 51.86725250721133, 48.10043780872098, 184.27148189415752, 39.79076987142915, 2.781793169630124, 4.746443936249638, 2.7830682664837663, 33.134985321529385, 106.66156223500579, 1.985177051479238, 2.8873389677942636, 64.1655185278598, 1.7034985041033726, 1.6751069070553823, 3.3141205761107955, 31.54231404390925, 111.96251079710316, 1.6438324113796192, 230.88419945800402, 1.515998297916662, 59.200831821265616, 103.63890982123505, 78.55698578168688, 97.0935823723376, 57.9797045086144, 56.983356090863396, 36.45611065351344, 52.08028064668577, 43.03660083912307, 96.95801222831105, 156.97857301768042, 94.79256063605736, 118.90980361112736, 70.11088597830394, 77.85411900889214, 128.17398727685443, 249.55091981080142, 111.13885371932852, 195.53559936856945, 111.50176927245622, 71.12647952216338, 61.244676151257416, 105.96976728510111, 61.22394259612838, 60.16907168595845, 65.97814156465921, 67.78944404037269, 67.41850813036707, 71.95194957363229, 68.91046610799192, 67.0672761854913, 67.61836796296754, 66.23474075917272, 400.58866046078555, 48.385405542903584, 34.11652303426411, 22.842186102129727, 41.20901154527299, 17.31264746245773, 35.1849601312054, 28.36503436402449, 27.04309398287839, 28.207664809545733, 25.153429409130574, 22.70568433371175, 16.313593335182514, 14.209410931023598, 25.465128121437907, 137.25977757659842, 137.34853823693732, 30.797624760807928, 35.48847299482305, 11.407509100684754, 10.01867139239564, 30.759342425617188, 24.887278590911386, 50.3626180586659, 13.334270168921348, 12.623963414601306, 448.0761985991583, 10.838910847801355, 86.84844436481629, 20.060964989599494, 164.81074251222404, 241.03808798105607, 124.3884583275963, 81.86538476986621, 51.02098649538696, 111.38048894570035, 52.62838012808224, 270.67123007379826, 233.52886730967217, 106.04709136842621, 53.96906603822142, 104.32829106583077, 96.94193338213495, 78.53357448659085, 67.1050804134115, 92.78167306735156, 61.2054465887138, 79.47325057037628, 231.41385214856587, 137.62367048147036, 136.6596368211268, 148.4219466645652, 170.53984749849738, 73.24767074326937, 265.98435757769414, 98.88949020440418, 98.38547242760966, 123.6261573502226, 176.47886456580088, 100.94020549179986, 100.64713189673708, 92.30125599326729, 83.45441561091192, 82.20547915272672, 69.95918652853497, 34.99082350140933, 34.79564752568017, 37.80597775465648, 34.390321924699364, 35.13066075056077, 68.17830384127517, 36.74715772214649, 34.9529956260787, 74.69872926232638, 34.2910632657538, 38.09863496167494, 112.2326718528345, 34.039730558519274, 34.19253110609988, 75.20992965702322, 35.826294913903446, 34.48221853929638, 2.06916027509908, 68.47779901490887, 1.8780223321693699, 139.50876055568884, 1.519510875906224, 40.50472297445873, 114.36059382385992, 108.92165410405879, 2.0185732559589242, 462.4074156452432, 1.2655518009438305, 1.135100551765338, 2.3853323508884356, 40.92749010423514, 35.16881028206633, 37.44577552380142, 43.76732869600987, 71.42028197416008, 34.98560768015901, 68.90048295774349, 96.83433635513897, 104.88648848119236, 81.54614036837532, 141.25594143993087, 75.64490862985461, 89.36109879440068, 68.92790137375796, 77.90996704732129, 50.5171781567258, 77.10061910744776, 70.86835325276213, 74.35288787052258, 80.05416038416111, 83.06042554458189, 42.34131318373822, 45.61113398604074, 48.76378598083, 43.47669570457501, 887.9898091935153, 742.8780912356164, 437.04031730932076, 862.9359262709695, 35.97217133451156, 128.54359006241953, 209.90908891963593, 20.095548358193906, 18.45733648807995, 24.93108789087171, 248.47320936976627, 21.713568894818362, 247.73794115945637, 106.53648940842226, 12.556178596388861, 15.448975188679338, 11.61443262367246, 47.38083039499893, 9.102132300222927, 1734.5749126868825, 105.20573536348526, 18.041996979856297, 6.692035614935201, 80.36474052183979, 8.846835517374357, 14.393556020714948, 5.845574698495224, 22.081224055763993, 15.018898966516709, 21.657799123921812, 77.89936010349022, 548.3054413221082, 393.2485774483861, 34.51750162193018, 195.45893961265588, 38.495520684116876, 54.94839386051546, 35.12767504031801, 146.9170133758358, 227.90323661518727, 74.27284173173817, 425.0023193818683, 893.097101779219, 94.67397511950526, 137.4979814829682, 266.699101776532, 135.23993977491043, 141.21760388201278, 116.76603822840138, 270.2126862452419, 278.3235639751618, 192.59065430024137, 376.0671645565638, 203.72340295881108, 195.61905720306447, 133.45220020733038, 204.17815188857816, 268.4894054715096, 249.39352522664188, 156.45258205148298, 151.30093193342768, 143.43346850181973, 49.75456328968703, 58.50184152766525, 22.05588751927413, 99.72373229020468, 96.11887628057345, 27.20635979013463, 17.957431895824996, 16.33079689686413, 122.475735897747, 12.930596413472811, 12.843892434448973, 22.16506925785155, 12.669696884213732, 40.53847940685985, 64.62516629546468, 124.15577329141021, 19.176576010369324, 9.12882008570601, 40.49181507591128, 14.016629349684376, 9.816232166739395, 11.277841294173196, 8.990589558154076, 14.481583081585153, 17.645324701764146, 7.126193840514035, 45.07638717506716, 18.04207274775596, 243.9225565024788, 13.153721887607482, 28.262431828681457, 34.8528777253914, 337.58256592415796, 83.9673775995936, 25.97914943580815, 54.76961829609231, 110.26639677045777, 64.33583448576866, 52.372458981394885, 79.81881167629298, 83.39162138992222, 69.4802408795239, 40.169825523322146, 60.49395979482776, 45.567180612093374, 55.22223072161956, 163.23058246840196, 110.65726115861652, 88.54087886563481, 44.41749443478965, 75.69692265444058, 56.94822786504554, 96.8168975725653, 50.72229340041891, 158.8096351770359, 76.25947809017129, 73.71397204132766, 82.9782994887957, 248.90546802927028, 158.2195686805221, 85.66784784764474, 83.98463578932831, 77.95958389967804, 103.63155011109154, 114.2513378859686, 75.22991490641053, 100.67064891073562, 88.46338303383217, 84.80288130779212, 76.36864768079722, 78.64229877280614, 177.25877439878226, 45.26200920520735, 46.22757962001648, 23.44197750086469, 22.94584673334151, 22.67905387894052, 23.021456476124314, 22.76910499639076, 22.652659359174507, 601.772959043761, 23.034048115833336, 92.47296111265013, 22.64214392276399, 45.0077276307818, 22.505319057111738, 22.402670455608213, 23.72555531198154, 443.50339424208573, 22.168334167057328, 22.652128984932876, 19.28118865309814, 22.45645157257844, 24.41934618564949, 23.016896426515142, 460.4108016588857, 22.937096288897635, 15.445805588320097, 1.2436991967640723, 24.524621819898062, 23.125516486766724, 70.97550506758787, 45.13169786123331, 37.303067226687546, 265.52688761337276, 68.64062524777296, 92.38433747628548, 55.13363849634322, 71.29865639477792, 73.14783029614414, 48.721235662525686, 71.17810510571874, 113.30270082596218, 126.0481519872296, 36.28611625931315, 46.36305151997245, 51.05262640881713, 46.247178628493714, 46.17190639659195, 52.77467413383122, 46.81464107880109, 39.076518881643935, 27.668119267237046, 32.489565939973296, 32.528394731543465, 11.151277977988606, 75.80477486366762, 11.252095057863505, 11.260918872015042, 11.453999693291074, 43.817477035118465, 10.747780421255381, 151.06476562227624, 10.483196989414207, 10.087394041200206, 11.705806484819908, 11.165679898158412, 10.504907817360944, 11.131052946926491, 11.022514574833217, 10.99267249601749, 10.333782828905683, 11.407354161381823, 10.618043063080929, 11.280465894539601, 21.344737297528823, 10.932772443001985, 11.458300620436278, 10.895475908959407, 11.000265221321769, 10.940522844710346, 11.097803844887169, 10.862120072123474, 10.853821441687073, 22.10251554080406, 30.831903358412973, 29.87315804786675, 21.856875109570268, 22.25652900073013, 22.557113594309573, 21.624899158093346, 96.2804822987823, 45.15397619719292, 42.059681076080714, 29.605576338557174, 35.114780194034466, 31.69201843951938, 21.47281905346041, 30.424775605699605, 38.478990635236656, 21.761175235455553, 27.739565850502228, 21.8752237914238, 22.278751670542427, 37.73151957720675, 34.65604131557866, 21.843509002085742, 19.573512160444913, 20.37542281632741, 22.018527384826424, 22.18552852886722, 59.32854922686824, 37.505729321419466, 38.09773681327001, 154.97276808509062, 19.24098891768154, 19.00791227117514, 19.43659488441391, 20.063006017527062, 19.124193653784836, 19.865864500387648, 20.14819453554542, 19.8533404212741, 46.74523361587415, 19.503423825541688, 19.186665775305322, 21.50155473040654, 19.74971717376587, 19.28015357766652, 38.951653144785695, 19.194774131422946, 18.50342099676951, 75.68823014207945, 37.5778880036426, 64.51852273675834, 69.73599803568466, 54.80231941157475, 116.34932055944884, 18.789331951725725, 37.604922627872455, 19.28545082034056, 91.38307460327738, 150.88302050415103, 98.98852577568682, 149.1040406722599, 67.63376859389987, 73.95088078789043, 100.78582659259322, 35.10971415096403, 38.63248208676683, 220.11765726963282, 59.81768296605209, 94.08475773769608, 37.966244138334446, 33.1769517894192, 106.39305545832785, 38.95241279538389, 69.09700595122067, 61.3973296685165, 97.59128864975031, 167.27915652347025, 70.71287620654122, 124.71819214692489, 100.1413991471646, 118.6622169550933, 58.57251001574236, 58.239884611299864, 80.28389689681109, 76.3319832452658, 59.87873937509412, 66.23846106172884, 60.5309420678219, 60.01980689740907, 74.95789834806533, 51.68438600929192, 49.36343339259876, 122.04034684861148, 49.74871545189869, 50.811206553767214, 25.367265267410513, 24.936527011160106, 126.89296555629484, 49.80421273615124, 24.85597521948387, 25.937881106798653, 24.94032904967724, 24.275859010355013, 24.418443962541243, 23.707455197354268, 55.330418056866236, 24.067198750294473, 25.461249920182826, 49.309149886928004, 56.286750798348415, 78.41964023825729, 50.869165426358556, 50.37670029017487, 103.72808829121333, 75.34815274018479, 25.778152004799715, 23.91274637107093, 98.22038458607697, 25.765076471043134, 75.86662903793918, 295.7224726751762, 54.16220343740547, 106.31422316871698, 53.579317468740264, 53.83670280919042, 80.16293634353954, 59.97913330653238, 84.3455719615198, 269.27087207266646, 76.74898934828198, 57.410774046203294, 215.9791407217372, 108.81097705520328, 133.73899438194488, 81.85619905880819, 77.52173146209405, 78.84641386259798, 75.14916111512008, 65.60406684771709, 76.57020467879714, 79.26913399584932, 54.63254452847356, 452.6952114146384, 682.4599484698178, 300.7995707136115, 941.8824428711183, 203.8644843484449, 160.26210403183387, 108.45018135644084, 141.70472342409536, 171.37210068142605, 106.76867806542533, 199.86513391578134, 71.34601021307041, 89.51554091865243, 58.89794212386934, 75.6924331535591, 333.4291657681175, 70.95066454145758, 60.507229701382656, 62.10256738641997, 57.477279355270994, 54.353534874865225, 75.33543947403528, 66.31905514614854, 54.143275477948514, 46.60131615068053, 49.56360032728565, 49.54261932136184, 46.325402391590934, 62.76069900835381, 44.774385741213806, 577.6919668427211, 277.9734617348992, 302.13396064792204, 61.74284193805477, 365.2262402264098, 112.18865041780738, 126.75721960388907, 83.02156981669846, 466.60829904986787, 107.56793746120398, 90.15028145075007, 299.49473494388775, 115.51584274441136, 128.34080812985346, 397.40175913226824, 289.28559906653373, 143.3659248218149, 360.8847395759456, 688.3876111256783, 299.51722225225683, 296.8926612960963, 274.32341007401374, 377.2935303757821, 275.91998854377715, 3141.524935742801, 528.1755265472467, 3785.2536102740014, 477.0758653657267, 325.03950027354375, 1114.7433831016476, 1001.4147834177164, 657.819536491629, 612.3204201359614, 559.1752104460144, 455.10692928223034, 2051.5096671644255, 1267.427264213108, 2015.0402774020326, 510.48763477200526, 1629.5141046259014, 1077.4217223096234, 630.0163182916576, 592.8943268244434, 583.1700467267198, 681.1764766642667, 892.4879773309391, 740.4499987080012, 612.5379812701551, 610.1911722726784, 594.4219932338642, 908.6470589281233, 562.4505961807218, 551.5965177635223, 526.1056729552963, 33.22502596926227, 17.451533152940343, 17.07104517404516, 16.765599788499156, 53.576853858504364, 74.11866658531513, 16.7355208576836, 16.777690657372208, 34.5714536139129, 17.35931836619441, 34.7744490660627, 17.23347334814596, 18.26595282869283, 17.97756385678974, 16.372574052522175, 170.2486961128442, 34.746231267738786, 16.539123769448953, 135.50173337675403, 16.756241105405994, 17.441932089801753, 50.55955123732815, 51.53513092015806, 15.883844988431205, 16.739184691763082, 34.576026373162726, 34.836896553480045, 17.735414288820063, 16.35002080570627, 17.421814546031598, 53.16646548766637, 68.23236330504116, 33.532556472431175, 66.2923880471916, 33.834973189463156, 33.895540067420924, 34.88488131015127, 33.906191804774274, 51.15793563089781, 34.03782148229966, 33.896388397579905, 34.14589917737555, 17.817241359333554, 18.206879184943478, 17.627332265529084, 117.53115142508666, 118.76902473562357, 120.60781680932482, 130.7145305902528, 115.2776516650222, 131.01469984811104, 120.46982671313651, 40.14273635645499, 130.3719428262601, 126.10480309488005, 18.94257232151722, 13.722120787748377, 136.98646151936893, 7.610761251332132, 132.6682479240909, 113.85307164965582, 12.033100553336407, 5.024869234026034, 6.329842722085268, 7.392459770755822, 5.056444365979066, 5.325359592359969, 4.956244773657352, 4.801525720450859, 2.977095526614067, 5.119067269574467, 8.29207148512075, 8.210321570601657, 313.42747685569395, 7.554666131524877, 321.05927812125435, 143.95343218308366, 480.7788675677266, 126.58448640691232, 122.24303873674388, 149.8746639724259, 163.17658285578938, 29.302163682243812, 163.54248931409197, 35.359859396101676, 364.46311695306173, 179.15577555195296, 178.66443893701, 180.33271079197868, 131.4095945018284, 147.59336068881936, 146.41626829844319, 161.32263181751344, 186.6431193799794, 370.4233220293169, 416.77607509893073, 322.3853369553737, 173.61463001791975, 177.2712164608037, 163.75600828640682, 160.2555809379215, 154.4870025813139, 203.50322440986477, 165.3063085821375, 201.84493764639424, 179.9992135713354, 156.71393184366292, 80.14726583457924, 51.02003051435669, 24.00965329295744, 52.05788414060476, 14.35050208810552, 26.878385345939265, 22.103466673982517, 15.404603341482279, 34.25272272769495, 49.810678093041965, 39.16052517347607, 28.111459357356683, 16.284033293695874, 12.377557512329613, 24.29058311280061, 4.180562869766223, 19.226182569066893, 30.11303913846063, 35.04869569731584, 9.420158773070689, 4.940591063757118, 5.729356640841829, 21.93564627848382, 6.157619078836981, 16.17089117246635, 19.678832796197604, 4.627715478974748, 41.373177879517044, 41.524310148185705, 11.952171037848517, 360.3833522346883, 84.72602136118108, 240.95222494324278, 79.59827060266588, 77.2252978032576, 23.022398096321936, 39.54388161872092, 234.11199299524807, 57.18409814552268, 64.19603233586878, 32.66317819301063, 58.425144747411096, 62.59129101561135, 55.71727228639986, 52.81787963771061, 48.747095651247946, 72.85816378266418, 109.24009676575632, 90.24561885609207, 59.84569361522859, 47.97146741010168, 62.4997760673478, 50.328189857640844, 59.25554753698806, 39.30023896328834], \"Total\": [5819.0, 1841.0, 4443.0, 3319.0, 3526.0, 2659.0, 1697.0, 2748.0, 625.0, 1266.0, 894.0, 855.0, 874.0, 669.0, 633.0, 748.0, 949.0, 521.0, 986.0, 681.0, 948.0, 619.0, 1891.0, 1614.0, 620.0, 697.0, 715.0, 462.0, 467.0, 946.0, 104.32703643731233, 35.63233511304811, 462.4360281900676, 40.66561613957114, 22.559828172565567, 13.364763194977451, 9.83988193675924, 14.064000810617383, 23.875204494489388, 38.80357168933183, 56.88910922040008, 126.34517166370321, 54.23467496052322, 70.74734473028217, 32.83317803671277, 56.253281244363514, 53.12722450806544, 482.4930131119796, 14.54021831626042, 20.347030130541267, 19.31178380196379, 20.444699589165783, 221.45524391099724, 403.7432824898859, 28.2918799451611, 9.752525212216215, 152.84371118857632, 21.383233616188658, 27.245108415591027, 5.222834245820711, 16.98955947468443, 207.42727435559883, 358.53688734788193, 66.53188752716302, 39.22474051072824, 315.1086310848363, 224.4239361209163, 718.6919441124578, 158.8331155078066, 58.56528648918061, 413.5811259243909, 253.50399410289685, 3526.911545838495, 135.06979570144907, 1266.812454147523, 986.8760370254091, 1614.6006653443467, 5819.373883587137, 2659.550358753489, 917.062262016588, 789.9712051674413, 287.88355906054613, 639.2025752240532, 1359.7520436678542, 946.7832749745987, 1332.321792736141, 2748.17370999137, 4443.454730546234, 52.80543439536155, 57.01160428718566, 53.08853993071958, 51.91021525402687, 53.07229662994749, 52.57811457004882, 54.30880128029325, 57.332803241306166, 102.61302021432496, 111.57515006846616, 57.43783050292469, 53.60863185948301, 213.02513776223597, 46.810281050690776, 3.3451147444701954, 5.7549179132922825, 3.4285747403328646, 40.84698169161877, 131.51661390857998, 2.530736827289552, 3.792454387553888, 84.64920931882759, 2.2607020940154667, 2.229241644748866, 4.4762190999250855, 42.6977610810607, 152.21602352638587, 2.295677019269677, 331.38906597931503, 2.252247656710605, 88.61540040297099, 160.37735754540293, 135.06979570144907, 192.89725926564847, 112.15364871450662, 111.07891758788114, 67.75066997974729, 115.13693064417528, 92.18098558327556, 254.0786303023077, 495.6341554041194, 287.88355906054613, 433.45580092023334, 190.91491710006883, 254.74876222970224, 765.972914720812, 3526.911545838495, 619.6475979359575, 2659.550358753489, 779.886705319694, 339.4706299605609, 151.72705975247027, 4443.454730546234, 152.79633200114927, 145.58278563491913, 335.02210298580343, 438.8056423583829, 556.6507246630612, 1614.6006653443467, 1021.2701869143102, 702.0354998403625, 855.5854868832218, 597.5073271981457, 407.27971449122487, 49.22324767434959, 34.7990540324373, 23.34973373426625, 42.17891278087727, 17.792349565417116, 36.184904635622104, 29.206406192190446, 27.86464421393721, 29.069127224020303, 25.967236519753744, 23.440734165394435, 16.869805244034076, 14.70967921037387, 26.37622805718664, 142.2461473573806, 142.5475829930811, 32.02353117386324, 37.10523735234908, 11.932043970932119, 10.505652250750323, 32.60528842195827, 26.460511475550412, 53.78596134001083, 14.279768669580669, 13.591915434529355, 482.5529870611995, 11.708975193555359, 94.32969726252988, 22.041413258197334, 183.41603654671295, 269.9649722108542, 139.88584975330144, 92.63282206086559, 57.278266987889445, 130.4380149042592, 60.82482537869728, 370.237403200843, 322.1091759569748, 135.16179904948206, 63.27110640401777, 156.9039677511359, 148.22796586155957, 114.37178775160943, 95.32195209741087, 158.8331155078066, 90.73744461118535, 142.4222726292859, 818.2832694683636, 358.53688734788193, 365.59289323845337, 459.62798141241205, 675.86049529355, 146.36228974904148, 5819.373883587137, 403.7432824898859, 427.5267027981073, 917.062262016588, 4443.454730546234, 1614.6006653443467, 2748.17370999137, 2659.550358753489, 690.62706808958, 3319.7410281601688, 70.55648317433236, 35.5587731643903, 35.36457403162662, 38.60842785102812, 35.22806483740411, 36.03950338446541, 71.43377258414667, 38.64102699303159, 37.28943110676756, 84.64575740434557, 39.73066003472991, 44.55928861470035, 132.15280065366304, 40.09847001348222, 40.64078312663563, 90.54190788488009, 45.20510461289801, 43.64744940125754, 2.6250022616955455, 87.43679166624406, 2.4301387845433235, 184.86760159391932, 2.0639221781783275, 56.95468442822909, 162.16113326084283, 154.93546470193206, 2.894755481927071, 669.0140696095699, 1.8454207298303937, 1.6823598051929998, 3.561177090948735, 65.74449586731448, 57.38526176359662, 61.95617979959677, 77.20309976260937, 142.57591422028773, 64.49838303581933, 146.33999543606413, 290.90368236029144, 424.24163076905313, 265.5079508505098, 949.0752844323952, 253.2995661753577, 371.9295255223001, 224.0737068677933, 489.0165132020279, 134.0183871748388, 715.300858375766, 565.7863923073888, 971.6425205374996, 3319.7410281601688, 4443.454730546234, 91.17940125030555, 172.84543580329256, 482.4930131119796, 5819.373883587137, 894.6223470121472, 748.6135878419145, 440.4727559820202, 874.2442505639616, 36.64181251596995, 131.22686253131513, 214.88094734127873, 20.618362414412687, 19.015998989111097, 25.70006159679935, 256.63829027738996, 22.456983510915197, 257.03578296719536, 110.9382613733836, 13.094576946655351, 16.132099261141157, 12.179772266390398, 49.9502040319467, 9.626857672519266, 1841.806643171243, 111.80753139133765, 19.29484142097926, 7.213334019597747, 86.97676136302388, 9.674274005883458, 15.848043078188349, 6.501400068365321, 24.97401610951046, 17.016275128465093, 24.58057659267617, 92.24393024315064, 697.970376249396, 519.1628353730595, 40.940166186916045, 259.5566072401636, 46.36924038271141, 69.08256302574969, 42.35509727977965, 223.30755544050157, 413.5811259243909, 107.85203687836602, 986.8760370254091, 2659.550358753489, 153.7283359071096, 261.1938696023905, 718.6919441124578, 341.31818702391735, 367.7736450089792, 301.30313077657274, 1332.321792736141, 1614.6006653443467, 818.2832694683636, 3319.7410281601688, 946.7832749745987, 1266.812454147523, 425.26771178783684, 1891.382023694842, 5819.373883587137, 4443.454730546234, 832.9972939445587, 729.9836716003687, 812.0822702279502, 50.46317936758872, 59.4449902560336, 22.53883148102142, 101.93633797149636, 98.39485654655769, 27.950792212801733, 18.465807977726516, 16.7995244749189, 126.29318681911802, 13.386643460840137, 13.303124987242334, 22.990380567609755, 13.154709853041066, 42.239876867625064, 67.49095592468436, 129.8570479685347, 20.131858825500657, 9.589302750573642, 42.53633190697796, 14.73741707948863, 10.330807899952953, 11.882801555376439, 9.484900709461813, 15.353667701940674, 18.72636216538832, 7.614289652682359, 48.213326393042315, 19.347189255864674, 261.8054978492781, 14.136004866825587, 30.56993505632656, 37.81986574181129, 381.9626708040725, 92.65961846928019, 28.286777023888554, 61.59238363014, 127.70044050995192, 73.55627626035701, 59.393216035423116, 93.75551259166112, 99.4834456365996, 81.76347899006124, 45.734008487054425, 74.4113801573999, 55.90775249533046, 71.34547207555502, 265.5079508505098, 172.84543580329256, 133.62816313534708, 55.291728799172695, 115.30268575071185, 78.39994186767788, 218.0977310817242, 70.79383546747977, 669.0140696095699, 162.6240058689592, 187.08172033063252, 270.8146534780474, 5819.373883587137, 2748.17370999137, 364.80200884747114, 477.1835079491223, 371.9295255223001, 1697.8411801114155, 3319.7410281601688, 322.1091759569748, 4443.454730546234, 1521.7697186597813, 1006.1359252392797, 378.38313822830014, 747.1368705371195, 178.08925834467058, 45.81705167665462, 46.912884754823025, 23.989268706128982, 23.490216515475765, 23.296573347915366, 23.72328611512232, 23.48633593830645, 23.447937138765933, 625.9405956722644, 24.374769161800796, 98.02317855996516, 24.16813783992868, 49.948402495115324, 25.516623147779324, 25.56821048860673, 27.376728184334244, 521.2959999226028, 26.106630910302147, 26.970529424824466, 24.547494646174965, 28.92632458370835, 32.37961307118781, 31.146476122253233, 633.2985424626205, 32.51923874691265, 21.97523025819618, 1.8074049735350406, 35.655272698949496, 34.74217757728068, 112.51051660876699, 73.40224067119523, 67.02883795954935, 1266.812454147523, 261.1938696023905, 652.0066216700164, 258.8373947809801, 507.1624322777582, 569.0119078001378, 216.08424248494845, 832.9972939445587, 3526.911545838495, 5819.373883587137, 123.03821785556812, 484.32047943457405, 789.9712051674413, 551.6146598904757, 556.6507246630612, 2659.550358753489, 1891.382023694842, 1332.321792736141, 111.38358017510603, 917.062262016588, 33.111382814719796, 11.707877118850382, 79.6252554630814, 11.945207742477061, 12.289689033323786, 13.175531236087823, 51.10437262247969, 13.043962760400346, 185.92144398634818, 13.269775954423302, 13.720697187479558, 17.556653329003232, 17.500492779507994, 16.492589297966028, 20.207564087120243, 21.639267130846143, 21.864921007012722, 21.020341965065533, 23.586137111903476, 25.824993195003334, 28.785610543652655, 55.95659478323597, 31.611968460255827, 34.62051398926283, 35.36586452685242, 35.91126110638454, 37.085549316451015, 38.61547186728241, 38.63824024123569, 39.04602376210238, 84.72199489762116, 162.16113326084283, 187.08172033063252, 115.20363695408143, 120.96297510523262, 138.50260033656403, 134.73922784732665, 3319.7410281601688, 669.0140696095699, 620.2119550891208, 290.90368236029144, 519.1628353730595, 482.4930131119796, 197.710043056933, 888.7160131325247, 2659.550358753489, 290.97908239453596, 946.7832749745987, 351.8126500857482, 412.5178954591119, 5819.373883587137, 4443.454730546234, 423.34502599126444, 265.5079508505098, 391.46889023882704, 818.2832694683636, 3526.911545838495, 60.00881080444853, 38.07621750429484, 38.75063803093718, 158.53462076603842, 19.791559485885767, 19.55512925888939, 20.000643550964334, 20.648017484487653, 19.69868972013952, 20.46460466073886, 20.77155961711475, 20.470403627112756, 48.21462380317931, 20.127382217595226, 19.805522803304413, 22.25079389175809, 20.61498973042224, 20.28076326487401, 42.09066868635228, 20.83252218480032, 20.26872632560347, 83.82019258007634, 43.234068327898, 74.90489306757627, 81.02025654101213, 63.72367026649427, 136.26257053610522, 22.18125291437359, 44.73347335968193, 23.630896442119507, 121.54536939827304, 254.0786303023077, 189.27367111216694, 338.6508835084161, 115.20011609166535, 131.70191364695708, 210.39680997972715, 48.5331339356685, 57.2758166170685, 855.4078248312347, 138.50260033656403, 344.95076532608573, 68.80238320776989, 53.70180201384923, 633.2985424626205, 81.90985022354327, 287.88355906054613, 223.4930751074113, 917.062262016588, 5819.373883587137, 474.48145919696384, 3319.7410281601688, 1614.6006653443467, 4443.454730546234, 272.60056299523694, 286.8097015500641, 1521.7697186597813, 2659.550358753489, 371.85690683157344, 3526.911545838495, 949.0752844323952, 2748.17370999137, 75.68672305142562, 52.26039312252075, 49.92071725523261, 123.5627464290068, 50.652306592126656, 51.80752287062858, 25.925349812108006, 25.4994142863962, 130.06673166266708, 51.13224699157988, 25.55599502701766, 26.69032493812001, 25.721762325070753, 25.068087408544425, 25.230783172184818, 24.624351628863845, 57.86418831225498, 25.33945623977972, 26.871546627924406, 52.158680959885906, 60.418847362206776, 84.39374550206058, 56.107708404725784, 55.59344053062034, 115.74861664339555, 85.18340388210389, 29.283918661588547, 27.282779595235038, 112.82165502259478, 31.037867217639594, 97.54994969091969, 467.46035919490896, 68.39102354117449, 188.8330692866192, 76.8113593819201, 77.99208382809934, 153.70128500559895, 142.4222726292859, 294.2431689920912, 3526.911545838495, 275.4550121709505, 167.4863849319121, 4443.454730546234, 1021.2701869143102, 2748.17370999137, 507.1624322777582, 445.1639000494171, 789.9712051674413, 681.918950677237, 349.30460278775223, 1266.812454147523, 5819.373883587137, 747.1368705371195, 453.9404384413381, 684.4302549387822, 301.8810359556989, 945.9687085000564, 204.79932084503932, 161.0118870999585, 109.01882989370937, 142.49974072027314, 172.43652953622714, 107.44980009707612, 201.14758126318574, 71.84986477513559, 90.24761504181134, 59.38501424010996, 76.3594410848325, 336.4093192946363, 71.58944424461453, 61.054253681735084, 62.676113784825056, 58.008418866667405, 54.870342313405814, 76.06965168136605, 66.98014714506914, 54.68754351499676, 47.08178283343902, 50.08789721911415, 50.06884015323277, 46.834753713007615, 63.457428728676405, 45.27928548614074, 592.669848611754, 283.34050814993594, 309.4566258286938, 62.473396715237904, 380.46832843774854, 114.64440089023164, 129.99878699157145, 84.46525474034095, 495.41303600642584, 110.11405809159221, 92.07070533967807, 320.30407998362307, 119.4135892140952, 133.32457711575185, 441.02745179336966, 315.65360143784096, 150.2019212016874, 401.447326569902, 802.321245952698, 330.3425725303713, 327.6292762498094, 302.2302398347362, 428.1513710798968, 306.05063597157226, 4443.454730546234, 627.0067168293828, 5819.373883587137, 569.0119078001378, 373.0461069527238, 1521.7697186597813, 1359.7520436678542, 835.5566493522606, 779.3731997228613, 704.3532410355385, 551.5099214598763, 3319.7410281601688, 1891.382023694842, 3526.911545838495, 642.6826221150704, 2748.17370999137, 1697.8411801114155, 855.4078248312347, 794.3665296151042, 804.7770680569512, 1021.2701869143102, 1614.6006653443467, 1332.321792736141, 966.9614705317922, 971.6425205374996, 1006.1359252392797, 2659.550358753489, 947.7714024128314, 949.0752844323952, 946.7832749745987, 34.01183191306911, 18.085621537917426, 17.700023338422326, 17.684152452446995, 59.392788949823874, 87.05112414580823, 20.85409434964502, 21.44900754034694, 44.40049163179381, 22.54806086901571, 48.67907025975354, 27.520254171394402, 31.024186162464407, 33.89941736439406, 31.79671925317814, 344.95076532608573, 70.44261298241423, 34.760727910331255, 338.6508835084161, 44.156996808384775, 50.884963991396006, 165.3909289482673, 173.66582139763253, 54.48699860682128, 57.85171031958261, 120.96297510523262, 122.77500531812939, 63.17729565536834, 61.78092598937671, 66.62601989686863, 435.1152314812568, 1697.8411801114155, 433.45580092023334, 5819.373883587137, 615.6032561942015, 620.2119550891208, 765.972914720812, 715.300858375766, 4443.454730546234, 949.0752844323952, 2748.17370999137, 3319.7410281601688, 134.80314343063645, 639.2025752240532, 254.73640352759637, 118.07282773669452, 119.32624720854726, 121.23120544342628, 131.5683340238563, 116.05634254337818, 131.9097981825085, 121.30794605052931, 40.67721507596773, 133.05270415574194, 128.7775336703357, 19.546175655173034, 14.349338428416571, 144.62273933196687, 8.139358415592561, 142.00829685037192, 124.3167563313755, 13.356360983468576, 5.581470932822846, 7.032009643392758, 8.279087921190774, 5.710471977828934, 6.03171536035436, 5.619884089328937, 5.552951661681628, 3.5216657806572877, 6.123145953133398, 9.963463971922328, 9.930524730983365, 382.5231525933498, 9.45254392572337, 411.26847447024994, 191.58200185895768, 681.918950677237, 173.8951504192076, 176.19222547573548, 244.64871344424762, 279.14162028721614, 42.35477727774896, 354.57983954251876, 56.95746824597152, 948.9632743318739, 420.3329218128449, 425.94794132085406, 461.6316936394025, 351.8234927812358, 414.91002409054494, 416.92321386315103, 492.0321903279012, 678.1639959231471, 2748.17370999137, 5819.373883587137, 3526.911545838495, 702.0354998403625, 765.972914720812, 656.3750778811092, 601.6628078210733, 509.72612944852096, 2659.550358753489, 832.9972939445587, 3319.7410281601688, 1697.8411801114155, 779.886705319694, 80.96838376428423, 51.58379119277375, 24.59962597278534, 53.35510883906034, 15.038742958610415, 28.35913244906988, 23.380588611136908, 16.299540461214285, 36.365909082349795, 52.90590456666671, 41.640354342873145, 29.933956141268887, 17.43242007406772, 13.31885139745778, 26.999685778718227, 5.002643300420926, 23.569315185196707, 37.813464618615285, 44.474270886616026, 11.986675848632522, 6.68215588455498, 7.762518111410529, 29.739167511338717, 8.516470885340476, 22.498796627974674, 28.794817653810632, 6.853308039370922, 61.709063473494695, 62.88024732985323, 18.407772879546187, 619.6475979359575, 140.99258884556193, 495.6341554041194, 150.57379562359085, 156.2166253595022, 42.12197098125971, 85.4826247000637, 986.8760370254091, 153.70128500559895, 190.91491710006883, 69.00446280915, 207.24581126978615, 344.95076532608573, 294.2431689920912, 338.6508835084161, 352.23452679877363, 1359.7520436678542, 5819.373883587137, 3526.911545838495, 948.9632743318739, 365.59289323845337, 1697.8411801114155, 678.1639959231471, 2748.17370999137, 1891.382023694842], \"Category\": [\"Default\", \"Default\", \"Default\", \"Default\", \"Default\", \"Default\", \"Default\", \"Default\", \"Default\", \"Default\", \"Default\", \"Default\", \"Default\", \"Default\", \"Default\", \"Default\", \"Default\", \"Default\", \"Default\", \"Default\", \"Default\", \"Default\", \"Default\", \"Default\", \"Default\", \"Default\", \"Default\", \"Default\", \"Default\", \"Default\", \"Topic1\", \"Topic1\", \"Topic1\", \"Topic1\", \"Topic1\", \"Topic1\", \"Topic1\", \"Topic1\", \"Topic1\", \"Topic1\", \"Topic1\", \"Topic1\", \"Topic1\", \"Topic1\", \"Topic1\", \"Topic1\", \"Topic1\", \"Topic1\", \"Topic1\", \"Topic1\", \"Topic1\", \"Topic1\", \"Topic1\", \"Topic1\", \"Topic1\", \"Topic1\", \"Topic1\", \"Topic1\", \"Topic1\", \"Topic1\", \"Topic1\", \"Topic1\", \"Topic1\", \"Topic1\", \"Topic1\", \"Topic1\", \"Topic1\", \"Topic1\", \"Topic1\", \"Topic1\", \"Topic1\", \"Topic1\", \"Topic1\", \"Topic1\", \"Topic1\", \"Topic1\", \"Topic1\", \"Topic1\", \"Topic1\", \"Topic1\", \"Topic1\", \"Topic1\", \"Topic1\", \"Topic1\", \"Topic1\", \"Topic1\", \"Topic1\", \"Topic1\", \"Topic2\", \"Topic2\", \"Topic2\", \"Topic2\", \"Topic2\", \"Topic2\", \"Topic2\", \"Topic2\", \"Topic2\", \"Topic2\", \"Topic2\", \"Topic2\", \"Topic2\", \"Topic2\", \"Topic2\", \"Topic2\", \"Topic2\", \"Topic2\", \"Topic2\", \"Topic2\", \"Topic2\", \"Topic2\", \"Topic2\", \"Topic2\", \"Topic2\", \"Topic2\", \"Topic2\", \"Topic2\", \"Topic2\", \"Topic2\", \"Topic2\", \"Topic2\", \"Topic2\", \"Topic2\", \"Topic2\", \"Topic2\", \"Topic2\", \"Topic2\", \"Topic2\", \"Topic2\", \"Topic2\", \"Topic2\", \"Topic2\", \"Topic2\", \"Topic2\", \"Topic2\", \"Topic2\", \"Topic2\", \"Topic2\", \"Topic2\", \"Topic2\", \"Topic2\", \"Topic2\", \"Topic2\", \"Topic2\", \"Topic2\", \"Topic2\", \"Topic2\", \"Topic2\", \"Topic2\", \"Topic2\", \"Topic2\", \"Topic2\", \"Topic3\", \"Topic3\", \"Topic3\", \"Topic3\", \"Topic3\", \"Topic3\", \"Topic3\", \"Topic3\", \"Topic3\", \"Topic3\", \"Topic3\", \"Topic3\", \"Topic3\", \"Topic3\", \"Topic3\", \"Topic3\", \"Topic3\", \"Topic3\", \"Topic3\", \"Topic3\", \"Topic3\", \"Topic3\", \"Topic3\", \"Topic3\", \"Topic3\", \"Topic3\", \"Topic3\", \"Topic3\", \"Topic3\", \"Topic3\", \"Topic3\", \"Topic3\", \"Topic3\", \"Topic3\", \"Topic3\", \"Topic3\", \"Topic3\", \"Topic3\", \"Topic3\", \"Topic3\", \"Topic3\", \"Topic3\", \"Topic3\", \"Topic3\", \"Topic3\", \"Topic3\", \"Topic3\", \"Topic3\", \"Topic3\", \"Topic3\", \"Topic3\", \"Topic3\", \"Topic3\", \"Topic3\", \"Topic3\", \"Topic3\", \"Topic3\", \"Topic3\", \"Topic3\", \"Topic3\", \"Topic3\", \"Topic3\", \"Topic3\", \"Topic3\", \"Topic4\", \"Topic4\", \"Topic4\", \"Topic4\", \"Topic4\", \"Topic4\", \"Topic4\", \"Topic4\", \"Topic4\", \"Topic4\", \"Topic4\", \"Topic4\", \"Topic4\", \"Topic4\", \"Topic4\", \"Topic4\", \"Topic4\", \"Topic4\", \"Topic4\", \"Topic4\", \"Topic4\", \"Topic4\", \"Topic4\", \"Topic4\", \"Topic4\", \"Topic4\", \"Topic4\", \"Topic4\", \"Topic4\", \"Topic4\", \"Topic4\", \"Topic4\", \"Topic4\", \"Topic4\", \"Topic4\", \"Topic4\", \"Topic4\", \"Topic4\", \"Topic4\", \"Topic4\", \"Topic4\", \"Topic4\", \"Topic4\", \"Topic4\", \"Topic4\", \"Topic4\", \"Topic4\", \"Topic4\", \"Topic4\", \"Topic4\", \"Topic4\", \"Topic4\", \"Topic4\", \"Topic4\", \"Topic4\", \"Topic4\", \"Topic5\", \"Topic5\", \"Topic5\", \"Topic5\", \"Topic5\", \"Topic5\", \"Topic5\", \"Topic5\", \"Topic5\", \"Topic5\", \"Topic5\", \"Topic5\", \"Topic5\", \"Topic5\", \"Topic5\", \"Topic5\", \"Topic5\", \"Topic5\", \"Topic5\", \"Topic5\", \"Topic5\", \"Topic5\", \"Topic5\", \"Topic5\", \"Topic5\", \"Topic5\", \"Topic5\", \"Topic5\", \"Topic5\", \"Topic5\", \"Topic5\", \"Topic5\", \"Topic5\", \"Topic5\", \"Topic5\", \"Topic5\", \"Topic5\", \"Topic5\", \"Topic5\", \"Topic5\", \"Topic5\", \"Topic5\", \"Topic5\", \"Topic5\", \"Topic5\", \"Topic5\", \"Topic5\", \"Topic5\", \"Topic5\", \"Topic5\", \"Topic5\", \"Topic5\", \"Topic5\", \"Topic5\", \"Topic5\", \"Topic5\", \"Topic5\", \"Topic5\", \"Topic5\", \"Topic5\", \"Topic5\", \"Topic5\", \"Topic6\", \"Topic6\", \"Topic6\", \"Topic6\", \"Topic6\", \"Topic6\", \"Topic6\", \"Topic6\", \"Topic6\", \"Topic6\", \"Topic6\", \"Topic6\", \"Topic6\", \"Topic6\", \"Topic6\", \"Topic6\", \"Topic6\", \"Topic6\", \"Topic6\", \"Topic6\", \"Topic6\", \"Topic6\", \"Topic6\", \"Topic6\", \"Topic6\", \"Topic6\", \"Topic6\", \"Topic6\", \"Topic6\", \"Topic6\", \"Topic6\", \"Topic6\", \"Topic6\", \"Topic6\", \"Topic6\", \"Topic6\", \"Topic6\", \"Topic6\", \"Topic6\", \"Topic6\", \"Topic6\", \"Topic6\", \"Topic6\", \"Topic6\", \"Topic6\", \"Topic6\", \"Topic6\", \"Topic6\", \"Topic6\", \"Topic6\", \"Topic6\", \"Topic6\", \"Topic6\", \"Topic6\", \"Topic6\", \"Topic6\", \"Topic6\", \"Topic6\", \"Topic6\", \"Topic6\", \"Topic6\", \"Topic6\", \"Topic6\", \"Topic6\", \"Topic6\", \"Topic6\", \"Topic6\", \"Topic6\", \"Topic6\", \"Topic6\", \"Topic6\", \"Topic7\", \"Topic7\", \"Topic7\", \"Topic7\", \"Topic7\", \"Topic7\", \"Topic7\", \"Topic7\", \"Topic7\", \"Topic7\", \"Topic7\", \"Topic7\", \"Topic7\", \"Topic7\", \"Topic7\", \"Topic7\", \"Topic7\", \"Topic7\", \"Topic7\", \"Topic7\", \"Topic7\", \"Topic7\", \"Topic7\", \"Topic7\", \"Topic7\", \"Topic7\", \"Topic7\", \"Topic7\", \"Topic7\", \"Topic7\", \"Topic7\", \"Topic7\", \"Topic7\", \"Topic7\", \"Topic7\", \"Topic7\", \"Topic7\", \"Topic7\", \"Topic7\", \"Topic7\", \"Topic7\", \"Topic7\", \"Topic7\", \"Topic7\", \"Topic7\", \"Topic7\", \"Topic7\", \"Topic7\", \"Topic7\", \"Topic7\", \"Topic7\", \"Topic7\", \"Topic7\", \"Topic8\", \"Topic8\", \"Topic8\", \"Topic8\", \"Topic8\", \"Topic8\", \"Topic8\", \"Topic8\", \"Topic8\", \"Topic8\", \"Topic8\", \"Topic8\", \"Topic8\", \"Topic8\", \"Topic8\", \"Topic8\", \"Topic8\", \"Topic8\", \"Topic8\", \"Topic8\", \"Topic8\", \"Topic8\", \"Topic8\", \"Topic8\", \"Topic8\", \"Topic8\", \"Topic8\", \"Topic8\", \"Topic8\", \"Topic8\", \"Topic8\", \"Topic8\", \"Topic8\", \"Topic8\", \"Topic8\", \"Topic8\", \"Topic8\", \"Topic8\", \"Topic8\", \"Topic8\", \"Topic8\", \"Topic8\", \"Topic8\", \"Topic8\", \"Topic8\", \"Topic8\", \"Topic8\", \"Topic8\", \"Topic8\", \"Topic8\", \"Topic8\", \"Topic8\", \"Topic8\", \"Topic8\", \"Topic8\", \"Topic8\", \"Topic8\", \"Topic9\", \"Topic9\", \"Topic9\", \"Topic9\", \"Topic9\", \"Topic9\", \"Topic9\", \"Topic9\", \"Topic9\", \"Topic9\", \"Topic9\", \"Topic9\", \"Topic9\", \"Topic9\", \"Topic9\", \"Topic9\", \"Topic9\", \"Topic9\", \"Topic9\", \"Topic9\", \"Topic9\", \"Topic9\", \"Topic9\", \"Topic9\", \"Topic9\", \"Topic9\", \"Topic9\", \"Topic9\", \"Topic9\", \"Topic9\", \"Topic9\", \"Topic9\", \"Topic9\", \"Topic9\", \"Topic9\", \"Topic9\", \"Topic9\", \"Topic9\", \"Topic9\", \"Topic9\", \"Topic9\", \"Topic9\", \"Topic9\", \"Topic9\", \"Topic9\", \"Topic9\", \"Topic9\", \"Topic9\", \"Topic9\", \"Topic9\", \"Topic9\", \"Topic9\", \"Topic9\", \"Topic9\", \"Topic9\", \"Topic9\", \"Topic9\", \"Topic9\", \"Topic9\", \"Topic9\", \"Topic9\", \"Topic9\", \"Topic10\", \"Topic10\", \"Topic10\", \"Topic10\", \"Topic10\", \"Topic10\", \"Topic10\", \"Topic10\", \"Topic10\", \"Topic10\", \"Topic10\", \"Topic10\", \"Topic10\", \"Topic10\", \"Topic10\", \"Topic10\", \"Topic10\", \"Topic10\", \"Topic10\", \"Topic10\", \"Topic10\", \"Topic10\", \"Topic10\", \"Topic10\", \"Topic10\", \"Topic10\", \"Topic10\", \"Topic10\", \"Topic10\", \"Topic10\", \"Topic10\", \"Topic10\", \"Topic10\", \"Topic10\", \"Topic10\", \"Topic10\", \"Topic10\", \"Topic10\", \"Topic10\", \"Topic10\", \"Topic10\", \"Topic10\", \"Topic10\", \"Topic10\", \"Topic10\", \"Topic10\", \"Topic10\", \"Topic10\", \"Topic10\", \"Topic10\", \"Topic10\", \"Topic10\", \"Topic10\", \"Topic11\", \"Topic11\", \"Topic11\", \"Topic11\", \"Topic11\", \"Topic11\", \"Topic11\", \"Topic11\", \"Topic11\", \"Topic11\", \"Topic11\", \"Topic11\", \"Topic11\", \"Topic11\", \"Topic11\", \"Topic11\", \"Topic11\", \"Topic11\", \"Topic11\", \"Topic11\", \"Topic11\", \"Topic11\", \"Topic11\", \"Topic11\", \"Topic11\", \"Topic11\", \"Topic11\", \"Topic11\", \"Topic11\", \"Topic11\", \"Topic11\", \"Topic11\", \"Topic11\", \"Topic11\", \"Topic11\", \"Topic11\", \"Topic11\", \"Topic11\", \"Topic11\", \"Topic11\", \"Topic11\", \"Topic11\", \"Topic11\", \"Topic11\", \"Topic11\", \"Topic11\", \"Topic11\", \"Topic11\", \"Topic11\", \"Topic11\", \"Topic11\", \"Topic11\", \"Topic11\", \"Topic11\", \"Topic11\", \"Topic11\", \"Topic11\", \"Topic11\", \"Topic11\", \"Topic11\", \"Topic11\", \"Topic11\", \"Topic11\", \"Topic11\", \"Topic11\", \"Topic11\", \"Topic11\", \"Topic11\", \"Topic11\", \"Topic11\", \"Topic11\", \"Topic11\", \"Topic11\", \"Topic11\", \"Topic11\", \"Topic11\", \"Topic11\", \"Topic11\", \"Topic11\", \"Topic11\", \"Topic11\", \"Topic11\", \"Topic11\", \"Topic11\", \"Topic12\", \"Topic12\", \"Topic12\", \"Topic12\", \"Topic12\", \"Topic12\", \"Topic12\", \"Topic12\", \"Topic12\", \"Topic12\", \"Topic12\", \"Topic12\", \"Topic12\", \"Topic12\", \"Topic12\", \"Topic12\", \"Topic12\", \"Topic12\", \"Topic12\", \"Topic12\", \"Topic12\", \"Topic12\", \"Topic12\", \"Topic12\", \"Topic12\", \"Topic12\", \"Topic12\", \"Topic12\", \"Topic12\", \"Topic12\", \"Topic12\", \"Topic12\", \"Topic12\", \"Topic12\", \"Topic12\", \"Topic12\", \"Topic12\", \"Topic12\", \"Topic12\", \"Topic12\", \"Topic12\", \"Topic12\", \"Topic12\", \"Topic12\", \"Topic12\", \"Topic13\", \"Topic13\", \"Topic13\", \"Topic13\", \"Topic13\", \"Topic13\", \"Topic13\", \"Topic13\", \"Topic13\", \"Topic13\", \"Topic13\", \"Topic13\", \"Topic13\", \"Topic13\", \"Topic13\", \"Topic13\", \"Topic13\", \"Topic13\", \"Topic13\", \"Topic13\", \"Topic13\", \"Topic13\", \"Topic13\", \"Topic13\", \"Topic13\", \"Topic13\", \"Topic13\", \"Topic13\", \"Topic13\", \"Topic13\", \"Topic13\", \"Topic13\", \"Topic13\", \"Topic13\", \"Topic13\", \"Topic13\", \"Topic13\", \"Topic13\", \"Topic13\", \"Topic13\", \"Topic13\", \"Topic13\", \"Topic13\", \"Topic13\", \"Topic13\", \"Topic13\", \"Topic13\", \"Topic13\", \"Topic13\", \"Topic13\", \"Topic13\", \"Topic13\", \"Topic13\", \"Topic13\", \"Topic13\", \"Topic13\", \"Topic13\", \"Topic13\", \"Topic13\", \"Topic13\", \"Topic13\", \"Topic13\", \"Topic14\", \"Topic14\", \"Topic14\", \"Topic14\", \"Topic14\", \"Topic14\", \"Topic14\", \"Topic14\", \"Topic14\", \"Topic14\", \"Topic14\", \"Topic14\", \"Topic14\", \"Topic14\", \"Topic14\", \"Topic14\", \"Topic14\", \"Topic14\", \"Topic14\", \"Topic14\", \"Topic14\", \"Topic14\", \"Topic14\", \"Topic14\", \"Topic14\", \"Topic14\", \"Topic14\", \"Topic14\", \"Topic14\", \"Topic14\", \"Topic14\", \"Topic14\", \"Topic14\", \"Topic14\", \"Topic14\", \"Topic14\", \"Topic14\", \"Topic14\", \"Topic14\", \"Topic14\", \"Topic14\", \"Topic14\", \"Topic14\", \"Topic14\", \"Topic14\", \"Topic14\", \"Topic14\", \"Topic14\", \"Topic14\", \"Topic14\", \"Topic14\", \"Topic14\", \"Topic14\", \"Topic14\", \"Topic14\"], \"logprob\": [30.0, 29.0, 28.0, 27.0, 26.0, 25.0, 24.0, 23.0, 22.0, 21.0, 20.0, 19.0, 18.0, 17.0, 16.0, 15.0, 14.0, 13.0, 12.0, 11.0, 10.0, 9.0, 8.0, 7.0, 6.0, 5.0, 4.0, 3.0, 2.0, 1.0, -4.616600036621094, -5.7357001304626465, -3.178800106048584, -5.624100208282471, -6.217400074005127, -6.756800174713135, -7.065899848937988, -6.716899871826172, -6.194300174713135, -5.797900199890137, -5.428599834442139, -4.6493000984191895, -5.521399974822998, -5.274199962615967, -6.046299934387207, -5.512199878692627, -5.580900192260742, -3.3803999423980713, -6.883299827575684, -6.567599773406982, -6.6331000328063965, -6.583000183105469, -4.204500198364258, -3.6094000339508057, -6.270299911499023, -7.340099811553955, -4.612100124359131, -6.589099884033203, -6.375400066375732, -8.029899597167969, -6.861700057983398, -4.447299957275391, -4.03380012512207, -5.595799922943115, -6.116099834442139, -4.5640997886657715, -4.922500133514404, -4.122499942779541, -5.240200042724609, -5.925300121307373, -4.887800216674805, -5.171000003814697, -4.042799949645996, -5.5609002113342285, -4.700300216674805, -4.835999965667725, -4.660999774932861, -4.238800048828125, -4.5131001472473145, -5.076099872589111, -5.174200057983398, -5.379700183868408, -5.276400089263916, -5.230000019073486, -5.307400226593018, -5.30210018157959, -5.276500225067139, -5.293900012969971, -5.033699989318848, -4.960400104522705, -5.032800197601318, -5.05709981918335, -5.037600040435791, -5.059800148010254, -5.033100128173828, -4.998300075531006, -4.418099880218506, -4.338200092315674, -5.039899826049805, -5.115300178527832, -3.772200107574463, -5.304900169372559, -7.9654998779296875, -7.43120002746582, -7.965000152587891, -5.48799991607666, -4.318900108337402, -8.302900314331055, -7.928199768066406, -4.827099800109863, -8.455900192260742, -8.472700119018555, -7.79040002822876, -5.537199974060059, -4.270400047302246, -8.491499900817871, -3.5467000007629395, -8.572500228881836, -4.907599925994873, -4.347700119018555, -4.62470006942749, -4.412899971008301, -4.928500175476074, -4.945799827575684, -5.392499923706055, -5.035799980163574, -5.226500034332275, -4.414299964904785, -3.932499885559082, -4.4369001388549805, -4.21019983291626, -4.738500118255615, -4.633699893951416, -4.135200023651123, -3.468899965286255, -4.2778000831604, -3.7128000259399414, -4.274499893188477, -4.724100112915039, -4.873700141906738, -4.325399875640869, -4.874000072479248, -4.89139986038208, -4.799200057983398, -4.772200107574463, -4.777599811553955, -4.712600231170654, -4.755799770355225, -4.782899856567383, -4.774700164794922, -4.795400142669678, -3.8310000896453857, -5.944699764251709, -6.294099807739258, -6.695300102233887, -6.105299949645996, -6.972499847412109, -6.263299942016602, -6.478799819946289, -6.526500225067139, -6.484300136566162, -6.598899841308594, -6.701300144195557, -7.031899929046631, -7.170000076293945, -6.586599826812744, -4.9019999504089355, -4.901400089263916, -6.396500110626221, -6.254700183868408, -7.389599800109863, -7.519499778747559, -6.39769983291626, -6.609600067138672, -5.904699802398682, -7.23360013961792, -7.288300037384033, -3.718899965286255, -7.440800189971924, -5.3597002029418945, -6.825099945068359, -4.719099998474121, -4.339000225067139, -5.000500202178955, -5.418799877166748, -5.89169979095459, -5.111000061035156, -5.8607001304626465, -4.2230000495910645, -4.37060022354126, -5.159999847412109, -5.8354997634887695, -5.176400184631348, -5.249800205230713, -5.460400104522705, -5.617700099945068, -5.293700218200684, -5.709700107574463, -5.448500156402588, -4.379700183868408, -4.899400234222412, -4.906400203704834, -4.82390022277832, -4.684899806976318, -5.530099868774414, -4.240499973297119, -5.229899883270264, -5.235000133514404, -5.0065999031066895, -4.650700092315674, -5.209400177001953, -5.212299823760986, -5.298900127410889, -5.399600028991699, -5.414700031280518, -4.443999767303467, -5.136899948120117, -5.142499923706055, -5.059500217437744, -5.154200077056885, -5.132900238037109, -4.469799995422363, -5.087900161743164, -5.137899875640869, -4.378499984741211, -5.157100200653076, -5.051799774169922, -3.971400022506714, -5.164400100708008, -5.159900188446045, -4.371699810028076, -5.11329984664917, -5.151500225067139, -7.964799880981445, -4.465400218963623, -8.061699867248535, -3.7537999153137207, -8.273599624633789, -4.990499973297119, -3.9526000022888184, -4.001299858093262, -7.98960018157959, -2.555500030517578, -8.456399917602539, -8.565199851989746, -7.8225998878479, -4.980100154876709, -5.131800174713135, -5.0690999031066895, -4.913099765777588, -4.423399925231934, -5.13700008392334, -4.4593000411987305, -4.118899822235107, -4.039100170135498, -4.290800094604492, -3.7414000034332275, -4.365900039672852, -4.1992998123168945, -4.458899974822998, -4.336400032043457, -4.769599914550781, -4.346799850463867, -4.431099891662598, -4.3831000328063965, -4.309199810028076, -4.27239990234375, -4.946199893951416, -4.871799945831299, -4.804999828338623, -4.9197001457214355, -3.11929988861084, -3.297800064086914, -3.8282999992370605, -3.1480000019073486, -6.3256001472473145, -5.052000045776367, -4.561600208282471, -6.907800197601318, -6.992800235748291, -6.692200183868408, -4.39300012588501, -6.830399990081787, -4.395899772644043, -5.239799976348877, -7.3780999183654785, -7.17080020904541, -7.455999851226807, -6.050099849700928, -7.69980001449585, -2.4498000144958496, -5.252399921417236, -7.015600204467773, -8.007399559020996, -5.521699905395508, -7.7281999588012695, -7.241499900817871, -8.142600059509277, -6.813600063323975, -7.198999881744385, -6.832900047302246, -5.5528998374938965, -3.6015000343322754, -3.9339001178741455, -6.366799831390381, -4.632900238037109, -6.257800102233887, -5.901899814605713, -6.349299907684326, -4.918399810791016, -4.479400157928467, -5.600599765777588, -3.8561999797821045, -3.113600015640259, -5.357900142669678, -4.9847002029418945, -4.322199821472168, -5.001200199127197, -4.958000183105469, -5.148099899291992, -4.309100151062012, -4.2795000076293945, -4.64769983291626, -3.9784998893737793, -4.5914998054504395, -4.6321001052856445, -5.014599800109863, -4.589300155639648, -4.315499782562256, -4.3892998695373535, -4.855500221252441, -4.888999938964844, -4.942399978637695, -5.856599807739258, -5.694699764251709, -6.670199871063232, -5.161300182342529, -5.198200225830078, -6.460299968719482, -6.875699996948242, -6.970699787139893, -4.9558000564575195, -7.20419979095459, -7.210899829864502, -6.665200233459473, -7.2245001792907715, -6.061500072479248, -5.595099925994873, -4.942200183868408, -6.810100078582764, -7.552299976348877, -6.062600135803223, -7.123499870300293, -7.479700088500977, -7.34089994430542, -7.567599773406982, -7.09089994430542, -6.8933000564575195, -7.800000190734863, -5.955399990081787, -6.870999813079834, -4.266900062561035, -7.186999797821045, -6.4222002029418945, -6.212600231170654, -3.9419000148773193, -5.3333001136779785, -6.506499767303467, -5.7606000900268555, -5.060800075531006, -5.599599838256836, -5.8053998947143555, -5.383999824523926, -5.340199947357178, -5.52269983291626, -6.0706000328063965, -5.661200046539307, -5.9446001052856445, -5.752399921417236, -4.668600082397461, -5.057300090789795, -5.280300140380859, -5.970099925994873, -5.436999797821045, -5.72160005569458, -5.190899848937988, -5.837399959564209, -4.696000099182129, -5.429599761962891, -5.463600158691406, -5.345200061798096, -4.246699810028076, -4.69980001449585, -5.313300132751465, -5.333099842071533, -5.407599925994873, -5.122900009155273, -5.025300025939941, -5.44320011138916, -5.151899814605713, -5.281199932098389, -5.323400020599365, -5.428199768066406, -5.398799896240234, -3.566800117492676, -4.9319000244140625, -4.910799980163574, -5.589900016784668, -5.611199855804443, -5.622900009155273, -5.607999801635742, -5.61899995803833, -5.624100208282471, -2.3445000648498535, -5.607399940490723, -4.21750020980835, -5.624599933624268, -4.9375, -5.6305999755859375, -5.635200023651123, -5.5777997970581055, -2.6496999263763428, -5.645699977874756, -5.624100208282471, -5.785200119018555, -5.632800102233887, -5.548999786376953, -5.6082000732421875, -2.612299919128418, -5.611599922180176, -6.006999969482422, -8.526300430297852, -5.5447001457214355, -5.603400230407715, -4.48199987411499, -4.934800148010254, -5.12529993057251, -3.1626999378204346, -4.515500068664551, -4.218400001525879, -4.734600067138672, -4.477499961853027, -4.451900005340576, -4.85830020904541, -4.4791998863220215, -4.0142998695373535, -3.9077000617980957, -5.152900218963623, -4.907899856567383, -4.811500072479248, -4.910399913787842, -4.9120001792907715, -4.778299808502197, -4.898200035095215, -5.07889986038208, -5.424099922180176, -5.263500213623047, -4.382900238037109, -5.453499794006348, -3.536900043487549, -5.444499969482422, -5.443699836730957, -5.426700115203857, -4.085000038146973, -5.4903998374938965, -2.847399950027466, -5.5152997970581055, -5.553800106048584, -5.40500020980835, -5.452199935913086, -5.513199806213379, -5.4552998542785645, -5.465099811553955, -5.467800140380859, -5.529600143432617, -5.430799961090088, -5.502500057220459, -5.441999912261963, -4.804299831390381, -5.473299980163574, -5.426300048828125, -5.4766998291015625, -5.467100143432617, -5.472599983215332, -5.4583001136779785, -5.479800224304199, -5.480500221252441, -4.769400119781494, -4.436500072479248, -4.468100070953369, -4.7804999351501465, -4.762400150299072, -4.749000072479248, -4.791200160980225, -3.297800064086914, -4.054999828338623, -4.125999927520752, -4.477099895477295, -4.306399822235107, -4.408999919891357, -4.798299789428711, -4.44980001449585, -4.215000152587891, -4.784900188446045, -4.542200088500977, -4.779699802398682, -4.76140022277832, -4.234600067138672, -4.3196001052856445, -4.781199932098389, -4.890900135040283, -4.8506999015808105, -4.773200035095215, -4.765600204467773, -4.990699768066406, -5.4492998123168945, -5.433599948883057, -4.030600070953369, -6.116799831390381, -6.128900051116943, -6.106599807739258, -6.074900150299072, -6.122799873352051, -6.084799766540527, -6.070700168609619, -6.085400104522705, -5.229100227355957, -6.1031999588012695, -6.11959981918335, -6.00570011138916, -6.090700149536133, -6.114699840545654, -5.411499977111816, -6.119200229644775, -6.155799865722656, -4.747200012207031, -5.447400093078613, -4.906799793243408, -4.829100131988525, -5.070099830627441, -4.317200183868408, -6.140500068664551, -5.446700096130371, -6.114500045776367, -4.558700084686279, -4.057300090789795, -4.478799819946289, -4.069200038909912, -4.8597002029418945, -4.770400047302246, -4.4608001708984375, -5.5152997970581055, -5.4197001457214355, -3.6796000003814697, -4.982500076293945, -4.529600143432617, -5.437099933624268, -5.571899890899658, -4.406700134277344, -5.411499977111816, -4.8383002281188965, -4.956399917602539, -4.493000030517578, -3.9540998935699463, -4.815199851989746, -4.247700214385986, -4.467199802398682, -4.297500133514404, -5.003499984741211, -5.009200096130371, -4.688199996948242, -4.738699913024902, -4.981500148773193, -4.880499839782715, -4.970600128173828, -4.979100227355957, -4.685200214385986, -5.0569000244140625, -5.10290002822876, -4.197800159454346, -5.095099925994873, -5.073999881744385, -5.768599987030029, -5.785799980163574, -4.15880012512207, -5.093999862670898, -5.789000034332275, -5.746399879455566, -5.785600185394287, -5.812600135803223, -5.80679988861084, -5.836299896240234, -4.988800048828125, -5.821300029754639, -5.764900207519531, -5.104000091552734, -4.97160005569458, -4.639999866485596, -5.072800159454346, -5.082600116729736, -4.360300064086914, -4.679999828338623, -5.752600193023682, -5.827700138092041, -4.414899826049805, -5.7530999183654785, -4.673099994659424, -3.312700033187866, -5.0100998878479, -4.335700035095215, -5.020899772644043, -5.01609992980957, -4.618000030517578, -4.908100128173828, -4.567200183868408, -3.406399965286255, -4.661600112915039, -4.951900005340576, -3.6268999576568604, -4.3125, -4.106200218200684, -4.597099781036377, -4.651500225067139, -4.6346001625061035, -4.682600021362305, -4.81850004196167, -4.663899898529053, -4.629300117492676, -5.001500129699707, -5.95989990234375, -5.5493998527526855, -6.368599891662598, -5.227200031280518, -6.757599830627441, -6.998300075531006, -7.388800144195557, -7.121300220489502, -6.93120002746582, -7.404399871826172, -6.777400016784668, -7.807499885559082, -7.580699920654297, -7.999300003051758, -7.7484002113342285, -6.265600204467773, -7.8130998611450195, -7.972300052642822, -7.946300029754639, -8.023699760437012, -8.07960033416748, -7.7530999183654785, -7.8805999755859375, -8.083399772644043, -8.233400344848633, -8.171799659729004, -8.172200202941895, -8.239399909973145, -7.935699939727783, -8.27340030670166, -5.716000080108643, -6.4475998878479, -6.364200115203857, -7.952099800109863, -6.174600124359131, -7.354899883270264, -7.232800006866455, -7.656000137329102, -5.929599761962891, -7.396999835968018, -7.573599815368652, -6.373000144958496, -7.325699806213379, -7.220399856567383, -6.090099811553955, -6.407700061798096, -7.1097002029418945, -6.186500072479248, -5.5406999588012695, -6.372900009155273, -6.381700038909912, -6.4608001708984375, -6.142099857330322, -6.454999923706055, -4.022600173950195, -5.805600166320801, -3.836199998855591, -5.907400131225586, -6.291100025177002, -5.058700084686279, -5.165900230407715, -5.586100101470947, -5.657800197601318, -5.748600006103516, -5.954500198364258, -4.448699951171875, -4.930300235748291, -4.466700077056885, -5.839700222015381, -4.678999900817871, -5.092800140380859, -5.629300117492676, -5.690100193023682, -5.706600189208984, -5.551300048828125, -5.281099796295166, -5.467800140380859, -5.65749979019165, -5.661300182342529, -5.6875, -5.2631001472473145, -5.742800235748291, -5.76230001449585, -5.809599876403809, -4.247600078582764, -4.891499996185303, -4.91349983215332, -4.931600093841553, -3.7697999477386475, -3.445199966430664, -4.9334001541137695, -4.9309000968933105, -4.207900047302246, -4.8968000411987305, -4.202000141143799, -4.904099941253662, -4.845900058746338, -4.861800193786621, -4.9552998542785645, -2.6136999130249023, -4.2027997970581055, -4.945199966430664, -2.841900110244751, -4.93209981918335, -4.892000198364258, -3.8278000354766846, -3.8085999488830566, -4.985599994659424, -4.933199882507324, -4.207799911499023, -4.200200080871582, -4.87529993057251, -4.956699848175049, -4.893199920654297, -3.7774999141693115, -3.5280001163482666, -4.238399982452393, -3.55679988861084, -4.229400157928467, -4.22760009765625, -4.19890022277832, -4.22730016708374, -3.815999984741211, -4.223400115966797, -4.22760009765625, -4.220300197601318, -4.870699882507324, -4.849100112915039, -4.881499767303467, -4.704500198364258, -4.693999767303467, -4.678599834442139, -4.598100185394287, -4.723800182342529, -4.595799922943115, -4.679800033569336, -5.77869987487793, -4.600800037384033, -4.633999824523926, -6.529699802398682, -6.852099895477295, -4.551300048828125, -7.4415998458862305, -4.5833001136779785, -4.736199855804443, -6.983500003814697, -7.856800079345703, -7.625899791717529, -7.470699787139893, -7.850500106811523, -7.798699855804443, -7.870500087738037, -7.902200222015381, -8.380200386047363, -7.838200092315674, -7.355899810791016, -7.365799903869629, -3.723599910736084, -7.448999881744385, -3.69950008392334, -4.501699924468994, -3.295799970626831, -4.630199909210205, -4.66510009765625, -4.461400032043457, -4.376299858093262, -6.093500137329102, -4.374100208282471, -5.905600070953369, -3.572700023651123, -4.282899856567383, -4.285600185394287, -4.276400089263916, -4.592800140380859, -4.4766998291015625, -4.4847002029418945, -4.387800216674805, -4.242000102996826, -3.55649995803833, -3.4386000633239746, -3.6953999996185303, -4.314300060272217, -4.293499946594238, -4.372799873352051, -4.394400119781494, -4.431000232696533, -4.1554999351501465, -4.363399982452393, -4.163700103759766, -4.278200149536133, -4.4166998863220215, -4.578199863433838, -5.029900074005127, -5.783699989318848, -5.009799957275391, -6.298299789428711, -5.67080020904541, -5.866399765014648, -6.227399826049805, -5.428299903869629, -5.053899765014648, -5.294400215148926, -5.625899791717529, -6.171899795532227, -6.446199893951416, -5.771999835968018, -7.531700134277344, -6.005799770355225, -5.55709981918335, -5.405399799346924, -6.719299793243408, -7.36460018157959, -7.2164998054504395, -5.874000072479248, -7.144400119781494, -6.178899765014648, -5.982600212097168, -7.429999828338623, -5.239500045776367, -5.235799789428711, -6.481200218200684, -3.074899911880493, -4.52269983291626, -3.4774999618530273, -4.585100173950195, -4.6153998374938965, -5.8256001472473145, -5.2846999168396, -3.5062999725341797, -4.915800094604492, -4.80019998550415, -5.475900173187256, -4.894400119781494, -4.825500011444092, -4.941800117492676, -4.995299816131592, -5.075500011444092, -4.673600196838379, -4.268599987030029, -4.45959997177124, -4.870299816131592, -5.0914998054504395, -4.826900005340576, -5.043499946594238, -4.880199909210205, -5.290900230407715], \"loglift\": [30.0, 29.0, 28.0, 27.0, 26.0, 25.0, 24.0, 23.0, 22.0, 21.0, 20.0, 19.0, 18.0, 17.0, 16.0, 15.0, 14.0, 13.0, 12.0, 11.0, 10.0, 9.0, 8.0, 7.0, 6.0, 5.0, 4.0, 3.0, 2.0, 1.0, 3.3625, 3.3177, 3.3113, 3.2972, 3.2931, 3.2772, 3.2743, 3.2662, 3.2596, 3.1703, 3.157, 3.1383, 3.1119, 3.0933, 3.0889, 3.0846, 3.073, 3.0673, 3.0664, 3.0462, 3.0328, 3.026, 3.0219, 3.0165, 3.0137, 3.009, 2.9852, 2.975, 2.9464, 2.9437, 2.9323, 2.8446, 2.7109, 2.8332, 2.8412, 2.3096, 2.2906, 1.9267, 2.3187, 2.6313, 1.714, 1.9203, 0.4157, 2.16, 0.7821, 0.8961, 0.5788, -0.2811, 0.2276, 0.7294, 0.7804, 1.5844, 0.89, 0.1816, 0.4662, 0.1299, -0.5685, -1.0664, 3.6263, 3.623, 3.6219, 3.6201, 3.6174, 3.6046, 3.5989, 3.5795, 3.5776, 3.5738, 3.5361, 3.5297, 3.4931, 3.4756, 3.4537, 3.4454, 3.4295, 3.4289, 3.4286, 3.3953, 3.3654, 3.361, 3.3551, 3.3523, 3.3375, 3.3353, 3.331, 3.3041, 3.2767, 3.2422, 3.2347, 3.2015, 3.0961, 2.9516, 2.9783, 2.9706, 3.0184, 2.8448, 2.8764, 2.6747, 2.4884, 2.5272, 2.3447, 2.6363, 2.4527, 1.8503, 0.9896, 1.9197, 1.0279, 1.693, 2.0752, 2.7309, -0.0979, 2.7235, 2.7545, 2.0132, 1.7704, 1.5271, 0.5273, 0.9421, 1.2898, 1.1002, 1.4385, 2.7862, 2.7856, 2.7829, 2.7808, 2.7795, 2.7754, 2.7747, 2.7735, 2.7728, 2.7727, 2.7709, 2.7709, 2.7692, 2.7682, 2.7676, 2.7671, 2.7656, 2.7637, 2.7582, 2.7578, 2.7553, 2.7445, 2.7415, 2.737, 2.7342, 2.7289, 2.7286, 2.7255, 2.7201, 2.7086, 2.6958, 2.6894, 2.6853, 2.6792, 2.6871, 2.6448, 2.658, 2.4895, 2.4812, 2.5602, 2.6437, 2.3947, 2.3781, 2.4268, 2.4518, 2.2651, 2.409, 2.2194, 1.5398, 1.8452, 1.8187, 1.6724, 1.4257, 2.1105, -0.2828, 1.396, 1.3336, 0.7988, -0.4232, 0.0304, -0.5043, -0.5581, 0.6895, -0.8957, 3.9262, 3.9186, 3.9185, 3.9137, 3.9107, 3.9092, 3.8881, 3.8845, 3.87, 3.8097, 3.7875, 3.7781, 3.7713, 3.7709, 3.762, 3.7492, 3.7022, 3.699, 3.6968, 3.6903, 3.677, 3.6532, 3.6285, 3.5939, 3.5855, 3.5823, 3.5742, 3.5654, 3.5575, 3.5412, 3.534, 3.4607, 3.4451, 3.4312, 3.3672, 3.2434, 3.323, 3.1815, 2.8347, 2.5373, 2.7542, 2.0298, 2.7262, 2.5087, 2.7558, 2.0979, 2.9591, 1.7071, 1.8573, 1.3646, 0.2098, -0.0449, 3.1677, 2.6025, 1.6427, -0.962, 2.7109, 2.7107, 2.7105, 2.7053, 2.6999, 2.6977, 2.695, 2.6927, 2.6885, 2.688, 2.686, 2.6847, 2.6815, 2.6779, 2.6764, 2.6751, 2.6708, 2.6656, 2.6623, 2.6584, 2.6575, 2.6512, 2.6434, 2.6393, 2.629, 2.6221, 2.612, 2.5953, 2.5935, 2.5918, 2.5493, 2.477, 2.4406, 2.5477, 2.4347, 2.5323, 2.4895, 2.5313, 2.2997, 2.1224, 2.3454, 1.8759, 1.6272, 2.2336, 2.0767, 1.7271, 1.7926, 1.7612, 1.7704, 1.1229, 0.9603, 1.2717, 0.5405, 1.1821, 0.8503, 1.5594, 0.4923, -0.3578, -0.1618, 1.0461, 1.1446, 0.9846, 2.8488, 2.8469, 2.8413, 2.841, 2.8395, 2.8359, 2.835, 2.8346, 2.8322, 2.8283, 2.8278, 2.8264, 2.8254, 2.8218, 2.8195, 2.818, 2.8143, 2.8137, 2.8137, 2.8128, 2.8118, 2.8107, 2.8094, 2.8044, 2.8035, 2.7967, 2.7956, 2.7931, 2.7922, 2.7909, 2.7844, 2.7812, 2.7394, 2.7644, 2.7778, 2.7455, 2.7161, 2.729, 2.7371, 2.702, 2.6865, 2.7001, 2.7332, 2.6559, 2.6584, 2.6068, 2.3764, 2.417, 2.4513, 2.6439, 2.4421, 2.5432, 2.0508, 2.5295, 1.4248, 2.1056, 1.9316, 1.6801, -0.289, 0.0082, 1.414, 1.1257, 1.3004, 0.0666, -0.5063, 1.4086, -0.9244, 0.0179, 0.3894, 1.2626, 0.6116, 3.8776, 3.8701, 3.8676, 3.8592, 3.8588, 3.8554, 3.8523, 3.8513, 3.8478, 3.8429, 3.8257, 3.824, 3.8171, 3.7781, 3.7567, 3.7501, 3.7391, 3.7207, 3.7188, 3.7078, 3.6408, 3.6291, 3.6001, 3.5798, 3.5635, 3.5332, 3.5297, 3.5085, 3.5081, 3.4753, 3.4216, 3.3959, 3.2962, 2.3197, 2.5459, 1.9282, 2.3358, 1.9203, 1.8309, 2.3927, 1.4224, 0.4442, 0.05, 2.6612, 1.536, 1.1431, 1.4034, 1.3927, -0.0376, 0.1834, 0.3531, 2.4896, 0.542, 4.7438, 4.7129, 4.7124, 4.7018, 4.6742, 4.6216, 4.6078, 4.568, 4.554, 4.5259, 4.454, 4.3563, 4.3122, 4.3105, 4.1653, 4.087, 4.0739, 4.0515, 4.0352, 3.8728, 3.8248, 3.7978, 3.6998, 3.6559, 3.5842, 3.5785, 3.5408, 3.5147, 3.4926, 3.4814, 3.4179, 3.1016, 2.927, 3.0994, 3.0688, 2.9468, 2.9321, 1.2212, 2.0659, 2.0706, 2.4766, 2.068, 2.0387, 2.5416, 1.3871, 0.5258, 2.1685, 1.2314, 1.9839, 1.843, -0.2768, -0.0921, 1.7973, 2.1541, 1.806, 1.1463, -0.3071, 3.5415, 3.5378, 3.5359, 3.5301, 3.5247, 3.5245, 3.5243, 3.5241, 3.5233, 3.5232, 3.5224, 3.5223, 3.5219, 3.5214, 3.5211, 3.5186, 3.51, 3.5023, 3.4754, 3.471, 3.4617, 3.4508, 3.4127, 3.4036, 3.4029, 3.402, 3.3949, 3.3869, 3.3793, 3.3497, 3.2676, 3.0317, 2.9047, 2.7325, 3.0203, 2.9757, 2.8169, 3.2291, 3.1591, 2.1954, 2.7133, 2.2537, 2.9583, 3.0713, 1.7691, 2.8096, 2.1258, 2.2609, 1.3125, 0.0036, 1.6493, 0.2713, 0.7726, -0.07, 2.0151, 1.9586, 0.6108, 0.002, 1.7267, -0.4221, 0.8005, -0.2712, 3.6149, 3.6135, 3.6133, 3.6122, 3.6066, 3.6051, 3.6028, 3.6022, 3.5999, 3.5982, 3.5968, 3.596, 3.5937, 3.5924, 3.5918, 3.5866, 3.5798, 3.573, 3.5707, 3.5684, 3.5537, 3.5511, 3.5265, 3.526, 3.5149, 3.5019, 3.4971, 3.4927, 3.486, 3.4384, 3.3732, 3.1667, 3.3913, 3.0501, 3.2644, 3.2539, 2.9736, 2.7598, 2.3751, 1.0521, 2.3467, 2.5539, 0.6006, 1.3854, 0.6018, 1.8007, 1.8767, 1.3201, 1.4191, 1.9523, 0.8185, -0.6715, 1.0089, 0.5488, 0.5487, 0.548, 0.5473, 0.547, 0.5469, 0.5464, 0.546, 0.5454, 0.5452, 0.5452, 0.5446, 0.5434, 0.5434, 0.5428, 0.5427, 0.5426, 0.5426, 0.5424, 0.5424, 0.5421, 0.5419, 0.5417, 0.5416, 0.5413, 0.5411, 0.541, 0.5407, 0.5405, 0.5404, 0.526, 0.5325, 0.5276, 0.5398, 0.5107, 0.5299, 0.5263, 0.5343, 0.4917, 0.5282, 0.5305, 0.4844, 0.5184, 0.5135, 0.4474, 0.4644, 0.505, 0.4451, 0.3984, 0.4536, 0.4531, 0.4547, 0.4251, 0.4479, 0.2049, 0.3801, 0.1215, 0.3754, 0.4138, 0.2403, 0.2457, 0.3124, 0.3104, 0.3208, 0.3595, 0.0703, 0.1513, -0.0082, 0.3213, 0.0289, 0.0968, 0.2458, 0.2591, 0.2295, 0.1466, -0.0412, -0.0358, 0.095, 0.0864, 0.0253, -0.5224, 0.0298, 0.0089, -0.036, 4.8523, 4.8401, 4.8396, 4.8224, 4.7727, 4.7149, 4.6557, 4.6301, 4.6255, 4.6142, 4.5394, 4.4077, 4.346, 4.2415, 4.212, 4.1696, 4.169, 4.133, 3.9598, 3.9068, 3.8051, 3.6906, 3.6609, 3.6431, 3.6356, 3.6234, 3.6161, 3.6054, 3.5464, 3.5344, 2.7736, 1.6616, 2.3165, 0.4009, 1.9746, 1.969, 1.7867, 1.8266, 0.4115, 1.5477, 0.4804, 0.2988, 2.8521, 1.3173, 2.205, 3.1509, 3.1508, 3.1504, 3.149, 3.1488, 3.1487, 3.1486, 3.1423, 3.1352, 3.1345, 3.1241, 3.1108, 3.1013, 3.0884, 3.0875, 3.0676, 3.0512, 3.0505, 3.0503, 3.0422, 3.0339, 3.031, 3.0298, 3.0101, 2.9875, 2.9764, 2.9719, 2.9653, 2.9563, 2.9314, 2.9079, 2.8697, 2.806, 2.838, 2.7899, 2.6655, 2.6186, 2.7871, 2.3816, 2.6788, 2.1986, 2.3027, 2.2867, 2.2155, 2.1707, 2.1219, 2.1091, 2.0404, 1.8653, 1.1515, 0.5191, 0.7631, 1.7584, 1.692, 1.7672, 1.8326, 1.9617, 0.5853, 1.5383, 0.3554, 0.9113, 1.5508, 3.6544, 3.6536, 3.6403, 3.6399, 3.6177, 3.6109, 3.6084, 3.6081, 3.6047, 3.6043, 3.6032, 3.6017, 3.5964, 3.5913, 3.5588, 3.485, 3.4609, 3.4369, 3.4264, 3.4236, 3.3626, 3.3609, 3.3602, 3.3402, 3.3343, 3.2839, 3.2719, 3.2648, 3.2496, 3.2327, 3.1226, 3.1553, 2.9433, 3.0271, 2.96, 3.0605, 2.8937, 2.2258, 2.6758, 2.5747, 2.9166, 2.3984, 1.9578, 2.0004, 1.8064, 1.6869, 0.738, -0.3108, -0.0011, 0.901, 1.6336, 0.3626, 1.0637, -0.1723, -0.2093]}, \"token.table\": {\"Topic\": [6, 2, 3, 5, 6, 11, 13, 14, 3, 5, 6, 11, 12, 14, 6, 7, 9, 11, 13, 14, 1, 2, 3, 4, 5, 6, 7, 8, 9, 10, 11, 13, 14, 2, 13, 13, 14, 4, 6, 3, 4, 6, 11, 13, 14, 8, 11, 1, 2, 3, 5, 6, 11, 13, 3, 6, 10, 11, 14, 10, 11, 1, 2, 11, 14, 4, 9, 4, 8, 12, 14, 6, 7, 9, 13, 2, 7, 11, 12, 13, 1, 2, 5, 6, 7, 9, 11, 13, 4, 11, 13, 10, 11, 4, 6, 2, 3, 1, 5, 13, 2, 3, 5, 6, 8, 11, 13, 4, 6, 13, 1, 2, 3, 5, 7, 11, 8, 1, 10, 11, 2, 5, 6, 8, 11, 13, 14, 1, 3, 5, 11, 13, 14, 5, 8, 11, 2, 5, 6, 1, 2, 3, 5, 6, 7, 11, 13, 14, 5, 13, 1, 2, 3, 5, 6, 9, 10, 11, 13, 14, 2, 7, 11, 2, 3, 4, 5, 6, 8, 11, 14, 11, 7, 9, 14, 9, 2, 7, 11, 9, 13, 1, 2, 3, 9, 11, 14, 2, 4, 6, 8, 11, 1, 2, 3, 4, 5, 6, 8, 11, 13, 3, 4, 3, 2, 5, 6, 7, 9, 10, 11, 14, 2, 3, 5, 6, 7, 9, 11, 13, 14, 1, 2, 3, 4, 5, 6, 7, 9, 11, 12, 13, 14, 4, 1, 2, 3, 4, 5, 6, 7, 8, 9, 10, 11, 12, 13, 14, 1, 2, 3, 5, 6, 8, 10, 11, 12, 13, 14, 2, 3, 5, 6, 11, 13, 14, 9, 9, 6, 8, 11, 3, 5, 13, 14, 1, 2, 3, 4, 5, 6, 7, 9, 11, 13, 14, 6, 1, 2, 3, 6, 11, 13, 1, 2, 3, 5, 6, 9, 11, 13, 14, 4, 6, 8, 3, 7, 9, 11, 14, 1, 6, 10, 11, 13, 11, 1, 2, 3, 4, 5, 6, 7, 8, 9, 11, 13, 14, 2, 3, 3, 7, 11, 4, 6, 11, 3, 5, 6, 9, 4, 8, 11, 13, 1, 2, 3, 11, 13, 1, 3, 6, 11, 13, 3, 13, 3, 7, 9, 11, 1, 2, 3, 4, 5, 6, 7, 9, 10, 11, 12, 13, 14, 10, 6, 7, 9, 11, 11, 14, 5, 1, 2, 3, 5, 6, 7, 8, 9, 10, 11, 12, 13, 14, 11, 2, 9, 1, 2, 3, 5, 6, 11, 13, 14, 8, 1, 2, 3, 5, 11, 13, 14, 4, 6, 6, 12, 14, 4, 2, 3, 5, 6, 9, 11, 13, 3, 11, 12, 6, 13, 14, 1, 2, 3, 5, 6, 7, 8, 9, 10, 11, 12, 13, 14, 9, 12, 1, 3, 5, 6, 11, 13, 14, 10, 11, 14, 1, 2, 3, 5, 6, 7, 9, 10, 11, 13, 14, 7, 9, 4, 6, 8, 11, 1, 2, 3, 4, 5, 6, 7, 8, 10, 11, 13, 14, 11, 13, 2, 4, 6, 8, 11, 14, 6, 11, 13, 1, 11, 13, 2, 2, 3, 4, 5, 6, 7, 8, 9, 10, 11, 13, 14, 2, 3, 4, 6, 11, 7, 9, 11, 14, 1, 2, 5, 6, 11, 13, 1, 2, 3, 4, 5, 6, 7, 8, 9, 10, 11, 12, 13, 14, 1, 3, 5, 6, 11, 13, 1, 2, 3, 5, 6, 7, 9, 11, 13, 14, 1, 2, 3, 4, 5, 6, 8, 9, 10, 11, 12, 13, 14, 4, 6, 7, 8, 9, 11, 1, 2, 3, 13, 1, 2, 11, 14, 1, 3, 5, 6, 11, 14, 3, 7, 9, 11, 14, 14, 9, 10, 4, 6, 11, 9, 12, 14, 2, 3, 7, 9, 11, 3, 14, 13, 3, 8, 11, 2, 8, 11, 1, 2, 1, 2, 6, 7, 11, 14, 1, 2, 3, 4, 5, 6, 8, 10, 11, 13, 14, 3, 4, 6, 9, 10, 11, 13, 13, 14, 1, 3, 7, 3, 1, 2, 3, 4, 5, 6, 9, 10, 11, 13, 14, 3, 5, 6, 11, 12, 13, 14, 4, 6, 8, 4, 6, 8, 11, 2, 1, 3, 4, 6, 7, 8, 9, 11, 13, 14, 1, 11, 11, 11, 2, 1, 6, 11, 11, 6, 9, 3, 7, 9, 14, 1, 2, 3, 4, 5, 6, 7, 8, 10, 11, 12, 13, 14, 1, 2, 3, 4, 5, 6, 7, 8, 9, 11, 12, 13, 14, 7, 4, 6, 8, 1, 2, 3, 5, 6, 11, 13, 14, 1, 2, 3, 4, 5, 6, 7, 8, 9, 10, 11, 12, 13, 14, 13, 2, 9, 1, 2, 3, 5, 6, 7, 9, 10, 11, 13, 14, 3, 6, 11, 13, 2, 10, 2, 3, 9, 6, 11, 7, 1, 2, 3, 5, 6, 7, 9, 10, 11, 13, 14, 6, 5, 1, 3, 4, 5, 6, 9, 10, 11, 14, 6, 1, 2, 3, 5, 6, 7, 9, 10, 11, 13, 14, 2, 10, 11, 1, 2, 3, 5, 6, 7, 9, 10, 11, 12, 13, 14, 10, 11, 6, 8, 11, 14, 2, 3, 5, 6, 10, 11, 13, 14, 2, 3, 10, 11, 13, 10, 5, 7, 3, 11, 11, 13, 4, 8, 1, 2, 3, 5, 6, 9, 11, 13, 14, 1, 2, 3, 5, 6, 8, 11, 13, 14, 11, 14, 4, 6, 1, 2, 3, 5, 6, 9, 11, 13, 2, 7, 9, 4, 13, 1, 2, 10, 11, 1, 3, 11, 1, 2, 3, 4, 5, 6, 9, 11, 13, 14, 11, 12, 14, 1, 2, 5, 11, 13, 3, 6, 11, 13, 14, 11, 12, 14, 3, 3, 6, 10, 11, 12, 13, 12, 12, 14, 10, 3, 6, 11, 13, 3, 10, 11, 4, 3, 11, 3, 6, 10, 11, 9, 11, 1, 2, 3, 5, 6, 7, 11, 12, 13, 14, 1, 3, 5, 7, 9, 11, 14, 3, 3, 10, 11, 7, 11, 11, 5, 13, 1, 14, 1, 3, 6, 11, 1, 14, 3, 13, 1, 2, 3, 4, 5, 6, 7, 8, 9, 10, 11, 13, 14, 7, 4, 6, 1, 2, 3, 5, 6, 7, 10, 11, 12, 13, 14, 13, 12, 9, 2, 5, 13, 1, 2, 3, 5, 6, 7, 9, 10, 11, 12, 13, 14, 6, 14, 2, 3, 5, 6, 8, 9, 11, 13, 2, 3, 4, 5, 6, 7, 8, 9, 11, 13, 14, 6, 11, 14, 2, 11, 1, 2, 11, 13, 4, 6, 1, 2, 3, 5, 6, 11, 13, 1, 2, 3, 5, 6, 8, 11, 13, 14, 9, 11, 8, 11, 13, 6, 13, 8, 1, 3, 6, 11, 1, 11, 12, 11, 14, 3, 6, 11, 13, 1, 3, 5, 6, 11, 13, 7, 5, 11, 12, 14, 2, 7, 9, 11, 3, 3, 1, 2, 3, 5, 7, 8, 11, 13, 14, 2, 3, 6, 7, 9, 11, 13, 14, 1, 2, 3, 4, 5, 6, 7, 8, 9, 10, 11, 12, 13, 14, 1, 2, 3, 5, 6, 7, 9, 10, 11, 12, 13, 14, 1, 2, 3, 4, 5, 6, 8, 11, 13, 1, 2, 3, 5, 6, 11, 13, 14, 10, 12, 2, 3, 4, 6, 9, 11, 13, 4, 6, 11, 14, 1, 9, 13, 1, 3, 5, 6, 7, 9, 11, 12, 13, 14, 1, 2, 3, 4, 5, 6, 7, 8, 11, 12, 13, 14, 5, 2, 7, 1, 2, 3, 4, 5, 6, 7, 8, 9, 10, 11, 12, 13, 14, 1, 2, 3, 4, 5, 6, 7, 8, 9, 10, 11, 13, 14, 13, 2, 5, 11, 1, 3, 4, 6, 8, 10, 11, 13, 14, 3, 10, 11, 13, 1, 5, 13, 1, 2, 3, 4, 5, 6, 11, 13, 14, 1, 11, 13, 2, 6, 11, 13, 14, 4, 6, 8, 2, 11, 1, 2, 3, 5, 7, 9, 11, 12, 4, 6, 11, 14, 4, 11, 14, 1, 2, 3, 5, 6, 7, 9, 11, 13, 14, 11, 14, 11, 1, 3, 5, 11, 13, 7, 9, 11, 2, 7, 9, 11, 2, 3, 7, 9, 11, 12, 14, 1, 6, 10, 2, 3, 5, 11, 4, 6, 11, 14, 6, 11, 6, 11, 14, 6, 14, 3, 5, 9, 11, 12, 1, 3, 6, 11, 13, 14, 6, 11, 6, 1, 2, 3, 4, 5, 6, 8, 11, 13, 14, 8, 11, 2, 4, 5, 8, 11, 1, 13, 6, 1, 3, 11, 13, 9, 4, 6, 8, 11, 14, 6, 2, 6, 10, 11, 10, 13, 9, 11, 5, 8, 1, 2, 3, 4, 5, 6, 7, 8, 9, 10, 11, 13, 14, 1, 2, 11, 13, 3, 1, 2, 3, 11, 14, 9, 11, 6, 10, 11, 1, 2, 3, 6, 11, 13, 14, 6, 11, 14, 1, 2, 3, 6, 11, 13, 14, 11, 4, 6, 11, 1, 2, 3, 5, 6, 8, 9, 11, 13, 2, 3, 11, 13, 14, 4, 6, 1, 6, 2, 3, 5, 6, 8, 11, 13, 14, 1, 2, 3, 4, 5, 6, 10, 11, 13, 14, 1, 2, 3, 4, 5, 6, 9, 11, 13, 1, 9, 1, 2, 3, 4, 5, 6, 7, 8, 9, 10, 11, 12, 13, 14, 10, 11, 13, 5, 11, 1, 2, 11, 13, 1, 2, 3, 5, 6, 10, 11, 13, 14, 1, 2, 3, 6, 11, 13, 14, 7, 9, 11, 7, 10, 7, 9, 11, 14, 2, 3, 4, 5, 6, 11, 12, 13, 14, 1, 2, 3, 5, 6, 11, 13, 14, 10, 1, 2, 3, 5, 6, 8, 11, 13, 14, 1, 2, 3, 4, 5, 6, 7, 9, 10, 11, 13, 14, 4, 7, 11, 14, 1, 2, 5, 13, 7, 11, 4, 5, 5, 7, 8, 9, 11, 5, 8, 5, 2, 11, 12, 1, 3, 5, 1, 2, 10, 11, 13, 14, 1, 2, 3, 4, 5, 6, 7, 8, 9, 11, 13, 14, 5, 9, 11, 2, 9, 11, 1, 2, 3, 5, 6, 9, 10, 11, 13, 14, 13, 1, 2, 3, 5, 6, 10, 11, 13, 1, 11, 13, 6, 8, 1, 2, 3, 5, 6, 7, 9, 10, 11, 13, 14, 1, 2, 3, 5, 6, 10, 11, 13, 2, 3, 11, 13, 6, 1, 6, 13, 4, 6, 12, 4, 5, 13, 4, 13, 1, 2, 3, 5, 6, 7, 8, 9, 11, 13, 14, 7, 11, 12, 14, 1, 3, 6, 11, 13, 1, 2, 3, 5, 7, 8, 9, 11, 13, 14, 1, 2, 5, 6, 11, 13, 2, 6, 11, 13, 14, 7, 9, 11, 5, 8, 14, 1, 5, 1, 6, 2, 5, 7, 8, 9, 1, 2, 3, 5, 7, 9, 10, 11, 12, 13, 14, 1, 2, 3, 5, 6, 9, 11, 13, 14, 2, 5, 5, 10, 4, 6, 8, 2, 10, 12, 9, 1, 2, 3, 4, 6, 7, 9, 11, 12, 14, 5, 4, 4, 1, 2, 3, 5, 6, 11, 13, 14, 1, 2, 11, 13, 14, 2, 3, 5, 6, 11, 13, 14, 1, 2, 3, 5, 6, 8, 11, 13, 4, 6, 3, 5, 11, 2, 5, 11, 13, 2, 3, 5, 9, 10, 11, 14, 6, 11, 13, 3, 6, 10, 11, 13, 1, 2, 3, 5, 6, 9, 11, 13, 14, 1, 5, 6, 11, 12, 14, 1, 11, 14, 7, 5, 7, 11, 2, 5, 7, 11, 12, 4, 6, 8, 14, 1, 11, 13, 13, 1, 2, 3, 5, 6, 7, 9, 10, 11, 13, 14, 8, 11, 10, 4, 6, 4, 2, 7, 9, 11, 3, 12, 11, 4, 3, 14, 4, 6, 11, 13, 4, 6, 11, 3, 11, 5, 11, 4, 6, 8, 1, 3, 5, 6, 11, 13, 14, 3, 11, 1, 2, 3, 5, 6, 8, 9, 10, 11, 13, 14, 7, 9, 11, 13, 1, 2, 3, 4, 5, 6, 7, 8, 9, 11, 13, 14, 11, 14, 1, 2, 3, 5, 6, 7, 8, 10, 11, 12, 13, 14, 1, 2, 3, 5, 6, 10, 11, 13, 14, 1, 2, 3, 4, 5, 6, 7, 8, 9, 11, 12, 13, 14, 11, 1, 11, 14, 3, 6, 11, 3, 6, 11, 3, 11, 1, 2, 3, 5, 6, 8, 9, 11, 13, 14, 3, 6, 8, 11, 3, 5, 11, 14, 3, 7, 9, 11, 1, 2, 3, 5, 6, 7, 9, 10, 11, 13, 14, 12, 14, 11, 14, 1, 2, 3, 5, 6, 8, 11, 13, 14, 2, 5, 8, 2, 5, 11, 13, 1, 2, 3, 4, 5, 6, 7, 8, 9, 10, 11, 12, 13, 14, 1, 2, 6, 11, 13, 14, 1, 3, 4, 6, 11, 14, 2, 7, 9, 11, 2, 3, 4, 5, 6, 7, 8, 9, 11, 12, 13, 14, 3, 11, 14, 3, 3, 6, 11, 13, 3, 10, 3, 11, 13, 1, 2, 11, 14, 1, 7, 9, 11, 14, 1, 2, 3, 4, 5, 6, 8, 9, 10, 11, 13, 14, 1, 2, 3, 4, 5, 6, 7, 8, 9, 10, 11, 13, 1, 2, 3, 4, 5, 6, 8, 9, 11, 13, 14, 11, 4, 6, 8, 11, 5, 4, 6, 11, 14, 4, 5, 7, 11, 13, 3, 11, 13, 1, 2, 3, 4, 5, 6, 8, 9, 10, 11, 12, 13, 14, 14, 1, 2, 3, 7, 14, 4, 6, 11, 13, 14, 6, 11, 5, 11, 10, 1, 2, 3, 4, 5, 6, 7, 8, 11, 13, 5, 1, 11, 4, 6, 8, 1, 2, 3, 4, 5, 6, 11, 12, 13, 14, 6, 6, 11, 14, 5, 10, 11, 3, 4, 6, 11, 3, 4, 6, 11, 13, 7, 11, 3, 7, 11, 12, 13, 13, 14, 2, 9, 5, 6, 11, 13, 5, 13, 1, 2, 3, 4, 5, 6, 9, 11, 12, 13, 14, 3, 8, 2, 11, 13, 3, 11, 10, 12, 3, 1, 2, 3, 4, 5, 6, 7, 8, 9, 10, 11, 13, 14, 2, 3, 5, 6, 9, 10, 11, 6, 2, 5, 8, 11, 13, 2, 5, 11, 13, 2, 11, 14, 3, 7, 9, 11, 13, 14, 1, 4, 6, 8, 11, 14, 4, 6, 8, 3, 11, 3, 11, 3, 4, 6, 8, 1, 11, 4, 6, 11, 14, 1, 5, 4, 6, 8, 11, 7, 11, 12, 14, 1, 5, 12, 14, 3, 6, 11, 11, 3, 10, 11, 1, 2, 3, 5, 6, 7, 11, 12, 13, 14, 1, 2, 3, 4, 5, 6, 8, 10, 11, 13, 14, 2, 7, 9, 3, 3, 10, 11, 5, 1, 2, 3, 5, 6, 11, 13, 14, 2, 5, 11, 14, 10, 11, 4, 3, 4, 9, 4, 6, 11, 13, 1, 3, 4, 5, 11, 12, 13, 14, 6, 11, 9, 11, 5, 7, 1, 11, 13, 11, 14, 1, 2, 3, 5, 6, 7, 9, 10, 11, 13, 14, 2, 6, 7, 9, 11, 14, 2, 3, 11, 7, 11, 13, 2, 6, 7, 11, 13, 11, 14, 1, 3, 11, 13, 2, 5, 11, 11, 5, 5, 1, 2, 3, 5, 7, 11, 13, 14, 2, 3, 9, 11, 7, 9, 11, 1, 2, 11, 1, 2, 3, 5, 6, 7, 8, 9, 10, 11, 12, 13, 14, 3, 11, 12, 13, 5, 6, 8, 11, 14, 1, 2, 3, 4, 5, 6, 9, 10, 11, 13, 14, 1, 2, 5, 9, 11, 13, 3, 11, 13, 2, 14, 6, 7, 11, 5, 11, 12, 14, 6, 7, 1, 3, 6, 11, 13, 2, 11, 5, 8, 11, 13, 14, 1, 2, 3, 7, 9, 11, 14, 1, 2, 3, 6, 7, 11, 14, 3, 6, 11, 1, 7, 11, 13, 7, 9, 14, 2, 6, 2, 13, 10, 2, 13, 7, 2, 4, 6, 8, 11, 9, 3, 4, 5, 6, 8, 11, 13, 2, 3, 4, 5, 6, 8, 10, 11, 12, 13, 14, 4, 6, 10, 10, 1, 2, 3, 5, 6, 11, 12, 13, 14, 13, 1, 2, 3, 4, 5, 6, 8, 11, 13, 14, 2, 3, 5, 9, 11, 11, 14, 2, 1, 2, 3, 11, 14, 9, 2, 9, 11, 14, 6, 1, 3, 5, 6, 10, 11, 14, 3, 1, 2, 3, 11, 14, 1, 7, 9, 11, 12, 14, 11, 11, 6, 11, 1, 2, 3, 5, 6, 7, 9, 10, 11, 13, 14, 2, 9, 11, 1, 3, 9, 11, 13, 14, 1, 2, 3, 5, 6, 11, 13, 14, 7, 5, 11, 11, 1, 14, 11, 6, 11, 6, 13, 14, 6, 3, 11, 13, 13, 1, 2, 3, 5, 6, 11, 13, 14, 2, 9, 11, 2, 7, 9, 11, 14, 6, 14, 1, 2, 3, 5, 6, 7, 9, 10, 11, 13, 14, 6, 11, 13, 3, 10, 11, 13, 6, 13, 1, 3, 4, 6, 8, 9, 11, 13, 3, 11, 13, 2, 4, 3, 1, 2, 3, 5, 6, 9, 11, 13, 14, 3, 4, 6, 11, 13, 13, 14, 7, 3, 11, 13, 4, 6, 8, 4, 6, 8, 3, 4, 6, 8, 11, 13, 14, 5, 11, 13, 9, 7, 4, 8, 3, 6, 8, 11, 14, 4, 8, 1, 2, 3, 5, 6, 9, 11, 13, 14], \"Freq\": [0.9882392044545703, 0.003027160539255234, 0.04238024754957328, 0.018162963235531404, 0.009081481617765702, 0.9081481617765702, 0.012108642157020936, 0.009081481617765702, 0.120073208821168, 0.015009151102646, 0.180109813231752, 0.390237928668796, 0.25515556874498196, 0.030018302205292, 0.005219696998135546, 0.02609848499067773, 0.07829545497203319, 0.1252727279552531, 0.7516363677315187, 0.010439393996271092, 0.04283017109970102, 0.005353771387462627, 0.06290681380268587, 0.0013384428468656568, 0.018738199856119197, 0.1057369849023869, 0.00401532854059697, 0.014722871315522227, 0.024091971243581825, 0.07361435657761113, 0.6277296951799931, 0.010707542774925255, 0.00803065708119394, 0.957487530089694, 0.018413221732494118, 0.14591493542318462, 0.729574677115923, 0.8479126507462318, 0.14963164424933503, 0.0074834524140479025, 0.04490071448428741, 0.6660272648502633, 0.2694042869057245, 0.0074834524140479025, 0.014966904828095805, 0.8348809473329595, 0.07589826793935996, 0.009069730203266534, 0.0022674325508166334, 0.022674325508166334, 0.0544183812195992, 0.0068022976524499, 0.9001707226742035, 0.004534865101633267, 0.9073828327483439, 0.04536914163741719, 0.9268630972763169, 0.016551126737077086, 0.03310225347415417, 0.9089660128714938, 0.07129145198992108, 0.7340869085694335, 0.01882274124537009, 0.09411370622685045, 0.15058192996296071, 0.9896909819611972, 0.9593283746506294, 0.17260858332649406, 0.28768097221082345, 0.4890576527583998, 0.057536194442164686, 0.04073735484675304, 0.7740097420883078, 0.12221206454025912, 0.04073735484675304, 0.45163614931427437, 0.21713276409340115, 0.18239152183845697, 0.1302796584560407, 0.008685310563736046, 0.04063777976587235, 0.024382667859523408, 0.00812755595317447, 0.03251022381269788, 0.2925920143142809, 0.06502044762539576, 0.5201635810031661, 0.00812755595317447, 0.6099127010030106, 0.2788172347442334, 0.08713038585757295, 0.9505015382433286, 0.034563692299757406, 0.951930684045816, 0.041996941943197766, 0.8968302223292328, 0.9811979367930767, 0.04004161748014513, 0.8809155845631929, 0.04004161748014513, 0.00162883547582094, 0.0010858903172139601, 0.9420098501831103, 0.011944793489353562, 0.01140184833074658, 0.025518422454528063, 0.005972396744676781, 0.9842410612165884, 0.9159325967951409, 0.06542375691393863, 0.09718431921968014, 0.01388347417424002, 0.06478954614645342, 0.05553389669696008, 0.226763411512587, 0.5460833175201075, 0.9966361170917247, 0.03834452795188889, 0.9394409348212778, 0.019172263975944445, 0.00385272411530143, 0.7512812024837788, 0.05008541349891859, 0.00770544823060286, 0.17337258518856435, 0.00385272411530143, 0.00385272411530143, 0.003374560060183118, 0.001687280030091559, 0.005061840090274677, 0.9752478573929211, 0.010123680180549354, 0.003374560060183118, 0.9925013545932325, 0.005343210522709192, 0.001335802630677298, 0.06309927320782585, 0.8833898249095619, 0.9118342451966983, 0.0020647485342091304, 0.004129497068418261, 0.03510072508155521, 0.020647485342091303, 0.014453239739463912, 0.09497843257361999, 0.8052519283415608, 0.018582736807882173, 0.004129497068418261, 0.8815090192628446, 0.05876726795085631, 0.00726071377041699, 0.00726071377041699, 0.0726071377041699, 0.05808571016333592, 0.039933925737293444, 0.0762374945893784, 0.2795374801610541, 0.43564282622501943, 0.003630356885208495, 0.018151784426042476, 0.8953781944261485, 0.018653712383878095, 0.07461484953551238, 0.003947894641508016, 0.0473747356980962, 0.3000399927546093, 0.01184368392452405, 0.027635262490556117, 0.039478946415080166, 0.5369136712450903, 0.03158315713206413, 0.9970815127458745, 0.048615224914060826, 0.27548627451301133, 0.6644080738254979, 0.968615994975087, 0.9410697627165957, 0.008962569168729482, 0.0537754150123769, 0.97729715924441, 0.875584368404685, 0.09602050975995939, 0.01920410195199188, 0.025605469269322504, 0.1216259790292819, 0.23044922342390253, 0.4929052834344582, 0.03872217864489048, 0.1548887145795619, 0.27105525051423335, 0.4259439650937953, 0.07744435728978095, 0.013443407035186324, 0.0026886814070372646, 0.026886814070372647, 0.23929264522631655, 0.026886814070372647, 0.20971714974890665, 0.016132088442223587, 0.45169847638226046, 0.010754725628149059, 0.28080602970901103, 0.5616120594180221, 0.9680381539341727, 0.41213663922095295, 0.006868943987015883, 0.06868943987015882, 0.10990310379225413, 0.04808260790911118, 0.17859254366241295, 0.15111676771434943, 0.013737887974031766, 0.0038634293968464947, 0.027044005777925463, 0.015453717587385979, 0.015453717587385979, 0.2124886168265572, 0.04249772336531144, 0.6413292798765181, 0.019317146984232474, 0.02318057638107897, 0.022126801049886447, 0.005268285964258678, 0.041092630521217685, 0.14856566419209472, 0.030556058592700334, 0.031609715785552064, 0.0010536571928517356, 0.06427308876395588, 0.581618770454158, 0.03582434455695901, 0.00948291473566562, 0.029502401399848596, 0.971156556366049, 0.018504987126623417, 0.004758425261131736, 0.03172283507421157, 0.021677270634044576, 0.10785763925231935, 0.03489511858163273, 0.024849554141465734, 0.007930708768552893, 0.012160420111781103, 0.027493123730983365, 0.6698805339837677, 0.008459422686456419, 0.008988136604359947, 0.020619842798237524, 0.013699160285368016, 0.006322689362477546, 0.008430252483303395, 0.005268907802064621, 0.050581514899820365, 0.011591597164542167, 0.05690420426229791, 0.3814689248694786, 0.017914286527019714, 0.3835764879903044, 0.06322689362477546, 0.010571295588723014, 0.04757083014925357, 0.04757083014925357, 0.20085461618573727, 0.6316349114262001, 0.03171388676616904, 0.026428238971807537, 0.9645311576523187, 0.9936711979621538, 0.2530687075073483, 0.3479694728226038, 0.3796030612610224, 0.9394502779418663, 0.0370374680726182, 0.0370374680726182, 0.8888992337428367, 0.018462811874414717, 0.0036925623748829436, 0.007385124749765887, 0.0036925623748829436, 0.0036925623748829436, 0.3064826771152843, 0.0036925623748829436, 0.07015868512277593, 0.5391141067329097, 0.0036925623748829436, 0.04061818612371238, 0.9711172212832004, 0.004438785845438406, 0.0014795952818128018, 0.25301079318998915, 0.019234738663566425, 0.6184708277977512, 0.10357166972689613, 0.029625872470852584, 0.1549661021552289, 0.03874152553880723, 0.031904785737841244, 0.04785717860676186, 0.004557826533977321, 0.6700005004946661, 0.006836739800965981, 0.015952392868920622, 0.5699253026794899, 0.29791549912791515, 0.12952847788170224, 0.654397430580644, 0.00674636526371798, 0.12818094001064162, 0.1956445926478214, 0.02023909579115394, 0.011731599469489632, 0.002932899867372408, 0.1099837450264653, 0.16864174237391344, 0.7053624181030641, 0.9937154509633794, 0.02062003890666152, 0.0034366731511102535, 0.030930058359992282, 0.0034366731511102535, 0.0034366731511102535, 0.006873346302220507, 0.006873346302220507, 0.07560680932442558, 0.061860116719984565, 0.759504766395366, 0.013746692604441014, 0.013746692604441014, 0.9053266731122827, 0.08705064164541179, 0.0730547487827438, 0.8766569853929256, 0.0365273743913719, 0.09516523070340137, 0.870082109288241, 0.027190065915257532, 0.9672541727675129, 0.9328918340022541, 0.948876564519216, 0.962854998308407, 0.4606303553661388, 0.10967389413479495, 0.4057934082987413, 0.010967389413479495, 0.08149205365360161, 0.007408368513963782, 0.8927084059326358, 0.003704184256981891, 0.011112552770945673, 0.004910630038371556, 0.984581322693497, 0.007365945057557334, 0.002455315019185778, 0.002455315019185778, 0.015530659292791736, 0.9784315354458794, 0.0011690330284239475, 0.00467613211369579, 0.2571872662532685, 0.736490807907087, 0.01928553490170985, 0.0065498043062410805, 0.03675167971835273, 0.013463486629495555, 0.025107583173924142, 0.05749272668811615, 0.009096950425334835, 0.0218326810208036, 0.04875965427979471, 0.5931211677318312, 0.012371852578455375, 0.13463486629495555, 0.02146880300379021, 0.9804146761652234, 0.9659833536894793, 0.11108333130794563, 0.863981465728466, 0.02468518473509903, 0.9958138582233773, 0.9309288707527458, 0.9303023663095138, 0.03902961002627562, 0.02176651328388448, 0.058544415039413426, 0.20265374436720032, 0.010507971930151128, 0.029272207519706713, 0.0007505694235822234, 0.03902961002627562, 0.01951480501313781, 0.5554213734508453, 0.012759680200897799, 0.00900683308298668, 0.0015011388471644468, 0.9982451405630061, 0.04800186895898822, 0.9120355102207761, 0.017543671709968702, 0.004784637739082374, 0.03349246417357662, 0.015948792463607912, 0.04465661889810216, 0.8420962420784978, 0.02551806794177266, 0.015948792463607912, 0.9208713851734943, 0.012672118999369904, 0.003168029749842476, 0.01584014874921238, 0.01584014874921238, 0.9155605977044756, 0.009504089249527429, 0.028512267748582287, 0.05168709453218751, 0.9303677015793752, 0.20381820890253638, 0.38498995014923537, 0.40763641780507276, 0.5418818504829013, 0.4020377123205069, 0.08568016819945229, 0.006590782169188638, 0.019772346507565913, 0.006590782169188638, 0.46794553401239325, 0.013181564338377276, 0.17739884698894784, 0.04434971174723696, 0.7539450997030283, 0.05432487713443873, 0.21729950853775493, 0.6518985256132648, 0.003846712579579401, 0.14361060297096429, 0.05770068869369101, 0.16540864092191424, 0.012822375265264668, 0.02949146311010874, 0.006411187632632334, 0.030773700636635207, 0.06667635137937628, 0.25644750530529337, 0.021798037950949936, 0.2013112916646553, 0.005128950106105867, 0.9716120895167676, 0.9702505905693274, 0.05036898714613896, 0.05756455673844453, 0.09354240469997235, 0.04077489435639821, 0.38856075798450057, 0.35018438682553754, 0.014391139184611133, 0.8686275695953365, 0.12408965279933379, 0.7995772953997013, 0.009940641101162526, 0.07952512880930021, 0.013668381514098472, 0.023609022615261, 0.05467352605639389, 0.029821923303487576, 0.024851602752906314, 0.033549663716423525, 0.7244242202472191, 0.004970320550581263, 0.0012425801376453158, 0.682586704383013, 0.2730346817532052, 0.026964680810495738, 0.10785872324198295, 0.29661148891545314, 0.5392936162099148, 0.015337267548581808, 0.004601180264574543, 0.03527571536173816, 0.001533726754858181, 0.007668633774290904, 0.026073354832589074, 0.14110286144695264, 0.01687099430343999, 0.039876895626312706, 0.687109586176465, 0.009202360529149085, 0.013803540793723628, 0.0804396792122235, 0.9170123430193479, 0.7902836748703036, 0.12379771154007435, 0.44475474145878563, 0.04585100427410161, 0.38514843590245357, 0.004585100427410161, 0.04148725178153075, 0.006914541963588459, 0.9472922490116188, 0.5863646183639976, 0.3569175937867811, 0.050988227683825875, 0.9824655850573406, 0.006739090927334794, 0.0786227274855726, 0.011231818212224657, 0.004492727284889863, 0.022463636424449315, 0.04492727284889863, 0.024710000066894246, 0.04942000013378849, 0.17521636411070465, 0.5615909106112328, 0.004492727284889863, 0.01572454549711452, 0.007013807384429212, 0.021041422153287637, 0.4979803242944741, 0.09117949599757975, 0.37173179137474827, 0.938553527354956, 0.010201668775597347, 0.030605006326792045, 0.010201668775597347, 0.5833369810016693, 0.009641933570275527, 0.019283867140551053, 0.028925800710826576, 0.35675154210019444, 0.004820966785137763, 0.009786091989173483, 0.0013980131413104976, 0.015378144554415473, 0.10764701188090832, 0.033552315391451946, 0.044736420521935924, 0.0013980131413104976, 0.013980131413104977, 0.027960262826209954, 0.07269668334814587, 0.615125782176619, 0.04753244680455692, 0.004194039423931493, 0.004194039423931493, 0.023655057010803362, 0.0026283396678670403, 0.0026283396678670403, 0.0052566793357340805, 0.9593439787714697, 0.0052566793357340805, 0.04350863337237131, 0.02356717641003446, 0.03625719447697609, 0.012690018066941632, 0.019941456962336852, 0.08339154729704501, 0.03625719447697609, 0.6997638534056386, 0.021754316686185656, 0.02356717641003446, 0.026329752766679336, 0.0035904208318199094, 0.013164876383339668, 0.00119680694393997, 0.0035904208318199094, 0.03710101526213907, 0.013164876383339668, 0.023936138878799397, 0.00119680694393997, 0.7874989691125002, 0.02034571804697949, 0.023936138878799397, 0.045478663869718855, 0.02561080242364111, 0.07683240727092333, 0.5634376533201044, 0.2817188266600522, 0.02561080242364111, 0.02561080242364111, 0.08578423065065441, 0.007148685887554534, 0.8864370500567623, 0.007148685887554534, 0.08993964196057792, 0.02248491049014448, 0.08993964196057792, 0.7869718671550568, 0.01831338172424233, 0.033574533161110934, 0.021365612011616048, 0.015261151436868606, 0.9065123953499952, 0.003052230287373721, 0.020604480257250996, 0.08241792102900398, 0.7211568090037849, 0.16483584205800797, 0.020604480257250996, 0.9880399766024305, 0.9979982910779874, 0.9719396238893298, 0.3805447974348923, 0.4178531109089013, 0.20146489275964885, 0.43998113472010797, 0.40159351893915896, 0.15650335664540752, 0.09207820510252637, 0.0019182959396359662, 0.851723397198369, 0.005754887818907898, 0.046039102551263186, 0.03340687730284122, 0.9353925644795541, 0.9956803129866093, 0.3364542463330428, 0.28469205458949776, 0.3623353422048153, 0.056958463624045046, 0.6835015634885405, 0.28479231812022526, 0.9146451205251093, 0.10162723561390104, 0.015207204174145198, 0.8135854233167681, 0.015207204174145198, 0.007603602087072599, 0.13686483756730677, 0.007603602087072599, 0.007663444209244219, 0.0025544814030814063, 0.06386203507703517, 0.10984270033250047, 0.0025544814030814063, 0.061307553673953755, 0.05108962806162813, 0.06641651648011657, 0.6054120925302934, 0.007663444209244219, 0.022990332627732656, 0.03570253784715631, 0.3079343889317232, 0.022314086154472695, 0.08479352738699625, 0.12049606523415256, 0.4150420024731921, 0.004462817230894539, 0.9770564290661191, 0.015031637370247986, 0.02804634277918348, 0.2804634277918348, 0.701158569479587, 0.9478231665952075, 0.02305192827655902, 0.006286889529970642, 0.14669408903264833, 0.004191259686647095, 0.00838251937329419, 0.176032906839178, 0.041912596866470954, 0.05658200576973579, 0.5008555325543279, 0.02305192827655902, 0.012573779059941285, 0.0057581854158300855, 0.0057581854158300855, 0.028790927079150427, 0.6276422103254793, 0.29942564162316443, 0.011516370831660171, 0.017274556247490257, 0.8283456992684436, 0.05522304661789624, 0.09940148391221322, 0.7035187212281989, 0.2388091072059024, 0.04518010136327883, 0.012908600389508237, 0.9847471305825997, 0.05195220509896136, 0.029686974342263635, 0.022265230756697726, 0.4230393843772568, 0.03710871792782954, 0.16327835888245, 0.11132615378348863, 0.0890609230267909, 0.007421743585565909, 0.07421743585565908, 0.9872800332240845, 0.00958524304101053, 0.9991113857190377, 0.9952927748065472, 0.8880018118970934, 0.746623113726514, 0.1777674080301224, 0.07110696321204896, 0.9874277857295196, 0.9385458186166465, 0.9368483696522273, 0.037242698103207364, 0.0931067452580184, 0.6145045187029214, 0.24207753767084783, 0.05386660426734754, 0.005281039634053681, 0.027461406097079137, 0.002112415853621472, 0.21546641706939015, 0.023236574389836194, 0.027461406097079137, 0.029573821950700612, 0.027461406097079137, 0.5555653695024472, 0.017955534755782515, 0.008449663414485888, 0.005281039634053681, 0.022193996254027203, 0.1671077365009107, 0.03263822978533412, 0.00522211676565346, 0.009138704339893554, 0.04308246331664104, 0.03133270059392076, 0.013055291914133649, 0.054832226039361324, 0.32246571027910115, 0.04569352169946777, 0.2310786668801656, 0.018277408679787107, 0.9808965225335167, 0.07666381899186808, 0.07666381899186808, 0.8433020089105489, 0.04199082448392895, 0.02027143250948294, 0.12018063559193458, 0.056470419133559616, 0.017375513579556804, 0.7080521783669398, 0.026063270369335208, 0.008687756789778402, 0.03602147833200884, 0.002058370190400505, 0.05351762495041314, 0.07615969704481869, 0.01132103604720278, 0.04116740380801011, 0.030875552856007578, 0.010291850952002527, 0.03602147833200884, 0.02675881247520657, 0.6278029080721541, 0.017496146618404294, 0.015437776428003789, 0.01646696152320404, 0.9756547362682058, 0.8637478277580938, 0.1314398868327534, 0.04014608526258694, 0.06756292397849997, 0.012729246546673909, 0.0019583456225652166, 0.020562629036934774, 0.0009791728112826083, 0.01860428341436956, 0.10672983642980431, 0.6668166844834562, 0.02937518433847825, 0.03329187558360868, 0.06810743191192958, 0.0056756193259941325, 0.2270247730397653, 0.6924255577712841, 0.8749991548116999, 0.9303521061203254, 0.8545131347680666, 0.042725656738403325, 0.10681414184600832, 0.030001970278347227, 0.9600630489071112, 0.9791310346095446, 0.07087850268428587, 0.007633069519846171, 0.13521437435156072, 0.008723508022681337, 0.02726096257087918, 0.03489403209072535, 0.10686297327784638, 0.028351401073714345, 0.5430383744119133, 0.007633069519846171, 0.030532278079384682, 0.9679785063127097, 0.9704250463075542, 0.020919794440609846, 0.01394652962707323, 0.12203213423689076, 0.0034866324067683073, 0.0034866324067683073, 0.20222467959256182, 0.09065244257597599, 0.5404280230490877, 0.0034866324067683073, 0.9524079103481433, 0.02365666733840985, 0.007885555779469951, 0.034170741711036456, 0.02299953769012069, 0.057827409049446304, 0.0006571296482891626, 0.05257037186313301, 0.034827871359325614, 0.7326995578424162, 0.015771111558939902, 0.016428241207229063, 0.07330631371406533, 0.8796757645687839, 0.036653156857032666, 0.011370959996663406, 0.004873268569998603, 0.03248845713332402, 0.012995382853329606, 0.027615188563325416, 0.04061057141665502, 0.03248845713332402, 0.08771883425997484, 0.6838820226564706, 0.05523037712665083, 0.009746537139997206, 0.0032488457133324016, 0.8376864240602058, 0.1610935430885011, 0.19793097365639328, 0.3110343871743323, 0.4524136540717561, 0.028275853379484756, 0.005725661740607692, 0.10306191133093846, 0.014314154351519231, 0.04294246305455769, 0.18894683744005383, 0.6355484532074538, 0.005725661740607692, 0.002862830870303846, 0.008374256285079179, 0.008374256285079179, 0.008374256285079179, 0.9714137290691848, 0.9972659224925001, 0.964307142668685, 0.11733320176383907, 0.8604434796014866, 0.9296106038511114, 0.055776636231066684, 0.9811516250012868, 0.014117289568363839, 0.2186477814507536, 0.7288259381691786, 0.02132926808433128, 0.0030470382977616116, 0.019805748935450476, 0.0274233446798545, 0.048752612764185785, 0.06094076595523223, 0.5317081829594011, 0.24985714041645213, 0.036564459573139335, 0.005438127574234336, 0.016314382722703007, 0.010876255148468673, 0.3833879939835207, 0.06525753089081203, 0.010876255148468673, 0.49758867304244175, 0.005438127574234336, 0.002719063787117168, 0.23537982350484743, 0.7397651595866633, 0.5971962783967647, 0.38737055896006356, 0.026240730572603222, 0.004037035472708188, 0.006055553209062282, 0.002018517736354094, 0.016148141890832753, 0.002018517736354094, 0.942647782877362, 0.002018517736354094, 0.8712026923701399, 0.020740595303246134, 0.9748079792525683, 0.10036670005713508, 0.8029336004570806, 0.09113235407271889, 0.013018907724674126, 0.7030210171324028, 0.1952836158701119, 0.0064629412753538585, 0.012925882550707717, 0.9759041325784326, 0.08309047633496115, 0.00506649245944885, 0.032425551740472645, 0.0010132984918897702, 0.4306518590531523, 0.0405319396755908, 0.0202659698377954, 0.14794157981590644, 0.0010132984918897702, 0.2371118471022062, 0.2906949895948092, 0.6177268528889696, 0.03633687369935115, 0.6547185636788341, 0.09353122338269058, 0.04676561169134529, 0.04676561169134529, 0.14029683507403587, 0.035094851269789853, 0.011698283756596619, 0.4796296340204613, 0.011698283756596619, 0.46793135026386473, 0.4542704855083768, 0.49685834352478714, 0.042587858016410324, 0.9103788934405581, 0.7319627829525112, 0.005401939357583108, 0.08913199940012129, 0.12694557490320305, 0.04591648453945642, 0.002700969678791554, 0.9604507109941064, 0.5031965679415423, 0.4717467824451959, 0.974135761189851, 0.7842452582418937, 0.014797080344186675, 0.14797080344186675, 0.05178978120465336, 0.05924609661835566, 0.9242391072463484, 0.011849219323671133, 0.8229982636056911, 0.8852153931586024, 0.10795309672665884, 0.6722693179358109, 0.011020808490750999, 0.286541020759526, 0.022041616981501998, 0.5523064496944436, 0.4360314076535082, 0.006046280810919144, 0.006046280810919144, 0.024185123243676575, 0.012092561621838287, 0.060462808109191434, 0.006046280810919144, 0.507887588117208, 0.3083603213568763, 0.006046280810919144, 0.06650908892011058, 0.0017574324654577253, 0.0035148649309154506, 0.0017574324654577253, 0.12829256997841393, 0.026361486981865877, 0.8382952860233349, 0.0017574324654577253, 0.951754270081337, 0.010251158541531096, 0.7790880491563632, 0.2050231708306219, 0.9013731898141725, 0.07838027737514543, 0.9938319369852638, 0.10579162687397652, 0.8463330149918121, 0.048030330950877345, 0.9365914535421083, 0.7835677350893259, 0.1266372097114062, 0.023744476820888663, 0.055403779248740216, 0.926125102250619, 0.05612879407579509, 0.9484401134777962, 0.8455037640176668, 0.03506370837271422, 0.07947773897815223, 0.07129620702451892, 0.050257982000890385, 0.024544595860899954, 0.02921975697726185, 0.026882176419080903, 0.011687902790904741, 0.002337580558180948, 0.030388547256352327, 0.608939735406137, 0.009350322232723793, 0.021038225023628534, 0.9872696579240954, 0.8557622745325513, 0.12584739331361047, 0.07468626655511378, 0.024051509568595964, 0.03924193666455131, 0.01645629602061829, 0.007595213547977673, 0.06455931515781022, 0.10000364504837268, 0.603819477064225, 0.021519771719270074, 0.012658689246629454, 0.036710198815225414, 0.8958212020054783, 0.9399732248271719, 0.9499694323127874, 0.02001993824410465, 0.9409370974729185, 0.02001993824410465, 0.018847463693806802, 0.004122882683020238, 0.030627128502436055, 0.02709322905984728, 0.06125425700487211, 0.0029449162021573127, 0.021792379895964116, 0.015902547491649488, 0.6343349499446852, 0.040050860349339454, 0.10601698327766326, 0.03651696090675068, 0.8929675514796274, 0.09741464197959572, 0.004702919936225458, 0.018811679744901832, 0.31274417575899294, 0.016460219776789103, 0.03292043955357821, 0.047029199362254574, 0.5549445524746041, 0.007054379904338186, 0.20914916853999607, 0.014728814685915217, 0.014728814685915217, 0.01767457762309826, 0.21209493147717912, 0.06775254755521, 0.03240339230901348, 0.002945762937183043, 0.3741118930222465, 0.002945762937183043, 0.05302373286929478, 0.9065437715767074, 0.06475312654119339, 0.02158437551373113, 0.670208480199329, 0.22340282673310968, 0.021854233016194814, 0.009366099864083492, 0.9334879531203214, 0.03122033288027831, 0.8860455892872621, 0.10632547071447145, 0.0164339331663235, 0.0023477047380462144, 0.05399720897506293, 0.0023477047380462144, 0.004695409476092429, 0.5024088139418899, 0.4202391481102724, 0.02948697170399377, 0.005361267582544322, 0.02144507033017729, 0.005361267582544322, 0.010722535165088644, 0.02948697170399377, 0.8712059821634524, 0.018764436538905128, 0.005361267582544322, 0.8494757313937804, 0.1564823715725385, 0.5083351452471244, 0.32348600152089735, 0.1386368577946703, 0.9612117848104612, 0.8518695943486371, 0.9395383884145267, 0.34627539618648834, 0.5855202153698803, 0.056663246648698096, 0.012591832588599576, 0.14385664271491447, 0.04795221423830482, 0.8151876420511819, 0.03526200957648822, 0.952074258565182, 0.6907297818197156, 0.04371707479871618, 0.21858537399358088, 0.05246048975845941, 0.020437466968897172, 0.040874933937794344, 0.020437466968897172, 0.05313741411913264, 0.2493370970205455, 0.6131240090669151, 0.9805408522713118, 0.05051118246921281, 0.03367412164614187, 0.9092012844458306, 0.016837060823070935, 0.38177157946966067, 0.011807368437206001, 0.5943042113393687, 0.011807368437206001, 0.9586937816227102, 0.968969845539792, 0.2337580118662247, 0.016697000847587476, 0.04730816906816452, 0.3715082688588214, 0.03478541843247391, 0.002782833474597913, 0.2615863466122038, 0.008348500423793738, 0.025045501271381217, 0.5028583628884868, 0.010368213667803853, 0.036288747837313486, 0.11923445717974432, 0.025920534169509634, 0.24365302119339055, 0.005184106833901927, 0.05184106833901927, 0.011702606002156264, 0.023855312235164693, 0.03960882031499043, 0.018679159580364806, 0.05603747874109442, 0.022730061658034283, 0.006526453347356378, 0.00787675403991287, 0.026780963735703756, 0.04861082493203371, 0.7071074626687497, 0.011477555886730183, 0.011027455655878017, 0.008326854270765034, 0.0829158111282991, 0.007822246332858405, 0.0829158111282991, 0.05319127506343716, 0.020337840465431856, 0.009386695599430088, 0.02659563753171858, 0.042240130197435395, 0.6070063154298123, 0.02816008679829026, 0.018773391198860175, 0.020337840465431856, 0.06545170596768982, 0.007272411774187758, 0.02908964709675103, 0.007272411774187758, 0.060603431451564646, 0.09454135306444085, 0.05333101967737689, 0.6739101577413988, 0.004848274516125172, 0.04911973886673675, 0.007017105552390964, 0.2292254480447715, 0.0771881610763006, 0.030407457393694177, 0.5333000219817132, 0.060814914787388354, 0.009356140736521286, 0.987352608499159, 0.008093054168025894, 0.6484705920569712, 0.024941176617575816, 0.006235294154393954, 0.006235294154393954, 0.006235294154393954, 0.3055294135653038, 0.9908980197012209, 0.03199811847934826, 0.8532831594492869, 0.10666039493116086, 0.010666039493116087, 0.09016623216554136, 0.8565792055726429, 0.04508311608277068, 0.017054006122697456, 0.03695034659917782, 0.008527003061348728, 0.014211671768914547, 0.07390069319835564, 0.10232403673618475, 0.3183414476236859, 0.04831968401430946, 0.37234580034556114, 0.005684668707565819, 0.041921152578014965, 0.0016123520222313449, 0.032247040444626895, 0.004837056066694035, 0.11931404964511952, 0.09835347335611204, 0.0016123520222313449, 0.06771878493371648, 0.5627108557587394, 0.05481996875586573, 0.004837056066694035, 0.00967411213338807, 0.9824841493392221, 0.04137679148568407, 0.9516662041707337, 0.014760187491840668, 0.01415773085952064, 0.024700721925121117, 0.02409826529280109, 0.11326184687616513, 0.03434002804224155, 0.004518424742400205, 0.02891791835136131, 0.0376535395200017, 0.008434392852480382, 0.618120504760348, 0.010241762749440463, 0.06084811986432275, 0.005723338007040259, 0.05787590952676159, 0.006157011651783148, 0.06157011651783148, 0.04433048389283866, 0.17609053324099802, 0.04802469088390855, 0.02832225359820248, 0.004925609321426518, 0.0012314023303566296, 0.035710667580342255, 0.5245773927319242, 0.004925609321426518, 0.002462804660713259, 0.9833514886723936, 0.7560614034674177, 0.047253837716713605, 0.18901535086685442, 0.030938075197182537, 0.013750255643192238, 0.3334436993474118, 0.08250153385915343, 0.10312691732394179, 0.0859390977699515, 0.3403188271690079, 0.006875127821596119, 0.0034375639107980596, 0.17546162315841723, 0.7895773042128775, 0.014621801929868103, 0.014621801929868103, 0.009014022643047485, 0.964500422806081, 0.027042067929142457, 0.019188490825791472, 0.002741212975113068, 0.052083046527148284, 0.002741212975113068, 0.0849776022285051, 0.23574431585972383, 0.6003256415497619, 0.005482425950226136, 0.002741212975113068, 0.02816736830675907, 0.03520921038344884, 0.9365649961997391, 0.015694702582061664, 0.007847351291030832, 0.6631011840921053, 0.30212302470468705, 0.007847351291030832, 0.7572987305126854, 0.2055525125677289, 0.03245565987911509, 0.005945138512195455, 0.9898655622805433, 0.014836449277824956, 0.014836449277824956, 0.02967289855564991, 0.10385514494477469, 0.014836449277824956, 0.28189253627867417, 0.40800235514018623, 0.1335280435004246, 0.11007359411766217, 0.8438975549020766, 0.024460798692813816, 0.012230399346406908, 0.7963702397832392, 0.13272837329720652, 0.06636418664860326, 0.02958127117693224, 0.00806761941189061, 0.02151365176504163, 0.06723016176575508, 0.0726085747070155, 0.00806761941189061, 0.1613523882378122, 0.6050714558917958, 0.0026892064706302036, 0.026892064706302034, 0.9979282778935333, 0.002202932180780427, 0.9935166431289678, 0.006657704455439188, 0.006657704455439188, 0.006657704455439188, 0.9520517371278038, 0.013315408910878375, 0.1255420468805981, 0.8631015723041121, 0.9821766178568422, 0.4664736412603676, 0.05424112107678693, 0.2929020538146494, 0.18441981166107557, 0.00814498030286248, 0.057014862120037355, 0.0814498030286248, 0.10588474393721223, 0.4235389757488489, 0.2850743106001868, 0.0407249015143124, 0.9308581536776759, 0.044326578746555996, 0.99092676993085, 0.6657984924934326, 0.011284720211753094, 0.05642360105876547, 0.2595485648703212, 0.1099583891577297, 0.8849032270312532, 0.0026180568847078496, 0.0026180568847078496, 0.9254395623437176, 0.05288226070535529, 0.9548961873062609, 0.023102327112248248, 0.015401551408165497, 0.9403725757894539, 0.023509314394736348, 0.026416775088791464, 0.005283355017758293, 0.523052146758071, 0.3539847861898056, 0.08981703530189097, 0.6959868118847011, 0.24520531806614027, 0.022291392551467296, 0.02972185673528973, 0.0024768213946074775, 0.004953642789214955, 0.9810044385542102, 0.009810044385542102, 0.9747745683108817, 0.025581797578359978, 0.0028424219531511087, 0.014212109765755545, 0.0056848439063022175, 0.04547875125041774, 0.025581797578359978, 0.0625332829693244, 0.7901933029760082, 0.014212109765755545, 0.011369687812604435, 0.38213537223116306, 0.5905728479936156, 0.12719335878387467, 0.04239778626129155, 0.21198893130645777, 0.46637564887420707, 0.12719335878387467, 0.8978834734991537, 0.07482362279159614, 0.9772140014069604, 0.6999156906950211, 0.018062340405032802, 0.27545069117675025, 0.0045155851012582005, 0.9887287665789316, 0.6905684364300719, 0.2376631631869728, 0.06726315939253948, 0.001494736875389766, 0.001494736875389766, 0.9908214390493555, 0.025643628197038006, 0.012821814098519003, 0.6923779613200262, 0.26925809606889906, 0.9950173906669573, 0.9980928553619458, 0.8040321299929427, 0.16926992210377742, 0.47572965352416063, 0.47572965352416063, 0.028487882131981977, 0.001055106745628962, 0.03587362935138471, 0.03692873609701367, 0.09073918012409074, 0.06436151148336669, 0.02532256189509509, 0.006330640473773772, 0.040094056333900556, 0.001055106745628962, 0.5929699910434767, 0.03798384284264263, 0.03692873609701367, 0.6606690538878345, 0.03670383632710191, 0.2569268542897134, 0.03670383632710191, 0.9564509183874383, 0.29614318872898737, 0.58488279773975, 0.06663221746402216, 0.04442147830934811, 0.007403579718224685, 0.8677670755281572, 0.13350262700433188, 0.956921958525338, 0.887859316250047, 0.10244530572115927, 0.5131968466649516, 0.0027891132970921284, 0.3848976349987137, 0.013945566485460642, 0.0585713792389347, 0.008367339891276386, 0.022312906376737027, 0.8063282776516711, 0.12094924164775067, 0.053755218510111405, 0.01306973268427236, 0.00653486634213618, 0.02940689853961281, 0.02613946536854472, 0.9018115552147928, 0.01633716585534045, 0.00653486634213618, 0.994294829418385, 0.024596614618035913, 0.46733567774268236, 0.4980814460152273, 0.06152616765929457, 0.002929817507585456, 0.03515781009102547, 0.39552536352403656, 0.03515781009102547, 0.011719270030341823, 0.11719270030341823, 0.3310693783571565, 0.005859635015170912, 0.03180649066961404, 0.03180649066961404, 0.2385486800221053, 0.03180649066961404, 0.6679363040618949, 0.33824016974174625, 0.6591346897531465, 0.7988955307565863, 0.18039576500955173, 0.07576838280010445, 0.2822983294649053, 0.2358596432325832, 0.035440050019403695, 0.026885555187133838, 0.33118115707787593, 0.002444141380648531, 0.008554494832269858, 0.00217567258835516, 0.1261890101245993, 0.3219995430765637, 0.07397286800407545, 0.00435134517671032, 0.0435134517671032, 0.05656748729723417, 0.3502832867251808, 0.00435134517671032, 0.01740538070684128, 0.044020452005484934, 0.0036683710004570776, 0.0036683710004570776, 0.0036683710004570776, 0.011005113001371233, 0.0660306780082274, 0.21643388902696759, 0.6382965540795316, 0.011005113001371233, 0.9243457942768225, 0.07110352263667866, 0.025775968858618527, 0.00945118858149346, 0.045709384775950185, 0.0073891110728039775, 0.04605306436073177, 0.04278810830530675, 0.021651813841239563, 0.006529912110850027, 0.028697245329261958, 0.013575343598872424, 0.6504136141991408, 0.011341426297792152, 0.0716571934269595, 0.01873053737059613, 0.8984988591302883, 0.08639412107022003, 0.008639412107022003, 0.9663406023004082, 0.02727574280686636, 0.7614249212198094, 0.030456996848792377, 0.06091399369758475, 0.1522849842439619, 0.007230483299543798, 0.014460966599087596, 0.06025402749619831, 0.01928128879878346, 0.028921933198175192, 0.06266418859604625, 0.4362391590724758, 0.356703842777494, 0.014460966599087596, 0.02674651883825759, 0.0024315017125688715, 0.024315017125688718, 0.0024315017125688715, 0.15561610960440778, 0.7805120497346077, 0.004863003425137743, 0.9617526074554215, 0.033549509562398425, 0.003195191386895088, 0.5532794335760484, 0.9782440469866321, 0.01745937568530441, 0.680915651726872, 0.2269718839089573, 0.06983750274121764, 0.003925626593419605, 0.10991754461574894, 0.13739693076968618, 0.00785125318683921, 0.04710751912103526, 0.6045464953866192, 0.07066127868155289, 0.011776879780258815, 0.00785125318683921, 0.33864480462125185, 0.004455852692384892, 0.07574949577054317, 0.2406160453887842, 0.008911705384769784, 0.20942507654208994, 0.03119096884669425, 0.08911705384769784, 0.9573925449063031, 0.00995675017470897, 0.0033189167249029895, 0.00995675017470897, 0.3883132568136498, 0.07301616794786578, 0.01659458362451495, 0.40490784043816475, 0.0033189167249029895, 0.0929296682972837, 0.038883932698133034, 0.008837257431393871, 0.02120941783534529, 0.12548905552579295, 0.03181412675301794, 0.0954423802590538, 0.008837257431393871, 0.028279223780460386, 0.09190747728649626, 0.5231656399385172, 0.008837257431393871, 0.019441966349066517, 0.030751027346694555, 0.7072736289739747, 0.09225308204008366, 0.15375513673347277, 0.6474564579729527, 0.05885967799754115, 0.2354387119901646, 0.05885967799754115, 0.7605528983239945, 0.20742351772472578, 0.9921129405931786, 0.9348844977412839, 0.658284936709931, 0.0044781288211559935, 0.02239064410577997, 0.13434386463467982, 0.17464702402508375, 0.9921158438635375, 0.006810863916683323, 0.992777395784481, 0.0589565121930176, 0.589565121930176, 0.3340869024270997, 0.8795736180960037, 0.041884458004571606, 0.08376891600914321, 0.026178638895401715, 0.39922424315487615, 0.17016115282011116, 0.3337776459163719, 0.006544659723850429, 0.05235727779080343, 0.043217427309428964, 0.0036014522757857473, 0.050420331861000464, 0.0012004840919285825, 0.18727551834085887, 0.007202904551571495, 0.08523437052692935, 0.0204082295627859, 0.025210165930500232, 0.3685486162220748, 0.1980798751682161, 0.008403388643500077, 0.04883417548784973, 0.4761332110065349, 0.4761332110065349, 0.945299142325202, 0.038981407930936164, 0.009745351982734041, 0.005678968686392653, 0.005678968686392653, 0.028394843431963267, 0.022715874745570613, 0.029814585603561428, 0.055369944692328366, 0.036913296461552246, 0.7936358739233733, 0.011357937372785306, 0.00851845302958898, 0.999383196472122, 0.023882538282894526, 0.017911903712170895, 0.017911903712170895, 0.05373571113651268, 0.005970634570723631, 0.340326170531247, 0.519445207652956, 0.017911903712170895, 0.7069166149003364, 0.03534583074501682, 0.24742081521511775, 0.39589135857789925, 0.5443506180446115, 0.049293871960745354, 0.0138022841490087, 0.08872896952934163, 0.029576323176447213, 0.01971754878429814, 0.1399945963685168, 0.03943509756859628, 0.16168390003124475, 0.41604027934869076, 0.0138022841490087, 0.0276045682980174, 0.014974531770043265, 0.006417656472875685, 0.044923595310129794, 0.008556875297167579, 0.0021392188242918947, 0.6332087719904008, 0.2823768848065301, 0.006417656472875685, 0.006373325125761586, 0.662825813079205, 0.3186662562880793, 0.006373325125761586, 0.9196374875696622, 0.7177628201598141, 0.1025375457371163, 0.2050750914742326, 0.9575314860723675, 0.025879229353307227, 0.961312680701736, 0.8527963794166946, 0.11221004992324929, 0.022442009984649857, 0.10069961327219569, 0.8055969061775655, 0.06069612264101198, 0.044593069695437366, 0.0625541672116552, 0.1721787968796054, 0.013006311994502567, 0.001238696380428816, 0.000619348190214408, 0.06193481902144079, 0.5524585856712518, 0.016103052945574604, 0.013625660184716974, 0.02054270951897722, 0.12325625711386333, 0.7189948331642028, 0.14379896663284056, 0.6738909909935392, 0.15702314353247515, 0.03271315490259899, 0.13085261961039596, 0.9828784520257037, 0.18859661408789632, 0.016925337161734284, 0.009671621235276734, 0.5512824104107739, 0.05561182210284122, 0.024179053088191835, 0.0024179053088191835, 0.14265641322033182, 0.00725371592645755, 0.0024179053088191835, 0.013009963245868353, 0.026019926491736706, 0.6179732541787467, 0.006504981622934176, 0.29272417303203796, 0.03902988973760506, 0.5171476868099248, 0.008916339427757325, 0.3655699165380503, 0.062414375994301274, 0.0356653577110293, 0.02201631738045846, 0.8512976053777271, 0.11742035936244512, 0.9391138386956188, 0.05366364792546393, 0.9746020790033832, 0.6847740627805062, 0.2934745983345027, 0.7249459782465231, 0.2589092779451868, 0.18760011509684965, 0.5245146075156817, 0.2641715906465842, 0.01531429510994691, 0.0038285737774867274, 0.015701744593338885, 0.3061840195701082, 0.03532892533501249, 0.03140348918667777, 0.007850872296669443, 0.08243415911502915, 0.2041226797134055, 0.2080481158617402, 0.06673241452169025, 0.003925436148334721, 0.03925436148334721, 0.0144755639769949, 0.004825187992331633, 0.16405639173927553, 0.0579022559079796, 0.053077067915647966, 0.09167857185430103, 0.29916165552456125, 0.024125939961658165, 0.27986090355523474, 0.08136505636714413, 0.8950156200385854, 0.9298231902237208, 0.9512189865932631, 0.054815785850437046, 0.8613909205068678, 0.07830826550062435, 0.9797955487507127, 0.9471395034248231, 0.039464145976034294, 0.9600051988601372, 0.04921852721706645, 0.008948823130375719, 0.004474411565187859, 0.004474411565187859, 0.008948823130375719, 0.004474411565187859, 0.27293910547645944, 0.5593014456484824, 0.0760649966081936, 0.004474411565187859, 0.9852400962465881, 0.594403169234824, 0.6909046420282026, 0.02816097806784206, 0.002166229082141697, 0.041158352560692245, 0.012997374492850183, 0.017329832657133577, 0.48740154348188186, 0.3899212347855055, 0.019496061739275275, 0.47809891624405765, 0.01707496129443063, 0.4951738775384883, 0.1496523004366574, 0.7482615021832869, 0.00567803508127575, 0.053941333272119626, 0.022712140325103, 0.008517052621913625, 0.7580176833503126, 0.0113560701625515, 0.13911185949125587, 0.02118795732382429, 0.001926177938529481, 0.009630889692647405, 0.7569879298420861, 0.013483245569706367, 0.06741622784853184, 0.10593978661912146, 0.02118795732382429, 0.7789687706017575, 0.20619761574752404, 0.011497323932609963, 0.919785914608797, 0.05748661966304981, 0.007620390983297086, 0.983030436845324, 0.007620390983297086, 0.007620390983297086, 0.004752923773399203, 0.004752923773399203, 0.019011695093596813, 0.48004530111331956, 0.16635233206897213, 0.31369296904434746, 0.014258771320197611, 0.8755208670462687, 0.05051081925266935, 0.06734775900355913, 0.9283954550325532, 0.0041446225671096125, 0.05180778208887015, 0.014506178984883643, 0.0020723112835548062, 0.028453422916639028, 0.002032387351188502, 0.036582972321393036, 0.024388648214262024, 0.03251819761901603, 0.04064774702377004, 0.506064450445937, 0.3272143635413488, 0.002032387351188502, 0.03457114731702248, 0.05185672097553372, 0.06914229463404496, 0.5185672097553372, 0.2938547521946911, 0.01728557365851124, 0.9098595696425663, 0.02459079917952882, 0.02459079917952882, 0.9938836381554105, 0.18530178192088867, 0.7412071276835547, 0.03088363032014811, 0.015828471124420904, 0.20577012461747174, 0.015828471124420904, 0.47485413373262714, 0.28491248023957627, 0.8475037944411173, 0.07566998164652834, 0.0681029834818755, 0.9009785935662955, 0.03511392029159329, 0.33358224277013626, 0.6144936051028826, 0.9004220286127658, 0.041183979285622674, 0.006618853813760786, 0.019121133239753382, 0.005147997410702834, 0.018385705038224405, 0.020591989642811337, 0.0404485510840937, 0.03897769468103574, 0.7361636297305052, 0.01985656144128236, 0.05368625871161527, 0.8950592622948584, 0.9927915653400924, 0.9746449515392721, 0.8365980521107794, 0.14763495037249047, 0.9690287846827893, 0.0015790341094287668, 0.7263556903372327, 0.16737761559944928, 0.10263721711286984, 0.38679499720507027, 0.5801924958076055, 0.996493041196095, 0.7619041054494775, 0.05499656272777464, 0.9349415663721689, 0.020741153428159034, 0.9333519042671565, 0.020741153428159034, 0.020741153428159034, 0.010051923650220894, 0.8343096629683341, 0.1407269311030925, 0.9507660106795075, 0.030669871312242178, 0.0118391876408134, 0.9826525741875122, 0.7198705499222942, 0.10534690974472598, 0.1755781829078766, 0.021882263435526086, 0.3747337613333842, 0.019146980506085324, 0.04649980980049293, 0.39388074183946953, 0.013676414647203804, 0.13129358061315652, 0.9448041101964364, 0.03779216440785745, 0.0512794581017429, 0.09543676924491039, 0.015668723308865883, 0.13247193342950248, 0.02848858783430161, 0.008546576350290483, 0.02848858783430161, 0.03845959357630717, 0.336165336444759, 0.247850714158424, 0.017093152700580965, 0.25138355183036154, 0.29627347180006897, 0.43992121570313275, 0.008977983993941485, 0.0105378195566635, 0.0084302556453308, 0.0611193534286483, 0.0737647368966445, 0.2065412633106046, 0.0084302556453308, 0.021075639113327, 0.0126453834679962, 0.1496370377046217, 0.3920068875078822, 0.0084302556453308, 0.0484739699606521, 0.056704445837793035, 0.9450740972965507, 0.041368351870199646, 0.018385934164533175, 0.018385934164533175, 0.2987714301736641, 0.03217538478793305, 0.002298241770566647, 0.009192967082266587, 0.05745604426416617, 0.37001692506123013, 0.12180681384003228, 0.002298241770566647, 0.027578901246799764, 0.032637672142602686, 0.005439612023767114, 0.036264080158447426, 0.009066020039611856, 0.0126924280554566, 0.04714330420598166, 0.8250078236046791, 0.016318836071301343, 0.014505632063378971, 0.01800350141503987, 0.0033756565153199754, 0.07651488101391944, 0.0011252188384399918, 0.08664185055987937, 0.04838441005291965, 0.032631346314759765, 0.033756565153199754, 0.06301225495263954, 0.5761120452812758, 0.01800350141503987, 0.005626094192199959, 0.03488178399163975, 0.9982629622644422, 0.1272841394171785, 0.04242804647239283, 0.8061328829754638, 0.8509789119488931, 0.03066590673689705, 0.10733067357913967, 0.963119230609458, 0.007030067376711372, 0.021090202130134118, 0.005799235247250266, 0.9916692272797955, 0.016438723860346057, 0.005479574620115352, 0.023288192135490247, 0.20685394190935455, 0.039726915995836304, 0.005479574620115352, 0.02739787310057676, 0.6643984226889864, 0.004109680965086514, 0.00684946827514419, 0.2784641834319245, 0.05569283668638489, 0.30631060177511693, 0.33415702011830933, 0.1389138854112747, 0.034728471352818674, 0.1389138854112747, 0.6945694270563735, 0.03579089844173283, 0.02386059896115522, 0.9067027605238984, 0.02386059896115522, 0.09176083880718983, 0.010195648756354425, 0.010195648756354425, 0.0033985495854514753, 0.006797099170902951, 0.010195648756354425, 0.05777534295267508, 0.2854781651779239, 0.3296593097887931, 0.0033985495854514753, 0.1903187767852826, 0.7925774639233039, 0.18648881504077738, 0.0427705228739908, 0.9409515032277977, 0.010029078938299792, 0.0028654511252285122, 0.018625432313985328, 0.7851336083126124, 0.027221785689670867, 0.022923609001828098, 0.12034894725959752, 0.011461804500914049, 0.0014327255626142561, 0.0011177900969496148, 0.992597606091258, 0.005588950484748075, 0.007781017790255505, 0.9648462059916826, 0.019452544475638763, 0.0038905088951277523, 0.05160322214906327, 0.07088354690805394, 0.014176709381610789, 0.00028353418763221575, 0.02268273501057726, 0.013609641006346358, 0.032039363202440385, 0.006237752127908747, 0.01871325638372624, 0.07627069647306604, 0.5713213880789147, 0.0048200811897476685, 0.09129800841757348, 0.02551807688689942, 0.019852414514447282, 0.00330873575240788, 0.0330873575240788, 0.9065935961597592, 0.02316115026685516, 0.009926207257223641, 0.027333607521858903, 0.06150061692418253, 0.4715047297520661, 0.08200082256557671, 0.28016947709905377, 0.06833401880464726, 0.531360059033534, 0.3247200360760486, 0.08856000983892234, 0.02952000327964078, 0.27453779542772566, 0.04383376565652763, 0.0023070402977119803, 0.011535201488559901, 0.04383376565652763, 0.0023070402977119803, 0.025377443274831782, 0.0023070402977119803, 0.44987285805383614, 0.07843937012220734, 0.016149282083983862, 0.050754886549663564, 0.05289121269822536, 0.13222803174556338, 0.7933681904733804, 0.9720497114991604, 0.7264617634837455, 0.23284030880889278, 0.0031045374507852374, 0.037254449409422845, 0.015376722198164204, 0.9764218595834271, 0.9432630673573686, 0.026950373353067675, 0.026950373353067675, 0.9341832678799024, 0.002162461268240515, 0.006487383804721544, 0.0583864542424939, 0.1594099794736957, 0.028983632631581036, 0.2608526936842293, 0.07245908157895259, 0.47822993842108713, 0.04294333510844908, 0.008179682877799825, 0.047033176547348995, 0.1595038161170966, 0.040898414388999126, 0.02862889007229939, 0.020449207194499563, 0.040898414388999126, 0.053167938705698865, 0.5357692284958886, 0.012269524316699738, 0.010224603597249781, 0.03776825679985815, 0.003975605978932437, 0.02683534035779395, 0.0019878029894662185, 0.13020109581003733, 0.0844816270523143, 0.023853635873594622, 0.004969507473665547, 0.04074996128405748, 0.05068897623138857, 0.5903774878714669, 0.003975605978932437, 0.04251851065889557, 0.004724278962099508, 0.10157199768513943, 0.007086418443149262, 0.014172836886298524, 0.09684771872303992, 0.05196706858309459, 0.04724278962099508, 0.6188805440350356, 0.009448557924199016, 0.007086418443149262, 0.9986250899157622, 0.053612983628138315, 0.01787099454271277, 0.3752908853969682, 0.5361298362813831, 0.9228781396171809, 0.266133726853803, 0.6421922539298289, 0.08678273701754445, 0.00578551580116963, 0.9842859268004815, 0.01777611604926323, 0.6310521197488447, 0.3288581469113697, 0.008888058024631615, 0.005750591650136926, 0.25877662425616166, 0.7303251395673896, 0.007239171583693262, 0.06515254425323937, 0.07239171583693263, 0.00413666947639615, 0.0165466779055846, 0.07032338109873455, 0.011375841060089412, 0.0010341673690990375, 0.027922518965674013, 0.63394459725771, 0.017580845274683638, 0.035161690549367276, 0.038264192656664385, 0.9886826621449349, 0.014185142753784925, 0.3546285688446231, 0.02127771413067739, 0.007092571376892462, 0.6028685670358593, 0.0038196294891244104, 0.9319895953463562, 0.05729444233686616, 0.0038196294891244104, 0.0038196294891244104, 0.9706467688930369, 0.023674311436415532, 0.018162985132528783, 0.9808011971565542, 0.9815564097261422, 0.015173736010649261, 0.005057912003549754, 0.025289560017748767, 0.010115824007099507, 0.025289560017748767, 0.0657528560461468, 0.12138988808519409, 0.10621615207454482, 0.6221231764366197, 0.005057912003549754, 0.9700091403000833, 0.5744007676292976, 0.1914669225430992, 0.0591647728424899, 0.12370816139793343, 0.8121709726559977, 0.009516266255682485, 0.002379066563920621, 0.02141159907528559, 0.0904045294289836, 0.009516266255682485, 0.004758133127841242, 0.38778784991906123, 0.040444131586650556, 0.42585291494179117, 0.004758133127841242, 0.92570762448044, 0.9660061882414378, 0.01583616702035144, 0.00791808351017572, 0.023478751832552425, 0.880453193720716, 0.0939150073302097, 0.0255102229970472, 0.07653066899114161, 0.7270413554158452, 0.16581644948080682, 0.0141255236899739, 0.0565020947598956, 0.7204017081886689, 0.1977573316596346, 0.0141255236899739, 0.8426977833941186, 0.11491333409919799, 0.11330357853819893, 0.01618622550545699, 0.5665178926909946, 0.25897960808731185, 0.03237245101091398, 0.05736438175257084, 0.9178301080411334, 0.8078932306220103, 0.17137129134406281, 0.03577321410240993, 0.8227839243554286, 0.14309285640963973, 0.8289515836347843, 0.8195087882907858, 0.15096214521146054, 0.008954633062306117, 0.19700192737073455, 0.0746219421858843, 0.002984877687435372, 0.03283365456178909, 0.04775804299896595, 0.059697553748707444, 0.5104140845514487, 0.05074292068640133, 0.005969755374870744, 0.008954633062306117, 0.34284748867332654, 0.628553729234432, 0.008722623976704001, 0.9769338853908481, 0.008722623976704001, 0.9610825881674165, 0.02806080549393917, 0.9778564984291355, 0.01955712996858271, 0.9518685524057576, 0.07420198601004083, 0.008683211128834566, 0.055256798092583596, 0.0007893828298940514, 0.15471903465923406, 0.013419508108198874, 0.20997583275181766, 0.008683211128834566, 0.0007893828298940514, 0.06078247790184196, 0.4057427745655424, 0.003946914149470257, 0.0047362969793643085, 0.5131486805757169, 0.03601043372461171, 0.009002608431152928, 0.07202086744922342, 0.009002608431152928, 0.23406781920997613, 0.126036518036141, 0.9925142513420055, 0.0011438450974712334, 0.9871383191176744, 0.009150760779769868, 0.0011438450974712334, 0.0011438450974712334, 0.004653739721334054, 0.9772853414801513, 0.004653739721334054, 0.009307479442668107, 0.08889364320548723, 0.17778728641097447, 0.7111491456438979, 0.9554668391319604, 0.5520012150938497, 0.10443266231505265, 0.2834600834265715, 0.02983790351858647, 0.014918951759293236, 0.7316168118647426, 0.10155587473476597, 0.008290275488552325, 0.0663222039084186, 0.01658055097710465, 0.07461247939697092, 0.08665382613702433, 0.5776921742468288, 0.31773069583575586, 0.8713547415881646, 0.11508458851164438, 0.0031713522583181946, 0.9958046091119132, 0.9218873167746708, 0.30884197530554874, 0.6139175850585907, 0.07532731105013384, 0.7372083249380323, 0.24573610831267742, 0.042048919331881256, 0.7708968544178231, 0.16819567732752502, 0.01401630644396042, 0.7565223410503148, 0.20632427483190405, 0.7030044604870042, 0.09866729269993041, 0.19116787960611517, 0.9892125764665908, 0.018353002102685263, 0.6056490693886137, 0.2936480336429642, 0.05505900630805579, 0.06756681941449029, 0.04504454627632686, 0.7882795598357201, 0.06756681941449029, 0.9632212134963287, 0.9630920040980883, 0.029633600126095023, 0.9859385226864648, 0.554688522669701, 0.4212824222807856, 0.01404274740935952, 0.021606786776599343, 0.10470981284044298, 0.0033241210425537454, 0.026592968340429964, 0.029917089382983708, 0.04155151303192182, 0.4587287038724169, 0.026592968340429964, 0.2659296834042996, 0.021606786776599343, 0.020083435723325535, 0.11045889647829045, 0.03514601251581969, 0.005020858930831384, 0.03179877322859877, 0.06694478574441845, 0.018409816079715074, 0.04351411073387199, 0.65271166100808, 0.010041717861662768, 0.003347239287220923, 0.04933709123778534, 0.04933709123778534, 0.9374047335179214, 0.9751489848365485, 0.7028811152706119, 0.2622690728621686, 0.02098152582897349, 0.9727603144388364, 0.0451233610527089, 0.009335867804008737, 0.03111955934669579, 0.021783691542687056, 0.03734347121603495, 0.7935487633407426, 0.03578749324870016, 0.023339669510021845, 0.014475432818369261, 0.7961488050103094, 0.13027889536532336, 0.04342629845510779, 0.8993866816438618, 0.07195093453150894, 0.9651395884766231, 0.053634500195875214, 0.9386037534278163, 0.9701678371677925, 0.7777046561768134, 0.057184165895353925, 0.160115664506991, 0.9892179688708561, 0.025076876722279953, 0.007164821920651415, 0.13254920553205118, 0.007164821920651415, 0.17195572609563398, 0.06090098632553703, 0.5839329865330903, 0.007164821920651415, 0.01086121797710447, 0.9775096179394023, 0.9777044234946338, 0.018923311422476784, 0.04102602955383724, 0.9435986797382565, 0.09444035022942728, 0.21249078801621138, 0.6846925391633477, 0.9841382014999172, 0.9202713435813348, 0.012575210432425247, 0.12036272842464164, 0.04131854856368295, 0.023353962231646885, 0.025150420864850493, 0.0826370971273659, 0.03772563129727574, 0.09161939029338394, 0.5299552967950639, 0.008982293166018033, 0.023353962231646885, 0.007592904099181285, 0.05315032869426899, 0.06833613689263156, 0.561874903339415, 0.2961232598680701, 0.007592904099181285, 0.01580500258071193, 0.8534701393584442, 0.12644002064569543, 0.7384462983781072, 0.22474452559333696, 0.032106360799048134, 0.7357963859868234, 0.006569610589168066, 0.006569610589168066, 0.23650598121005037, 0.013139221178336132, 0.23483905797677634, 0.7045171739303291, 0.774412311506823, 0.11063033021526042, 0.11063033021526042, 0.9931028763970231, 0.1652693642458426, 0.826346821229213, 0.9924224271429372, 0.9881716579732563, 0.9465713586915483, 0.9796507170834818, 0.0026142208470792184, 0.15946747167183234, 0.0026142208470792184, 0.0026142208470792184, 0.0026142208470792184, 0.005228441694158437, 0.8182511251357953, 0.005228441694158437, 0.9418691734419676, 0.03488404346081361, 0.017442021730406806, 0.9853666020926128, 0.9009297145069004, 0.040041320644751126, 0.06006198096712669, 0.7491447234105774, 0.15548286712295, 0.08480883661251819, 0.04286438857034124, 0.07369666806830599, 0.0345923135830824, 0.33577104380100636, 0.010152092029817662, 0.019928180651123558, 0.01428812952344708, 0.02857625904689416, 0.009400085212794132, 0.3417870983371946, 0.006016054536188244, 0.07670469533640012, 0.00639205794470001, 0.977038053054762, 0.4129864489855442, 0.5309825772671283, 0.029499032070396017, 0.025896355829520924, 0.2330672024656883, 0.28485991412473016, 0.25896355829520923, 0.15537813497712555, 0.0023571472657863126, 0.004714294531572625, 0.021214325392076815, 0.24750046290756283, 0.02828576718943575, 0.08485730156830726, 0.047142945315726256, 0.06128582891044413, 0.4832151894861941, 0.014142883594717876, 0.004714294531572625, 0.1667340787248809, 0.3299945308096601, 0.04515714632132191, 0.2396802381670163, 0.2153648516863045, 0.8165737087226134, 0.8903900673318751, 0.05237588631363971, 0.05237588631363971, 0.2576483521577999, 0.7729450564733998, 0.25905111963636573, 0.6620195279596013, 0.05756691547474794, 0.05743751214085573, 0.022975004856342292, 0.8500751796846648, 0.06892501456902687, 0.14831002895769196, 0.8527826665067288, 0.5861850828157767, 0.2705469612995893, 0.01503038673886607, 0.12024309391092856, 0.01503038673886607, 0.8688221231533765, 0.1737644246306753, 0.6861251965362151, 0.0649037348074798, 0.2132551286531479, 0.018543924230708515, 0.009271962115354257, 0.01815855485718448, 0.3167659013975515, 0.08473992266686091, 0.04438757853978429, 0.004035234412707663, 0.042369961333430455, 0.48624574673127335, 0.05971135871945083, 0.1791340761583525, 0.10005687136772842, 0.0016138205059311036, 0.0016138205059311036, 0.07423574327283076, 0.5809753821351973, 0.001461069251080146, 0.001461069251080146, 0.9964492292366596, 0.013623562317116344, 0.6130603042702355, 0.2724712463423269, 0.0953649362198144, 0.04625981494111309, 0.8789364838811486, 0.04625981494111309, 0.9794957643939706, 0.9437777288569622, 0.8846809162933951, 0.9720571601929463, 0.9844130190774593, 0.07487069279107679, 0.8984483134929214, 0.9792928135072261, 0.9822561687250566, 0.045735358462043865, 0.045735358462043865, 0.5030889430824825, 0.3658828676963509, 0.9831889552396571, 0.04340140756140304, 0.034721126049122426, 0.008680281512280607, 0.17360563024561215, 0.19096619327017336, 0.5381774537613976, 0.008680281512280607, 0.008266992434090206, 0.008266992434090206, 0.008266992434090206, 0.008266992434090206, 0.09920390920908248, 0.18187383354998454, 0.20667481085225514, 0.17360684111589433, 0.28934473519315723, 0.008266992434090206, 0.008266992434090206, 0.5426492627041932, 0.0930255878921474, 0.35659808691989836, 0.9871218778370885, 0.005640478608655284, 0.002820239304327642, 0.025382153738948778, 0.005640478608655284, 0.03384287165193171, 0.3694513488669211, 0.047944068173569915, 0.46251924590973326, 0.04512382886924227, 0.853241150719634, 0.0023356225567554966, 0.004671245113510993, 0.011678112783777483, 0.0023356225567554966, 0.039705583464843444, 0.01401373534053298, 0.025691848124310464, 0.8805297038968222, 0.01401373534053298, 0.00700686767026649, 0.6970658471104136, 0.018105606418452304, 0.009052803209226152, 0.04224641497638871, 0.2323552823701379, 0.45107101014938744, 0.5460333280755743, 0.7910444512781559, 0.06809316001842851, 0.36665547702230733, 0.020951741544131847, 0.2042794800552855, 0.33522786470610955, 0.9770203052327844, 0.8971660854762602, 0.9265711668925227, 0.07127470514557867, 0.9756245898434103, 0.9499629361433383, 0.006506126477495439, 0.006506126477495439, 0.013012252954990878, 0.006506126477495439, 0.5204901181996351, 0.06506126477495439, 0.37084920921724, 0.9627516574966324, 0.10626018912346015, 0.006641261820216259, 0.01992378546064878, 0.33206309101081294, 0.5313009456173008, 0.04638343093651358, 0.0028989644335320986, 0.2725026567520173, 0.0028989644335320986, 0.4928239537004568, 0.1826347593125222, 0.9960970532434328, 0.9972562705208705, 0.9193241023519565, 0.9917663246190256, 0.007478301279278025, 0.0037391506396390124, 0.026174054477473088, 0.018695753198195064, 0.002492767093092675, 0.00498553418618535, 0.021188520291287736, 0.032405972210204775, 0.8575118800238802, 0.006231917732731688, 0.018695753198195064, 0.7494538165420138, 0.18736345413550345, 0.07026129530081379, 0.23273795037742875, 0.1341201747937725, 0.07494950944357875, 0.5443701212217825, 0.00394471102334625, 0.0078894220466925, 0.012454934107350135, 0.0024909868214700267, 0.0373648023220504, 0.0024909868214700267, 0.03487381550058038, 0.8992462425506798, 0.009963947285880107, 0.0024909868214700267, 0.9695115545286425, 0.854906153536464, 0.14655534060625097, 0.9906545511935626, 0.8085906183165316, 0.1933586261191706, 0.9826159911549174, 0.7957790605501622, 0.18085887739776416, 0.9756607547323928, 0.010163132861795758, 0.010163132861795758, 0.9760931935856951, 0.9222970339644945, 0.06360669199755134, 0.010601115332925223, 0.8896980650355448, 0.3427389457032146, 0.05077614010417995, 0.057123157617202436, 0.2538807005208997, 0.0031735087565112467, 0.23483964798183224, 0.022214561295578725, 0.034908596321623714, 0.18100237062846578, 0.7486916239631994, 0.06581904386489665, 0.2604164042346002, 0.03472218723128003, 0.5902771829317606, 0.07812492127038008, 0.04340273403910004, 0.8746226566018698, 0.08746226566018697, 0.02391842970675779, 0.010070917771266437, 0.007553188328449828, 0.011329782492674741, 0.04280140052788236, 0.0012588647214083046, 0.07427301856308997, 0.03273048275661592, 0.7465067797951247, 0.04783685941351558, 0.002517729442816609, 0.007692379468624085, 0.9769321925152588, 0.007692379468624085, 0.2594884475749617, 0.5613423559784886, 0.16416616071069007, 0.005295682603570647, 0.919157385022785, 0.07070441423252193, 0.11552129679240453, 0.007220081049525283, 0.007220081049525283, 0.0794208915447781, 0.1660618641390815, 0.43320486297151695, 0.1732819451886068, 0.014440162099050566, 0.8995941854734022, 0.005452085972566074, 0.09268546153362325, 0.9699853335755064, 0.019019320266186402, 0.9850219390830566, 0.0486607962062022, 0.010321987074042891, 0.02654225247611029, 0.03686423955015318, 0.04276251787817769, 0.029491391640122544, 0.45416743125788717, 0.2757445118351458, 0.07372847910030636, 0.15210398784077675, 0.6236263501471847, 0.07605199392038837, 0.12168319027262141, 0.030420797568155352, 0.16685193003097404, 0.7508336851393832, 0.9587620315463707, 0.49876235282441034, 0.4782652698316263, 0.013664721995189325, 0.019567797209589892, 0.11740678325753934, 0.8609830772219552, 0.01255882940888842, 0.03767648822666526, 0.9544710350755199, 0.24588185269359006, 0.1657029876848107, 0.3955490673766449, 0.16035773001755874, 0.02672628833625979, 0.005345257667251958, 0.005345257667251958, 0.8455840920307243, 0.03252246507810478, 0.10840821692701592, 0.9806290149251763, 0.9821670830672211, 0.30316646523275953, 0.666966223512071, 0.24786951753646258, 0.03540993107663751, 0.25967282789534174, 0.4367224832785293, 0.01180331035887917, 0.15071844519977196, 0.7535922259988598, 0.015396988251927448, 0.08468343538560097, 0.023095482377891174, 0.026944729440873037, 0.03464322356683676, 0.002566164708654575, 0.7852464008482999, 0.01411390589760016, 0.012830823543272874], \"Term\": [\"1\\uc18c\\ub300\", \"\\uac00\\ub2a5\", \"\\uac00\\ub2a5\", \"\\uac00\\ub2a5\", \"\\uac00\\ub2a5\", \"\\uac00\\ub2a5\", \"\\uac00\\ub2a5\", \"\\uac00\\ub2a5\", \"\\uac00\\ubccd\", \"\\uac00\\ubccd\", \"\\uac00\\ubccd\", \"\\uac00\\ubccd\", \"\\uac00\\ubccd\", \"\\uac00\\ubccd\", \"\\uac00\\uc815\", \"\\uac00\\uc815\", \"\\uac00\\uc815\", \"\\uac00\\uc815\", \"\\uac00\\uc815\", \"\\uac00\\uc815\", \"\\uac00\\uc9c0\", \"\\uac00\\uc9c0\", \"\\uac00\\uc9c0\", \"\\uac00\\uc9c0\", \"\\uac00\\uc9c0\", \"\\uac00\\uc9c0\", \"\\uac00\\uc9c0\", \"\\uac00\\uc9c0\", \"\\uac00\\uc9c0\", \"\\uac00\\uc9c0\", \"\\uac00\\uc9c0\", \"\\uac00\\uc9c0\", \"\\uac00\\uc9c0\", \"\\uac00\\uc9dc\", \"\\uac00\\uc9dc\", \"\\uac00\\ud558\", \"\\uac00\\ud558\", \"\\uac04\\ub9cc\", \"\\uac04\\ub9cc\", \"\\uac08\\uad6c\", \"\\uac08\\uad6c\", \"\\uac08\\uad6c\", \"\\uac08\\uad6c\", \"\\uac08\\uad6c\", \"\\uac08\\uad6c\", \"\\uac08\\uc544\\ud0c0\", \"\\uac08\\uc544\\ud0c0\", \"\\uac10\\uc815\", \"\\uac10\\uc815\", \"\\uac10\\uc815\", \"\\uac10\\uc815\", \"\\uac10\\uc815\", \"\\uac10\\uc815\", \"\\uac10\\uc815\", \"\\uac13\\ub3c5\", \"\\uac13\\ub3c5\", \"\\uac15\\ub0a8\", \"\\uac15\\ub0a8\", \"\\uac15\\ub0a8\", \"\\uac15\\uc544\\uc9c0\", \"\\uac15\\uc544\\uc9c0\", \"\\uac15\\uc8fc\\ud76c\", \"\\uac15\\uc8fc\\ud76c\", \"\\uac15\\uc8fc\\ud76c\", \"\\uac15\\uc8fc\\ud76c\", \"\\uac19\\uc796\", \"\\uac1c\\uadf9\", \"\\uac1c\\uc120\", \"\\uac1c\\uc120\", \"\\uac1c\\uc120\", \"\\uac1c\\uc120\", \"\\uac1c\\uca4c\", \"\\uac1c\\uca4c\", \"\\uac1c\\uca4c\", \"\\uac1c\\uca4c\", \"\\uac70\\uc808\", \"\\uac70\\uc808\", \"\\uac70\\uc808\", \"\\uac70\\uc808\", \"\\uac70\\uc808\", \"\\uac74\\uac15\", \"\\uac74\\uac15\", \"\\uac74\\uac15\", \"\\uac74\\uac15\", \"\\uac74\\uac15\", \"\\uac74\\uac15\", \"\\uac74\\uac15\", \"\\uac74\\uac15\", \"\\uac74\\ub108\", \"\\uac74\\ub108\", \"\\uac74\\ub108\", \"\\uac74\\ubb3c\\uc8fc\", \"\\uac74\\ubb3c\\uc8fc\", \"\\uacac\\uc81c\", \"\\uacac\\uc81c\", \"\\uacb0\\ud54d\", \"\\uacbd\\uae30\", \"\\uacbd\\ubbfc\", \"\\uacbd\\ubbfc\", \"\\uacbd\\ubbfc\", \"\\uacbd\\uc6b0\", \"\\uacbd\\uc6b0\", \"\\uacbd\\uc6b0\", \"\\uacbd\\uc6b0\", \"\\uacbd\\uc6b0\", \"\\uacbd\\uc6b0\", \"\\uacbd\\uc6b0\", \"\\uacc4\\uae09\", \"\\uacc4\\ub780\", \"\\uacc4\\ub780\", \"\\uace0\\ubc31\", \"\\uace0\\ubc31\", \"\\uace0\\ubc31\", \"\\uace0\\ubc31\", \"\\uace0\\ubc31\", \"\\uace0\\ubc31\", \"\\uace0\\ud6a8\\uc6d0\", \"\\uacf0\", \"\\uacf0\", \"\\uacf0\", \"\\uacf5\", \"\\uacf5\", \"\\uacf5\", \"\\uacf5\", \"\\uacf5\", \"\\uacf5\", \"\\uacf5\", \"\\uacf5\\ubd80\", \"\\uacf5\\ubd80\", \"\\uacf5\\ubd80\", \"\\uacf5\\ubd80\", \"\\uacf5\\ubd80\", \"\\uacf5\\ubd80\", \"\\uacf5\\uc8fc\", \"\\uacf5\\uc8fc\", \"\\uacf5\\uc8fc\", \"\\uacf5\\uc8fc\\uc601\", \"\\uacf5\\uc8fc\\uc601\", \"\\uacf5\\ud1b5\\uc810\", \"\\uacfc\\uac70\", \"\\uacfc\\uac70\", \"\\uacfc\\uac70\", \"\\uacfc\\uac70\", \"\\uacfc\\uac70\", \"\\uacfc\\uac70\", \"\\uacfc\\uac70\", \"\\uacfc\\uac70\", \"\\uacfc\\uac70\", \"\\uacfd\\ubcf4\\uacbd\", \"\\uacfd\\ubcf4\\uacbd\", \"\\uad00\\uc2ec\", \"\\uad00\\uc2ec\", \"\\uad00\\uc2ec\", \"\\uad00\\uc2ec\", \"\\uad00\\uc2ec\", \"\\uad00\\uc2ec\", \"\\uad00\\uc2ec\", \"\\uad00\\uc2ec\", \"\\uad00\\uc2ec\", \"\\uad00\\uc2ec\", \"\\uad00\\uc7a5\", \"\\uad00\\uc7a5\", \"\\uad00\\uc7a5\", \"\\uad34\\ub86d\\ud788\", \"\\uad34\\ub86d\\ud788\", \"\\uad34\\ub86d\\ud788\", \"\\uad34\\ub86d\\ud788\", \"\\uad34\\ub86d\\ud788\", \"\\uad34\\ub86d\\ud788\", \"\\uad34\\ub86d\\ud788\", \"\\uad34\\ub86d\\ud788\", \"\\uad50\\uc218\", \"\\uad50\\uc7a5\", \"\\uad50\\uc7a5\", \"\\uad50\\uc7a5\", \"\\uad6c\\uae30\", \"\\uad6c\\ub77c\", \"\\uad6c\\ub77c\", \"\\uad6c\\ub77c\", \"\\uad6c\\ubcc4\", \"\\uad6c\\uc6d0\", \"\\uad6c\\ud558\\ub9b0\", \"\\uad6c\\ud558\\ub9b0\", \"\\uad6c\\ud558\\ub9b0\", \"\\uad6c\\ud558\\ub9b0\", \"\\uad6c\\ud558\\ub9b0\", \"\\uad6c\\ud558\\ub9b0\", \"\\uad70\\uae30\", \"\\uad70\\uae30\", \"\\uad70\\uae30\", \"\\uad70\\uae30\", \"\\uad70\\uae30\", \"\\uad70\\ub300\", \"\\uad70\\ub300\", \"\\uad70\\ub300\", \"\\uad70\\ub300\", \"\\uad70\\ub300\", \"\\uad70\\ub300\", \"\\uad70\\ub300\", \"\\uad70\\ub300\", \"\\uad70\\ub300\", \"\\uad70\\ubc88\", \"\\uad70\\ubc88\", \"\\uad8c\\uc9c0\\ud0dc\", \"\\uadc0\", \"\\uadc0\", \"\\uadc0\", \"\\uadc0\", \"\\uadc0\", \"\\uadc0\", \"\\uadc0\", \"\\uadc0\", \"\\uadf8\\uac83\", \"\\uadf8\\uac83\", \"\\uadf8\\uac83\", \"\\uadf8\\uac83\", \"\\uadf8\\uac83\", \"\\uadf8\\uac83\", \"\\uadf8\\uac83\", \"\\uadf8\\uac83\", \"\\uadf8\\uac83\", \"\\uadf8\\ub7ec\", \"\\uadf8\\ub7ec\", \"\\uadf8\\ub7ec\", \"\\uadf8\\ub7ec\", \"\\uadf8\\ub7ec\", \"\\uadf8\\ub7ec\", \"\\uadf8\\ub7ec\", \"\\uadf8\\ub7ec\", \"\\uadf8\\ub7ec\", \"\\uadf8\\ub7ec\", \"\\uadf8\\ub7ec\", \"\\uadf8\\ub7ec\", \"\\uadf8\\ub7ec\\uc9c0\\ub9c8\", \"\\uadf8\\ub807\", \"\\uadf8\\ub807\", \"\\uadf8\\ub807\", \"\\uadf8\\ub807\", \"\\uadf8\\ub807\", \"\\uadf8\\ub807\", \"\\uadf8\\ub807\", \"\\uadf8\\ub807\", \"\\uadf8\\ub807\", \"\\uadf8\\ub807\", \"\\uadf8\\ub807\", \"\\uadf8\\ub807\", \"\\uadf8\\ub807\", \"\\uadf8\\ub807\", \"\\uadf8\\ub9ac\", \"\\uadf8\\ub9ac\", \"\\uadf8\\ub9ac\", \"\\uadf8\\ub9ac\", \"\\uadf8\\ub9ac\", \"\\uadf8\\ub9ac\", \"\\uadf8\\ub9ac\", \"\\uadf8\\ub9ac\", \"\\uadf8\\ub9ac\", \"\\uadf8\\ub9ac\", \"\\uadf8\\ub9ac\", \"\\uadf8\\ub9bc\", \"\\uadf8\\ub9bc\", \"\\uadf8\\ub9bc\", \"\\uadf8\\ub9bc\", \"\\uadf8\\ub9bc\", \"\\uadf8\\ub9bc\", \"\\uadf8\\ub9bc\", \"\\uadf8\\ub9bc\\uc790\", \"\\uadf9\\ud610\\uc774\", \"\\uadfc\\uac70\", \"\\uadfc\\uac70\", \"\\uadfc\\uac70\", \"\\uadfc\\uc6d0\", \"\\uadfc\\ud669\", \"\\uadfc\\ud669\", \"\\uadfc\\ud669\", \"\\uae30\", \"\\uae30\", \"\\uae30\", \"\\uae30\", \"\\uae30\", \"\\uae30\", \"\\uae30\", \"\\uae30\", \"\\uae30\", \"\\uae30\", \"\\uae30\", \"\\uae30\\ub3d9\\ub300\", \"\\uae30\\uba85\", \"\\uae30\\uba85\", \"\\uae30\\uba85\", \"\\uae30\\uba85\", \"\\uae30\\uba85\", \"\\uae30\\uba85\", \"\\uae30\\ubd84\", \"\\uae30\\ubd84\", \"\\uae30\\ubd84\", \"\\uae30\\ubd84\", \"\\uae30\\ubd84\", \"\\uae30\\ubd84\", \"\\uae30\\ubd84\", \"\\uae30\\ubd84\", \"\\uae30\\ubd84\", \"\\uae30\\uc218\", \"\\uae30\\uc218\", \"\\uae30\\uc218\", \"\\uae30\\uc220\", \"\\uae30\\uc220\", \"\\uae30\\uc220\", \"\\uae30\\uc220\", \"\\uae30\\uc220\", \"\\uae30\\uc548\", \"\\uae30\\uc548\", \"\\uae30\\uc548\", \"\\uae30\\uc548\", \"\\uae30\\uc548\", \"\\uae30\\uc790\", \"\\uae38\", \"\\uae38\", \"\\uae38\", \"\\uae38\", \"\\uae38\", \"\\uae38\", \"\\uae38\", \"\\uae38\", \"\\uae38\", \"\\uae38\", \"\\uae38\", \"\\uae38\", \"\\uae38\\uac70\\ub9ac\", \"\\uae38\\uac70\\ub9ac\", \"\\uae38\\uc774\", \"\\uae38\\uc774\", \"\\uae38\\uc774\", \"\\uae40\\uac00\\uc744\", \"\\uae40\\uac00\\uc744\", \"\\uae40\\uac00\\uc744\", \"\\uae40\\uae30\\uba85\", \"\\uae40\\ubcd1\\ud6c8\", \"\\uae40\\uc138\", \"\\uae40\\uc218\", \"\\uaf2c\\uc774\", \"\\uaf2c\\uc774\", \"\\uaf2c\\uc774\", \"\\uaf2c\\uc774\", \"\\uaf43\\ub2d8\", \"\\uaf43\\ub2d8\", \"\\uaf43\\ub2d8\", \"\\uaf43\\ub2d8\", \"\\uaf43\\ub2d8\", \"\\uafc0\", \"\\uafc0\", \"\\uafc0\", \"\\uafc0\", \"\\uafc0\", \"\\ub04c\\ub9ac\", \"\\ub04c\\ub9ac\", \"\\ub098\\ub9ac\", \"\\ub098\\ub9ac\", \"\\ub098\\ub9ac\", \"\\ub098\\ub9ac\", \"\\ub098\\uc624\", \"\\ub098\\uc624\", \"\\ub098\\uc624\", \"\\ub098\\uc624\", \"\\ub098\\uc624\", \"\\ub098\\uc624\", \"\\ub098\\uc624\", \"\\ub098\\uc624\", \"\\ub098\\uc624\", \"\\ub098\\uc624\", \"\\ub098\\uc624\", \"\\ub098\\uc624\", \"\\ub098\\uc624\", \"\\ub098\\uc653\", \"\\ub098\\uc8fc\\ub9ac\", \"\\ub0a0\\uac1c\", \"\\ub0a0\\uac1c\", \"\\ub0a0\\uac1c\", \"\\ub0a8\\ubd09\\uc774\", \"\\ub0a8\\uc544\", \"\\ub0a8\\uc720\\ub9ac\", \"\\ub0a8\\uc790\", \"\\ub0a8\\uc790\", \"\\ub0a8\\uc790\", \"\\ub0a8\\uc790\", \"\\ub0a8\\uc790\", \"\\ub0a8\\uc790\", \"\\ub0a8\\uc790\", \"\\ub0a8\\uc790\", \"\\ub0a8\\uc790\", \"\\ub0a8\\uc790\", \"\\ub0a8\\uc790\", \"\\ub0a8\\uc790\", \"\\ub0a8\\uc790\", \"\\ub0b4\\uba74\", \"\\ub0b4\\ubc49\", \"\\ub0b4\\ubc49\", \"\\ub0b4\\uc6a9\", \"\\ub0b4\\uc6a9\", \"\\ub0b4\\uc6a9\", \"\\ub0b4\\uc6a9\", \"\\ub0b4\\uc6a9\", \"\\ub0b4\\uc6a9\", \"\\ub0b4\\uc6a9\", \"\\ub0b4\\uc6a9\", \"\\ub0b4\\uce58\", \"\\ub124\\uc774\\ubc84\", \"\\ub124\\uc774\\ubc84\", \"\\ub124\\uc774\\ubc84\", \"\\ub124\\uc774\\ubc84\", \"\\ub124\\uc774\\ubc84\", \"\\ub124\\uc774\\ubc84\", \"\\ub124\\uc774\\ubc84\", \"\\ub179\\uc74c\\uae30\", \"\\ub179\\uc74c\\uae30\", \"\\ub17c\\ub780\", \"\\ub17c\\ub780\", \"\\ub17c\\ub780\", \"\\ub17c\\uc0b0\", \"\\ub180\\ub77c\", \"\\ub180\\ub77c\", \"\\ub180\\ub77c\", \"\\ub180\\ub77c\", \"\\ub180\\ub77c\", \"\\ub180\\ub77c\", \"\\ub180\\ub77c\", \"\\ub180\\ub798\", \"\\ub180\\ub798\", \"\\ub180\\ub798\", \"\\ub194\", \"\\ub194\", \"\\ub194\", \"\\ub208\", \"\\ub208\", \"\\ub208\", \"\\ub208\", \"\\ub208\", \"\\ub208\", \"\\ub208\", \"\\ub208\", \"\\ub208\", \"\\ub208\", \"\\ub208\", \"\\ub208\", \"\\ub208\", \"\\ub208\\uae54\", \"\\ub208\\ub3d9\\uc790\", \"\\ub208\\uce58\", \"\\ub208\\uce58\", \"\\ub208\\uce58\", \"\\ub208\\uce58\", \"\\ub208\\uce58\", \"\\ub208\\uce58\", \"\\ub208\\uce58\", \"\\ub274\\uc2a4\", \"\\ub274\\uc2a4\", \"\\ub290\\uadf8\", \"\\ub290\\ub07c\", \"\\ub290\\ub07c\", \"\\ub290\\ub07c\", \"\\ub290\\ub07c\", \"\\ub290\\ub07c\", \"\\ub290\\ub07c\", \"\\ub290\\ub07c\", \"\\ub290\\ub07c\", \"\\ub290\\ub07c\", \"\\ub290\\ub07c\", \"\\ub290\\ub07c\", \"\\ub2a5\\ub825\\uc790\", \"\\ub2a5\\ub825\\uc790\", \"\\ub2e4\\uac00\\uc624\", \"\\ub2e4\\uac00\\uc624\", \"\\ub2e4\\uac00\\uc624\", \"\\ub2e4\\uac00\\uc624\", \"\\ub2e4\\ub2c8\", \"\\ub2e4\\ub2c8\", \"\\ub2e4\\ub2c8\", \"\\ub2e4\\ub2c8\", \"\\ub2e4\\ub2c8\", \"\\ub2e4\\ub2c8\", \"\\ub2e4\\ub2c8\", \"\\ub2e4\\ub2c8\", \"\\ub2e4\\ub2c8\", \"\\ub2e4\\ub2c8\", \"\\ub2e4\\ub2c8\", \"\\ub2e4\\ub2c8\", \"\\ub2e4\\uc9d0\", \"\\ub2e4\\uc9d0\", \"\\ub2e4\\ud22c\", \"\\ub2e4\\ud76c\", \"\\ub2e4\\ud76c\", \"\\ub2e4\\ud76c\", \"\\ub2e4\\ud76c\", \"\\ub2e4\\ud76c\", \"\\ub2ec\\ub77c\\uc9c0\", \"\\ub2ec\\ub77c\\uc9c0\", \"\\ub2ec\\ub77c\\uc9c0\", \"\\ub2ed\", \"\\ub2ed\", \"\\ub2ed\", \"\\ub2f9\\uad6c\\uc7a5\", \"\\ub2f9\\ud558\", \"\\ub2f9\\ud558\", \"\\ub2f9\\ud558\", \"\\ub2f9\\ud558\", \"\\ub2f9\\ud558\", \"\\ub2f9\\ud558\", \"\\ub2f9\\ud558\", \"\\ub2f9\\ud558\", \"\\ub2f9\\ud558\", \"\\ub2f9\\ud558\", \"\\ub2f9\\ud558\", \"\\ub2f9\\ud558\", \"\\ub300\\uac00\\ub9ac\", \"\\ub300\\uac00\\ub9ac\", \"\\ub300\\uac00\\ub9ac\", \"\\ub300\\uac00\\ub9ac\", \"\\ub300\\uac00\\ub9ac\", \"\\ub300\\ub450\", \"\\ub300\\ub450\", \"\\ub300\\ub450\", \"\\ub300\\ub450\", \"\\ub300\\ubc15\", \"\\ub300\\ubc15\", \"\\ub300\\ubc15\", \"\\ub300\\ubc15\", \"\\ub300\\ubc15\", \"\\ub300\\ubc15\", \"\\ub300\\ud558\", \"\\ub300\\ud558\", \"\\ub300\\ud558\", \"\\ub300\\ud558\", \"\\ub300\\ud558\", \"\\ub300\\ud558\", \"\\ub300\\ud558\", \"\\ub300\\ud558\", \"\\ub300\\ud558\", \"\\ub300\\ud558\", \"\\ub300\\ud558\", \"\\ub300\\ud558\", \"\\ub300\\ud558\", \"\\ub300\\ud558\", \"\\ub300\\ud559\", \"\\ub300\\ud559\", \"\\ub300\\ud559\", \"\\ub300\\ud559\", \"\\ub300\\ud559\", \"\\ub300\\ud559\", \"\\ub313\", \"\\ub313\", \"\\ub313\", \"\\ub313\", \"\\ub313\", \"\\ub313\", \"\\ub313\", \"\\ub313\", \"\\ub313\", \"\\ub313\", \"\\ub313\\uae00\", \"\\ub313\\uae00\", \"\\ub313\\uae00\", \"\\ub313\\uae00\", \"\\ub313\\uae00\", \"\\ub313\\uae00\", \"\\ub313\\uae00\", \"\\ub313\\uae00\", \"\\ub313\\uae00\", \"\\ub313\\uae00\", \"\\ub313\\uae00\", \"\\ub313\\uae00\", \"\\ub313\\uae00\", \"\\ub354\", \"\\ub354\", \"\\ub354\", \"\\ub354\", \"\\ub354\", \"\\ub354\", \"\\ub355\\uad6c\", \"\\ub355\\uad6c\", \"\\ub355\\uad6c\", \"\\ub355\\uad6c\", \"\\ub3c4\\ubd09\\uc0b0\", \"\\ub3c4\\ubd09\\uc0b0\", \"\\ub3c4\\ubd09\\uc0b0\", \"\\ub3c4\\ubd09\\uc0b0\", \"\\ub3c4\\uc640\\uc8fc\", \"\\ub3c4\\uc640\\uc8fc\", \"\\ub3c4\\uc640\\uc8fc\", \"\\ub3c4\\uc640\\uc8fc\", \"\\ub3c4\\uc640\\uc8fc\", \"\\ub3c4\\uc640\\uc8fc\", \"\\ub3c4\\uc911\", \"\\ub3c4\\uc911\", \"\\ub3c4\\uc911\", \"\\ub3c4\\uc911\", \"\\ub3c4\\uc911\", \"\\ub3c4\\ud654\", \"\\ub3d9\\uac11\", \"\\ub3d9\\uacbd\", \"\\ub3d9\\uae30\", \"\\ub3d9\\uae30\", \"\\ub3d9\\uae30\", \"\\ub3d9\\uae4c\", \"\\ub3d9\\uae4c\", \"\\ub3d9\\uae4c\", \"\\ub3d9\\uc6d0\", \"\\ub3d9\\uc6d0\", \"\\ub3d9\\uc6d0\", \"\\ub3d9\\uc6d0\", \"\\ub3d9\\uc6d0\", \"\\ub3d9\\ud601\", \"\\ub3d9\\ud601\", \"\\ub450\\uce58\", \"\\ub4a4\\ud1b5\\uc218\", \"\\ub4a4\\ud1b5\\uc218\", \"\\ub4a4\\ud1b5\\uc218\", \"\\ub4dc\\ub7ec\\ub0b4\", \"\\ub4dc\\ub7ec\\ub0b4\", \"\\ub4dc\\ub7ec\\ub0b4\", \"\\ub4dc\\ub9bc\", \"\\ub4dc\\ub9bc\", \"\\ub4e4\\ub9ac\", \"\\ub4e4\\ub9ac\", \"\\ub4e4\\ub9ac\", \"\\ub4e4\\ub9ac\", \"\\ub4e4\\ub9ac\", \"\\ub4e4\\ub9ac\", \"\\ub4e4\\uc5b4\\uac00\", \"\\ub4e4\\uc5b4\\uac00\", \"\\ub4e4\\uc5b4\\uac00\", \"\\ub4e4\\uc5b4\\uac00\", \"\\ub4e4\\uc5b4\\uac00\", \"\\ub4e4\\uc5b4\\uac00\", \"\\ub4e4\\uc5b4\\uac00\", \"\\ub4e4\\uc5b4\\uac00\", \"\\ub4e4\\uc5b4\\uac00\", \"\\ub4e4\\uc5b4\\uac00\", \"\\ub4e4\\uc5b4\\uac00\", \"\\ub4f1\\uc7a5\", \"\\ub4f1\\uc7a5\", \"\\ub4f1\\uc7a5\", \"\\ub4f1\\uc7a5\", \"\\ub4f1\\uc7a5\", \"\\ub4f1\\uc7a5\", \"\\ub4f1\\uc7a5\", \"\\ub514\\ud14c\\uc77c\", \"\\ub514\\ud14c\\uc77c\", \"\\ub538\\uae30\", \"\\ub538\\uae30\", \"\\ub538\\uae30\", \"\\ub538\\uae30\\uc6b0\\uc720\", \"\\ub54c\\ub9ac\", \"\\ub54c\\ub9ac\", \"\\ub54c\\ub9ac\", \"\\ub54c\\ub9ac\", \"\\ub54c\\ub9ac\", \"\\ub54c\\ub9ac\", \"\\ub54c\\ub9ac\", \"\\ub54c\\ub9ac\", \"\\ub54c\\ub9ac\", \"\\ub54c\\ub9ac\", \"\\ub54c\\ub9ac\", \"\\ub5a0\\ub098\", \"\\ub5a0\\ub098\", \"\\ub5a0\\ub098\", \"\\ub5a0\\ub098\", \"\\ub5a0\\ub098\", \"\\ub5a0\\ub098\", \"\\ub5a0\\ub098\", \"\\ub77c\\uc2dc\", \"\\ub77c\\uc2dc\", \"\\ub77c\\uc2dc\", \"\\ub77c\\uc2dc\\ud604\", \"\\ub77c\\uc2dc\\ud604\", \"\\ub77c\\uc2dc\\ud604\", \"\\ub77c\\uc2dc\\ud604\", \"\\ub77c\\uc774\\ud2b8\", \"\\ub77c\\uc778\", \"\\ub77c\\uc778\", \"\\ub77c\\uc778\", \"\\ub77c\\uc778\", \"\\ub77c\\uc778\", \"\\ub77c\\uc778\", \"\\ub77c\\uc778\", \"\\ub77c\\uc778\", \"\\ub77c\\uc778\", \"\\ub77c\\uc778\", \"\\ub77c\\ud76c\", \"\\ub77c\\ud76c\", \"\\ub79c\", \"\\ub79c\\ucc57\", \"\\ub85d\", \"\\ub9ac\\ub098\", \"\\ub9ac\\ub098\", \"\\ub9ac\\ub098\", \"\\ub9ac\\ub77c\", \"\\ub9ac\\uc2a4\", \"\\ub9c8\\ub77c\", \"\\ub9c8\\ub835\", \"\\ub9c8\\ub835\", \"\\ub9c8\\ub835\", \"\\ub9c8\\ub835\", \"\\ub9c8\\uc74c\", \"\\ub9c8\\uc74c\", \"\\ub9c8\\uc74c\", \"\\ub9c8\\uc74c\", \"\\ub9c8\\uc74c\", \"\\ub9c8\\uc74c\", \"\\ub9c8\\uc74c\", \"\\ub9c8\\uc74c\", \"\\ub9c8\\uc74c\", \"\\ub9c8\\uc74c\", \"\\ub9c8\\uc74c\", \"\\ub9c8\\uc74c\", \"\\ub9c8\\uc74c\", \"\\ub9c8\\uc9c0\\ub9c9\", \"\\ub9c8\\uc9c0\\ub9c9\", \"\\ub9c8\\uc9c0\\ub9c9\", \"\\ub9c8\\uc9c0\\ub9c9\", \"\\ub9c8\\uc9c0\\ub9c9\", \"\\ub9c8\\uc9c0\\ub9c9\", \"\\ub9c8\\uc9c0\\ub9c9\", \"\\ub9c8\\uc9c0\\ub9c9\", \"\\ub9c8\\uc9c0\\ub9c9\", \"\\ub9c8\\uc9c0\\ub9c9\", \"\\ub9c8\\uc9c0\\ub9c9\", \"\\ub9c8\\uc9c0\\ub9c9\", \"\\ub9c8\\uc9c0\\ub9c9\", \"\\ub9c8\\uc9c0\\ub9c9\\ubca0\\ub313\", \"\\ub9c9\\ud310\", \"\\ub9c9\\ud310\", \"\\ub9c9\\ud310\", \"\\ub9cc\\ub098\", \"\\ub9cc\\ub098\", \"\\ub9cc\\ub098\", \"\\ub9cc\\ub098\", \"\\ub9cc\\ub098\", \"\\ub9cc\\ub098\", \"\\ub9cc\\ub098\", \"\\ub9cc\\ub098\", \"\\ub9cc\\ub4e4\", \"\\ub9cc\\ub4e4\", \"\\ub9cc\\ub4e4\", \"\\ub9cc\\ub4e4\", \"\\ub9cc\\ub4e4\", \"\\ub9cc\\ub4e4\", \"\\ub9cc\\ub4e4\", \"\\ub9cc\\ub4e4\", \"\\ub9cc\\ub4e4\", \"\\ub9cc\\ub4e4\", \"\\ub9cc\\ub4e4\", \"\\ub9cc\\ub4e4\", \"\\ub9cc\\ub4e4\", \"\\ub9cc\\ub4e4\", \"\\ub9cc\\uc6b0\\uc808\", \"\\ub9cc\\uc9c0\", \"\\ub9cc\\uc9c0\", \"\\ub9cc\\ud654\", \"\\ub9cc\\ud654\", \"\\ub9cc\\ud654\", \"\\ub9cc\\ud654\", \"\\ub9cc\\ud654\", \"\\ub9cc\\ud654\", \"\\ub9cc\\ud654\", \"\\ub9cc\\ud654\", \"\\ub9cc\\ud654\", \"\\ub9cc\\ud654\", \"\\ub9cc\\ud654\", \"\\ub9d0\\ub9ac\", \"\\ub9d0\\ub9ac\", \"\\ub9d0\\ub9ac\", \"\\ub9d0\\ub9ac\", \"\\ub9de\\ucda4\\ubc95\", \"\\ub9e1\\uae30\", \"\\ub9e4\\ub108\", \"\\ub9e4\\ub108\", \"\\ub9e4\\ub108\", \"\\ub9e4\\ub2c8\", \"\\ub9e4\\ub2c8\", \"\\ub9e4\\uc810\", \"\\uba38\\ub9ac\", \"\\uba38\\ub9ac\", \"\\uba38\\ub9ac\", \"\\uba38\\ub9ac\", \"\\uba38\\ub9ac\", \"\\uba38\\ub9ac\", \"\\uba38\\ub9ac\", \"\\uba38\\ub9ac\", \"\\uba38\\ub9ac\", \"\\uba38\\ub9ac\", \"\\uba38\\ub9ac\", \"\\uba38\\ub9bf\\uc18d\", \"\\uba40\\ubbf8\", \"\\uba4b\\uc9c0\", \"\\uba4b\\uc9c0\", \"\\uba4b\\uc9c0\", \"\\uba4b\\uc9c0\", \"\\uba4b\\uc9c0\", \"\\uba4b\\uc9c0\", \"\\uba4b\\uc9c0\", \"\\uba4b\\uc9c0\", \"\\uba4b\\uc9c0\", \"\\ubaa8\\uae30\", \"\\ubaa8\\ub974\", \"\\ubaa8\\ub974\", \"\\ubaa8\\ub974\", \"\\ubaa8\\ub974\", \"\\ubaa8\\ub974\", \"\\ubaa8\\ub974\", \"\\ubaa8\\ub974\", \"\\ubaa8\\ub974\", \"\\ubaa8\\ub974\", \"\\ubaa8\\ub974\", \"\\ubaa8\\ub974\", \"\\ubaa8\\ub974\\uac9f\", \"\\ubaa8\\ub974\\uac9f\", \"\\ubaa8\\ub974\\uac9f\", \"\\ubaa8\\uc2b5\", \"\\ubaa8\\uc2b5\", \"\\ubaa8\\uc2b5\", \"\\ubaa8\\uc2b5\", \"\\ubaa8\\uc2b5\", \"\\ubaa8\\uc2b5\", \"\\ubaa8\\uc2b5\", \"\\ubaa8\\uc2b5\", \"\\ubaa8\\uc2b5\", \"\\ubaa8\\uc2b5\", \"\\ubaa8\\uc2b5\", \"\\ubaa8\\uc2b5\", \"\\ubaa8\\uc2dc\", \"\\ubaa8\\uc2dc\", \"\\ubab0\\ub9ac\", \"\\ubab0\\ub9ac\", \"\\ubab0\\ub9ac\", \"\\ubab0\\ub9ac\", \"\\ubab8\", \"\\ubab8\", \"\\ubab8\", \"\\ubab8\", \"\\ubab8\", \"\\ubab8\", \"\\ubab8\", \"\\ubab8\", \"\\ubabb\\uc0dd\\uae30\", \"\\ubabb\\uc0dd\\uae30\", \"\\ubabb\\uc0dd\\uae30\", \"\\ubabb\\uc0dd\\uae30\", \"\\ubb34\", \"\\ubb34\\uc11c\\uc6c0\", \"\\ubb34\\uc2ec\", \"\\ubb34\\uc2ec\", \"\\ubb34\\uc5d0\\ud0c0\\uc774\", \"\\ubb34\\uc5d0\\ud0c0\\uc774\", \"\\ubb38\\uc131\\ud604\", \"\\ubb38\\uc131\\ud604\", \"\\ubb38\\uc18c\\uc911\", \"\\ubb38\\uc18c\\uc911\", \"\\ubb38\\uc81c\", \"\\ubb38\\uc81c\", \"\\ubb38\\uc81c\", \"\\ubb38\\uc81c\", \"\\ubb38\\uc81c\", \"\\ubb38\\uc81c\", \"\\ubb38\\uc81c\", \"\\ubb38\\uc81c\", \"\\ubb38\\uc81c\", \"\\ubbf8\", \"\\ubbf8\", \"\\ubbf8\", \"\\ubbf8\", \"\\ubbf8\", \"\\ubbf8\", \"\\ubbf8\", \"\\ubbf8\", \"\\ubbf8\", \"\\ubbf8\\uad70\", \"\\ubbf8\\uad70\", \"\\ubbf8\\ub0a8\", \"\\ubbf8\\ub0a8\", \"\\ubbf8\\ub798\", \"\\ubbf8\\ub798\", \"\\ubbf8\\ub798\", \"\\ubbf8\\ub798\", \"\\ubbf8\\ub798\", \"\\ubbf8\\ub798\", \"\\ubbf8\\ub798\", \"\\ubbf8\\ub798\", \"\\ubbf8\\uc218\", \"\\ubbf8\\uc815\", \"\\ubbf8\\uc815\", \"\\ubbf8\\uc8fc\", \"\\ubbf8\\uc8fc\", \"\\ubbf8\\ud654\", \"\\ubbf8\\ud654\", \"\\ubbf8\\ud654\", \"\\ubbf8\\ud654\", \"\\ubbfc\\uc774\", \"\\ubbfc\\uc774\", \"\\ubbfc\\uc774\", \"\\ubbfc\\uc9c0\", \"\\ubbfc\\uc9c0\", \"\\ubbfc\\uc9c0\", \"\\ubbfc\\uc9c0\", \"\\ubbfc\\uc9c0\", \"\\ubbfc\\uc9c0\", \"\\ubbfc\\uc9c0\", \"\\ubbfc\\uc9c0\", \"\\ubbfc\\uc9c0\", \"\\ubbfc\\uc9c0\", \"\\ubbff\\uc74c\", \"\\ubbff\\uc74c\", \"\\ubbff\\uc74c\", \"\\ubc14\\ub098\\ub098\", \"\\ubc14\\ub098\\ub098\", \"\\ubc14\\ub098\\ub098\", \"\\ubc14\\ub098\\ub098\", \"\\ubc14\\ub098\\ub098\", \"\\ubc14\\ub2e4\", \"\\ubc14\\ub2e4\", \"\\ubc14\\ub2e4\", \"\\ubc14\\ub2e4\", \"\\ubc14\\ub2e4\", \"\\ubc14\\ub77c\\ubcf4\", \"\\ubc14\\ub77c\\ubcf4\", \"\\ubc14\\ub77c\\ubcf4\", \"\\ubc14\\uc2a4\", \"\\ubc14\\uc2a4\\ucf54\", \"\\ubc14\\uc2a4\\ucf54\", \"\\ubc14\\uc2a4\\ucf54\", \"\\ubc14\\uc2a4\\ucf54\", \"\\ubc14\\uc2a4\\ucf54\", \"\\ubc14\\uc2a4\\ucf54\", \"\\ubc15\\ub825\", \"\\ubc15\\uc138\\uc900\", \"\\ubc15\\uc138\\uc900\", \"\\ubc15\\uc2a4\", \"\\ubc15\\uc9c0\\ud638\", \"\\ubc15\\uc9c0\\ud638\", \"\\ubc15\\uc9c0\\ud638\", \"\\ubc15\\uc9c0\\ud638\", \"\\ubc15\\ud0dc\\uc900\", \"\\ubc15\\ud0dc\\uc900\", \"\\ubc15\\ud0dc\\uc900\", \"\\ubc15\\ud604\\uc815\", \"\\ubc15\\ud615\", \"\\ubc15\\ud615\", \"\\ubc15\\ud615\\uc11d\", \"\\ubc15\\ud615\\uc11d\", \"\\ubc15\\ud615\\uc11d\", \"\\ubc15\\ud615\\uc11d\", \"\\ubc15\\ud788\", \"\\ubc15\\ud788\", \"\\ubc18\\uc751\", \"\\ubc18\\uc751\", \"\\ubc18\\uc751\", \"\\ubc18\\uc751\", \"\\ubc18\\uc751\", \"\\ubc18\\uc751\", \"\\ubc18\\uc751\", \"\\ubc18\\uc751\", \"\\ubc18\\uc751\", \"\\ubc18\\uc751\", \"\\ubc18\\uc7a5\", \"\\ubc18\\uc7a5\", \"\\ubc18\\uc7a5\", \"\\ubc18\\uc7a5\", \"\\ubc18\\uc7a5\", \"\\ubc18\\uc7a5\", \"\\ubc18\\uc7a5\", \"\\ubc1c\\ucc28\\uae30\", \"\\ubc1d\\ud788\", \"\\ubc1d\\ud788\", \"\\ubc1d\\ud788\", \"\\ubc24\\uc0c8\", \"\\ubc24\\uc0c8\", \"\\ubc29\\uad00\", \"\\ubc29\\ud669\", \"\\ubc29\\ud669\", \"\\ubc31\\ub3c4\\ud654\", \"\\ubc31\\ub3c4\\ud654\", \"\\ubc31\\uc18c\", \"\\ubc31\\uc18c\", \"\\ubc31\\uc18c\", \"\\ubc31\\uc18c\", \"\\ubc31\\uc18c\\uc5f0\", \"\\ubc31\\uc18c\\uc5f0\", \"\\ubc34\\ub4dc\", \"\\ubc43\\uc9c0\", \"\\ubc84\\ub9ac\", \"\\ubc84\\ub9ac\", \"\\ubc84\\ub9ac\", \"\\ubc84\\ub9ac\", \"\\ubc84\\ub9ac\", \"\\ubc84\\ub9ac\", \"\\ubc84\\ub9ac\", \"\\ubc84\\ub9ac\", \"\\ubc84\\ub9ac\", \"\\ubc84\\ub9ac\", \"\\ubc84\\ub9ac\", \"\\ubc84\\ub9ac\", \"\\ubc84\\ub9ac\", \"\\ubc84\\ub9bc\", \"\\ubc84\\ub9bc\\ubc1b\", \"\\ubc84\\ub9bc\\ubc1b\", \"\\ubca0\\ub313\", \"\\ubca0\\ub313\", \"\\ubca0\\ub313\", \"\\ubca0\\ub313\", \"\\ubca0\\ub313\", \"\\ubca0\\ub313\", \"\\ubca0\\ub313\", \"\\ubca0\\ub313\", \"\\ubca0\\ub313\", \"\\ubca0\\ub313\", \"\\ubca0\\ub313\", \"\\ubca0\\ub383\\ub2d8\", \"\\ubca0\\uc774\", \"\\ubca0\\ud504\", \"\\ubcd1\\ud6c8\", \"\\ubcd1\\ud6c8\", \"\\ubcd1\\ud6c8\", \"\\ubcf4\\uc774\", \"\\ubcf4\\uc774\", \"\\ubcf4\\uc774\", \"\\ubcf4\\uc774\", \"\\ubcf4\\uc774\", \"\\ubcf4\\uc774\", \"\\ubcf4\\uc774\", \"\\ubcf4\\uc774\", \"\\ubcf4\\uc774\", \"\\ubcf4\\uc774\", \"\\ubcf4\\uc774\", \"\\ubcf4\\uc774\", \"\\ubcf8\\ubd80\", \"\\ubcf8\\ubd80\", \"\\ubcf8\\uc778\", \"\\ubcf8\\uc778\", \"\\ubcf8\\uc778\", \"\\ubcf8\\uc778\", \"\\ubcf8\\uc778\", \"\\ubcf8\\uc778\", \"\\ubcf8\\uc778\", \"\\ubcf8\\uc778\", \"\\ubd04\", \"\\ubd04\", \"\\ubd04\", \"\\ubd04\", \"\\ubd04\", \"\\ubd04\", \"\\ubd04\", \"\\ubd04\", \"\\ubd04\", \"\\ubd04\", \"\\ubd04\", \"\\ubd04\\uc774\", \"\\ubd04\\uc774\", \"\\ubd04\\uc774\", \"\\ubd09\\uad6c\", \"\\ubd09\\uad6c\", \"\\ubd09\\uc9c0\", \"\\ubd09\\uc9c0\", \"\\ubd09\\uc9c0\", \"\\ubd09\\uc9c0\", \"\\ubd80\\ub300\", \"\\ubd80\\ub300\", \"\\ubd80\\ubaa8\", \"\\ubd80\\ubaa8\", \"\\ubd80\\ubaa8\", \"\\ubd80\\ubaa8\", \"\\ubd80\\ubaa8\", \"\\ubd80\\ubaa8\", \"\\ubd80\\ubaa8\", \"\\ubd80\\ubd84\", \"\\ubd80\\ubd84\", \"\\ubd80\\ubd84\", \"\\ubd80\\ubd84\", \"\\ubd80\\ubd84\", \"\\ubd80\\ubd84\", \"\\ubd80\\ubd84\", \"\\ubd80\\ubd84\", \"\\ubd80\\ubd84\", \"\\ubd80\\uc2dc\", \"\\ubd80\\uc2dc\", \"\\ubd80\\uc5ec\", \"\\ubd80\\uc5ec\", \"\\ubd80\\uc5ec\", \"\\ubd84\\ub300\\uc7a5\", \"\\ubd88\\ub7ec\\ub0b4\", \"\\ubd95\", \"\\ube0c\\ub85c\\ucf5c\\ub9ac\", \"\\ube0c\\ub85c\\ucf5c\\ub9ac\", \"\\ube0c\\ub85c\\ucf5c\\ub9ac\", \"\\ube0c\\ub85c\\ucf5c\\ub9ac\", \"\\ube44\\uce58\", \"\\ube44\\uce58\", \"\\ube44\\uce58\", \"\\ube44\\ud0a4\\ub2c8\", \"\\ube44\\ud0a4\\ub2c8\", \"\\ube45\\ub51c\", \"\\ube45\\ub51c\", \"\\ube45\\ub51c\", \"\\ube45\\ub51c\", \"\\ube60\\ub974\", \"\\ube60\\ub974\", \"\\ube60\\ub974\", \"\\ube60\\ub974\", \"\\ube60\\ub974\", \"\\ube60\\ub974\", \"\\ube68\\uac1c\\uc9c0\", \"\\ubf40\\ubf40\", \"\\ubf40\\ubf40\", \"\\ubf40\\ubf40\", \"\\ubf40\\ubf40\", \"\\ubfd4\", \"\\ubfd4\", \"\\ubfd4\", \"\\ubfd4\", \"\\uc058\\ub799\", \"\\uc058\\ub799\\ub531\", \"\\uc0ac\\uadc0\", \"\\uc0ac\\uadc0\", \"\\uc0ac\\uadc0\", \"\\uc0ac\\uadc0\", \"\\uc0ac\\uadc0\", \"\\uc0ac\\uadc0\", \"\\uc0ac\\uadc0\", \"\\uc0ac\\uadc0\", \"\\uc0ac\\uadc0\", \"\\uc0ac\\ub77c\\uc9c0\", \"\\uc0ac\\ub77c\\uc9c0\", \"\\uc0ac\\ub77c\\uc9c0\", \"\\uc0ac\\ub77c\\uc9c0\", \"\\uc0ac\\ub77c\\uc9c0\", \"\\uc0ac\\ub77c\\uc9c0\", \"\\uc0ac\\ub77c\\uc9c0\", \"\\uc0ac\\ub77c\\uc9c0\", \"\\uc0ac\\ub78c\", \"\\uc0ac\\ub78c\", \"\\uc0ac\\ub78c\", \"\\uc0ac\\ub78c\", \"\\uc0ac\\ub78c\", \"\\uc0ac\\ub78c\", \"\\uc0ac\\ub78c\", \"\\uc0ac\\ub78c\", \"\\uc0ac\\ub78c\", \"\\uc0ac\\ub78c\", \"\\uc0ac\\ub78c\", \"\\uc0ac\\ub78c\", \"\\uc0ac\\ub78c\", \"\\uc0ac\\ub78c\", \"\\uc0ac\\ub791\", \"\\uc0ac\\ub791\", \"\\uc0ac\\ub791\", \"\\uc0ac\\ub791\", \"\\uc0ac\\ub791\", \"\\uc0ac\\ub791\", \"\\uc0ac\\ub791\", \"\\uc0ac\\ub791\", \"\\uc0ac\\ub791\", \"\\uc0ac\\ub791\", \"\\uc0ac\\ub791\", \"\\uc0ac\\ub791\", \"\\uc0ac\\uc774\", \"\\uc0ac\\uc774\", \"\\uc0ac\\uc774\", \"\\uc0ac\\uc774\", \"\\uc0ac\\uc774\", \"\\uc0ac\\uc774\", \"\\uc0ac\\uc774\", \"\\uc0ac\\uc774\", \"\\uc0ac\\uc774\", \"\\uc0ac\\uc774\\ub2e4\", \"\\uc0ac\\uc774\\ub2e4\", \"\\uc0ac\\uc774\\ub2e4\", \"\\uc0ac\\uc774\\ub2e4\", \"\\uc0ac\\uc774\\ub2e4\", \"\\uc0ac\\uc774\\ub2e4\", \"\\uc0ac\\uc774\\ub2e4\", \"\\uc0ac\\uc774\\ub2e4\", \"\\uc0ac\\uc774\\ube44\", \"\\uc0ac\\uc774\\ube44\", \"\\uc0b4\\ub9ac\", \"\\uc0b4\\ub9ac\", \"\\uc0b4\\ub9ac\", \"\\uc0b4\\ub9ac\", \"\\uc0b4\\ub9ac\", \"\\uc0b4\\ub9ac\", \"\\uc0bc\\ucd0c\", \"\\uc0c1\\uacbd\", \"\\uc0c1\\uacbd\", \"\\uc0c1\\uacbd\", \"\\uc0c1\\uacbd\", \"\\uc0c1\\ub0a8\\uc790\", \"\\uc0c1\\ub0a8\\uc790\", \"\\uc0c1\\ub0a8\\uc790\", \"\\uc0c1\\ud0dc\", \"\\uc0c1\\ud0dc\", \"\\uc0c1\\ud0dc\", \"\\uc0c1\\ud0dc\", \"\\uc0c1\\ud0dc\", \"\\uc0c1\\ud0dc\", \"\\uc0c1\\ud0dc\", \"\\uc0c1\\ud0dc\", \"\\uc0c1\\ud0dc\", \"\\uc0c1\\ud0dc\", \"\\uc0c1\\ud669\", \"\\uc0c1\\ud669\", \"\\uc0c1\\ud669\", \"\\uc0c1\\ud669\", \"\\uc0c1\\ud669\", \"\\uc0c1\\ud669\", \"\\uc0c1\\ud669\", \"\\uc0c1\\ud669\", \"\\uc0c1\\ud669\", \"\\uc0c1\\ud669\", \"\\uc0c1\\ud669\", \"\\uc0c1\\ud669\", \"\\uc0c1\\ud6c8\", \"\\uc0dd\", \"\\uc0dd\", \"\\uc0dd\\uac01\", \"\\uc0dd\\uac01\", \"\\uc0dd\\uac01\", \"\\uc0dd\\uac01\", \"\\uc0dd\\uac01\", \"\\uc0dd\\uac01\", \"\\uc0dd\\uac01\", \"\\uc0dd\\uac01\", \"\\uc0dd\\uac01\", \"\\uc0dd\\uac01\", \"\\uc0dd\\uac01\", \"\\uc0dd\\uac01\", \"\\uc0dd\\uac01\", \"\\uc0dd\\uac01\", \"\\uc0dd\\uae30\", \"\\uc0dd\\uae30\", \"\\uc0dd\\uae30\", \"\\uc0dd\\uae30\", \"\\uc0dd\\uae30\", \"\\uc0dd\\uae30\", \"\\uc0dd\\uae30\", \"\\uc0dd\\uae30\", \"\\uc0dd\\uae30\", \"\\uc0dd\\uae30\", \"\\uc0dd\\uae30\", \"\\uc0dd\\uae30\", \"\\uc0dd\\uae30\", \"\\uc0dd\\uc2e0\", \"\\uc0dd\\uc77c\", \"\\uc0dd\\uc77c\", \"\\uc0dd\\uc77c\", \"\\uc0dd\\ud65c\", \"\\uc0dd\\ud65c\", \"\\uc0dd\\ud65c\", \"\\uc0dd\\ud65c\", \"\\uc0dd\\ud65c\", \"\\uc0dd\\ud65c\", \"\\uc0dd\\ud65c\", \"\\uc0dd\\ud65c\", \"\\uc0dd\\ud65c\", \"\\uc11d\\uc774\", \"\\uc11d\\uc774\", \"\\uc11d\\uc774\", \"\\uc11d\\uc774\", \"\\uc11d\\ud638\", \"\\uc11d\\ud638\", \"\\uc11d\\ud638\", \"\\uc120\", \"\\uc120\", \"\\uc120\", \"\\uc120\", \"\\uc120\", \"\\uc120\", \"\\uc120\", \"\\uc120\", \"\\uc120\", \"\\uc120\\ubb3c\", \"\\uc120\\ubb3c\", \"\\uc120\\ubb3c\", \"\\uc120\\uc0dd\", \"\\uc120\\uc0dd\", \"\\uc120\\uc0dd\", \"\\uc120\\uc0dd\", \"\\uc120\\uc0dd\", \"\\uc120\\uc784\", \"\\uc120\\uc784\", \"\\uc120\\uc784\", \"\\uc120\\uc9c0\", \"\\uc120\\uc9c0\", \"\\uc124\\ub808\", \"\\uc124\\ub808\", \"\\uc124\\ub808\", \"\\uc124\\ub808\", \"\\uc124\\ub808\", \"\\uc124\\ub808\", \"\\uc124\\ub808\", \"\\uc124\\ub808\", \"\\uc124\\uc720\\ub77c\", \"\\uc124\\uc720\\ub77c\", \"\\uc124\\uc720\\ub77c\", \"\\uc124\\uc720\\ub77c\", \"\\uc124\\uce58\", \"\\uc124\\uce58\", \"\\uc124\\uce58\", \"\\uc131\\uaca9\", \"\\uc131\\uaca9\", \"\\uc131\\uaca9\", \"\\uc131\\uaca9\", \"\\uc131\\uaca9\", \"\\uc131\\uaca9\", \"\\uc131\\uaca9\", \"\\uc131\\uaca9\", \"\\uc131\\uaca9\", \"\\uc131\\uaca9\", \"\\uc131\\uc544\", \"\\uc131\\uc544\", \"\\uc131\\uc6b1\", \"\\uc131\\uc7a5\", \"\\uc131\\uc7a5\", \"\\uc131\\uc7a5\", \"\\uc131\\uc7a5\", \"\\uc131\\uc7a5\", \"\\uc131\\uc7ac\", \"\\uc131\\uc7ac\", \"\\uc131\\ud604\\uc774\", \"\\uc131\\ud6c8\", \"\\uc131\\ud6c8\", \"\\uc131\\ud6c8\", \"\\uc131\\ud6c8\", \"\\uc138\\uacc4\", \"\\uc138\\uacc4\", \"\\uc138\\uacc4\", \"\\uc138\\uacc4\", \"\\uc138\\uacc4\", \"\\uc138\\uacc4\", \"\\uc138\\uacc4\", \"\\uc138\\ube10\", \"\\uc138\\ube10\", \"\\uc138\\uc6d4\\ud638\", \"\\uc18c\\uac1c\", \"\\uc18c\\uac1c\", \"\\uc18c\\uac1c\", \"\\uc18c\\uac1c\", \"\\uc18c\\ub300\", \"\\uc18c\\ub300\", \"\\uc18c\\ub300\", \"\\uc18c\\ub300\", \"\\uc18c\\ub300\\uc7a5\", \"\\uc18c\\ub300\\uc7a5\", \"\\uc18c\\ub9bc\", \"\\uc18c\\ub9bc\", \"\\uc18c\\ub9bc\", \"\\uc18c\\ub9bc\\uc774\", \"\\uc18c\\ub9bc\\uc774\", \"\\uc18c\\ubb38\", \"\\uc18c\\ubb38\", \"\\uc18c\\ubb38\", \"\\uc18c\\ubb38\", \"\\uc18c\\ubb38\", \"\\uc18c\\uc5f0\", \"\\uc18c\\uc5f0\", \"\\uc18c\\uc5f0\", \"\\uc18c\\uc5f0\", \"\\uc18c\\uc5f0\", \"\\uc18c\\uc5f0\", \"\\uc18c\\uc774\", \"\\uc18c\\uc774\", \"\\uc18c\\uc911\\uc774\", \"\\uc18d\", \"\\uc18d\", \"\\uc18d\", \"\\uc18d\", \"\\uc18d\", \"\\uc18d\", \"\\uc18d\", \"\\uc18d\", \"\\uc18d\", \"\\uc18d\", \"\\uc18d\\ub9c8\\uc74c\", \"\\uc18d\\ub9c8\\uc74c\", \"\\uc18d\\uc0c1\\ud558\", \"\\uc18d\\uc0c1\\ud558\", \"\\uc18d\\uc0c1\\ud558\", \"\\uc18d\\uc0c1\\ud558\", \"\\uc18d\\uc0c1\\ud558\", \"\\uc190\\ud1b1\", \"\\uc190\\ud1b1\", \"\\uc218\\uae08\", \"\\uc218\\ub2a5\", \"\\uc218\\ub2a5\", \"\\uc218\\ub2a5\", \"\\uc218\\ub2a5\", \"\\uc218\\ube48\", \"\\uc218\\uc544\", \"\\uc218\\uc544\", \"\\uc218\\uc544\", \"\\uc218\\uc544\", \"\\uc218\\uc544\", \"\\uc218\\uc778\", \"\\uc218\\uc815\", \"\\uc218\\uc815\", \"\\uc218\\uc815\", \"\\uc218\\uc815\", \"\\uc218\\uc815\\uc774\", \"\\uc219\\uc774\", \"\\uc21c\\ud558\", \"\\uc21c\\ud558\", \"\\uc2a4\\ud06c\", \"\\uc2a4\\ud06c\", \"\\uc2a4\\ud1a0\\ub9ac\", \"\\uc2a4\\ud1a0\\ub9ac\", \"\\uc2a4\\ud1a0\\ub9ac\", \"\\uc2a4\\ud1a0\\ub9ac\", \"\\uc2a4\\ud1a0\\ub9ac\", \"\\uc2a4\\ud1a0\\ub9ac\", \"\\uc2a4\\ud1a0\\ub9ac\", \"\\uc2a4\\ud1a0\\ub9ac\", \"\\uc2a4\\ud1a0\\ub9ac\", \"\\uc2a4\\ud1a0\\ub9ac\", \"\\uc2a4\\ud1a0\\ub9ac\", \"\\uc2a4\\ud1a0\\ub9ac\", \"\\uc2a4\\ud1a0\\ub9ac\", \"\\uc2a4\\ud3ec\", \"\\uc2a4\\ud3ec\", \"\\uc2a4\\ud3ec\", \"\\uc2a4\\ud3ec\", \"\\uc2a4\\ud53c\\ub4dc\", \"\\uc2ac\\uae30\", \"\\uc2ac\\uae30\", \"\\uc2ac\\uae30\", \"\\uc2ac\\uae30\", \"\\uc2ac\\uae30\", \"\\uc2b9\\ud558\", \"\\uc2b9\\ud558\", \"\\uc2b9\\ud654\", \"\\uc2dc\\ubbfc\", \"\\uc2dc\\ubbfc\", \"\\uc2dc\\uc544\", \"\\uc2dc\\uc544\", \"\\uc2dc\\uc544\", \"\\uc2dc\\uc544\", \"\\uc2dc\\uc544\", \"\\uc2dc\\uc544\", \"\\uc2dc\\uc544\", \"\\uc2dc\\uc704\", \"\\uc2dc\\uc704\", \"\\uc2dc\\uc704\", \"\\uc2dc\\uc808\", \"\\uc2dc\\uc808\", \"\\uc2dc\\uc808\", \"\\uc2dc\\uc808\", \"\\uc2dc\\uc808\", \"\\uc2dc\\uc808\", \"\\uc2dc\\uc808\", \"\\uc2dc\\uc98c\", \"\\uc2dc\\ud604\", \"\\uc2dc\\ud604\", \"\\uc2dc\\ud604\", \"\\uc2e0\\uacbd\", \"\\uc2e0\\uacbd\", \"\\uc2e0\\uacbd\", \"\\uc2e0\\uacbd\", \"\\uc2e0\\uacbd\", \"\\uc2e0\\uacbd\", \"\\uc2e0\\uacbd\", \"\\uc2e0\\uacbd\", \"\\uc2e0\\uacbd\", \"\\uc2e0\\ubc1c\", \"\\uc2e0\\ubc1c\", \"\\uc2e0\\ubc1c\", \"\\uc2e0\\ubc1c\", \"\\uc2e0\\ubc1c\", \"\\uc2e0\\ubcd1\", \"\\uc2e0\\ubcd1\", \"\\uc2e4\\uc7a5\", \"\\uc2e4\\uc7a5\", \"\\uc2f8\\uc6b0\", \"\\uc2f8\\uc6b0\", \"\\uc2f8\\uc6b0\", \"\\uc2f8\\uc6b0\", \"\\uc2f8\\uc6b0\", \"\\uc2f8\\uc6b0\", \"\\uc2f8\\uc6b0\", \"\\uc2f8\\uc6b0\", \"\\uc2f8\\uc6c0\", \"\\uc2f8\\uc6c0\", \"\\uc2f8\\uc6c0\", \"\\uc2f8\\uc6c0\", \"\\uc2f8\\uc6c0\", \"\\uc2f8\\uc6c0\", \"\\uc2f8\\uc6c0\", \"\\uc2f8\\uc6c0\", \"\\uc2f8\\uc6c0\", \"\\uc2f8\\uc6c0\", \"\\uc4f0\\ub808\\uae30\", \"\\uc4f0\\ub808\\uae30\", \"\\uc4f0\\ub808\\uae30\", \"\\uc4f0\\ub808\\uae30\", \"\\uc4f0\\ub808\\uae30\", \"\\uc4f0\\ub808\\uae30\", \"\\uc4f0\\ub808\\uae30\", \"\\uc4f0\\ub808\\uae30\", \"\\uc4f0\\ub808\\uae30\", \"\\uc4f0\\ub808\\uae30\\ud1b5\", \"\\uc4f0\\ub808\\uae30\\ud1b5\", \"\\uc544\\ub2c8\", \"\\uc544\\ub2c8\", \"\\uc544\\ub2c8\", \"\\uc544\\ub2c8\", \"\\uc544\\ub2c8\", \"\\uc544\\ub2c8\", \"\\uc544\\ub2c8\", \"\\uc544\\ub2c8\", \"\\uc544\\ub2c8\", \"\\uc544\\ub2c8\", \"\\uc544\\ub2c8\", \"\\uc544\\ub2c8\", \"\\uc544\\ub2c8\", \"\\uc544\\ub2c8\", \"\\uc544\\ub4e4\", \"\\uc544\\ub4e4\", \"\\uc544\\ub4e4\", \"\\uc544\\ub78c\", \"\\uc544\\ub78c\", \"\\uc544\\ub8e8\", \"\\uc544\\ub8e8\", \"\\uc544\\ub8e8\", \"\\uc544\\ub8e8\", \"\\uc544\\ubb34\", \"\\uc544\\ubb34\", \"\\uc544\\ubb34\", \"\\uc544\\ubb34\", \"\\uc544\\ubb34\", \"\\uc544\\ubb34\", \"\\uc544\\ubb34\", \"\\uc544\\ubb34\", \"\\uc544\\ubb34\", \"\\uc544\\ube60\", \"\\uc544\\ube60\", \"\\uc544\\ube60\", \"\\uc544\\ube60\", \"\\uc544\\ube60\", \"\\uc544\\ube60\", \"\\uc544\\ube60\", \"\\uc544\\uc601\", \"\\uc544\\uc601\", \"\\uc544\\uc601\", \"\\uc544\\uc601\\uc774\", \"\\uc544\\uc8fc\\uba38\\ub2c8\", \"\\uc545\\ub9c8\", \"\\uc545\\ub9c8\", \"\\uc545\\ub9c8\", \"\\uc545\\ub9c8\", \"\\uc548\", \"\\uc548\", \"\\uc548\", \"\\uc548\", \"\\uc548\", \"\\uc548\", \"\\uc548\", \"\\uc548\", \"\\uc548\", \"\\uc548\\uacbd\", \"\\uc548\\uacbd\", \"\\uc548\\uacbd\", \"\\uc548\\uacbd\", \"\\uc548\\uacbd\", \"\\uc548\\uacbd\", \"\\uc548\\uacbd\", \"\\uc548\\uacbd\", \"\\uc548\\ub418\", \"\\uc554\", \"\\uc554\", \"\\uc554\", \"\\uc554\", \"\\uc554\", \"\\uc554\", \"\\uc554\", \"\\uc554\", \"\\uc554\", \"\\uc55e\", \"\\uc55e\", \"\\uc55e\", \"\\uc55e\", \"\\uc55e\", \"\\uc55e\", \"\\uc55e\", \"\\uc55e\", \"\\uc55e\", \"\\uc55e\", \"\\uc55e\", \"\\uc55e\", \"\\uc55e\\ub4a4\", \"\\uc55e\\ub4a4\", \"\\uc55e\\ub4a4\", \"\\uc55e\\ub4a4\", \"\\uc560\\uad50\", \"\\uc560\\uad50\", \"\\uc560\\uad50\", \"\\uc560\\uad50\", \"\\uc561\", \"\\uc561\", \"\\uc57d\\uc790\", \"\\uc591\\uac31\", \"\\uc591\\ubbf8\", \"\\uc591\\ubbf8\", \"\\uc591\\ubbf8\", \"\\uc591\\ubbf8\", \"\\uc591\\ubbf8\", \"\\uc591\\ubbfc\", \"\\uc591\\ubbfc\", \"\\uc591\\ubbfc\\uc9c0\", \"\\uc591\\ubc18\", \"\\uc591\\ubc18\", \"\\uc591\\ubc18\", \"\\uc591\\ubcf4\", \"\\uc591\\ubcf4\", \"\\uc591\\ubcf4\", \"\\uc591\\uc544\\uce58\", \"\\uc591\\uc544\\uce58\", \"\\uc591\\uc544\\uce58\", \"\\uc591\\uc544\\uce58\", \"\\uc591\\uc544\\uce58\", \"\\uc591\\uc544\\uce58\", \"\\uc598\\uae30\", \"\\uc598\\uae30\", \"\\uc598\\uae30\", \"\\uc598\\uae30\", \"\\uc598\\uae30\", \"\\uc598\\uae30\", \"\\uc598\\uae30\", \"\\uc598\\uae30\", \"\\uc598\\uae30\", \"\\uc598\\uae30\", \"\\uc598\\uae30\", \"\\uc598\\uae30\", \"\\uc5b4\\uae68\", \"\\uc5b4\\uae68\", \"\\uc5b4\\uae68\", \"\\uc5b4\\ub528\", \"\\uc5b4\\ub528\", \"\\uc5b4\\ub528\", \"\\uc5b4\\ub5bb\", \"\\uc5b4\\ub5bb\", \"\\uc5b4\\ub5bb\", \"\\uc5b4\\ub5bb\", \"\\uc5b4\\ub5bb\", \"\\uc5b4\\ub5bb\", \"\\uc5b4\\ub5bb\", \"\\uc5b4\\ub5bb\", \"\\uc5b4\\ub5bb\", \"\\uc5b4\\ub5bb\", \"\\uc5b4\\ub9b0\\uc774\", \"\\uc5b4\\uba38\\ub2c8\", \"\\uc5b4\\uba38\\ub2c8\", \"\\uc5b4\\uba38\\ub2c8\", \"\\uc5b4\\uba38\\ub2c8\", \"\\uc5b4\\uba38\\ub2c8\", \"\\uc5b4\\uba38\\ub2c8\", \"\\uc5b4\\uba38\\ub2c8\", \"\\uc5b4\\uba38\\ub2c8\", \"\\uc5b4\\uc7a5\", \"\\uc5b4\\uc7a5\", \"\\uc5b4\\uc7a5\", \"\\uc5b4\\ud544\", \"\\uc5b4\\ud544\", \"\\uc5bc\\uad74\", \"\\uc5bc\\uad74\", \"\\uc5bc\\uad74\", \"\\uc5bc\\uad74\", \"\\uc5bc\\uad74\", \"\\uc5bc\\uad74\", \"\\uc5bc\\uad74\", \"\\uc5bc\\uad74\", \"\\uc5bc\\uad74\", \"\\uc5bc\\uad74\", \"\\uc5bc\\uad74\", \"\\uc5c4\\ub9c8\", \"\\uc5c4\\ub9c8\", \"\\uc5c4\\ub9c8\", \"\\uc5c4\\ub9c8\", \"\\uc5c4\\ub9c8\", \"\\uc5c4\\ub9c8\", \"\\uc5c4\\ub9c8\", \"\\uc5c4\\ub9c8\", \"\\uc5c5\", \"\\uc5c5\", \"\\uc5c5\", \"\\uc5c5\", \"\\uc5c9\\ub9dd\", \"\\uc5ca\\uadf8\\uc81c\", \"\\uc5ca\\uadf8\\uc81c\", \"\\uc5ca\\uadf8\\uc81c\", \"\\uc5d0\\uc774\\uc2a4\", \"\\uc5d0\\uc774\\uc2a4\", \"\\uc5ec\\ub9ac\", \"\\uc5ec\\uc131\\ubd80\", \"\\uc5ec\\uc131\\ubd80\", \"\\uc5ec\\uc131\\ubd80\", \"\\uc5ec\\uc720\", \"\\uc5ec\\uc720\", \"\\uc5ec\\uc790\", \"\\uc5ec\\uc790\", \"\\uc5ec\\uc790\", \"\\uc5ec\\uc790\", \"\\uc5ec\\uc790\", \"\\uc5ec\\uc790\", \"\\uc5ec\\uc790\", \"\\uc5ec\\uc790\", \"\\uc5ec\\uc790\", \"\\uc5ec\\uc790\", \"\\uc5ec\\uc790\", \"\\uc5ec\\ud589\", \"\\uc5ec\\ud589\", \"\\uc5ec\\ud589\", \"\\uc5ec\\ud589\", \"\\uc5f0\\ub188\", \"\\uc5f0\\ub188\", \"\\uc5f0\\ub188\", \"\\uc5f0\\ub188\", \"\\uc5f0\\ub839\", \"\\uc5f0\\uc560\", \"\\uc5f0\\uc560\", \"\\uc5f0\\uc560\", \"\\uc5f0\\uc560\", \"\\uc5f0\\uc560\", \"\\uc5f0\\uc560\", \"\\uc5f0\\uc560\", \"\\uc5f0\\uc560\", \"\\uc5f0\\uc560\", \"\\uc5f0\\uc560\", \"\\uc5f0\\uc560\\ud601\\uba85\", \"\\uc5f0\\uc560\\ud601\\uba85\", \"\\uc5f0\\uc560\\ud601\\uba85\", \"\\uc5f0\\uc560\\ud601\\uba85\", \"\\uc5f0\\uc560\\ud601\\uba85\", \"\\uc5f0\\uc560\\ud601\\uba85\", \"\\uc5f0\\uc608\\uc778\", \"\\uc5f0\\uc608\\uc778\", \"\\uc5f0\\uc608\\uc778\", \"\\uc5f0\\uc608\\uc778\", \"\\uc5f0\\uc608\\uc778\", \"\\uc5f0\\uc8fc\", \"\\uc5f0\\uc8fc\", \"\\uc5f0\\uc8fc\", \"\\uc5f0\\ud601\", \"\\uc5f0\\ud601\", \"\\uc5f0\\ud76c\", \"\\uc5fc\\uc0c9\", \"\\uc5fc\\uc0c9\", \"\\uc601\\uc6c5\", \"\\uc601\\uc6c5\", \"\\uc601\\uc774\", \"\\uc601\\uc774\", \"\\uc601\\uc774\", \"\\uc601\\uc774\", \"\\uc601\\uc774\", \"\\uc608\\uc058\", \"\\uc608\\uc058\", \"\\uc608\\uc058\", \"\\uc608\\uc058\", \"\\uc608\\uc058\", \"\\uc608\\uc058\", \"\\uc608\\uc058\", \"\\uc608\\uc058\", \"\\uc608\\uc058\", \"\\uc608\\uc058\", \"\\uc608\\uc058\", \"\\uc608\\uc0c1\", \"\\uc608\\uc0c1\", \"\\uc608\\uc0c1\", \"\\uc608\\uc0c1\", \"\\uc608\\uc0c1\", \"\\uc608\\uc0c1\", \"\\uc608\\uc0c1\", \"\\uc608\\uc0c1\", \"\\uc608\\uc0c1\", \"\\uc608\\uc2ac\", \"\\uc608\\uc2ac\", \"\\uc608\\uc2ac\\uc774\", \"\\uc624\\ub798\\uac00\", \"\\uc624\\ub85c\\ub77c\", \"\\uc624\\ub85c\\ub77c\", \"\\uc624\\ub85c\\ub77c\", \"\\uc624\\ub978\\ucabd\", \"\\uc624\\ub984\", \"\\uc624\\ub984\", \"\\uc624\\ub9ac\", \"\\uc624\\ube60\", \"\\uc624\\ube60\", \"\\uc624\\ube60\", \"\\uc624\\ube60\", \"\\uc624\\ube60\", \"\\uc624\\ube60\", \"\\uc624\\ube60\", \"\\uc624\\ube60\", \"\\uc624\\ube60\", \"\\uc624\\ube60\", \"\\uc624\\uc544\\ub78c\", \"\\uc624\\uc815\", \"\\uc624\\uc815\\ud654\", \"\\uc62c\\ub9ac\", \"\\uc62c\\ub9ac\", \"\\uc62c\\ub9ac\", \"\\uc62c\\ub9ac\", \"\\uc62c\\ub9ac\", \"\\uc62c\\ub9ac\", \"\\uc62c\\ub9ac\", \"\\uc62c\\ub9ac\", \"\\uc62c\\ud574\", \"\\uc62c\\ud574\", \"\\uc62c\\ud574\", \"\\uc634\", \"\\uc634\", \"\\uc637\", \"\\uc637\", \"\\uc637\", \"\\uc637\", \"\\uc637\", \"\\uc637\", \"\\uc637\", \"\\uc655\", \"\\uc655\", \"\\uc655\", \"\\uc655\", \"\\uc655\", \"\\uc655\", \"\\uc655\", \"\\uc655\", \"\\uc655\\uace0\", \"\\uc655\\uace0\", \"\\uc655\\uc790\", \"\\uc655\\uc790\", \"\\uc655\\uc790\", \"\\uc655\\uc790\\ub9bc\", \"\\uc655\\uc790\\ub9bc\", \"\\uc655\\uc790\\ub9bc\", \"\\uc655\\uc790\\ub9bc\", \"\\uc678\\ubaa8\", \"\\uc678\\ubaa8\", \"\\uc678\\ubaa8\", \"\\uc678\\ubaa8\", \"\\uc678\\ubaa8\", \"\\uc678\\ubaa8\", \"\\uc678\\ubaa8\", \"\\uc678\\uc804\", \"\\uc678\\uc804\", \"\\uc678\\uc804\", \"\\uc694\\ud55c\", \"\\uc694\\ud55c\", \"\\uc694\\ud55c\", \"\\uc694\\ud55c\", \"\\uc694\\ud55c\", \"\\uc695\", \"\\uc695\", \"\\uc695\", \"\\uc695\", \"\\uc695\", \"\\uc695\", \"\\uc695\", \"\\uc695\", \"\\uc695\", \"\\uc695\\uba39\", \"\\uc695\\uba39\", \"\\uc695\\uba39\", \"\\uc695\\uba39\", \"\\uc695\\uba39\", \"\\uc695\\uba39\", \"\\uc6b0\\ub3d9\", \"\\uc6b0\\ub3d9\", \"\\uc6b0\\ub3d9\", \"\\uc6b0\\uc131\", \"\\uc6b0\\uc720\", \"\\uc6b0\\uc720\", \"\\uc6b0\\uc720\", \"\\uc6b0\\uc815\", \"\\uc6b0\\uc815\", \"\\uc6b0\\uc815\", \"\\uc6b0\\uc815\", \"\\uc6b0\\uc815\", \"\\uc6b0\\uc9c0\\uc601\", \"\\uc6b0\\uc9c0\\uc601\", \"\\uc6b0\\uc9c0\\uc601\", \"\\uc6d0\\uc22d\\uc774\", \"\\uc6d0\\ud638\", \"\\uc6d0\\ud638\", \"\\uc6d0\\ud638\", \"\\uc6d4\\uc138\", \"\\uc6f9\\ud230\", \"\\uc6f9\\ud230\", \"\\uc6f9\\ud230\", \"\\uc6f9\\ud230\", \"\\uc6f9\\ud230\", \"\\uc6f9\\ud230\", \"\\uc6f9\\ud230\", \"\\uc6f9\\ud230\", \"\\uc6f9\\ud230\", \"\\uc6f9\\ud230\", \"\\uc6f9\\ud230\", \"\\uc704\\ubc18\", \"\\uc704\\uce58\", \"\\uc704\\ud574\", \"\\uc717\\uc120\", \"\\uc717\\uc120\", \"\\uc720\\uacbd\\ubbf8\", \"\\uc720\\ub098\", \"\\uc720\\ub098\", \"\\uc720\\ub098\", \"\\uc720\\ub098\", \"\\uc720\\ub3c4\", \"\\uc720\\ub3c4\", \"\\uc720\\ub9bc\", \"\\uc720\\uc608\", \"\\uc720\\uc774\\uac74\", \"\\uc720\\uc774\\uac74\", \"\\uc721\\uadfc\\uc625\", \"\\uc721\\uadfc\\uc625\", \"\\uc721\\uadfc\\uc625\", \"\\uc721\\uadfc\\uc625\", \"\\uc758\\uacbd\", \"\\uc758\\uacbd\", \"\\uc758\\uacbd\", \"\\uc758\\uc790\", \"\\uc758\\uc790\", \"\\uc758\\uc9c0\", \"\\uc758\\uc9c0\", \"\\uc774\\uacbd\", \"\\uc774\\uacbd\", \"\\uc774\\uacbd\", \"\\uc774\\uae30\", \"\\uc774\\uae30\", \"\\uc774\\uae30\", \"\\uc774\\uae30\", \"\\uc774\\uae30\", \"\\uc774\\uae30\", \"\\uc774\\uae30\", \"\\uc774\\ub3c4\\uaddc\", \"\\uc774\\ub3c4\\uaddc\", \"\\uc774\\ub807\", \"\\uc774\\ub807\", \"\\uc774\\ub807\", \"\\uc774\\ub807\", \"\\uc774\\ub807\", \"\\uc774\\ub807\", \"\\uc774\\ub807\", \"\\uc774\\ub807\", \"\\uc774\\ub807\", \"\\uc774\\ub807\", \"\\uc774\\ub807\", \"\\uc774\\ub8e8\", \"\\uc774\\ub8e8\", \"\\uc774\\ub8e8\", \"\\uc774\\ub8e8\", \"\\uc774\\ub984\", \"\\uc774\\ub984\", \"\\uc774\\ub984\", \"\\uc774\\ub984\", \"\\uc774\\ub984\", \"\\uc774\\ub984\", \"\\uc774\\ub984\", \"\\uc774\\ub984\", \"\\uc774\\ub984\", \"\\uc774\\ub984\", \"\\uc774\\ub984\", \"\\uc774\\ub984\", \"\\uc774\\ubbfc\\uc9c0\", \"\\uc774\\ubbfc\\uc9c0\", \"\\uc774\\uc058\", \"\\uc774\\uc058\", \"\\uc774\\uc058\", \"\\uc774\\uc058\", \"\\uc774\\uc058\", \"\\uc774\\uc058\", \"\\uc774\\uc058\", \"\\uc774\\uc058\", \"\\uc774\\uc058\", \"\\uc774\\uc058\", \"\\uc774\\uc058\", \"\\uc774\\uc058\", \"\\uc774\\uc57c\\uae30\", \"\\uc774\\uc57c\\uae30\", \"\\uc774\\uc57c\\uae30\", \"\\uc774\\uc57c\\uae30\", \"\\uc774\\uc57c\\uae30\", \"\\uc774\\uc57c\\uae30\", \"\\uc774\\uc57c\\uae30\", \"\\uc774\\uc57c\\uae30\", \"\\uc774\\uc57c\\uae30\", \"\\uc774\\uc720\", \"\\uc774\\uc720\", \"\\uc774\\uc720\", \"\\uc774\\uc720\", \"\\uc774\\uc720\", \"\\uc774\\uc720\", \"\\uc774\\uc720\", \"\\uc774\\uc720\", \"\\uc774\\uc720\", \"\\uc774\\uc720\", \"\\uc774\\uc720\", \"\\uc774\\uc720\", \"\\uc774\\uc720\", \"\\uc774\\uc720\\ub9ac\", \"\\uc774\\uc7ac\\ud638\", \"\\uc774\\uc7ac\\ud638\", \"\\uc774\\uc7ac\\ud638\", \"\\uc774\\uc9c4\\uc131\", \"\\uc774\\uc9c4\\uc131\", \"\\uc774\\uc9c4\\uc131\", \"\\uc774\\ud0dc\\uc131\", \"\\uc774\\ud0dc\\uc131\", \"\\uc774\\ud0dc\\uc131\", \"\\uc774\\ud0dc\\uc591\", \"\\uc774\\ud0dc\\uc591\", \"\\uc774\\ud574\", \"\\uc774\\ud574\", \"\\uc774\\ud574\", \"\\uc774\\ud574\", \"\\uc774\\ud574\", \"\\uc774\\ud574\", \"\\uc774\\ud574\", \"\\uc774\\ud574\", \"\\uc774\\ud574\", \"\\uc774\\ud574\", \"\\uc778\\uc815\\ubc1b\", \"\\uc778\\uc815\\ubc1b\", \"\\uc778\\uc815\\ubc1b\", \"\\uc778\\uc815\\ubc1b\", \"\\uc778\\ucc9c\", \"\\uc778\\ucc9c\", \"\\uc778\\ucc9c\", \"\\uc778\\ucc9c\", \"\\uc778\\ud615\", \"\\uc778\\ud615\", \"\\uc778\\ud615\", \"\\uc778\\ud615\", \"\\uc77c\\uc9c4\", \"\\uc77c\\uc9c4\", \"\\uc77c\\uc9c4\", \"\\uc77c\\uc9c4\", \"\\uc77c\\uc9c4\", \"\\uc77c\\uc9c4\", \"\\uc77c\\uc9c4\", \"\\uc77c\\uc9c4\", \"\\uc77c\\uc9c4\", \"\\uc77c\\uc9c4\", \"\\uc77c\\uc9c4\", \"\\uc77c\\ud3b8\\ub2e8\\uc2ec\", \"\\uc77c\\ud3b8\\ub2e8\\uc2ec\", \"\\uc784\\uc7ac\", \"\\uc784\\uc7ac\", \"\\uc790\\ub9ac\", \"\\uc790\\ub9ac\", \"\\uc790\\ub9ac\", \"\\uc790\\ub9ac\", \"\\uc790\\ub9ac\", \"\\uc790\\ub9ac\", \"\\uc790\\ub9ac\", \"\\uc790\\ub9ac\", \"\\uc790\\ub9ac\", \"\\uc790\\ub9bc\", \"\\uc790\\ub9bc\", \"\\uc790\\ub9bc\", \"\\uc790\\ub9bc\\uc774\", \"\\uc790\\ub9bc\\uc774\", \"\\uc790\\ub9bc\\uc774\", \"\\uc790\\ub9bc\\uc774\", \"\\uc791\\uac00\", \"\\uc791\\uac00\", \"\\uc791\\uac00\", \"\\uc791\\uac00\", \"\\uc791\\uac00\", \"\\uc791\\uac00\", \"\\uc791\\uac00\", \"\\uc791\\uac00\", \"\\uc791\\uac00\", \"\\uc791\\uac00\", \"\\uc791\\uac00\", \"\\uc791\\uac00\", \"\\uc791\\uac00\", \"\\uc791\\uac00\", \"\\uc791\\ud488\", \"\\uc791\\ud488\", \"\\uc791\\ud488\", \"\\uc791\\ud488\", \"\\uc791\\ud488\", \"\\uc791\\ud488\", \"\\uc7a1\\ud788\", \"\\uc7a1\\ud788\", \"\\uc7a1\\ud788\", \"\\uc7a1\\ud788\", \"\\uc7a1\\ud788\", \"\\uc7a1\\ud788\", \"\\uc7a5\\ub09c\\uce58\", \"\\uc7a5\\ub09c\\uce58\", \"\\uc7a5\\ub09c\\uce58\", \"\\uc7a5\\ub09c\\uce58\", \"\\uc7a5\\uba74\", \"\\uc7a5\\uba74\", \"\\uc7a5\\uba74\", \"\\uc7a5\\uba74\", \"\\uc7a5\\uba74\", \"\\uc7a5\\uba74\", \"\\uc7a5\\uba74\", \"\\uc7a5\\uba74\", \"\\uc7a5\\uba74\", \"\\uc7a5\\uba74\", \"\\uc7a5\\uba74\", \"\\uc7a5\\uba74\", \"\\uc7a5\\uc548\", \"\\uc7a5\\uc548\", \"\\uc7a5\\uc548\", \"\\uc7a5\\uc9c4\\ud601\", \"\\uc7a5\\ud604\", \"\\uc7a5\\ud604\", \"\\uc7a5\\ud604\", \"\\uc7a5\\ud604\", \"\\uc7ac\\uc5f4\\uc774\", \"\\uc7ac\\uc5f4\\uc774\", \"\\uc7ac\\uc6d0\", \"\\uc7ac\\uc6d0\", \"\\uc7ac\\uc6d0\", \"\\uc7ac\\uc775\", \"\\uc7ac\\uc775\", \"\\uc7ac\\uc775\", \"\\uc7ac\\uc775\", \"\\uc7ac\\ud638\", \"\\uc7ac\\ud638\", \"\\uc7ac\\ud638\", \"\\uc7ac\\ud638\", \"\\uc7ac\\ud638\", \"\\uc800\\ub7ec\", \"\\uc800\\ub7ec\", \"\\uc800\\ub7ec\", \"\\uc800\\ub7ec\", \"\\uc800\\ub7ec\", \"\\uc800\\ub7ec\", \"\\uc800\\ub7ec\", \"\\uc800\\ub7ec\", \"\\uc800\\ub7ec\", \"\\uc800\\ub7ec\", \"\\uc800\\ub7ec\", \"\\uc800\\ub7ec\", \"\\uc800\\ub807\", \"\\uc800\\ub807\", \"\\uc800\\ub807\", \"\\uc800\\ub807\", \"\\uc800\\ub807\", \"\\uc800\\ub807\", \"\\uc800\\ub807\", \"\\uc800\\ub807\", \"\\uc800\\ub807\", \"\\uc800\\ub807\", \"\\uc800\\ub807\", \"\\uc800\\ub807\", \"\\uc801\", \"\\uc801\", \"\\uc801\", \"\\uc801\", \"\\uc801\", \"\\uc801\", \"\\uc801\", \"\\uc801\", \"\\uc801\", \"\\uc801\", \"\\uc801\", \"\\uc804\\uad50\", \"\\uc804\\uc124\", \"\\uc804\\uc124\", \"\\uc804\\uc124\", \"\\uc804\\uc124\", \"\\uc804\\uc2dc\", \"\\uc804\\uc5ed\", \"\\uc804\\uc5ed\", \"\\uc804\\uc5ed\", \"\\uc804\\uc5ed\", \"\\uc804\\ucd9c\", \"\\uc804\\ud559\", \"\\uc804\\ud559\", \"\\uc804\\ud559\", \"\\uc804\\ud559\", \"\\uc808\", \"\\uc808\", \"\\uc808\", \"\\uc815\\ub3c4\", \"\\uc815\\ub3c4\", \"\\uc815\\ub3c4\", \"\\uc815\\ub3c4\", \"\\uc815\\ub3c4\", \"\\uc815\\ub3c4\", \"\\uc815\\ub3c4\", \"\\uc815\\ub3c4\", \"\\uc815\\ub3c4\", \"\\uc815\\ub3c4\", \"\\uc815\\ub3c4\", \"\\uc815\\ub3c4\", \"\\uc815\\ub3c4\", \"\\uc815\\ub3d9\", \"\\uc815\\ub3d9\\ud601\", \"\\uc815\\ub3d9\\ud601\", \"\\uc815\\ub3d9\\ud601\", \"\\uc815\\ub3d9\\ud601\", \"\\uc815\\ub3d9\\ud601\", \"\\uc815\\ubbfc\", \"\\uc815\\ubbfc\", \"\\uc815\\ubbfc\", \"\\uc815\\ubbfc\", \"\\uc815\\ubbfc\", \"\\uc815\\ubbfc\\uc774\", \"\\uc815\\ubbfc\\uc774\", \"\\uc815\\ubcf4\", \"\\uc815\\ubcf4\", \"\\uc815\\ubd80\", \"\\uc815\\uc0c1\", \"\\uc815\\uc0c1\", \"\\uc815\\uc0c1\", \"\\uc815\\uc0c1\", \"\\uc815\\uc0c1\", \"\\uc815\\uc0c1\", \"\\uc815\\uc0c1\", \"\\uc815\\uc0c1\", \"\\uc815\\uc0c1\", \"\\uc815\\uc0c1\", \"\\uc815\\uc0c1\\ud6c8\", \"\\uc815\\uc218\", \"\\uc815\\uc218\", \"\\uc815\\uc218\\uc544\", \"\\uc815\\uc218\\uc544\", \"\\uc815\\uc218\\uc544\", \"\\uc815\\uc2e0\", \"\\uc815\\uc2e0\", \"\\uc815\\uc2e0\", \"\\uc815\\uc2e0\", \"\\uc815\\uc2e0\", \"\\uc815\\uc2e0\", \"\\uc815\\uc2e0\", \"\\uc815\\uc2e0\", \"\\uc815\\uc2e0\", \"\\uc815\\uc2e0\", \"\\uc815\\uc2e0\\ubcd1\\uc790\", \"\\uc815\\uc778\", \"\\uc815\\uc778\", \"\\uc815\\uc778\", \"\\uc815\\uccb4\", \"\\uc815\\uccb4\", \"\\uc815\\uccb4\", \"\\uc815\\ud654\", \"\\uc815\\ud654\", \"\\uc815\\ud654\", \"\\uc815\\ud654\", \"\\uc81c\\ub300\", \"\\uc81c\\ub300\", \"\\uc81c\\ub300\", \"\\uc81c\\ub300\", \"\\uc81c\\ub300\", \"\\uc81c\\ub85c\", \"\\uc81c\\ub85c\", \"\\uc81c\\uc678\", \"\\uc81c\\uc678\", \"\\uc81c\\uc678\", \"\\uc81c\\uc678\", \"\\uc81c\\uc678\", \"\\uc81c\\uc791\", \"\\uc81c\\uc791\", \"\\uc870\\uac01\", \"\\uc870\\uac01\", \"\\uc870\\ub9ac\", \"\\uc870\\ub9ac\", \"\\uc870\\ub9ac\", \"\\uc870\\uc2b9\", \"\\uc870\\uc2b9\\ubbfc\", \"\\uc870\\uc2b9\\ubbfc\", \"\\uc874\", \"\\uc874\", \"\\uc874\", \"\\uc874\", \"\\uc874\", \"\\uc874\", \"\\uc874\", \"\\uc874\", \"\\uc874\", \"\\uc874\", \"\\uc874\", \"\\uc874\\ub098\", \"\\uc874\\ub098\", \"\\uc878\\uc5c5\", \"\\uc878\\uc5c5\", \"\\uc878\\uc5c5\", \"\\uc885\\uac74\", \"\\uc885\\uac74\", \"\\uc885\\uad50\", \"\\uc885\\uad50\", \"\\uc885\\ud569\", \"\\uc88b\\uc544\\ud558\", \"\\uc88b\\uc544\\ud558\", \"\\uc88b\\uc544\\ud558\", \"\\uc88b\\uc544\\ud558\", \"\\uc88b\\uc544\\ud558\", \"\\uc88b\\uc544\\ud558\", \"\\uc88b\\uc544\\ud558\", \"\\uc88b\\uc544\\ud558\", \"\\uc88b\\uc544\\ud558\", \"\\uc88b\\uc544\\ud558\", \"\\uc88b\\uc544\\ud558\", \"\\uc88b\\uc544\\ud558\", \"\\uc88b\\uc544\\ud558\", \"\\uc8c4\", \"\\uc8c4\", \"\\uc8c4\", \"\\uc8c4\", \"\\uc8c4\", \"\\uc8c4\", \"\\uc8c4\", \"\\uc8fc\\ub9ac\", \"\\uc8fc\\uc601\", \"\\uc8fc\\uc601\", \"\\uc8fc\\uc601\", \"\\uc8fc\\uc601\", \"\\uc8fc\\uc601\", \"\\uc8fc\\uc601\\uc774\", \"\\uc8fc\\uc601\\uc774\", \"\\uc8fc\\uc601\\uc774\", \"\\uc8fc\\uc601\\uc774\", \"\\uc8fc\\uc791\", \"\\uc8fc\\uc791\", \"\\uc8fc\\uc791\", \"\\uc8fc\\uc9d3\", \"\\uc8fc\\ud589\", \"\\uc8fc\\ud589\", \"\\uc8fc\\ud589\", \"\\uc8fc\\ud589\", \"\\uc8fc\\ud589\", \"\\uc8fc\\ud76c\", \"\\uc8fc\\ud76c\", \"\\uc8fc\\ud76c\", \"\\uc8fc\\ud76c\", \"\\uc8fc\\ud76c\", \"\\uc8fc\\ud76c\", \"\\uc8fc\\ud76c\\ub9b0\", \"\\uc8fc\\ud76c\\ub9b0\", \"\\uc8fc\\ud76c\\ub9b0\", \"\\uc900\\uad6c\", \"\\uc900\\uad6c\", \"\\uc900\\uc6b0\", \"\\uc900\\uc6b0\", \"\\uc9113\", \"\\uc911\\uc218\", \"\\uc911\\uc218\", \"\\uc911\\uc218\", \"\\uc9c0\\ub2e4\\uc608\", \"\\uc9c0\\ub2e4\\uc608\", \"\\uc9c0\\uc120\", \"\\uc9c0\\uc120\", \"\\uc9c0\\uc120\", \"\\uc9c0\\uc120\", \"\\uc9c0\\uc5f0\", \"\\uc9c0\\uc5f0\", \"\\uc9c0\\uc601\", \"\\uc9c0\\uc601\", \"\\uc9c0\\uc601\", \"\\uc9c0\\uc7a1\\ub300\", \"\\uc9c0\\uc801\", \"\\uc9c0\\uc801\", \"\\uc9c0\\uc801\", \"\\uc9c0\\uc801\", \"\\uc9c0\\uce58\", \"\\uc9c0\\uce58\", \"\\uc9c0\\uce58\", \"\\uc9c0\\uce58\", \"\\uc9c0\\ud0dc\", \"\\uc9c0\\ud76c\", \"\\uc9c0\\ud76c\", \"\\uc9c1\\uc5c5\", \"\\uc9c4\\uc131\", \"\\uc9c4\\uc131\", \"\\uc9c4\\uc131\", \"\\uc9c4\\uc2ec\", \"\\uc9c4\\uc2ec\", \"\\uc9c4\\uc2ec\", \"\\uc9c4\\uc2ec\", \"\\uc9c4\\uc2ec\", \"\\uc9c4\\uc2ec\", \"\\uc9c4\\uc2ec\", \"\\uc9c4\\uc2ec\", \"\\uc9c4\\uc2ec\", \"\\uc9c4\\uc2ec\", \"\\uc9c4\\uc9dc\", \"\\uc9c4\\uc9dc\", \"\\uc9c4\\uc9dc\", \"\\uc9c4\\uc9dc\", \"\\uc9c4\\uc9dc\", \"\\uc9c4\\uc9dc\", \"\\uc9c4\\uc9dc\", \"\\uc9c4\\uc9dc\", \"\\uc9c4\\uc9dc\", \"\\uc9c4\\uc9dc\", \"\\uc9c4\\uc9dc\", \"\\uc9c4\\ud558\", \"\\uc9c4\\ud558\", \"\\uc9c4\\ud558\", \"\\uc9c4\\ud601\", \"\\uc9c4\\ud638\", \"\\uc9c4\\ud638\", \"\\uc9c4\\ud638\", \"\\uc9c4\\ud76c\", \"\\uc9d1\", \"\\uc9d1\", \"\\uc9d1\", \"\\uc9d1\", \"\\uc9d1\", \"\\uc9d1\", \"\\uc9d1\", \"\\uc9d1\", \"\\uc9dd\\uc0ac\\ub791\", \"\\uc9dd\\uc0ac\\ub791\", \"\\uc9dd\\uc0ac\\ub791\", \"\\uc9dd\\uc0ac\\ub791\", \"\\uc9e0\\ud558\", \"\\uc9e0\\ud558\", \"\\uc9ec\\ubc25\", \"\\ucabc\\uac1c\", \"\\ucabc\\uac1c\", \"\\ucc0c\\ub4e4\", \"\\ucc14\\ub9ac\", \"\\ucc14\\ub9ac\", \"\\ucc14\\ub9ac\", \"\\ucc22\\uc5b4\\uc9c0\", \"\\ucc28\\ub9ac\", \"\\ucc28\\ub9ac\", \"\\ucc28\\ub9ac\", \"\\ucc28\\ub9ac\", \"\\ucc28\\ub9ac\", \"\\ucc28\\ub9ac\", \"\\ucc28\\ub9ac\", \"\\ucc28\\ub9ac\", \"\\ucc28\\ubcc4\", \"\\ucc28\\ubcc4\", \"\\ucc2c\\uc591\", \"\\ucc2c\\uc591\", \"\\ucc3d\\ubb38\", \"\\ucc3d\\ubb38\", \"\\ucc3d\\uc8fc\", \"\\ucc3d\\uc8fc\", \"\\ucc3d\\uc8fc\", \"\\ucc57\", \"\\ucc59\\uc9f1\", \"\\ucc98\\uc74c\", \"\\ucc98\\uc74c\", \"\\ucc98\\uc74c\", \"\\ucc98\\uc74c\", \"\\ucc98\\uc74c\", \"\\ucc98\\uc74c\", \"\\ucc98\\uc74c\", \"\\ucc98\\uc74c\", \"\\ucc98\\uc74c\", \"\\ucc98\\uc74c\", \"\\ucc98\\uc74c\", \"\\ucc9c\\uc0ac\", \"\\ucc9c\\uc0ac\", \"\\ucc9c\\uc0ac\", \"\\ucc9c\\uc0ac\", \"\\ucc9c\\uc0ac\", \"\\ucc9c\\uc0ac\", \"\\ucca0\\ubbfc\\uc774\", \"\\ucca0\\ubbfc\\uc774\", \"\\ucca0\\ubbfc\\uc774\", \"\\uccab\\uc0ac\\ub791\", \"\\uccab\\uc0ac\\ub791\", \"\\uccab\\uc0ac\\ub791\", \"\\ucd08\", \"\\ucd08\", \"\\ucd08\", \"\\ucd08\", \"\\ucd08\", \"\\ucd08\\ub300\", \"\\ucd08\\ub300\", \"\\ucd08\\ub85d\", \"\\ucd08\\ub85d\", \"\\ucd08\\ub85d\", \"\\ucd08\\uc2ec\", \"\\ucd5c\\uc815\\uc6b0\", \"\\ucd5c\\uc815\\uc6b0\", \"\\ucd5c\\uc900\", \"\\ucd5c\\uc900\\uc6b0\", \"\\ucd5c\\ud55c\", \"\\ucd5c\\ud55c\\ubcc4\", \"\\ucd95\\ud558\", \"\\ucd95\\ud558\", \"\\ucd95\\ud558\", \"\\ucd95\\ud558\", \"\\ucd95\\ud558\", \"\\ucd95\\ud558\", \"\\ucd95\\ud558\", \"\\ucd95\\ud558\", \"\\ucd9c\\uc5f0\", \"\\ucd9c\\uc5f0\", \"\\ucd9c\\uc5f0\", \"\\uce58\\ub8cc\", \"\\uce58\\ub9c8\", \"\\uce58\\ub9c8\", \"\\uce58\\ub9c8\", \"\\uce58\\ud0a8\", \"\\uce58\\ud0a8\", \"\\uce58\\ud0a8\", \"\\uce5c\\uad6c\", \"\\uce5c\\uad6c\", \"\\uce5c\\uad6c\", \"\\uce5c\\uad6c\", \"\\uce5c\\uad6c\", \"\\uce5c\\uad6c\", \"\\uce5c\\uad6c\", \"\\uce5c\\uad6c\", \"\\uce5c\\uad6c\", \"\\uce5c\\uad6c\", \"\\uce5c\\uad6c\", \"\\uce5c\\uad6c\", \"\\uce5c\\uad6c\", \"\\uce74\\ud53c\", \"\\uce7c\\uc5c5\\ub383\", \"\\uce7c\\uc5c5\\ub383\", \"\\uce7c\\uc5c5\\ub383\", \"\\uce90\\ub9ad\", \"\\uce90\\ub9ad\", \"\\uce90\\ub9ad\", \"\\uce90\\ub9ad\", \"\\uce90\\ub9ad\", \"\\uce90\\ub9ad\\ud130\", \"\\uce90\\ub9ad\\ud130\", \"\\uce90\\ub9ad\\ud130\", \"\\uce90\\ub9ad\\ud130\", \"\\uce90\\ub9ad\\ud130\", \"\\uce90\\ub9ad\\ud130\", \"\\uce90\\ub9ad\\ud130\", \"\\uce90\\ub9ad\\ud130\", \"\\uce90\\ub9ad\\ud130\", \"\\uce90\\ub9ad\\ud130\", \"\\uce90\\ub9ad\\ud130\", \"\\ucee4\\ud50c\", \"\\ucee4\\ud50c\", \"\\ucee4\\ud50c\", \"\\ucee4\\ud50c\", \"\\ucee4\\ud50c\", \"\\ucf00\\ub9ad\\ud130\", \"\\ud06c\\ub8e8\", \"\\ud06c\\ub8e8\", \"\\ud06c\\ub8e8\", \"\\ud070\\uc624\\ube60\", \"\\ud070\\uc624\\ube60\", \"\\ud074\\ub77c\", \"\\ud074\\ub77c\", \"\\ud074\\ub77c\", \"\\ud0a4\\uc2a4\", \"\\ud0a4\\uc2a4\", \"\\ud0a4\\uc2a4\", \"\\ud0a4\\uc2a4\", \"\\ud0c8\", \"\\ud0c8\", \"\\ud0d0\\ub098\", \"\\ud0d0\\ub098\", \"\\ud0d0\\ub098\", \"\\ud0d0\\ub098\", \"\\ud0d0\\ub098\", \"\\ud0dc\\uad6d\", \"\\ud0dc\\uad6d\", \"\\ud0dc\\ub3c4\", \"\\ud0dc\\ub3c4\", \"\\ud0dc\\ub3c4\", \"\\ud0dc\\ub3c4\", \"\\ud0dc\\ub3c4\", \"\\ud0dc\\uc131\", \"\\ud0dc\\uc131\", \"\\ud0dc\\uc131\", \"\\ud0dc\\uc131\", \"\\ud0dc\\uc131\", \"\\ud0dc\\uc131\", \"\\ud0dc\\uc131\", \"\\ud0dc\\uc131\\uc774\", \"\\ud0dc\\uc131\\uc774\", \"\\ud0dc\\uc131\\uc774\", \"\\ud0dc\\uc131\\uc774\", \"\\ud0dc\\uc131\\uc774\", \"\\ud0dc\\uc131\\uc774\", \"\\ud0dc\\uc131\\uc774\", \"\\ud0dc\\uc591\", \"\\ud0dc\\uc591\", \"\\ud0dc\\uc591\", \"\\ud0dc\\uc5b4\\ub098\", \"\\ud0dc\\uc5b4\\ub098\", \"\\ud0dc\\uc5b4\\ub098\", \"\\ud0dc\\uc5b4\\ub098\", \"\\ud131\", \"\\ud131\", \"\\ud131\", \"\\ud1a0\\ud558\", \"\\ud1b5\\uc81c\", \"\\ud295\\uae30\", \"\\ud2b9\\uc9d1\", \"\\ud2f0\\ube44\", \"\\ud305\", \"\\ud305\", \"\\ud328\\ub529\", \"\\ud380\\uce58\", \"\\ud3b8\\ub4e4\", \"\\ud3b8\\ub4e4\", \"\\ud3b8\\ub4e4\", \"\\ud3b8\\ub4e4\", \"\\ud3b8\\uc9c0\", \"\\ud3b8\\ud558\", \"\\ud3b8\\ud558\", \"\\ud3b8\\ud558\", \"\\ud3b8\\ud558\", \"\\ud3b8\\ud558\", \"\\ud3b8\\ud558\", \"\\ud3b8\\ud558\", \"\\ud3c9\\uc18c\", \"\\ud3c9\\uc18c\", \"\\ud3c9\\uc18c\", \"\\ud3c9\\uc18c\", \"\\ud3c9\\uc18c\", \"\\ud3c9\\uc18c\", \"\\ud3c9\\uc18c\", \"\\ud3c9\\uc18c\", \"\\ud3c9\\uc18c\", \"\\ud3c9\\uc18c\", \"\\ud3c9\\uc18c\", \"\\ud3d0\", \"\\ud3d0\", \"\\ud3d0\", \"\\ud3d0\\uc9c0\", \"\\ud3ed\\ub825\", \"\\ud3ed\\ub825\", \"\\ud3ed\\ub825\", \"\\ud3ed\\ub825\", \"\\ud3ed\\ub825\", \"\\ud3ed\\ub825\", \"\\ud3ed\\ub825\", \"\\ud3ed\\ub825\", \"\\ud3ed\\ub825\", \"\\ud45c\\uc2dc\", \"\\ud45c\\ud604\", \"\\ud45c\\ud604\", \"\\ud45c\\ud604\", \"\\ud45c\\ud604\", \"\\ud45c\\ud604\", \"\\ud45c\\ud604\", \"\\ud45c\\ud604\", \"\\ud45c\\ud604\", \"\\ud45c\\ud604\", \"\\ud45c\\ud604\", \"\\ud480\\ub9ac\", \"\\ud480\\ub9ac\", \"\\ud480\\ub9ac\", \"\\ud480\\ub9ac\", \"\\ud480\\ub9ac\", \"\\ud504\\ub85c\\uac8c\\uc774\\uba38\", \"\\ud504\\ub85c\\uac8c\\uc774\\uba38\", \"\\ud504\\ub85c\\ud544\", \"\\ud504\\ub9ac\\ub4dc\\ub85c\\uc6b0\", \"\\ud504\\ub9ac\\ub4dc\\ub85c\\uc6b0\", \"\\ud504\\ub9ac\\ub4dc\\ub85c\\uc6b0\", \"\\ud504\\ub9ac\\ub4dc\\ub85c\\uc6b0\", \"\\ud504\\ub9ac\\ub4dc\\ub85c\\uc6b0\", \"\\ud53c\\uace4\", \"\\ud53c\\uc2dc\", \"\\ud53c\\uc790\", \"\\ud53c\\uc790\", \"\\ud53c\\uce74\\uce04\", \"\\ud558\\uadf9\\uc0c1\", \"\\ud558\\ub298\", \"\\ud558\\ub298\", \"\\ud558\\ub298\", \"\\ud558\\ub298\", \"\\ud558\\ub298\", \"\\ud558\\ub298\", \"\\ud558\\ub298\", \"\\ud558\\ub4dc\\uc6e8\\uc5b4\", \"\\ud558\\ub9ac\", \"\\ud558\\ub9ac\", \"\\ud558\\ub9ac\", \"\\ud558\\ub9ac\", \"\\ud558\\ub9ac\", \"\\ud558\\ub9b0\", \"\\ud558\\ub9b0\", \"\\ud558\\ub9b0\", \"\\ud558\\ub9b0\", \"\\ud558\\ub9b0\", \"\\ud558\\ub9b0\", \"\\ud558\\ubbfc\", \"\\ud558\\ubbfc\\uc774\", \"\\ud558\\uc560\", \"\\ud559\", \"\\ud559\\uad50\", \"\\ud559\\uad50\", \"\\ud559\\uad50\", \"\\ud559\\uad50\", \"\\ud559\\uad50\", \"\\ud559\\uad50\", \"\\ud559\\uad50\", \"\\ud559\\uad50\", \"\\ud559\\uad50\", \"\\ud559\\uad50\", \"\\ud559\\uad50\", \"\\ud559\\uad50\\uc0dd\\ud65c\", \"\\ud559\\uad50\\uc0dd\\ud65c\", \"\\ud559\\uad50\\uc0dd\\ud65c\", \"\\ud559\\ub144\", \"\\ud559\\ub144\", \"\\ud559\\ub144\", \"\\ud559\\ub144\", \"\\ud559\\ub144\", \"\\ud559\\ub144\", \"\\ud559\\uc0dd\", \"\\ud559\\uc0dd\", \"\\ud559\\uc0dd\", \"\\ud559\\uc0dd\", \"\\ud559\\uc0dd\", \"\\ud559\\uc0dd\", \"\\ud559\\uc0dd\", \"\\ud559\\uc0dd\", \"\\ud55c\\uacb0\\uac19\", \"\\ud55c\\ubcc4\", \"\\ud55c\\ubcc4\", \"\\ud55c\\uc194\", \"\\ud55c\\uc2dc\", \"\\ud55c\\uc2dc\", \"\\ud55c\\uc2e0\", \"\\ud574\\ubcd1\\ub300\", \"\\ud574\\ubcd1\\ub300\", \"\\ud5c8\\uc815\", \"\\ud5c8\\uc815\", \"\\ud5c8\\uc815\", \"\\ud5c8\\uc815\\uc778\", \"\\ud5e4\\ub4dc\", \"\\ud5e4\\ub4dc\", \"\\ud5e4\\ub4dc\", \"\\ud5e4\\uc5b4\", \"\\ud5e4\\uc5b4\\uc9c0\", \"\\ud5e4\\uc5b4\\uc9c0\", \"\\ud5e4\\uc5b4\\uc9c0\", \"\\ud5e4\\uc5b4\\uc9c0\", \"\\ud5e4\\uc5b4\\uc9c0\", \"\\ud5e4\\uc5b4\\uc9c0\", \"\\ud5e4\\uc5b4\\uc9c0\", \"\\ud5e4\\uc5b4\\uc9c0\", \"\\ud601\\uc9c4\", \"\\ud601\\uc9c4\", \"\\ud601\\uc9c4\", \"\\ud601\\uc9c4\\uc774\", \"\\ud601\\uc9c4\\uc774\", \"\\ud601\\uc9c4\\uc774\", \"\\ud601\\uc9c4\\uc774\", \"\\ud601\\uc9c4\\uc774\", \"\\ud604\\ubd04\\uc774\", \"\\ud604\\ubd04\\uc774\", \"\\ud604\\uc2e4\", \"\\ud604\\uc2e4\", \"\\ud604\\uc2e4\", \"\\ud604\\uc2e4\", \"\\ud604\\uc2e4\", \"\\ud604\\uc2e4\", \"\\ud604\\uc2e4\", \"\\ud604\\uc2e4\", \"\\ud604\\uc2e4\", \"\\ud604\\uc2e4\", \"\\ud604\\uc2e4\", \"\\ud610\\uc624\", \"\\ud610\\uc624\", \"\\ud610\\uc624\", \"\\ud615\\uc11d\", \"\\ud615\\uc11d\", \"\\ud615\\uc11d\", \"\\ud615\\uc11d\", \"\\ud61c\\uc740\\uc774\", \"\\ud61c\\uc740\\uc774\", \"\\ud638\\uac10\", \"\\ud638\\uac10\", \"\\ud638\\uac10\", \"\\ud638\\uac10\", \"\\ud638\\uac10\", \"\\ud638\\uac10\", \"\\ud638\\uac10\", \"\\ud638\\uac10\", \"\\ud638\\uc2a4\\ud154\", \"\\ud638\\uc2a4\\ud154\", \"\\ud638\\uc2a4\\ud154\", \"\\ud638\\uc758\", \"\\ud638\\uc758\", \"\\ud64d\\uc7ac\\uc5f4\", \"\\ud654\", \"\\ud654\", \"\\ud654\", \"\\ud654\", \"\\ud654\", \"\\ud654\", \"\\ud654\", \"\\ud654\", \"\\ud654\", \"\\ud654\\uc7a5\\uc2e4\", \"\\ud654\\uc7a5\\uc2e4\", \"\\ud654\\uc7a5\\uc2e4\", \"\\ud654\\uc7a5\\uc2e4\", \"\\ud654\\uc7a5\\uc2e4\", \"\\ud658\\uc7a5\", \"\\ud658\\uc7a5\", \"\\ud68c\\uc218\", \"\\ud68c\\uc7a5\", \"\\ud68c\\uc7a5\", \"\\ud68c\\uc7a5\", \"\\ud6a8\\uc6d0\", \"\\ud6a8\\uc6d0\", \"\\ud6a8\\uc6d0\", \"\\ud6a8\\uc6d0\\uc774\", \"\\ud6a8\\uc6d0\\uc774\", \"\\ud6a8\\uc6d0\\uc774\", \"\\ud6c4\\uc784\", \"\\ud6c4\\uc784\", \"\\ud6c4\\uc784\", \"\\ud6c4\\uc784\", \"\\ud6c4\\uc784\", \"\\ud6c4\\uc784\", \"\\ud6c4\\uc784\", \"\\ud6c8\\uc774\", \"\\ud6c8\\uc774\", \"\\ud6c8\\uc774\", \"\\ud729\\uc4f8\\ub9ac\", \"\\ud754\\ub4e4\\ub9ac\", \"\\ud76c\\ub9b0\", \"\\ud76c\\ub9b0\", \"\\ud76c\\ub9dd\", \"\\ud76c\\ub9dd\", \"\\ud76c\\ub9dd\", \"\\ud76c\\ub9dd\", \"\\ud76c\\ub9dd\", \"\\ud798\\ub4dc\", \"\\ud798\\ub4dc\", \"\\ud798\\ub4e4\", \"\\ud798\\ub4e4\", \"\\ud798\\ub4e4\", \"\\ud798\\ub4e4\", \"\\ud798\\ub4e4\", \"\\ud798\\ub4e4\", \"\\ud798\\ub4e4\", \"\\ud798\\ub4e4\", \"\\ud798\\ub4e4\"]}, \"R\": 30, \"lambda.step\": 0.01, \"plot.opts\": {\"xlab\": \"PC1\", \"ylab\": \"PC2\"}, \"topic.order\": [1, 2, 3, 4, 5, 6, 7, 8, 9, 10, 11, 12, 13, 14]};\n",
       "\n",
       "function LDAvis_load_lib(url, callback){\n",
       "  var s = document.createElement('script');\n",
       "  s.src = url;\n",
       "  s.async = true;\n",
       "  s.onreadystatechange = s.onload = callback;\n",
       "  s.onerror = function(){console.warn(\"failed to load library \" + url);};\n",
       "  document.getElementsByTagName(\"head\")[0].appendChild(s);\n",
       "}\n",
       "\n",
       "if(typeof(LDAvis) !== \"undefined\"){\n",
       "   // already loaded: just create the visualization\n",
       "   !function(LDAvis){\n",
       "       new LDAvis(\"#\" + \"ldavis_el1810423688802242883286276937\", ldavis_el1810423688802242883286276937_data);\n",
       "   }(LDAvis);\n",
       "}else if(typeof define === \"function\" && define.amd){\n",
       "   // require.js is available: use it to load d3/LDAvis\n",
       "   require.config({paths: {d3: \"https://cdnjs.cloudflare.com/ajax/libs/d3/3.5.5/d3.min\"}});\n",
       "   require([\"d3\"], function(d3){\n",
       "      window.d3 = d3;\n",
       "      LDAvis_load_lib(\"https://cdn.rawgit.com/bmabey/pyLDAvis/files/ldavis.v1.0.0.js\", function(){\n",
       "        new LDAvis(\"#\" + \"ldavis_el1810423688802242883286276937\", ldavis_el1810423688802242883286276937_data);\n",
       "      });\n",
       "    });\n",
       "}else{\n",
       "    // require.js not available: dynamically load d3 & LDAvis\n",
       "    LDAvis_load_lib(\"https://cdnjs.cloudflare.com/ajax/libs/d3/3.5.5/d3.min.js\", function(){\n",
       "         LDAvis_load_lib(\"https://cdn.rawgit.com/bmabey/pyLDAvis/files/ldavis.v1.0.0.js\", function(){\n",
       "                 new LDAvis(\"#\" + \"ldavis_el1810423688802242883286276937\", ldavis_el1810423688802242883286276937_data);\n",
       "            })\n",
       "         });\n",
       "}\n",
       "</script>"
      ],
      "text/plain": [
       "<IPython.core.display.HTML object>"
      ]
     },
     "execution_count": 361,
     "metadata": {},
     "output_type": "execute_result"
    }
   ],
   "source": [
    "pyLDAvis.display(p)"
   ]
  },
  {
   "cell_type": "markdown",
   "metadata": {},
   "source": [
    "### 응집도와 다양도 계산"
   ]
  },
  {
   "cell_type": "code",
   "execution_count": 238,
   "metadata": {},
   "outputs": [
    {
     "name": "stderr",
     "output_type": "stream",
     "text": [
      "C:\\Users\\leeji\\anaconda3\\lib\\site-packages\\ipykernel\\ipkernel.py:287: DeprecationWarning: `should_run_async` will not call `transform_cell` automatically in the future. Please pass the result to `transformed_cell` argument and any exception that happen during thetransform in `preprocessing_exc_tuple` in IPython 7.17 and above.\n",
      "  and should_run_async(code)\n"
     ]
    }
   ],
   "source": [
    "# 응집도\n",
    "from gensim.models import CoherenceModel"
   ]
  },
  {
   "cell_type": "code",
   "execution_count": 259,
   "metadata": {},
   "outputs": [
    {
     "name": "stderr",
     "output_type": "stream",
     "text": [
      "C:\\Users\\leeji\\anaconda3\\lib\\site-packages\\ipykernel\\ipkernel.py:287: DeprecationWarning: `should_run_async` will not call `transform_cell` automatically in the future. Please pass the result to `transformed_cell` argument and any exception that happen during thetransform in `preprocessing_exc_tuple` in IPython 7.17 and above.\n",
      "  and should_run_async(code)\n"
     ]
    }
   ],
   "source": [
    "coh = CoherenceModel(model=model, corpus=corpus_fan, texts=docs_fan, dictionary=dic_fan, coherence='c_v')"
   ]
  },
  {
   "cell_type": "code",
   "execution_count": 362,
   "metadata": {},
   "outputs": [],
   "source": [
    "coh = CoherenceModel(model=model, corpus=corpus_dra, texts=docs_dra, dictionary=dic_dra, coherence='c_v')"
   ]
  },
  {
   "cell_type": "code",
   "execution_count": 363,
   "metadata": {},
   "outputs": [
    {
     "data": {
      "text/plain": [
       "0.3836844277498968"
      ]
     },
     "execution_count": 363,
     "metadata": {},
     "output_type": "execute_result"
    }
   ],
   "source": [
    "coh.get_coherence() # 응집도\n",
    "############## fan - 14 - 0.4690534818641261\n",
    "# fan - 13 - 0.4530263607976013\n",
    "# fan - 12 - 0.46738306370801735\n",
    "# fan - 11 - 0.4626073888576574\n",
    "# fan - 10 - 0.4426945107900318\n",
    "\n",
    "# dra - 9 - 0.3429072344682805\n",
    "# dra - 10 - 0.392688477454204\n",
    "# dra - 11 - 0.39896964649562394\n",
    "# dra - 12 - 0.3700010186905771\n",
    "# dra - 13 - 0.3753428652978148\n",
    "############# dra - 14 - 0.3836844277498968\n",
    "# dra - 15 - 0.34624203925794567"
   ]
  },
  {
   "cell_type": "code",
   "execution_count": 322,
   "metadata": {},
   "outputs": [],
   "source": [
    "topn = 25\n",
    "top_words = set()\n",
    "\n",
    "for topic in range(model.num_topics):\n",
    "    for word, prob in model.show_topic(topic, topn=topn):\n",
    "        top_words.add(word)"
   ]
  },
  {
   "cell_type": "code",
   "execution_count": 323,
   "metadata": {},
   "outputs": [
    {
     "data": {
      "text/plain": [
       "180"
      ]
     },
     "execution_count": 323,
     "metadata": {},
     "output_type": "execute_result"
    }
   ],
   "source": [
    "len(top_words)"
   ]
  },
  {
   "cell_type": "code",
   "execution_count": 324,
   "metadata": {},
   "outputs": [
    {
     "data": {
      "text/plain": [
       "0.6545454545454545"
      ]
     },
     "execution_count": 324,
     "metadata": {},
     "output_type": "execute_result"
    }
   ],
   "source": [
    "180 / (11*25) # 다양도\n",
    "# 11 - 0.6545454545454545\n",
    "# 10 - 0.636"
   ]
  },
  {
   "cell_type": "code",
   "execution_count": null,
   "metadata": {},
   "outputs": [],
   "source": []
  }
 ],
 "metadata": {
  "kernelspec": {
   "display_name": "Python 3",
   "language": "python",
   "name": "python3"
  },
  "language_info": {
   "codemirror_mode": {
    "name": "ipython",
    "version": 3
   },
   "file_extension": ".py",
   "mimetype": "text/x-python",
   "name": "python",
   "nbconvert_exporter": "python",
   "pygments_lexer": "ipython3",
   "version": "3.8.5"
  },
  "varInspector": {
   "cols": {
    "lenName": 16,
    "lenType": 16,
    "lenVar": 40
   },
   "kernels_config": {
    "python": {
     "delete_cmd_postfix": "",
     "delete_cmd_prefix": "del ",
     "library": "var_list.py",
     "varRefreshCmd": "print(var_dic_list())"
    },
    "r": {
     "delete_cmd_postfix": ") ",
     "delete_cmd_prefix": "rm(",
     "library": "var_list.r",
     "varRefreshCmd": "cat(var_dic_list()) "
    }
   },
   "types_to_exclude": [
    "module",
    "function",
    "builtin_function_or_method",
    "instance",
    "_Feature"
   ],
   "window_display": false
  }
 },
 "nbformat": 4,
 "nbformat_minor": 4
}
